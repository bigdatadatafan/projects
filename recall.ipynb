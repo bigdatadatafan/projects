{
  "nbformat": 4,
  "nbformat_minor": 0,
  "metadata": {
    "colab": {
      "provenance": [],
      "toc_visible": true
    },
    "kernelspec": {
      "name": "python3",
      "display_name": "Python 3"
    },
    "language_info": {
      "name": "python"
    }
  },
  "cells": [
    {
      "cell_type": "markdown",
      "source": [
        "# Ejercicio: Maximizar Recall (Sensibilidad) en Cáncer de Mama\n",
        "\n",
        "**Objetivo:** Crear un modelo de Regresión Logística que priorice **maximizar el Recall** para detectar tumores **Malignos**.\n",
        "\n",
        "**El Problema:**\n",
        "En este dataset, un **Falso Negativo (FN)** es el peor error posible: decirle a un paciente con un tumor maligno que es benigno. Para minimizar los FN, debemos maximizar el Recall.\n",
        "\n",
        "**El Reto (Invertir Clases):**\n",
        "Por defecto, `sklearn` etiqueta:\n",
        "* `0 = Maligno`\n",
        "* `1 = Benigno`\n",
        "\n",
        "Si calculamos el Recall de la clase `1` (la positiva por defecto), estaríamos optimizando para encontrar tumores *benignos*, lo cual es inútil.\n",
        "\n",
        "**Solución:**\n",
        "1.  **Invertiremos las etiquetas:** `Maligno` se convertirá en `1` (nuestra clase positiva) y `Benigno` en `0` (la negativa).\n",
        "2.  Ajustaremos el **umbral (threshold)** de decisión para asegurarnos de capturar tantos casos `1` (Malignos) como sea posible."
      ],
      "metadata": {
        "id": "Hd8YvpJ9GIkg"
      }
    },
    {
      "cell_type": "code",
      "source": [
        "import numpy as np\n",
        "import pandas as pd\n",
        "import matplotlib.pyplot as plt\n",
        "from sklearn.datasets import load_breast_cancer\n",
        "from sklearn.model_selection import train_test_split\n",
        "from sklearn.preprocessing import StandardScaler\n",
        "from sklearn.linear_model import LogisticRegression\n",
        "from sklearn.metrics import classification_report, confusion_matrix, precision_recall_curve, PrecisionRecallDisplay\n",
        "\n",
        "# Configuración de gráficos\n",
        "#plt.rcParams['figure.figsize'] = (10, 6)"
      ],
      "metadata": {
        "id": "cI88KzD6GMcz"
      },
      "execution_count": null,
      "outputs": []
    },
    {
      "cell_type": "code",
      "source": [
        "# 1. Cargar los datos\n",
        "cancer = load_breast_cancer()\n",
        "X = cancer.data\n",
        "y = cancer.target\n",
        "\n",
        "# Vemos las etiquetas originales:\n",
        "print(\"--- Etiquetas Originales ---\")\n",
        "print(f\"Nombres: {cancer.target_names}\")\n",
        "print(f\"Datos (y): {np.bincount(y)}\")\n",
        "print(\"0 = Maligno, 1 = Benigno (¡No queremos esto!)\")\n",
        "\n",
        "# 2. Invertir las clases (¡El paso clave!)\n",
        "# Queremos: 1 = Maligno, 0 = Benigno\n",
        "# Usamos np.where: donde y sea 0, pon 1; donde sea 1, pon 0.\n",
        "y_invertido = np.where(y == 0, 1, 0)\n",
        "\n",
        "print(\"\\n--- Etiquetas Invertidas ---\")\n",
        "print(f\"Datos (y_invertido): {np.bincount(y_invertido)}\")\n",
        "print(\"0 = Benigno, 1 = Maligno (¡Correcto!)\")\n",
        "\n",
        "# 3. Escalar y dividir los datos (usando y_invertido)\n",
        "scaler = StandardScaler()\n",
        "X_scaled = scaler.fit_transform(X)\n",
        "\n",
        "X_train, X_test, y_train, y_test = train_test_split(\n",
        "    X_scaled,\n",
        "    y_invertido, # Usamos nuestras etiquetas invertidas\n",
        "    test_size=0.3,\n",
        "    random_state=42,\n",
        "    stratify=y_invertido # Aseguramos proporción de malignos/benignos\n",
        ")"
      ],
      "metadata": {
        "colab": {
          "base_uri": "https://localhost:8080/"
        },
        "id": "dQPLZRR_GULn",
        "outputId": "277c001d-25a4-407b-e1d7-4c29d98b56b9"
      },
      "execution_count": null,
      "outputs": [
        {
          "output_type": "stream",
          "name": "stdout",
          "text": [
            "--- Etiquetas Originales ---\n",
            "Nombres: ['malignant' 'benign']\n",
            "Datos (y): [212 357]\n",
            "0 = Maligno, 1 = Benigno (¡No queremos esto!)\n",
            "\n",
            "--- Etiquetas Invertidas ---\n",
            "Datos (y_invertido): [357 212]\n",
            "0 = Benigno, 1 = Maligno (¡Correcto!)\n"
          ]
        }
      ]
    },
    {
      "cell_type": "code",
      "source": [
        "# Entrenamos la Regresión Logística\n",
        "# Aumentamos 'max_iter' para asegurar convergencia\n",
        "modelo = LogisticRegression(max_iter=5000)\n",
        "modelo.fit(X_train, y_train)\n",
        "\n",
        "# Obtenemos las probabilidades para la CLASE 1 (Maligno)\n",
        "# .predict_proba() devuelve [prob_clase_0, prob_clase_1]\n",
        "y_probabilidades = modelo.predict_proba(X_test)[:, 1]\n"
      ],
      "metadata": {
        "id": "CT4lzwzzGYVZ"
      },
      "execution_count": null,
      "outputs": []
    },
    {
      "cell_type": "markdown",
      "source": [
        "## Evaluación 1: Con Umbral por Defecto (0.5)\n",
        "\n",
        "Veamos qué tan bueno es el modelo con el umbral estándar de 0.5."
      ],
      "metadata": {
        "id": "KiqBd89iGbS1"
      }
    },
    {
      "cell_type": "code",
      "source": [
        "# .predict() usa el umbral 0.5 por defecto\n",
        "y_pred_default = modelo.predict(X_test)\n",
        "\n",
        "print(\"--- MÉTRICAS CON UMBRAL POR DEFECTO (0.5) ---\")\n",
        "print(classification_report(y_test, y_pred_default, target_names=['0: Benigno', '1: Maligno']))\n",
        "\n",
        "print(\"\\nMatriz de Confusión (Umbral 0.5):\")\n",
        "print(\"Filas: Realidad, Columnas: Predicción\")\n",
        "cm_default = confusion_matrix(y_test, y_pred_default)\n",
        "print(cm_default)\n",
        "\n",
        "# Análisis de Falsos Negativos\n",
        "fn_default = cm_default[1, 0]\n",
        "print(f\"\\n¡ALERTA! Falsos Negativos (FN) con umbral 0.5: {fn_default}\")"
      ],
      "metadata": {
        "colab": {
          "base_uri": "https://localhost:8080/"
        },
        "id": "pYbDgjmcGdgZ",
        "outputId": "fa8fb46e-c9d7-4b0b-ab1a-2219d56088c5"
      },
      "execution_count": null,
      "outputs": [
        {
          "output_type": "stream",
          "name": "stdout",
          "text": [
            "--- MÉTRICAS CON UMBRAL POR DEFECTO (0.5) ---\n",
            "              precision    recall  f1-score   support\n",
            "\n",
            "  0: Benigno       0.96      0.99      0.98       107\n",
            "  1: Maligno       0.98      0.94      0.96        64\n",
            "\n",
            "    accuracy                           0.97       171\n",
            "   macro avg       0.97      0.96      0.97       171\n",
            "weighted avg       0.97      0.97      0.97       171\n",
            "\n",
            "\n",
            "Matriz de Confusión (Umbral 0.5):\n",
            "Filas: Realidad, Columnas: Predicción\n",
            "[[106   1]\n",
            " [  4  60]]\n",
            "\n",
            "¡ALERTA! Falsos Negativos (FN) con umbral 0.5: 4\n"
          ]
        }
      ]
    },
    {
      "cell_type": "markdown",
      "source": [
        "**Análisis (Umbral 0.5):**\n",
        "\n",
        "Observa el reporte de `1: Maligno`. Verás un **Recall** alto (quizás ~0.95), pero no perfecto.\n",
        "\n",
        "La matriz de confusión mostrará un número pequeño (pero > 0) en la esquina inferior izquierda. Esos son los **Falsos Negativos**: pacientes con tumores malignos que el modelo etiquetó como benignos. ¡Es inaceptable!"
      ],
      "metadata": {
        "id": "l0854y39GmE6"
      }
    },
    {
      "cell_type": "markdown",
      "source": [
        "## Evaluación 2: Ajustar Umbral para Maximizar Recall (ej. 0.1)\n",
        "\n",
        "Vamos a bajar el umbral drásticamente. Le diremos al modelo: \"Si estás *mínimamente* seguro (ej. > 10% de probabilidad) de que es maligno, márcalo como maligno\"."
      ],
      "metadata": {
        "id": "Hw99mqGzGugM"
      }
    },
    {
      "cell_type": "code",
      "source": [
        "# CAMBIA EL NUEVO UMBRAL(modificando el umbral por defecto o inicial)\n",
        "nuevo_umbral = 0.5\n",
        "\n",
        "# Creamos las predicciones manualmente\n",
        "y_pred_nuevo = (y_probabilidades > nuevo_umbral).astype(int)\n",
        "\n",
        "print(f\"--- MÉTRICAS CON UMBRAL AJUSTADO ({nuevo_umbral}) ---\")\n",
        "print(classification_report(y_test, y_pred_nuevo, target_names=['0: Benigno', '1: Maligno']))\n",
        "\n",
        "print(f\"\\nMatriz de Confusión (Umbral {nuevo_umbral}):\")\n",
        "print(\"Filas: Realidad, Columnas: Predicción\")\n",
        "cm_nuevo = confusion_matrix(y_test, y_pred_nuevo)\n",
        "print(cm_nuevo)\n",
        "\n",
        "# Análisis de Falsos Negativos\n",
        "fn_nuevo = cm_nuevo[1, 0]\n",
        "print(f\"\\n¡ÉXITO! Falsos Negativos (FN) con umbral {nuevo_umbral}: {fn_nuevo}\")"
      ],
      "metadata": {
        "colab": {
          "base_uri": "https://localhost:8080/"
        },
        "id": "dEBFKE0XGxaD",
        "outputId": "92831e4c-5fe0-49e9-ca98-839d8c7fe8e1"
      },
      "execution_count": null,
      "outputs": [
        {
          "output_type": "stream",
          "name": "stdout",
          "text": [
            "--- MÉTRICAS CON UMBRAL AJUSTADO (5) ---\n",
            "              precision    recall  f1-score   support\n",
            "\n",
            "  0: Benigno       0.63      1.00      0.77       107\n",
            "  1: Maligno       0.00      0.00      0.00        64\n",
            "\n",
            "    accuracy                           0.63       171\n",
            "   macro avg       0.31      0.50      0.38       171\n",
            "weighted avg       0.39      0.63      0.48       171\n",
            "\n",
            "\n",
            "Matriz de Confusión (Umbral 5):\n",
            "Filas: Realidad, Columnas: Predicción\n",
            "[[107   0]\n",
            " [ 64   0]]\n",
            "\n",
            "¡ÉXITO! Falsos Negativos (FN) con umbral 5: 64\n"
          ]
        },
        {
          "output_type": "stream",
          "name": "stderr",
          "text": [
            "/usr/local/lib/python3.12/dist-packages/sklearn/metrics/_classification.py:1565: UndefinedMetricWarning: Precision is ill-defined and being set to 0.0 in labels with no predicted samples. Use `zero_division` parameter to control this behavior.\n",
            "  _warn_prf(average, modifier, f\"{metric.capitalize()} is\", len(result))\n",
            "/usr/local/lib/python3.12/dist-packages/sklearn/metrics/_classification.py:1565: UndefinedMetricWarning: Precision is ill-defined and being set to 0.0 in labels with no predicted samples. Use `zero_division` parameter to control this behavior.\n",
            "  _warn_prf(average, modifier, f\"{metric.capitalize()} is\", len(result))\n",
            "/usr/local/lib/python3.12/dist-packages/sklearn/metrics/_classification.py:1565: UndefinedMetricWarning: Precision is ill-defined and being set to 0.0 in labels with no predicted samples. Use `zero_division` parameter to control this behavior.\n",
            "  _warn_prf(average, modifier, f\"{metric.capitalize()} is\", len(result))\n"
          ]
        }
      ]
    },
    {
      "cell_type": "markdown",
      "source": [
        "**Análisis Final**\n",
        "\n",
        "¡Mira los resultados!\n",
        "\n",
        "1.  **Recall (para `1: Maligno`) HA SUBIDO:** Debería ser `1.00` (o 100%). ¡Hemos encontrado a *todos* los pacientes malignos! El número de Falsos Negativos (esquina inferior izquierda) es ahora **0**.\n",
        "\n",
        "2.  **Precision (para `1: Maligno`) HA BAJADO:** Este es el \"costo\". Para estar seguros, el modelo ahora genera más Falsos Positivos (FP) (esquina superior derecha). Estos son pacientes con tumores *benignos* que fueron etiquetados como *malignos*.\n",
        "\n"
      ],
      "metadata": {
        "id": "ZLl94hyaG5aE"
      }
    }
  ]
}