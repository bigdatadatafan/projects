{
  "cells": [
    {
      "cell_type": "markdown",
      "metadata": {
        "id": "X-aW-Tgu4j0u"
      },
      "source": [
        "## 2. Machine Learning for Regression\n"
      ],
      "id": "X-aW-Tgu4j0u"
    },
    {
      "cell_type": "code",
      "execution_count": 4,
      "metadata": {
        "scrolled": true,
        "id": "4qNJBNO04j04"
      },
      "outputs": [],
      "source": [
        "import pandas as pd\n",
        "import numpy as np"
      ],
      "id": "4qNJBNO04j04"
    },
    {
      "cell_type": "markdown",
      "metadata": {
        "id": "mHR0Y-3g4j07"
      },
      "source": [
        "## 2.2 Data preparation"
      ],
      "id": "mHR0Y-3g4j07"
    },
    {
      "cell_type": "code",
      "execution_count": 5,
      "metadata": {
        "id": "7S22I3wF4j08"
      },
      "outputs": [],
      "source": [
        "data = 'https://raw.githubusercontent.com/bigdatadatafan/datasets-clase/main/data.csv'"
      ],
      "id": "7S22I3wF4j08"
    },
    {
      "cell_type": "code",
      "execution_count": 6,
      "metadata": {
        "id": "aJvx6-gS4j08",
        "outputId": "a237f376-fbfd-49e4-dfe9-c9f0451f2dc1",
        "colab": {
          "base_uri": "https://localhost:8080/"
        }
      },
      "outputs": [
        {
          "output_type": "stream",
          "name": "stdout",
          "text": [
            "--2025-10-27 15:53:25--  https://raw.githubusercontent.com/bigdatadatafan/datasets-clase/main/data.csv\n",
            "Resolving raw.githubusercontent.com (raw.githubusercontent.com)... 185.199.110.133, 185.199.111.133, 185.199.108.133, ...\n",
            "Connecting to raw.githubusercontent.com (raw.githubusercontent.com)|185.199.110.133|:443... connected.\n",
            "HTTP request sent, awaiting response... 200 OK\n",
            "Length: 1475504 (1.4M) [text/plain]\n",
            "Saving to: ‘data.csv’\n",
            "\n",
            "data.csv            100%[===================>]   1.41M  --.-KB/s    in 0.07s   \n",
            "\n",
            "2025-10-27 15:53:26 (18.9 MB/s) - ‘data.csv’ saved [1475504/1475504]\n",
            "\n"
          ]
        }
      ],
      "source": [
        "!wget $data"
      ],
      "id": "aJvx6-gS4j08"
    },
    {
      "cell_type": "code",
      "execution_count": 7,
      "metadata": {
        "id": "HpWXIKws4j0_"
      },
      "outputs": [],
      "source": [
        "df = pd.read_csv('data.csv')"
      ],
      "id": "HpWXIKws4j0_"
    },
    {
      "cell_type": "code",
      "execution_count": 8,
      "metadata": {
        "id": "kNjVUydH4j1A"
      },
      "outputs": [],
      "source": [
        "df.columns = df.columns.str.lower().str.replace(' ', '_')"
      ],
      "id": "kNjVUydH4j1A"
    },
    {
      "cell_type": "code",
      "execution_count": 9,
      "metadata": {
        "id": "A9HsO28n4j1B",
        "outputId": "3cc12a96-9665-4ca6-90ec-51a7c6f8516c",
        "colab": {
          "base_uri": "https://localhost:8080/",
          "height": 458
        }
      },
      "outputs": [
        {
          "output_type": "execute_result",
          "data": {
            "text/plain": [
              "0            bmw\n",
              "1            bmw\n",
              "2            bmw\n",
              "3            bmw\n",
              "4            bmw\n",
              "          ...   \n",
              "11909      acura\n",
              "11910      acura\n",
              "11911      acura\n",
              "11912      acura\n",
              "11913    lincoln\n",
              "Name: make, Length: 11914, dtype: object"
            ],
            "text/html": [
              "<div>\n",
              "<style scoped>\n",
              "    .dataframe tbody tr th:only-of-type {\n",
              "        vertical-align: middle;\n",
              "    }\n",
              "\n",
              "    .dataframe tbody tr th {\n",
              "        vertical-align: top;\n",
              "    }\n",
              "\n",
              "    .dataframe thead th {\n",
              "        text-align: right;\n",
              "    }\n",
              "</style>\n",
              "<table border=\"1\" class=\"dataframe\">\n",
              "  <thead>\n",
              "    <tr style=\"text-align: right;\">\n",
              "      <th></th>\n",
              "      <th>make</th>\n",
              "    </tr>\n",
              "  </thead>\n",
              "  <tbody>\n",
              "    <tr>\n",
              "      <th>0</th>\n",
              "      <td>bmw</td>\n",
              "    </tr>\n",
              "    <tr>\n",
              "      <th>1</th>\n",
              "      <td>bmw</td>\n",
              "    </tr>\n",
              "    <tr>\n",
              "      <th>2</th>\n",
              "      <td>bmw</td>\n",
              "    </tr>\n",
              "    <tr>\n",
              "      <th>3</th>\n",
              "      <td>bmw</td>\n",
              "    </tr>\n",
              "    <tr>\n",
              "      <th>4</th>\n",
              "      <td>bmw</td>\n",
              "    </tr>\n",
              "    <tr>\n",
              "      <th>...</th>\n",
              "      <td>...</td>\n",
              "    </tr>\n",
              "    <tr>\n",
              "      <th>11909</th>\n",
              "      <td>acura</td>\n",
              "    </tr>\n",
              "    <tr>\n",
              "      <th>11910</th>\n",
              "      <td>acura</td>\n",
              "    </tr>\n",
              "    <tr>\n",
              "      <th>11911</th>\n",
              "      <td>acura</td>\n",
              "    </tr>\n",
              "    <tr>\n",
              "      <th>11912</th>\n",
              "      <td>acura</td>\n",
              "    </tr>\n",
              "    <tr>\n",
              "      <th>11913</th>\n",
              "      <td>lincoln</td>\n",
              "    </tr>\n",
              "  </tbody>\n",
              "</table>\n",
              "<p>11914 rows × 1 columns</p>\n",
              "</div><br><label><b>dtype:</b> object</label>"
            ]
          },
          "metadata": {},
          "execution_count": 9
        }
      ],
      "source": [
        "df['make'].str.lower().str.replace(' ', '_')"
      ],
      "id": "A9HsO28n4j1B"
    },
    {
      "cell_type": "code",
      "execution_count": 10,
      "metadata": {
        "id": "6emLZtX24j1C",
        "outputId": "bc8a5d0d-f66e-480b-c1af-f98691fbb5cf",
        "colab": {
          "base_uri": "https://localhost:8080/"
        }
      },
      "outputs": [
        {
          "output_type": "execute_result",
          "data": {
            "text/plain": [
              "['make',\n",
              " 'model',\n",
              " 'engine_fuel_type',\n",
              " 'transmission_type',\n",
              " 'driven_wheels',\n",
              " 'market_category',\n",
              " 'vehicle_size',\n",
              " 'vehicle_style']"
            ]
          },
          "metadata": {},
          "execution_count": 10
        }
      ],
      "source": [
        "strings = list(df.dtypes[df.dtypes == 'object'].index)\n",
        "strings"
      ],
      "id": "6emLZtX24j1C"
    },
    {
      "cell_type": "code",
      "execution_count": 11,
      "metadata": {
        "id": "HFd_dKUJ4j1E"
      },
      "outputs": [],
      "source": [
        "for col in strings:\n",
        "    df[col] = df[col].str.lower().str.replace(' ', '_')"
      ],
      "id": "HFd_dKUJ4j1E"
    },
    {
      "cell_type": "code",
      "execution_count": 12,
      "metadata": {
        "id": "aVq-M80e4j1F",
        "outputId": "f378b530-cdf0-46a4-ba96-a99dfba586f3",
        "colab": {
          "base_uri": "https://localhost:8080/",
          "height": 585
        }
      },
      "outputs": [
        {
          "output_type": "execute_result",
          "data": {
            "text/plain": [
              "make                  object\n",
              "model                 object\n",
              "year                   int64\n",
              "engine_fuel_type      object\n",
              "engine_hp            float64\n",
              "engine_cylinders     float64\n",
              "transmission_type     object\n",
              "driven_wheels         object\n",
              "number_of_doors      float64\n",
              "market_category       object\n",
              "vehicle_size          object\n",
              "vehicle_style         object\n",
              "highway_mpg            int64\n",
              "city_mpg               int64\n",
              "popularity             int64\n",
              "msrp                   int64\n",
              "dtype: object"
            ],
            "text/html": [
              "<div>\n",
              "<style scoped>\n",
              "    .dataframe tbody tr th:only-of-type {\n",
              "        vertical-align: middle;\n",
              "    }\n",
              "\n",
              "    .dataframe tbody tr th {\n",
              "        vertical-align: top;\n",
              "    }\n",
              "\n",
              "    .dataframe thead th {\n",
              "        text-align: right;\n",
              "    }\n",
              "</style>\n",
              "<table border=\"1\" class=\"dataframe\">\n",
              "  <thead>\n",
              "    <tr style=\"text-align: right;\">\n",
              "      <th></th>\n",
              "      <th>0</th>\n",
              "    </tr>\n",
              "  </thead>\n",
              "  <tbody>\n",
              "    <tr>\n",
              "      <th>make</th>\n",
              "      <td>object</td>\n",
              "    </tr>\n",
              "    <tr>\n",
              "      <th>model</th>\n",
              "      <td>object</td>\n",
              "    </tr>\n",
              "    <tr>\n",
              "      <th>year</th>\n",
              "      <td>int64</td>\n",
              "    </tr>\n",
              "    <tr>\n",
              "      <th>engine_fuel_type</th>\n",
              "      <td>object</td>\n",
              "    </tr>\n",
              "    <tr>\n",
              "      <th>engine_hp</th>\n",
              "      <td>float64</td>\n",
              "    </tr>\n",
              "    <tr>\n",
              "      <th>engine_cylinders</th>\n",
              "      <td>float64</td>\n",
              "    </tr>\n",
              "    <tr>\n",
              "      <th>transmission_type</th>\n",
              "      <td>object</td>\n",
              "    </tr>\n",
              "    <tr>\n",
              "      <th>driven_wheels</th>\n",
              "      <td>object</td>\n",
              "    </tr>\n",
              "    <tr>\n",
              "      <th>number_of_doors</th>\n",
              "      <td>float64</td>\n",
              "    </tr>\n",
              "    <tr>\n",
              "      <th>market_category</th>\n",
              "      <td>object</td>\n",
              "    </tr>\n",
              "    <tr>\n",
              "      <th>vehicle_size</th>\n",
              "      <td>object</td>\n",
              "    </tr>\n",
              "    <tr>\n",
              "      <th>vehicle_style</th>\n",
              "      <td>object</td>\n",
              "    </tr>\n",
              "    <tr>\n",
              "      <th>highway_mpg</th>\n",
              "      <td>int64</td>\n",
              "    </tr>\n",
              "    <tr>\n",
              "      <th>city_mpg</th>\n",
              "      <td>int64</td>\n",
              "    </tr>\n",
              "    <tr>\n",
              "      <th>popularity</th>\n",
              "      <td>int64</td>\n",
              "    </tr>\n",
              "    <tr>\n",
              "      <th>msrp</th>\n",
              "      <td>int64</td>\n",
              "    </tr>\n",
              "  </tbody>\n",
              "</table>\n",
              "</div><br><label><b>dtype:</b> object</label>"
            ]
          },
          "metadata": {},
          "execution_count": 12
        }
      ],
      "source": [
        "df.dtypes"
      ],
      "id": "aVq-M80e4j1F"
    },
    {
      "cell_type": "markdown",
      "metadata": {
        "id": "tOBUdhuy4j1G"
      },
      "source": [
        "## 2.3 Exploratory data analysis"
      ],
      "id": "tOBUdhuy4j1G"
    },
    {
      "cell_type": "code",
      "execution_count": 13,
      "metadata": {
        "id": "UteqKVJk4j1G",
        "outputId": "d1332a0f-8c9e-48cd-c275-9e3aa0d6cf13",
        "colab": {
          "base_uri": "https://localhost:8080/"
        }
      },
      "outputs": [
        {
          "output_type": "stream",
          "name": "stdout",
          "text": [
            "make\n",
            "['bmw' 'audi' 'fiat' 'mercedes-benz' 'chrysler']\n",
            "48\n",
            "\n",
            "model\n",
            "['1_series_m' '1_series' '100' '124_spider' '190-class']\n",
            "914\n",
            "\n",
            "year\n",
            "[2011 2012 2013 1992 1993]\n",
            "28\n",
            "\n",
            "engine_fuel_type\n",
            "['premium_unleaded_(required)' 'regular_unleaded'\n",
            " 'premium_unleaded_(recommended)' 'flex-fuel_(unleaded/e85)' 'diesel']\n",
            "10\n",
            "\n",
            "engine_hp\n",
            "[335. 300. 230. 320. 172.]\n",
            "356\n",
            "\n",
            "engine_cylinders\n",
            "[ 6.  4.  5.  8. 12.]\n",
            "9\n",
            "\n",
            "transmission_type\n",
            "['manual' 'automatic' 'automated_manual' 'direct_drive' 'unknown']\n",
            "5\n",
            "\n",
            "driven_wheels\n",
            "['rear_wheel_drive' 'front_wheel_drive' 'all_wheel_drive'\n",
            " 'four_wheel_drive']\n",
            "4\n",
            "\n",
            "number_of_doors\n",
            "[ 2.  4.  3. nan]\n",
            "3\n",
            "\n",
            "market_category\n",
            "['factory_tuner,luxury,high-performance' 'luxury,performance'\n",
            " 'luxury,high-performance' 'luxury' 'performance']\n",
            "71\n",
            "\n",
            "vehicle_size\n",
            "['compact' 'midsize' 'large']\n",
            "3\n",
            "\n",
            "vehicle_style\n",
            "['coupe' 'convertible' 'sedan' 'wagon' '4dr_hatchback']\n",
            "16\n",
            "\n",
            "highway_mpg\n",
            "[26 28 27 25 24]\n",
            "59\n",
            "\n",
            "city_mpg\n",
            "[19 20 18 17 16]\n",
            "69\n",
            "\n",
            "popularity\n",
            "[3916 3105  819  617 1013]\n",
            "48\n",
            "\n",
            "msrp\n",
            "[46135 40650 36350 29450 34500]\n",
            "6049\n",
            "\n"
          ]
        }
      ],
      "source": [
        "for col in df.columns:\n",
        "    print(col)\n",
        "    print(df[col].unique()[:5])\n",
        "    print(df[col].nunique())\n",
        "    print()"
      ],
      "id": "UteqKVJk4j1G"
    },
    {
      "cell_type": "code",
      "execution_count": 14,
      "metadata": {
        "id": "h9UjPGYQ4j1I",
        "outputId": "4a4184e5-183b-4fff-989f-5aca82a86434",
        "colab": {
          "base_uri": "https://localhost:8080/",
          "height": 461
        }
      },
      "outputs": [
        {
          "output_type": "execute_result",
          "data": {
            "text/plain": [
              "          make       model  year                engine_fuel_type  engine_hp  \\\n",
              "0          bmw  1_series_m  2011     premium_unleaded_(required)      335.0   \n",
              "1          bmw    1_series  2011     premium_unleaded_(required)      300.0   \n",
              "2          bmw    1_series  2011     premium_unleaded_(required)      300.0   \n",
              "3          bmw    1_series  2011     premium_unleaded_(required)      230.0   \n",
              "4          bmw    1_series  2011     premium_unleaded_(required)      230.0   \n",
              "...        ...         ...   ...                             ...        ...   \n",
              "11909    acura         zdx  2012     premium_unleaded_(required)      300.0   \n",
              "11910    acura         zdx  2012     premium_unleaded_(required)      300.0   \n",
              "11911    acura         zdx  2012     premium_unleaded_(required)      300.0   \n",
              "11912    acura         zdx  2013  premium_unleaded_(recommended)      300.0   \n",
              "11913  lincoln      zephyr  2006                regular_unleaded      221.0   \n",
              "\n",
              "       engine_cylinders transmission_type      driven_wheels  number_of_doors  \\\n",
              "0                   6.0            manual   rear_wheel_drive              2.0   \n",
              "1                   6.0            manual   rear_wheel_drive              2.0   \n",
              "2                   6.0            manual   rear_wheel_drive              2.0   \n",
              "3                   6.0            manual   rear_wheel_drive              2.0   \n",
              "4                   6.0            manual   rear_wheel_drive              2.0   \n",
              "...                 ...               ...                ...              ...   \n",
              "11909               6.0         automatic    all_wheel_drive              4.0   \n",
              "11910               6.0         automatic    all_wheel_drive              4.0   \n",
              "11911               6.0         automatic    all_wheel_drive              4.0   \n",
              "11912               6.0         automatic    all_wheel_drive              4.0   \n",
              "11913               6.0         automatic  front_wheel_drive              4.0   \n",
              "\n",
              "                             market_category vehicle_size  vehicle_style  \\\n",
              "0      factory_tuner,luxury,high-performance      compact          coupe   \n",
              "1                         luxury,performance      compact    convertible   \n",
              "2                    luxury,high-performance      compact          coupe   \n",
              "3                         luxury,performance      compact          coupe   \n",
              "4                                     luxury      compact    convertible   \n",
              "...                                      ...          ...            ...   \n",
              "11909             crossover,hatchback,luxury      midsize  4dr_hatchback   \n",
              "11910             crossover,hatchback,luxury      midsize  4dr_hatchback   \n",
              "11911             crossover,hatchback,luxury      midsize  4dr_hatchback   \n",
              "11912             crossover,hatchback,luxury      midsize  4dr_hatchback   \n",
              "11913                                 luxury      midsize          sedan   \n",
              "\n",
              "       highway_mpg  city_mpg  popularity   msrp  \n",
              "0               26        19        3916  46135  \n",
              "1               28        19        3916  40650  \n",
              "2               28        20        3916  36350  \n",
              "3               28        18        3916  29450  \n",
              "4               28        18        3916  34500  \n",
              "...            ...       ...         ...    ...  \n",
              "11909           23        16         204  46120  \n",
              "11910           23        16         204  56670  \n",
              "11911           23        16         204  50620  \n",
              "11912           23        16         204  50920  \n",
              "11913           26        17          61  28995  \n",
              "\n",
              "[11914 rows x 16 columns]"
            ],
            "text/html": [
              "\n",
              "  <div id=\"df-b32b7651-afa5-4270-a218-cb13096ad5d0\" class=\"colab-df-container\">\n",
              "    <div>\n",
              "<style scoped>\n",
              "    .dataframe tbody tr th:only-of-type {\n",
              "        vertical-align: middle;\n",
              "    }\n",
              "\n",
              "    .dataframe tbody tr th {\n",
              "        vertical-align: top;\n",
              "    }\n",
              "\n",
              "    .dataframe thead th {\n",
              "        text-align: right;\n",
              "    }\n",
              "</style>\n",
              "<table border=\"1\" class=\"dataframe\">\n",
              "  <thead>\n",
              "    <tr style=\"text-align: right;\">\n",
              "      <th></th>\n",
              "      <th>make</th>\n",
              "      <th>model</th>\n",
              "      <th>year</th>\n",
              "      <th>engine_fuel_type</th>\n",
              "      <th>engine_hp</th>\n",
              "      <th>engine_cylinders</th>\n",
              "      <th>transmission_type</th>\n",
              "      <th>driven_wheels</th>\n",
              "      <th>number_of_doors</th>\n",
              "      <th>market_category</th>\n",
              "      <th>vehicle_size</th>\n",
              "      <th>vehicle_style</th>\n",
              "      <th>highway_mpg</th>\n",
              "      <th>city_mpg</th>\n",
              "      <th>popularity</th>\n",
              "      <th>msrp</th>\n",
              "    </tr>\n",
              "  </thead>\n",
              "  <tbody>\n",
              "    <tr>\n",
              "      <th>0</th>\n",
              "      <td>bmw</td>\n",
              "      <td>1_series_m</td>\n",
              "      <td>2011</td>\n",
              "      <td>premium_unleaded_(required)</td>\n",
              "      <td>335.0</td>\n",
              "      <td>6.0</td>\n",
              "      <td>manual</td>\n",
              "      <td>rear_wheel_drive</td>\n",
              "      <td>2.0</td>\n",
              "      <td>factory_tuner,luxury,high-performance</td>\n",
              "      <td>compact</td>\n",
              "      <td>coupe</td>\n",
              "      <td>26</td>\n",
              "      <td>19</td>\n",
              "      <td>3916</td>\n",
              "      <td>46135</td>\n",
              "    </tr>\n",
              "    <tr>\n",
              "      <th>1</th>\n",
              "      <td>bmw</td>\n",
              "      <td>1_series</td>\n",
              "      <td>2011</td>\n",
              "      <td>premium_unleaded_(required)</td>\n",
              "      <td>300.0</td>\n",
              "      <td>6.0</td>\n",
              "      <td>manual</td>\n",
              "      <td>rear_wheel_drive</td>\n",
              "      <td>2.0</td>\n",
              "      <td>luxury,performance</td>\n",
              "      <td>compact</td>\n",
              "      <td>convertible</td>\n",
              "      <td>28</td>\n",
              "      <td>19</td>\n",
              "      <td>3916</td>\n",
              "      <td>40650</td>\n",
              "    </tr>\n",
              "    <tr>\n",
              "      <th>2</th>\n",
              "      <td>bmw</td>\n",
              "      <td>1_series</td>\n",
              "      <td>2011</td>\n",
              "      <td>premium_unleaded_(required)</td>\n",
              "      <td>300.0</td>\n",
              "      <td>6.0</td>\n",
              "      <td>manual</td>\n",
              "      <td>rear_wheel_drive</td>\n",
              "      <td>2.0</td>\n",
              "      <td>luxury,high-performance</td>\n",
              "      <td>compact</td>\n",
              "      <td>coupe</td>\n",
              "      <td>28</td>\n",
              "      <td>20</td>\n",
              "      <td>3916</td>\n",
              "      <td>36350</td>\n",
              "    </tr>\n",
              "    <tr>\n",
              "      <th>3</th>\n",
              "      <td>bmw</td>\n",
              "      <td>1_series</td>\n",
              "      <td>2011</td>\n",
              "      <td>premium_unleaded_(required)</td>\n",
              "      <td>230.0</td>\n",
              "      <td>6.0</td>\n",
              "      <td>manual</td>\n",
              "      <td>rear_wheel_drive</td>\n",
              "      <td>2.0</td>\n",
              "      <td>luxury,performance</td>\n",
              "      <td>compact</td>\n",
              "      <td>coupe</td>\n",
              "      <td>28</td>\n",
              "      <td>18</td>\n",
              "      <td>3916</td>\n",
              "      <td>29450</td>\n",
              "    </tr>\n",
              "    <tr>\n",
              "      <th>4</th>\n",
              "      <td>bmw</td>\n",
              "      <td>1_series</td>\n",
              "      <td>2011</td>\n",
              "      <td>premium_unleaded_(required)</td>\n",
              "      <td>230.0</td>\n",
              "      <td>6.0</td>\n",
              "      <td>manual</td>\n",
              "      <td>rear_wheel_drive</td>\n",
              "      <td>2.0</td>\n",
              "      <td>luxury</td>\n",
              "      <td>compact</td>\n",
              "      <td>convertible</td>\n",
              "      <td>28</td>\n",
              "      <td>18</td>\n",
              "      <td>3916</td>\n",
              "      <td>34500</td>\n",
              "    </tr>\n",
              "    <tr>\n",
              "      <th>...</th>\n",
              "      <td>...</td>\n",
              "      <td>...</td>\n",
              "      <td>...</td>\n",
              "      <td>...</td>\n",
              "      <td>...</td>\n",
              "      <td>...</td>\n",
              "      <td>...</td>\n",
              "      <td>...</td>\n",
              "      <td>...</td>\n",
              "      <td>...</td>\n",
              "      <td>...</td>\n",
              "      <td>...</td>\n",
              "      <td>...</td>\n",
              "      <td>...</td>\n",
              "      <td>...</td>\n",
              "      <td>...</td>\n",
              "    </tr>\n",
              "    <tr>\n",
              "      <th>11909</th>\n",
              "      <td>acura</td>\n",
              "      <td>zdx</td>\n",
              "      <td>2012</td>\n",
              "      <td>premium_unleaded_(required)</td>\n",
              "      <td>300.0</td>\n",
              "      <td>6.0</td>\n",
              "      <td>automatic</td>\n",
              "      <td>all_wheel_drive</td>\n",
              "      <td>4.0</td>\n",
              "      <td>crossover,hatchback,luxury</td>\n",
              "      <td>midsize</td>\n",
              "      <td>4dr_hatchback</td>\n",
              "      <td>23</td>\n",
              "      <td>16</td>\n",
              "      <td>204</td>\n",
              "      <td>46120</td>\n",
              "    </tr>\n",
              "    <tr>\n",
              "      <th>11910</th>\n",
              "      <td>acura</td>\n",
              "      <td>zdx</td>\n",
              "      <td>2012</td>\n",
              "      <td>premium_unleaded_(required)</td>\n",
              "      <td>300.0</td>\n",
              "      <td>6.0</td>\n",
              "      <td>automatic</td>\n",
              "      <td>all_wheel_drive</td>\n",
              "      <td>4.0</td>\n",
              "      <td>crossover,hatchback,luxury</td>\n",
              "      <td>midsize</td>\n",
              "      <td>4dr_hatchback</td>\n",
              "      <td>23</td>\n",
              "      <td>16</td>\n",
              "      <td>204</td>\n",
              "      <td>56670</td>\n",
              "    </tr>\n",
              "    <tr>\n",
              "      <th>11911</th>\n",
              "      <td>acura</td>\n",
              "      <td>zdx</td>\n",
              "      <td>2012</td>\n",
              "      <td>premium_unleaded_(required)</td>\n",
              "      <td>300.0</td>\n",
              "      <td>6.0</td>\n",
              "      <td>automatic</td>\n",
              "      <td>all_wheel_drive</td>\n",
              "      <td>4.0</td>\n",
              "      <td>crossover,hatchback,luxury</td>\n",
              "      <td>midsize</td>\n",
              "      <td>4dr_hatchback</td>\n",
              "      <td>23</td>\n",
              "      <td>16</td>\n",
              "      <td>204</td>\n",
              "      <td>50620</td>\n",
              "    </tr>\n",
              "    <tr>\n",
              "      <th>11912</th>\n",
              "      <td>acura</td>\n",
              "      <td>zdx</td>\n",
              "      <td>2013</td>\n",
              "      <td>premium_unleaded_(recommended)</td>\n",
              "      <td>300.0</td>\n",
              "      <td>6.0</td>\n",
              "      <td>automatic</td>\n",
              "      <td>all_wheel_drive</td>\n",
              "      <td>4.0</td>\n",
              "      <td>crossover,hatchback,luxury</td>\n",
              "      <td>midsize</td>\n",
              "      <td>4dr_hatchback</td>\n",
              "      <td>23</td>\n",
              "      <td>16</td>\n",
              "      <td>204</td>\n",
              "      <td>50920</td>\n",
              "    </tr>\n",
              "    <tr>\n",
              "      <th>11913</th>\n",
              "      <td>lincoln</td>\n",
              "      <td>zephyr</td>\n",
              "      <td>2006</td>\n",
              "      <td>regular_unleaded</td>\n",
              "      <td>221.0</td>\n",
              "      <td>6.0</td>\n",
              "      <td>automatic</td>\n",
              "      <td>front_wheel_drive</td>\n",
              "      <td>4.0</td>\n",
              "      <td>luxury</td>\n",
              "      <td>midsize</td>\n",
              "      <td>sedan</td>\n",
              "      <td>26</td>\n",
              "      <td>17</td>\n",
              "      <td>61</td>\n",
              "      <td>28995</td>\n",
              "    </tr>\n",
              "  </tbody>\n",
              "</table>\n",
              "<p>11914 rows × 16 columns</p>\n",
              "</div>\n",
              "    <div class=\"colab-df-buttons\">\n",
              "\n",
              "  <div class=\"colab-df-container\">\n",
              "    <button class=\"colab-df-convert\" onclick=\"convertToInteractive('df-b32b7651-afa5-4270-a218-cb13096ad5d0')\"\n",
              "            title=\"Convert this dataframe to an interactive table.\"\n",
              "            style=\"display:none;\">\n",
              "\n",
              "  <svg xmlns=\"http://www.w3.org/2000/svg\" height=\"24px\" viewBox=\"0 -960 960 960\">\n",
              "    <path d=\"M120-120v-720h720v720H120Zm60-500h600v-160H180v160Zm220 220h160v-160H400v160Zm0 220h160v-160H400v160ZM180-400h160v-160H180v160Zm440 0h160v-160H620v160ZM180-180h160v-160H180v160Zm440 0h160v-160H620v160Z\"/>\n",
              "  </svg>\n",
              "    </button>\n",
              "\n",
              "  <style>\n",
              "    .colab-df-container {\n",
              "      display:flex;\n",
              "      gap: 12px;\n",
              "    }\n",
              "\n",
              "    .colab-df-convert {\n",
              "      background-color: #E8F0FE;\n",
              "      border: none;\n",
              "      border-radius: 50%;\n",
              "      cursor: pointer;\n",
              "      display: none;\n",
              "      fill: #1967D2;\n",
              "      height: 32px;\n",
              "      padding: 0 0 0 0;\n",
              "      width: 32px;\n",
              "    }\n",
              "\n",
              "    .colab-df-convert:hover {\n",
              "      background-color: #E2EBFA;\n",
              "      box-shadow: 0px 1px 2px rgba(60, 64, 67, 0.3), 0px 1px 3px 1px rgba(60, 64, 67, 0.15);\n",
              "      fill: #174EA6;\n",
              "    }\n",
              "\n",
              "    .colab-df-buttons div {\n",
              "      margin-bottom: 4px;\n",
              "    }\n",
              "\n",
              "    [theme=dark] .colab-df-convert {\n",
              "      background-color: #3B4455;\n",
              "      fill: #D2E3FC;\n",
              "    }\n",
              "\n",
              "    [theme=dark] .colab-df-convert:hover {\n",
              "      background-color: #434B5C;\n",
              "      box-shadow: 0px 1px 3px 1px rgba(0, 0, 0, 0.15);\n",
              "      filter: drop-shadow(0px 1px 2px rgba(0, 0, 0, 0.3));\n",
              "      fill: #FFFFFF;\n",
              "    }\n",
              "  </style>\n",
              "\n",
              "    <script>\n",
              "      const buttonEl =\n",
              "        document.querySelector('#df-b32b7651-afa5-4270-a218-cb13096ad5d0 button.colab-df-convert');\n",
              "      buttonEl.style.display =\n",
              "        google.colab.kernel.accessAllowed ? 'block' : 'none';\n",
              "\n",
              "      async function convertToInteractive(key) {\n",
              "        const element = document.querySelector('#df-b32b7651-afa5-4270-a218-cb13096ad5d0');\n",
              "        const dataTable =\n",
              "          await google.colab.kernel.invokeFunction('convertToInteractive',\n",
              "                                                    [key], {});\n",
              "        if (!dataTable) return;\n",
              "\n",
              "        const docLinkHtml = 'Like what you see? Visit the ' +\n",
              "          '<a target=\"_blank\" href=https://colab.research.google.com/notebooks/data_table.ipynb>data table notebook</a>'\n",
              "          + ' to learn more about interactive tables.';\n",
              "        element.innerHTML = '';\n",
              "        dataTable['output_type'] = 'display_data';\n",
              "        await google.colab.output.renderOutput(dataTable, element);\n",
              "        const docLink = document.createElement('div');\n",
              "        docLink.innerHTML = docLinkHtml;\n",
              "        element.appendChild(docLink);\n",
              "      }\n",
              "    </script>\n",
              "  </div>\n",
              "\n",
              "\n",
              "    <div id=\"df-a5f193a4-a4c5-47fd-a798-88d0bb26a804\">\n",
              "      <button class=\"colab-df-quickchart\" onclick=\"quickchart('df-a5f193a4-a4c5-47fd-a798-88d0bb26a804')\"\n",
              "                title=\"Suggest charts\"\n",
              "                style=\"display:none;\">\n",
              "\n",
              "<svg xmlns=\"http://www.w3.org/2000/svg\" height=\"24px\"viewBox=\"0 0 24 24\"\n",
              "     width=\"24px\">\n",
              "    <g>\n",
              "        <path d=\"M19 3H5c-1.1 0-2 .9-2 2v14c0 1.1.9 2 2 2h14c1.1 0 2-.9 2-2V5c0-1.1-.9-2-2-2zM9 17H7v-7h2v7zm4 0h-2V7h2v10zm4 0h-2v-4h2v4z\"/>\n",
              "    </g>\n",
              "</svg>\n",
              "      </button>\n",
              "\n",
              "<style>\n",
              "  .colab-df-quickchart {\n",
              "      --bg-color: #E8F0FE;\n",
              "      --fill-color: #1967D2;\n",
              "      --hover-bg-color: #E2EBFA;\n",
              "      --hover-fill-color: #174EA6;\n",
              "      --disabled-fill-color: #AAA;\n",
              "      --disabled-bg-color: #DDD;\n",
              "  }\n",
              "\n",
              "  [theme=dark] .colab-df-quickchart {\n",
              "      --bg-color: #3B4455;\n",
              "      --fill-color: #D2E3FC;\n",
              "      --hover-bg-color: #434B5C;\n",
              "      --hover-fill-color: #FFFFFF;\n",
              "      --disabled-bg-color: #3B4455;\n",
              "      --disabled-fill-color: #666;\n",
              "  }\n",
              "\n",
              "  .colab-df-quickchart {\n",
              "    background-color: var(--bg-color);\n",
              "    border: none;\n",
              "    border-radius: 50%;\n",
              "    cursor: pointer;\n",
              "    display: none;\n",
              "    fill: var(--fill-color);\n",
              "    height: 32px;\n",
              "    padding: 0;\n",
              "    width: 32px;\n",
              "  }\n",
              "\n",
              "  .colab-df-quickchart:hover {\n",
              "    background-color: var(--hover-bg-color);\n",
              "    box-shadow: 0 1px 2px rgba(60, 64, 67, 0.3), 0 1px 3px 1px rgba(60, 64, 67, 0.15);\n",
              "    fill: var(--button-hover-fill-color);\n",
              "  }\n",
              "\n",
              "  .colab-df-quickchart-complete:disabled,\n",
              "  .colab-df-quickchart-complete:disabled:hover {\n",
              "    background-color: var(--disabled-bg-color);\n",
              "    fill: var(--disabled-fill-color);\n",
              "    box-shadow: none;\n",
              "  }\n",
              "\n",
              "  .colab-df-spinner {\n",
              "    border: 2px solid var(--fill-color);\n",
              "    border-color: transparent;\n",
              "    border-bottom-color: var(--fill-color);\n",
              "    animation:\n",
              "      spin 1s steps(1) infinite;\n",
              "  }\n",
              "\n",
              "  @keyframes spin {\n",
              "    0% {\n",
              "      border-color: transparent;\n",
              "      border-bottom-color: var(--fill-color);\n",
              "      border-left-color: var(--fill-color);\n",
              "    }\n",
              "    20% {\n",
              "      border-color: transparent;\n",
              "      border-left-color: var(--fill-color);\n",
              "      border-top-color: var(--fill-color);\n",
              "    }\n",
              "    30% {\n",
              "      border-color: transparent;\n",
              "      border-left-color: var(--fill-color);\n",
              "      border-top-color: var(--fill-color);\n",
              "      border-right-color: var(--fill-color);\n",
              "    }\n",
              "    40% {\n",
              "      border-color: transparent;\n",
              "      border-right-color: var(--fill-color);\n",
              "      border-top-color: var(--fill-color);\n",
              "    }\n",
              "    60% {\n",
              "      border-color: transparent;\n",
              "      border-right-color: var(--fill-color);\n",
              "    }\n",
              "    80% {\n",
              "      border-color: transparent;\n",
              "      border-right-color: var(--fill-color);\n",
              "      border-bottom-color: var(--fill-color);\n",
              "    }\n",
              "    90% {\n",
              "      border-color: transparent;\n",
              "      border-bottom-color: var(--fill-color);\n",
              "    }\n",
              "  }\n",
              "</style>\n",
              "\n",
              "      <script>\n",
              "        async function quickchart(key) {\n",
              "          const quickchartButtonEl =\n",
              "            document.querySelector('#' + key + ' button');\n",
              "          quickchartButtonEl.disabled = true;  // To prevent multiple clicks.\n",
              "          quickchartButtonEl.classList.add('colab-df-spinner');\n",
              "          try {\n",
              "            const charts = await google.colab.kernel.invokeFunction(\n",
              "                'suggestCharts', [key], {});\n",
              "          } catch (error) {\n",
              "            console.error('Error during call to suggestCharts:', error);\n",
              "          }\n",
              "          quickchartButtonEl.classList.remove('colab-df-spinner');\n",
              "          quickchartButtonEl.classList.add('colab-df-quickchart-complete');\n",
              "        }\n",
              "        (() => {\n",
              "          let quickchartButtonEl =\n",
              "            document.querySelector('#df-a5f193a4-a4c5-47fd-a798-88d0bb26a804 button');\n",
              "          quickchartButtonEl.style.display =\n",
              "            google.colab.kernel.accessAllowed ? 'block' : 'none';\n",
              "        })();\n",
              "      </script>\n",
              "    </div>\n",
              "\n",
              "  <div id=\"id_7aa32800-3f31-4688-b953-051fbfe59b56\">\n",
              "    <style>\n",
              "      .colab-df-generate {\n",
              "        background-color: #E8F0FE;\n",
              "        border: none;\n",
              "        border-radius: 50%;\n",
              "        cursor: pointer;\n",
              "        display: none;\n",
              "        fill: #1967D2;\n",
              "        height: 32px;\n",
              "        padding: 0 0 0 0;\n",
              "        width: 32px;\n",
              "      }\n",
              "\n",
              "      .colab-df-generate:hover {\n",
              "        background-color: #E2EBFA;\n",
              "        box-shadow: 0px 1px 2px rgba(60, 64, 67, 0.3), 0px 1px 3px 1px rgba(60, 64, 67, 0.15);\n",
              "        fill: #174EA6;\n",
              "      }\n",
              "\n",
              "      [theme=dark] .colab-df-generate {\n",
              "        background-color: #3B4455;\n",
              "        fill: #D2E3FC;\n",
              "      }\n",
              "\n",
              "      [theme=dark] .colab-df-generate:hover {\n",
              "        background-color: #434B5C;\n",
              "        box-shadow: 0px 1px 3px 1px rgba(0, 0, 0, 0.15);\n",
              "        filter: drop-shadow(0px 1px 2px rgba(0, 0, 0, 0.3));\n",
              "        fill: #FFFFFF;\n",
              "      }\n",
              "    </style>\n",
              "    <button class=\"colab-df-generate\" onclick=\"generateWithVariable('df')\"\n",
              "            title=\"Generate code using this dataframe.\"\n",
              "            style=\"display:none;\">\n",
              "\n",
              "  <svg xmlns=\"http://www.w3.org/2000/svg\" height=\"24px\"viewBox=\"0 0 24 24\"\n",
              "       width=\"24px\">\n",
              "    <path d=\"M7,19H8.4L18.45,9,17,7.55,7,17.6ZM5,21V16.75L18.45,3.32a2,2,0,0,1,2.83,0l1.4,1.43a1.91,1.91,0,0,1,.58,1.4,1.91,1.91,0,0,1-.58,1.4L9.25,21ZM18.45,9,17,7.55Zm-12,3A5.31,5.31,0,0,0,4.9,8.1,5.31,5.31,0,0,0,1,6.5,5.31,5.31,0,0,0,4.9,4.9,5.31,5.31,0,0,0,6.5,1,5.31,5.31,0,0,0,8.1,4.9,5.31,5.31,0,0,0,12,6.5,5.46,5.46,0,0,0,6.5,12Z\"/>\n",
              "  </svg>\n",
              "    </button>\n",
              "    <script>\n",
              "      (() => {\n",
              "      const buttonEl =\n",
              "        document.querySelector('#id_7aa32800-3f31-4688-b953-051fbfe59b56 button.colab-df-generate');\n",
              "      buttonEl.style.display =\n",
              "        google.colab.kernel.accessAllowed ? 'block' : 'none';\n",
              "\n",
              "      buttonEl.onclick = () => {\n",
              "        google.colab.notebook.generateWithVariable('df');\n",
              "      }\n",
              "      })();\n",
              "    </script>\n",
              "  </div>\n",
              "\n",
              "    </div>\n",
              "  </div>\n"
            ],
            "application/vnd.google.colaboratory.intrinsic+json": {
              "type": "dataframe",
              "variable_name": "df",
              "summary": "{\n  \"name\": \"df\",\n  \"rows\": 11914,\n  \"fields\": [\n    {\n      \"column\": \"make\",\n      \"properties\": {\n        \"dtype\": \"category\",\n        \"num_unique_values\": 48,\n        \"samples\": [\n          \"chevrolet\",\n          \"land_rover\",\n          \"bentley\"\n        ],\n        \"semantic_type\": \"\",\n        \"description\": \"\"\n      }\n    },\n    {\n      \"column\": \"model\",\n      \"properties\": {\n        \"dtype\": \"category\",\n        \"num_unique_values\": 914,\n        \"samples\": [\n          \"g35\",\n          \"van\",\n          \"flex\"\n        ],\n        \"semantic_type\": \"\",\n        \"description\": \"\"\n      }\n    },\n    {\n      \"column\": \"year\",\n      \"properties\": {\n        \"dtype\": \"number\",\n        \"std\": 7,\n        \"min\": 1990,\n        \"max\": 2017,\n        \"num_unique_values\": 28,\n        \"samples\": [\n          1990,\n          2000,\n          2016\n        ],\n        \"semantic_type\": \"\",\n        \"description\": \"\"\n      }\n    },\n    {\n      \"column\": \"engine_fuel_type\",\n      \"properties\": {\n        \"dtype\": \"category\",\n        \"num_unique_values\": 10,\n        \"samples\": [\n          \"flex-fuel_(premium_unleaded_required/e85)\",\n          \"regular_unleaded\",\n          \"electric\"\n        ],\n        \"semantic_type\": \"\",\n        \"description\": \"\"\n      }\n    },\n    {\n      \"column\": \"engine_hp\",\n      \"properties\": {\n        \"dtype\": \"number\",\n        \"std\": 109.19187025917257,\n        \"min\": 55.0,\n        \"max\": 1001.0,\n        \"num_unique_values\": 356,\n        \"samples\": [\n          145.0,\n          201.0,\n          219.0\n        ],\n        \"semantic_type\": \"\",\n        \"description\": \"\"\n      }\n    },\n    {\n      \"column\": \"engine_cylinders\",\n      \"properties\": {\n        \"dtype\": \"number\",\n        \"std\": 1.7805593482463664,\n        \"min\": 0.0,\n        \"max\": 16.0,\n        \"num_unique_values\": 9,\n        \"samples\": [\n          3.0,\n          4.0,\n          0.0\n        ],\n        \"semantic_type\": \"\",\n        \"description\": \"\"\n      }\n    },\n    {\n      \"column\": \"transmission_type\",\n      \"properties\": {\n        \"dtype\": \"category\",\n        \"num_unique_values\": 5,\n        \"samples\": [\n          \"automatic\",\n          \"unknown\",\n          \"automated_manual\"\n        ],\n        \"semantic_type\": \"\",\n        \"description\": \"\"\n      }\n    },\n    {\n      \"column\": \"driven_wheels\",\n      \"properties\": {\n        \"dtype\": \"category\",\n        \"num_unique_values\": 4,\n        \"samples\": [\n          \"front_wheel_drive\",\n          \"four_wheel_drive\",\n          \"rear_wheel_drive\"\n        ],\n        \"semantic_type\": \"\",\n        \"description\": \"\"\n      }\n    },\n    {\n      \"column\": \"number_of_doors\",\n      \"properties\": {\n        \"dtype\": \"number\",\n        \"std\": 0.8813153865835297,\n        \"min\": 2.0,\n        \"max\": 4.0,\n        \"num_unique_values\": 3,\n        \"samples\": [\n          2.0,\n          4.0,\n          3.0\n        ],\n        \"semantic_type\": \"\",\n        \"description\": \"\"\n      }\n    },\n    {\n      \"column\": \"market_category\",\n      \"properties\": {\n        \"dtype\": \"category\",\n        \"num_unique_values\": 71,\n        \"samples\": [\n          \"exotic,luxury,performance\",\n          \"factory_tuner,luxury,high-performance\",\n          \"crossover,flex_fuel,luxury\"\n        ],\n        \"semantic_type\": \"\",\n        \"description\": \"\"\n      }\n    },\n    {\n      \"column\": \"vehicle_size\",\n      \"properties\": {\n        \"dtype\": \"category\",\n        \"num_unique_values\": 3,\n        \"samples\": [\n          \"compact\",\n          \"midsize\",\n          \"large\"\n        ],\n        \"semantic_type\": \"\",\n        \"description\": \"\"\n      }\n    },\n    {\n      \"column\": \"vehicle_style\",\n      \"properties\": {\n        \"dtype\": \"category\",\n        \"num_unique_values\": 16,\n        \"samples\": [\n          \"coupe\",\n          \"convertible\",\n          \"2dr_hatchback\"\n        ],\n        \"semantic_type\": \"\",\n        \"description\": \"\"\n      }\n    },\n    {\n      \"column\": \"highway_mpg\",\n      \"properties\": {\n        \"dtype\": \"number\",\n        \"std\": 8,\n        \"min\": 12,\n        \"max\": 354,\n        \"num_unique_values\": 59,\n        \"samples\": [\n          26,\n          20,\n          354\n        ],\n        \"semantic_type\": \"\",\n        \"description\": \"\"\n      }\n    },\n    {\n      \"column\": \"city_mpg\",\n      \"properties\": {\n        \"dtype\": \"number\",\n        \"std\": 8,\n        \"min\": 7,\n        \"max\": 137,\n        \"num_unique_values\": 69,\n        \"samples\": [\n          9,\n          19,\n          41\n        ],\n        \"semantic_type\": \"\",\n        \"description\": \"\"\n      }\n    },\n    {\n      \"column\": \"popularity\",\n      \"properties\": {\n        \"dtype\": \"number\",\n        \"std\": 1441,\n        \"min\": 2,\n        \"max\": 5657,\n        \"num_unique_values\": 48,\n        \"samples\": [\n          1385,\n          258,\n          520\n        ],\n        \"semantic_type\": \"\",\n        \"description\": \"\"\n      }\n    },\n    {\n      \"column\": \"msrp\",\n      \"properties\": {\n        \"dtype\": \"number\",\n        \"std\": 60109,\n        \"min\": 2000,\n        \"max\": 2065902,\n        \"num_unique_values\": 6049,\n        \"samples\": [\n          42610,\n          32030,\n          89995\n        ],\n        \"semantic_type\": \"\",\n        \"description\": \"\"\n      }\n    }\n  ]\n}"
            }
          },
          "metadata": {},
          "execution_count": 14
        }
      ],
      "source": [
        "df"
      ],
      "id": "h9UjPGYQ4j1I"
    },
    {
      "cell_type": "markdown",
      "metadata": {
        "id": "5Q19qu0_4j1I"
      },
      "source": [
        "Distribution of price"
      ],
      "id": "5Q19qu0_4j1I"
    },
    {
      "cell_type": "code",
      "execution_count": 15,
      "metadata": {
        "id": "7q2NuPhp4j1J"
      },
      "outputs": [],
      "source": [
        "import matplotlib.pyplot as plt\n",
        "import seaborn as sns\n",
        "\n",
        "%matplotlib inline"
      ],
      "id": "7q2NuPhp4j1J"
    },
    {
      "cell_type": "code",
      "execution_count": 16,
      "metadata": {
        "id": "VeT0G61a4j1J",
        "outputId": "e2b873b7-5ca0-4ed4-f498-1b8c5c081237",
        "colab": {
          "base_uri": "https://localhost:8080/",
          "height": 466
        }
      },
      "outputs": [
        {
          "output_type": "execute_result",
          "data": {
            "text/plain": [
              "<Axes: xlabel='msrp', ylabel='Count'>"
            ]
          },
          "metadata": {},
          "execution_count": 16
        },
        {
          "output_type": "display_data",
          "data": {
            "text/plain": [
              "<Figure size 640x480 with 1 Axes>"
            ],
            "image/png": "[encoded data removed]"
          },
          "metadata": {}
        }
      ],
      "source": [
        "sns.histplot(df.msrp, bins=50)"
      ],
      "id": "VeT0G61a4j1J"
    },
    {
      "cell_type": "code",
      "execution_count": 17,
      "metadata": {
        "id": "CPldvlPr4j1K",
        "outputId": "055d8301-60fc-46b1-a8ab-b2c856ae3491",
        "colab": {
          "base_uri": "https://localhost:8080/",
          "height": 466
        }
      },
      "outputs": [
        {
          "output_type": "execute_result",
          "data": {
            "text/plain": [
              "<Axes: xlabel='msrp', ylabel='Count'>"
            ]
          },
          "metadata": {},
          "execution_count": 17
        },
        {
          "output_type": "display_data",
          "data": {
            "text/plain": [
              "<Figure size 640x480 with 1 Axes>"
            ],
            "image/png": "[encoded data removed]"
          },
          "metadata": {}
        }
      ],
      "source": [
        "sns.histplot(df.msrp[df.msrp < 100000], bins=50)"
      ],
      "id": "CPldvlPr4j1K"
    },
    {
      "cell_type": "code",
      "execution_count": 18,
      "metadata": {
        "id": "k39Wf75u4j1K",
        "outputId": "9b427a6f-72f8-43e7-a592-b4f6de724c73",
        "colab": {
          "base_uri": "https://localhost:8080/"
        }
      },
      "outputs": [
        {
          "output_type": "execute_result",
          "data": {
            "text/plain": [
              "array([ 0.        ,  0.69314718,  2.39789527,  6.90875478, 11.51293546])"
            ]
          },
          "metadata": {},
          "execution_count": 18
        }
      ],
      "source": [
        "np.log1p([0, 1, 10, 1000, 100000])"
      ],
      "id": "k39Wf75u4j1K"
    },
    {
      "cell_type": "code",
      "execution_count": 19,
      "metadata": {
        "id": "GQmt3-3K4j1L",
        "outputId": "c79ce61d-a863-4d79-ee57-6102d221a395",
        "colab": {
          "base_uri": "https://localhost:8080/"
        }
      },
      "outputs": [
        {
          "output_type": "execute_result",
          "data": {
            "text/plain": [
              "array([ 0.        ,  0.69314718,  2.39789527,  6.90875478, 11.51292546])"
            ]
          },
          "metadata": {},
          "execution_count": 19
        }
      ],
      "source": [
        "np.log([0 + 1, 1+ 1, 10 + 1, 1000 + 1, 100000])"
      ],
      "id": "GQmt3-3K4j1L"
    },
    {
      "cell_type": "code",
      "execution_count": 20,
      "metadata": {
        "id": "q5hS9cIn4j1L"
      },
      "outputs": [],
      "source": [
        "price_logs = np.log1p(df.msrp)"
      ],
      "id": "q5hS9cIn4j1L"
    },
    {
      "cell_type": "code",
      "execution_count": 21,
      "metadata": {
        "id": "NUNy9Kg74j1M",
        "outputId": "58122800-98d6-4bfa-ff6c-d44c158390f7",
        "colab": {
          "base_uri": "https://localhost:8080/",
          "height": 466
        }
      },
      "outputs": [
        {
          "output_type": "execute_result",
          "data": {
            "text/plain": [
              "<Axes: xlabel='msrp', ylabel='Count'>"
            ]
          },
          "metadata": {},
          "execution_count": 21
        },
        {
          "output_type": "display_data",
          "data": {
            "text/plain": [
              "<Figure size 640x480 with 1 Axes>"
            ],
            "image/png": "[encoded data removed]"
          },
          "metadata": {}
        }
      ],
      "source": [
        "\n",
        "sns.histplot(price_logs, bins=50)"
      ],
      "id": "NUNy9Kg74j1M"
    },
    {
      "cell_type": "markdown",
      "metadata": {
        "id": "l9kV2ZJ34j1M"
      },
      "source": [
        "Missing values"
      ],
      "id": "l9kV2ZJ34j1M"
    },
    {
      "cell_type": "code",
      "execution_count": 22,
      "metadata": {
        "id": "8HHomvrI4j1M",
        "outputId": "85d78f17-29ce-4e62-9db9-6957df49af11",
        "colab": {
          "base_uri": "https://localhost:8080/",
          "height": 585
        }
      },
      "outputs": [
        {
          "output_type": "execute_result",
          "data": {
            "text/plain": [
              "make                    0\n",
              "model                   0\n",
              "year                    0\n",
              "engine_fuel_type        3\n",
              "engine_hp              69\n",
              "engine_cylinders       30\n",
              "transmission_type       0\n",
              "driven_wheels           0\n",
              "number_of_doors         6\n",
              "market_category      3742\n",
              "vehicle_size            0\n",
              "vehicle_style           0\n",
              "highway_mpg             0\n",
              "city_mpg                0\n",
              "popularity              0\n",
              "msrp                    0\n",
              "dtype: int64"
            ],
            "text/html": [
              "<div>\n",
              "<style scoped>\n",
              "    .dataframe tbody tr th:only-of-type {\n",
              "        vertical-align: middle;\n",
              "    }\n",
              "\n",
              "    .dataframe tbody tr th {\n",
              "        vertical-align: top;\n",
              "    }\n",
              "\n",
              "    .dataframe thead th {\n",
              "        text-align: right;\n",
              "    }\n",
              "</style>\n",
              "<table border=\"1\" class=\"dataframe\">\n",
              "  <thead>\n",
              "    <tr style=\"text-align: right;\">\n",
              "      <th></th>\n",
              "      <th>0</th>\n",
              "    </tr>\n",
              "  </thead>\n",
              "  <tbody>\n",
              "    <tr>\n",
              "      <th>make</th>\n",
              "      <td>0</td>\n",
              "    </tr>\n",
              "    <tr>\n",
              "      <th>model</th>\n",
              "      <td>0</td>\n",
              "    </tr>\n",
              "    <tr>\n",
              "      <th>year</th>\n",
              "      <td>0</td>\n",
              "    </tr>\n",
              "    <tr>\n",
              "      <th>engine_fuel_type</th>\n",
              "      <td>3</td>\n",
              "    </tr>\n",
              "    <tr>\n",
              "      <th>engine_hp</th>\n",
              "      <td>69</td>\n",
              "    </tr>\n",
              "    <tr>\n",
              "      <th>engine_cylinders</th>\n",
              "      <td>30</td>\n",
              "    </tr>\n",
              "    <tr>\n",
              "      <th>transmission_type</th>\n",
              "      <td>0</td>\n",
              "    </tr>\n",
              "    <tr>\n",
              "      <th>driven_wheels</th>\n",
              "      <td>0</td>\n",
              "    </tr>\n",
              "    <tr>\n",
              "      <th>number_of_doors</th>\n",
              "      <td>6</td>\n",
              "    </tr>\n",
              "    <tr>\n",
              "      <th>market_category</th>\n",
              "      <td>3742</td>\n",
              "    </tr>\n",
              "    <tr>\n",
              "      <th>vehicle_size</th>\n",
              "      <td>0</td>\n",
              "    </tr>\n",
              "    <tr>\n",
              "      <th>vehicle_style</th>\n",
              "      <td>0</td>\n",
              "    </tr>\n",
              "    <tr>\n",
              "      <th>highway_mpg</th>\n",
              "      <td>0</td>\n",
              "    </tr>\n",
              "    <tr>\n",
              "      <th>city_mpg</th>\n",
              "      <td>0</td>\n",
              "    </tr>\n",
              "    <tr>\n",
              "      <th>popularity</th>\n",
              "      <td>0</td>\n",
              "    </tr>\n",
              "    <tr>\n",
              "      <th>msrp</th>\n",
              "      <td>0</td>\n",
              "    </tr>\n",
              "  </tbody>\n",
              "</table>\n",
              "</div><br><label><b>dtype:</b> int64</label>"
            ]
          },
          "metadata": {},
          "execution_count": 22
        }
      ],
      "source": [
        "df.isnull().sum()"
      ],
      "id": "8HHomvrI4j1M"
    },
    {
      "cell_type": "markdown",
      "metadata": {
        "id": "kq1BcZed4j1N"
      },
      "source": [
        "## 2.4 Setting up the validation framework"
      ],
      "id": "kq1BcZed4j1N"
    },
    {
      "cell_type": "markdown",
      "metadata": {
        "id": "I7I0kL2J4j1N"
      },
      "source": [
        "Let's draw it"
      ],
      "id": "I7I0kL2J4j1N"
    },
    {
      "cell_type": "code",
      "execution_count": 23,
      "metadata": {
        "id": "Np5ubEhf4j1N"
      },
      "outputs": [],
      "source": [
        "n = len(df)\n",
        "\n",
        "n_val = int(n * 0.2)\n",
        "n_test = int(n * 0.2)\n",
        "n_train = n - n_val - n_test"
      ],
      "id": "Np5ubEhf4j1N"
    },
    {
      "cell_type": "code",
      "execution_count": 24,
      "metadata": {
        "id": "n7R3Qiee4j1N",
        "outputId": "8cab9448-cf85-4e4f-a389-5de83840da57",
        "colab": {
          "base_uri": "https://localhost:8080/"
        }
      },
      "outputs": [
        {
          "output_type": "execute_result",
          "data": {
            "text/plain": [
              "11914"
            ]
          },
          "metadata": {},
          "execution_count": 24
        }
      ],
      "source": [
        "n"
      ],
      "id": "n7R3Qiee4j1N"
    },
    {
      "cell_type": "code",
      "execution_count": 25,
      "metadata": {
        "id": "PJWixrb84j1O",
        "outputId": "f12ddbb8-9ae0-4404-c12f-1d00cd6cf0da",
        "colab": {
          "base_uri": "https://localhost:8080/"
        }
      },
      "outputs": [
        {
          "output_type": "execute_result",
          "data": {
            "text/plain": [
              "(2382, 2382, 7150)"
            ]
          },
          "metadata": {},
          "execution_count": 25
        }
      ],
      "source": [
        "n_val, n_test, n_train"
      ],
      "id": "PJWixrb84j1O"
    },
    {
      "cell_type": "code",
      "execution_count": 26,
      "metadata": {
        "id": "0DE3ojZ44j1O",
        "outputId": "2e387851-903e-4176-dbc7-950333f5e05a",
        "colab": {
          "base_uri": "https://localhost:8080/",
          "height": 212
        }
      },
      "outputs": [
        {
          "output_type": "execute_result",
          "data": {
            "text/plain": [
              "   make       model  year             engine_fuel_type  engine_hp  \\\n",
              "10  bmw    1_series  2013  premium_unleaded_(required)      300.0   \n",
              "0   bmw  1_series_m  2011  premium_unleaded_(required)      335.0   \n",
              "3   bmw    1_series  2011  premium_unleaded_(required)      230.0   \n",
              "5   bmw    1_series  2012  premium_unleaded_(required)      230.0   \n",
              "\n",
              "    engine_cylinders transmission_type     driven_wheels  number_of_doors  \\\n",
              "10               6.0            manual  rear_wheel_drive              2.0   \n",
              "0                6.0            manual  rear_wheel_drive              2.0   \n",
              "3                6.0            manual  rear_wheel_drive              2.0   \n",
              "5                6.0            manual  rear_wheel_drive              2.0   \n",
              "\n",
              "                          market_category vehicle_size vehicle_style  \\\n",
              "10                luxury,high-performance      compact         coupe   \n",
              "0   factory_tuner,luxury,high-performance      compact         coupe   \n",
              "3                      luxury,performance      compact         coupe   \n",
              "5                      luxury,performance      compact         coupe   \n",
              "\n",
              "    highway_mpg  city_mpg  popularity   msrp  \n",
              "10           28        20        3916  39600  \n",
              "0            26        19        3916  46135  \n",
              "3            28        18        3916  29450  \n",
              "5            28        18        3916  31200  "
            ],
            "text/html": [
              "\n",
              "  <div id=\"df-08baaed2-3e34-49f4-bf16-995eb5bd0a0b\" class=\"colab-df-container\">\n",
              "    <div>\n",
              "<style scoped>\n",
              "    .dataframe tbody tr th:only-of-type {\n",
              "        vertical-align: middle;\n",
              "    }\n",
              "\n",
              "    .dataframe tbody tr th {\n",
              "        vertical-align: top;\n",
              "    }\n",
              "\n",
              "    .dataframe thead th {\n",
              "        text-align: right;\n",
              "    }\n",
              "</style>\n",
              "<table border=\"1\" class=\"dataframe\">\n",
              "  <thead>\n",
              "    <tr style=\"text-align: right;\">\n",
              "      <th></th>\n",
              "      <th>make</th>\n",
              "      <th>model</th>\n",
              "      <th>year</th>\n",
              "      <th>engine_fuel_type</th>\n",
              "      <th>engine_hp</th>\n",
              "      <th>engine_cylinders</th>\n",
              "      <th>transmission_type</th>\n",
              "      <th>driven_wheels</th>\n",
              "      <th>number_of_doors</th>\n",
              "      <th>market_category</th>\n",
              "      <th>vehicle_size</th>\n",
              "      <th>vehicle_style</th>\n",
              "      <th>highway_mpg</th>\n",
              "      <th>city_mpg</th>\n",
              "      <th>popularity</th>\n",
              "      <th>msrp</th>\n",
              "    </tr>\n",
              "  </thead>\n",
              "  <tbody>\n",
              "    <tr>\n",
              "      <th>10</th>\n",
              "      <td>bmw</td>\n",
              "      <td>1_series</td>\n",
              "      <td>2013</td>\n",
              "      <td>premium_unleaded_(required)</td>\n",
              "      <td>300.0</td>\n",
              "      <td>6.0</td>\n",
              "      <td>manual</td>\n",
              "      <td>rear_wheel_drive</td>\n",
              "      <td>2.0</td>\n",
              "      <td>luxury,high-performance</td>\n",
              "      <td>compact</td>\n",
              "      <td>coupe</td>\n",
              "      <td>28</td>\n",
              "      <td>20</td>\n",
              "      <td>3916</td>\n",
              "      <td>39600</td>\n",
              "    </tr>\n",
              "    <tr>\n",
              "      <th>0</th>\n",
              "      <td>bmw</td>\n",
              "      <td>1_series_m</td>\n",
              "      <td>2011</td>\n",
              "      <td>premium_unleaded_(required)</td>\n",
              "      <td>335.0</td>\n",
              "      <td>6.0</td>\n",
              "      <td>manual</td>\n",
              "      <td>rear_wheel_drive</td>\n",
              "      <td>2.0</td>\n",
              "      <td>factory_tuner,luxury,high-performance</td>\n",
              "      <td>compact</td>\n",
              "      <td>coupe</td>\n",
              "      <td>26</td>\n",
              "      <td>19</td>\n",
              "      <td>3916</td>\n",
              "      <td>46135</td>\n",
              "    </tr>\n",
              "    <tr>\n",
              "      <th>3</th>\n",
              "      <td>bmw</td>\n",
              "      <td>1_series</td>\n",
              "      <td>2011</td>\n",
              "      <td>premium_unleaded_(required)</td>\n",
              "      <td>230.0</td>\n",
              "      <td>6.0</td>\n",
              "      <td>manual</td>\n",
              "      <td>rear_wheel_drive</td>\n",
              "      <td>2.0</td>\n",
              "      <td>luxury,performance</td>\n",
              "      <td>compact</td>\n",
              "      <td>coupe</td>\n",
              "      <td>28</td>\n",
              "      <td>18</td>\n",
              "      <td>3916</td>\n",
              "      <td>29450</td>\n",
              "    </tr>\n",
              "    <tr>\n",
              "      <th>5</th>\n",
              "      <td>bmw</td>\n",
              "      <td>1_series</td>\n",
              "      <td>2012</td>\n",
              "      <td>premium_unleaded_(required)</td>\n",
              "      <td>230.0</td>\n",
              "      <td>6.0</td>\n",
              "      <td>manual</td>\n",
              "      <td>rear_wheel_drive</td>\n",
              "      <td>2.0</td>\n",
              "      <td>luxury,performance</td>\n",
              "      <td>compact</td>\n",
              "      <td>coupe</td>\n",
              "      <td>28</td>\n",
              "      <td>18</td>\n",
              "      <td>3916</td>\n",
              "      <td>31200</td>\n",
              "    </tr>\n",
              "  </tbody>\n",
              "</table>\n",
              "</div>\n",
              "    <div class=\"colab-df-buttons\">\n",
              "\n",
              "  <div class=\"colab-df-container\">\n",
              "    <button class=\"colab-df-convert\" onclick=\"convertToInteractive('df-08baaed2-3e34-49f4-bf16-995eb5bd0a0b')\"\n",
              "            title=\"Convert this dataframe to an interactive table.\"\n",
              "            style=\"display:none;\">\n",
              "\n",
              "  <svg xmlns=\"http://www.w3.org/2000/svg\" height=\"24px\" viewBox=\"0 -960 960 960\">\n",
              "    <path d=\"M120-120v-720h720v720H120Zm60-500h600v-160H180v160Zm220 220h160v-160H400v160Zm0 220h160v-160H400v160ZM180-400h160v-160H180v160Zm440 0h160v-160H620v160ZM180-180h160v-160H180v160Zm440 0h160v-160H620v160Z\"/>\n",
              "  </svg>\n",
              "    </button>\n",
              "\n",
              "  <style>\n",
              "    .colab-df-container {\n",
              "      display:flex;\n",
              "      gap: 12px;\n",
              "    }\n",
              "\n",
              "    .colab-df-convert {\n",
              "      background-color: #E8F0FE;\n",
              "      border: none;\n",
              "      border-radius: 50%;\n",
              "      cursor: pointer;\n",
              "      display: none;\n",
              "      fill: #1967D2;\n",
              "      height: 32px;\n",
              "      padding: 0 0 0 0;\n",
              "      width: 32px;\n",
              "    }\n",
              "\n",
              "    .colab-df-convert:hover {\n",
              "      background-color: #E2EBFA;\n",
              "      box-shadow: 0px 1px 2px rgba(60, 64, 67, 0.3), 0px 1px 3px 1px rgba(60, 64, 67, 0.15);\n",
              "      fill: #174EA6;\n",
              "    }\n",
              "\n",
              "    .colab-df-buttons div {\n",
              "      margin-bottom: 4px;\n",
              "    }\n",
              "\n",
              "    [theme=dark] .colab-df-convert {\n",
              "      background-color: #3B4455;\n",
              "      fill: #D2E3FC;\n",
              "    }\n",
              "\n",
              "    [theme=dark] .colab-df-convert:hover {\n",
              "      background-color: #434B5C;\n",
              "      box-shadow: 0px 1px 3px 1px rgba(0, 0, 0, 0.15);\n",
              "      filter: drop-shadow(0px 1px 2px rgba(0, 0, 0, 0.3));\n",
              "      fill: #FFFFFF;\n",
              "    }\n",
              "  </style>\n",
              "\n",
              "    <script>\n",
              "      const buttonEl =\n",
              "        document.querySelector('#df-08baaed2-3e34-49f4-bf16-995eb5bd0a0b button.colab-df-convert');\n",
              "      buttonEl.style.display =\n",
              "        google.colab.kernel.accessAllowed ? 'block' : 'none';\n",
              "\n",
              "      async function convertToInteractive(key) {\n",
              "        const element = document.querySelector('#df-08baaed2-3e34-49f4-bf16-995eb5bd0a0b');\n",
              "        const dataTable =\n",
              "          await google.colab.kernel.invokeFunction('convertToInteractive',\n",
              "                                                    [key], {});\n",
              "        if (!dataTable) return;\n",
              "\n",
              "        const docLinkHtml = 'Like what you see? Visit the ' +\n",
              "          '<a target=\"_blank\" href=https://colab.research.google.com/notebooks/data_table.ipynb>data table notebook</a>'\n",
              "          + ' to learn more about interactive tables.';\n",
              "        element.innerHTML = '';\n",
              "        dataTable['output_type'] = 'display_data';\n",
              "        await google.colab.output.renderOutput(dataTable, element);\n",
              "        const docLink = document.createElement('div');\n",
              "        docLink.innerHTML = docLinkHtml;\n",
              "        element.appendChild(docLink);\n",
              "      }\n",
              "    </script>\n",
              "  </div>\n",
              "\n",
              "\n",
              "    <div id=\"df-417500b1-a898-4dd7-ba7b-f33f0c1e62a7\">\n",
              "      <button class=\"colab-df-quickchart\" onclick=\"quickchart('df-417500b1-a898-4dd7-ba7b-f33f0c1e62a7')\"\n",
              "                title=\"Suggest charts\"\n",
              "                style=\"display:none;\">\n",
              "\n",
              "<svg xmlns=\"http://www.w3.org/2000/svg\" height=\"24px\"viewBox=\"0 0 24 24\"\n",
              "     width=\"24px\">\n",
              "    <g>\n",
              "        <path d=\"M19 3H5c-1.1 0-2 .9-2 2v14c0 1.1.9 2 2 2h14c1.1 0 2-.9 2-2V5c0-1.1-.9-2-2-2zM9 17H7v-7h2v7zm4 0h-2V7h2v10zm4 0h-2v-4h2v4z\"/>\n",
              "    </g>\n",
              "</svg>\n",
              "      </button>\n",
              "\n",
              "<style>\n",
              "  .colab-df-quickchart {\n",
              "      --bg-color: #E8F0FE;\n",
              "      --fill-color: #1967D2;\n",
              "      --hover-bg-color: #E2EBFA;\n",
              "      --hover-fill-color: #174EA6;\n",
              "      --disabled-fill-color: #AAA;\n",
              "      --disabled-bg-color: #DDD;\n",
              "  }\n",
              "\n",
              "  [theme=dark] .colab-df-quickchart {\n",
              "      --bg-color: #3B4455;\n",
              "      --fill-color: #D2E3FC;\n",
              "      --hover-bg-color: #434B5C;\n",
              "      --hover-fill-color: #FFFFFF;\n",
              "      --disabled-bg-color: #3B4455;\n",
              "      --disabled-fill-color: #666;\n",
              "  }\n",
              "\n",
              "  .colab-df-quickchart {\n",
              "    background-color: var(--bg-color);\n",
              "    border: none;\n",
              "    border-radius: 50%;\n",
              "    cursor: pointer;\n",
              "    display: none;\n",
              "    fill: var(--fill-color);\n",
              "    height: 32px;\n",
              "    padding: 0;\n",
              "    width: 32px;\n",
              "  }\n",
              "\n",
              "  .colab-df-quickchart:hover {\n",
              "    background-color: var(--hover-bg-color);\n",
              "    box-shadow: 0 1px 2px rgba(60, 64, 67, 0.3), 0 1px 3px 1px rgba(60, 64, 67, 0.15);\n",
              "    fill: var(--button-hover-fill-color);\n",
              "  }\n",
              "\n",
              "  .colab-df-quickchart-complete:disabled,\n",
              "  .colab-df-quickchart-complete:disabled:hover {\n",
              "    background-color: var(--disabled-bg-color);\n",
              "    fill: var(--disabled-fill-color);\n",
              "    box-shadow: none;\n",
              "  }\n",
              "\n",
              "  .colab-df-spinner {\n",
              "    border: 2px solid var(--fill-color);\n",
              "    border-color: transparent;\n",
              "    border-bottom-color: var(--fill-color);\n",
              "    animation:\n",
              "      spin 1s steps(1) infinite;\n",
              "  }\n",
              "\n",
              "  @keyframes spin {\n",
              "    0% {\n",
              "      border-color: transparent;\n",
              "      border-bottom-color: var(--fill-color);\n",
              "      border-left-color: var(--fill-color);\n",
              "    }\n",
              "    20% {\n",
              "      border-color: transparent;\n",
              "      border-left-color: var(--fill-color);\n",
              "      border-top-color: var(--fill-color);\n",
              "    }\n",
              "    30% {\n",
              "      border-color: transparent;\n",
              "      border-left-color: var(--fill-color);\n",
              "      border-top-color: var(--fill-color);\n",
              "      border-right-color: var(--fill-color);\n",
              "    }\n",
              "    40% {\n",
              "      border-color: transparent;\n",
              "      border-right-color: var(--fill-color);\n",
              "      border-top-color: var(--fill-color);\n",
              "    }\n",
              "    60% {\n",
              "      border-color: transparent;\n",
              "      border-right-color: var(--fill-color);\n",
              "    }\n",
              "    80% {\n",
              "      border-color: transparent;\n",
              "      border-right-color: var(--fill-color);\n",
              "      border-bottom-color: var(--fill-color);\n",
              "    }\n",
              "    90% {\n",
              "      border-color: transparent;\n",
              "      border-bottom-color: var(--fill-color);\n",
              "    }\n",
              "  }\n",
              "</style>\n",
              "\n",
              "      <script>\n",
              "        async function quickchart(key) {\n",
              "          const quickchartButtonEl =\n",
              "            document.querySelector('#' + key + ' button');\n",
              "          quickchartButtonEl.disabled = true;  // To prevent multiple clicks.\n",
              "          quickchartButtonEl.classList.add('colab-df-spinner');\n",
              "          try {\n",
              "            const charts = await google.colab.kernel.invokeFunction(\n",
              "                'suggestCharts', [key], {});\n",
              "          } catch (error) {\n",
              "            console.error('Error during call to suggestCharts:', error);\n",
              "          }\n",
              "          quickchartButtonEl.classList.remove('colab-df-spinner');\n",
              "          quickchartButtonEl.classList.add('colab-df-quickchart-complete');\n",
              "        }\n",
              "        (() => {\n",
              "          let quickchartButtonEl =\n",
              "            document.querySelector('#df-417500b1-a898-4dd7-ba7b-f33f0c1e62a7 button');\n",
              "          quickchartButtonEl.style.display =\n",
              "            google.colab.kernel.accessAllowed ? 'block' : 'none';\n",
              "        })();\n",
              "      </script>\n",
              "    </div>\n",
              "\n",
              "    </div>\n",
              "  </div>\n"
            ],
            "application/vnd.google.colaboratory.intrinsic+json": {
              "type": "dataframe",
              "summary": "{\n  \"name\": \"df\",\n  \"rows\": 4,\n  \"fields\": [\n    {\n      \"column\": \"make\",\n      \"properties\": {\n        \"dtype\": \"category\",\n        \"num_unique_values\": 1,\n        \"samples\": [\n          \"bmw\"\n        ],\n        \"semantic_type\": \"\",\n        \"description\": \"\"\n      }\n    },\n    {\n      \"column\": \"model\",\n      \"properties\": {\n        \"dtype\": \"string\",\n        \"num_unique_values\": 2,\n        \"samples\": [\n          \"1_series_m\"\n        ],\n        \"semantic_type\": \"\",\n        \"description\": \"\"\n      }\n    },\n    {\n      \"column\": \"year\",\n      \"properties\": {\n        \"dtype\": \"number\",\n        \"std\": 0,\n        \"min\": 2011,\n        \"max\": 2013,\n        \"num_unique_values\": 3,\n        \"samples\": [\n          2013\n        ],\n        \"semantic_type\": \"\",\n        \"description\": \"\"\n      }\n    },\n    {\n      \"column\": \"engine_fuel_type\",\n      \"properties\": {\n        \"dtype\": \"category\",\n        \"num_unique_values\": 1,\n        \"samples\": [\n          \"premium_unleaded_(required)\"\n        ],\n        \"semantic_type\": \"\",\n        \"description\": \"\"\n      }\n    },\n    {\n      \"column\": \"engine_hp\",\n      \"properties\": {\n        \"dtype\": \"number\",\n        \"std\": 52.5,\n        \"min\": 230.0,\n        \"max\": 335.0,\n        \"num_unique_values\": 3,\n        \"samples\": [\n          300.0\n        ],\n        \"semantic_type\": \"\",\n        \"description\": \"\"\n      }\n    },\n    {\n      \"column\": \"engine_cylinders\",\n      \"properties\": {\n        \"dtype\": \"number\",\n        \"std\": 0.0,\n        \"min\": 6.0,\n        \"max\": 6.0,\n        \"num_unique_values\": 1,\n        \"samples\": [\n          6.0\n        ],\n        \"semantic_type\": \"\",\n        \"description\": \"\"\n      }\n    },\n    {\n      \"column\": \"transmission_type\",\n      \"properties\": {\n        \"dtype\": \"category\",\n        \"num_unique_values\": 1,\n        \"samples\": [\n          \"manual\"\n        ],\n        \"semantic_type\": \"\",\n        \"description\": \"\"\n      }\n    },\n    {\n      \"column\": \"driven_wheels\",\n      \"properties\": {\n        \"dtype\": \"category\",\n        \"num_unique_values\": 1,\n        \"samples\": [\n          \"rear_wheel_drive\"\n        ],\n        \"semantic_type\": \"\",\n        \"description\": \"\"\n      }\n    },\n    {\n      \"column\": \"number_of_doors\",\n      \"properties\": {\n        \"dtype\": \"number\",\n        \"std\": 0.0,\n        \"min\": 2.0,\n        \"max\": 2.0,\n        \"num_unique_values\": 1,\n        \"samples\": [\n          2.0\n        ],\n        \"semantic_type\": \"\",\n        \"description\": \"\"\n      }\n    },\n    {\n      \"column\": \"market_category\",\n      \"properties\": {\n        \"dtype\": \"string\",\n        \"num_unique_values\": 3,\n        \"samples\": [\n          \"luxury,high-performance\"\n        ],\n        \"semantic_type\": \"\",\n        \"description\": \"\"\n      }\n    },\n    {\n      \"column\": \"vehicle_size\",\n      \"properties\": {\n        \"dtype\": \"category\",\n        \"num_unique_values\": 1,\n        \"samples\": [\n          \"compact\"\n        ],\n        \"semantic_type\": \"\",\n        \"description\": \"\"\n      }\n    },\n    {\n      \"column\": \"vehicle_style\",\n      \"properties\": {\n        \"dtype\": \"category\",\n        \"num_unique_values\": 1,\n        \"samples\": [\n          \"coupe\"\n        ],\n        \"semantic_type\": \"\",\n        \"description\": \"\"\n      }\n    },\n    {\n      \"column\": \"highway_mpg\",\n      \"properties\": {\n        \"dtype\": \"number\",\n        \"std\": 1,\n        \"min\": 26,\n        \"max\": 28,\n        \"num_unique_values\": 2,\n        \"samples\": [\n          26\n        ],\n        \"semantic_type\": \"\",\n        \"description\": \"\"\n      }\n    },\n    {\n      \"column\": \"city_mpg\",\n      \"properties\": {\n        \"dtype\": \"number\",\n        \"std\": 0,\n        \"min\": 18,\n        \"max\": 20,\n        \"num_unique_values\": 3,\n        \"samples\": [\n          20\n        ],\n        \"semantic_type\": \"\",\n        \"description\": \"\"\n      }\n    },\n    {\n      \"column\": \"popularity\",\n      \"properties\": {\n        \"dtype\": \"number\",\n        \"std\": 0,\n        \"min\": 3916,\n        \"max\": 3916,\n        \"num_unique_values\": 1,\n        \"samples\": [\n          3916\n        ],\n        \"semantic_type\": \"\",\n        \"description\": \"\"\n      }\n    },\n    {\n      \"column\": \"msrp\",\n      \"properties\": {\n        \"dtype\": \"number\",\n        \"std\": 7750,\n        \"min\": 29450,\n        \"max\": 46135,\n        \"num_unique_values\": 4,\n        \"samples\": [\n          46135\n        ],\n        \"semantic_type\": \"\",\n        \"description\": \"\"\n      }\n    }\n  ]\n}"
            }
          },
          "metadata": {},
          "execution_count": 26
        }
      ],
      "source": [
        "df.iloc[[10, 0, 3, 5]]"
      ],
      "id": "0DE3ojZ44j1O"
    },
    {
      "cell_type": "code",
      "execution_count": 27,
      "metadata": {
        "id": "bh6dbCWo4j1O"
      },
      "outputs": [],
      "source": [
        "df_train = df.iloc[:n_train]\n",
        "df_val = df.iloc[n_train:n_train+n_val]\n",
        "df_test = df.iloc[n_train+n_val:]"
      ],
      "id": "bh6dbCWo4j1O"
    },
    {
      "cell_type": "code",
      "execution_count": 28,
      "metadata": {
        "id": "xwkqkOQi4j1P"
      },
      "outputs": [],
      "source": [
        "idx = np.arange(n)"
      ],
      "id": "xwkqkOQi4j1P"
    },
    {
      "cell_type": "code",
      "execution_count": 29,
      "metadata": {
        "id": "g_fLhJHj4j1P"
      },
      "outputs": [],
      "source": [
        "np.random.seed(2)\n",
        "np.random.shuffle(idx)"
      ],
      "id": "g_fLhJHj4j1P"
    },
    {
      "cell_type": "code",
      "execution_count": 30,
      "metadata": {
        "id": "u012xUPw4j1Q"
      },
      "outputs": [],
      "source": [
        "df_train = df.iloc[idx[:n_train]]\n",
        "df_val = df.iloc[idx[n_train:n_train+n_val]]\n",
        "df_test = df.iloc[idx[n_train+n_val:]]"
      ],
      "id": "u012xUPw4j1Q"
    },
    {
      "cell_type": "code",
      "execution_count": 31,
      "metadata": {
        "id": "sMVd8vrr4j1Q",
        "outputId": "51ea3e6e-6eaf-4f20-9101-f0c2ba6581be",
        "colab": {
          "base_uri": "https://localhost:8080/",
          "height": 243
        }
      },
      "outputs": [
        {
          "output_type": "execute_result",
          "data": {
            "text/plain": [
              "             make    model  year          engine_fuel_type  engine_hp  \\\n",
              "2735    chevrolet   cobalt  2008          regular_unleaded      148.0   \n",
              "6720       toyota   matrix  2012          regular_unleaded      132.0   \n",
              "5878       subaru  impreza  2016          regular_unleaded      148.0   \n",
              "11190  volkswagen  vanagon  1991          regular_unleaded       90.0   \n",
              "4554         ford    f-150  2017  flex-fuel_(unleaded/e85)      385.0   \n",
              "\n",
              "       engine_cylinders transmission_type      driven_wheels  number_of_doors  \\\n",
              "2735                4.0            manual  front_wheel_drive              2.0   \n",
              "6720                4.0         automatic  front_wheel_drive              4.0   \n",
              "5878                4.0         automatic    all_wheel_drive              4.0   \n",
              "11190               4.0            manual   rear_wheel_drive              3.0   \n",
              "4554                8.0         automatic   four_wheel_drive              4.0   \n",
              "\n",
              "      market_category vehicle_size      vehicle_style  highway_mpg  city_mpg  \\\n",
              "2735              NaN      compact              coupe           33        24   \n",
              "6720        hatchback      compact      4dr_hatchback           32        25   \n",
              "5878        hatchback      compact      4dr_hatchback           37        28   \n",
              "11190             NaN        large  passenger_minivan           18        16   \n",
              "4554        flex_fuel        large    crew_cab_pickup           21        15   \n",
              "\n",
              "       popularity   msrp  \n",
              "2735         1385  14410  \n",
              "6720         2031  19685  \n",
              "5878          640  19795  \n",
              "11190         873   2000  \n",
              "4554         5657  56260  "
            ],
            "text/html": [
              "\n",
              "  <div id=\"df-f15204cc-e42f-4bea-b226-a3a69e6f7aea\" class=\"colab-df-container\">\n",
              "    <div>\n",
              "<style scoped>\n",
              "    .dataframe tbody tr th:only-of-type {\n",
              "        vertical-align: middle;\n",
              "    }\n",
              "\n",
              "    .dataframe tbody tr th {\n",
              "        vertical-align: top;\n",
              "    }\n",
              "\n",
              "    .dataframe thead th {\n",
              "        text-align: right;\n",
              "    }\n",
              "</style>\n",
              "<table border=\"1\" class=\"dataframe\">\n",
              "  <thead>\n",
              "    <tr style=\"text-align: right;\">\n",
              "      <th></th>\n",
              "      <th>make</th>\n",
              "      <th>model</th>\n",
              "      <th>year</th>\n",
              "      <th>engine_fuel_type</th>\n",
              "      <th>engine_hp</th>\n",
              "      <th>engine_cylinders</th>\n",
              "      <th>transmission_type</th>\n",
              "      <th>driven_wheels</th>\n",
              "      <th>number_of_doors</th>\n",
              "      <th>market_category</th>\n",
              "      <th>vehicle_size</th>\n",
              "      <th>vehicle_style</th>\n",
              "      <th>highway_mpg</th>\n",
              "      <th>city_mpg</th>\n",
              "      <th>popularity</th>\n",
              "      <th>msrp</th>\n",
              "    </tr>\n",
              "  </thead>\n",
              "  <tbody>\n",
              "    <tr>\n",
              "      <th>2735</th>\n",
              "      <td>chevrolet</td>\n",
              "      <td>cobalt</td>\n",
              "      <td>2008</td>\n",
              "      <td>regular_unleaded</td>\n",
              "      <td>148.0</td>\n",
              "      <td>4.0</td>\n",
              "      <td>manual</td>\n",
              "      <td>front_wheel_drive</td>\n",
              "      <td>2.0</td>\n",
              "      <td>NaN</td>\n",
              "      <td>compact</td>\n",
              "      <td>coupe</td>\n",
              "      <td>33</td>\n",
              "      <td>24</td>\n",
              "      <td>1385</td>\n",
              "      <td>14410</td>\n",
              "    </tr>\n",
              "    <tr>\n",
              "      <th>6720</th>\n",
              "      <td>toyota</td>\n",
              "      <td>matrix</td>\n",
              "      <td>2012</td>\n",
              "      <td>regular_unleaded</td>\n",
              "      <td>132.0</td>\n",
              "      <td>4.0</td>\n",
              "      <td>automatic</td>\n",
              "      <td>front_wheel_drive</td>\n",
              "      <td>4.0</td>\n",
              "      <td>hatchback</td>\n",
              "      <td>compact</td>\n",
              "      <td>4dr_hatchback</td>\n",
              "      <td>32</td>\n",
              "      <td>25</td>\n",
              "      <td>2031</td>\n",
              "      <td>19685</td>\n",
              "    </tr>\n",
              "    <tr>\n",
              "      <th>5878</th>\n",
              "      <td>subaru</td>\n",
              "      <td>impreza</td>\n",
              "      <td>2016</td>\n",
              "      <td>regular_unleaded</td>\n",
              "      <td>148.0</td>\n",
              "      <td>4.0</td>\n",
              "      <td>automatic</td>\n",
              "      <td>all_wheel_drive</td>\n",
              "      <td>4.0</td>\n",
              "      <td>hatchback</td>\n",
              "      <td>compact</td>\n",
              "      <td>4dr_hatchback</td>\n",
              "      <td>37</td>\n",
              "      <td>28</td>\n",
              "      <td>640</td>\n",
              "      <td>19795</td>\n",
              "    </tr>\n",
              "    <tr>\n",
              "      <th>11190</th>\n",
              "      <td>volkswagen</td>\n",
              "      <td>vanagon</td>\n",
              "      <td>1991</td>\n",
              "      <td>regular_unleaded</td>\n",
              "      <td>90.0</td>\n",
              "      <td>4.0</td>\n",
              "      <td>manual</td>\n",
              "      <td>rear_wheel_drive</td>\n",
              "      <td>3.0</td>\n",
              "      <td>NaN</td>\n",
              "      <td>large</td>\n",
              "      <td>passenger_minivan</td>\n",
              "      <td>18</td>\n",
              "      <td>16</td>\n",
              "      <td>873</td>\n",
              "      <td>2000</td>\n",
              "    </tr>\n",
              "    <tr>\n",
              "      <th>4554</th>\n",
              "      <td>ford</td>\n",
              "      <td>f-150</td>\n",
              "      <td>2017</td>\n",
              "      <td>flex-fuel_(unleaded/e85)</td>\n",
              "      <td>385.0</td>\n",
              "      <td>8.0</td>\n",
              "      <td>automatic</td>\n",
              "      <td>four_wheel_drive</td>\n",
              "      <td>4.0</td>\n",
              "      <td>flex_fuel</td>\n",
              "      <td>large</td>\n",
              "      <td>crew_cab_pickup</td>\n",
              "      <td>21</td>\n",
              "      <td>15</td>\n",
              "      <td>5657</td>\n",
              "      <td>56260</td>\n",
              "    </tr>\n",
              "  </tbody>\n",
              "</table>\n",
              "</div>\n",
              "    <div class=\"colab-df-buttons\">\n",
              "\n",
              "  <div class=\"colab-df-container\">\n",
              "    <button class=\"colab-df-convert\" onclick=\"convertToInteractive('df-f15204cc-e42f-4bea-b226-a3a69e6f7aea')\"\n",
              "            title=\"Convert this dataframe to an interactive table.\"\n",
              "            style=\"display:none;\">\n",
              "\n",
              "  <svg xmlns=\"http://www.w3.org/2000/svg\" height=\"24px\" viewBox=\"0 -960 960 960\">\n",
              "    <path d=\"M120-120v-720h720v720H120Zm60-500h600v-160H180v160Zm220 220h160v-160H400v160Zm0 220h160v-160H400v160ZM180-400h160v-160H180v160Zm440 0h160v-160H620v160ZM180-180h160v-160H180v160Zm440 0h160v-160H620v160Z\"/>\n",
              "  </svg>\n",
              "    </button>\n",
              "\n",
              "  <style>\n",
              "    .colab-df-container {\n",
              "      display:flex;\n",
              "      gap: 12px;\n",
              "    }\n",
              "\n",
              "    .colab-df-convert {\n",
              "      background-color: #E8F0FE;\n",
              "      border: none;\n",
              "      border-radius: 50%;\n",
              "      cursor: pointer;\n",
              "      display: none;\n",
              "      fill: #1967D2;\n",
              "      height: 32px;\n",
              "      padding: 0 0 0 0;\n",
              "      width: 32px;\n",
              "    }\n",
              "\n",
              "    .colab-df-convert:hover {\n",
              "      background-color: #E2EBFA;\n",
              "      box-shadow: 0px 1px 2px rgba(60, 64, 67, 0.3), 0px 1px 3px 1px rgba(60, 64, 67, 0.15);\n",
              "      fill: #174EA6;\n",
              "    }\n",
              "\n",
              "    .colab-df-buttons div {\n",
              "      margin-bottom: 4px;\n",
              "    }\n",
              "\n",
              "    [theme=dark] .colab-df-convert {\n",
              "      background-color: #3B4455;\n",
              "      fill: #D2E3FC;\n",
              "    }\n",
              "\n",
              "    [theme=dark] .colab-df-convert:hover {\n",
              "      background-color: #434B5C;\n",
              "      box-shadow: 0px 1px 3px 1px rgba(0, 0, 0, 0.15);\n",
              "      filter: drop-shadow(0px 1px 2px rgba(0, 0, 0, 0.3));\n",
              "      fill: #FFFFFF;\n",
              "    }\n",
              "  </style>\n",
              "\n",
              "    <script>\n",
              "      const buttonEl =\n",
              "        document.querySelector('#df-f15204cc-e42f-4bea-b226-a3a69e6f7aea button.colab-df-convert');\n",
              "      buttonEl.style.display =\n",
              "        google.colab.kernel.accessAllowed ? 'block' : 'none';\n",
              "\n",
              "      async function convertToInteractive(key) {\n",
              "        const element = document.querySelector('#df-f15204cc-e42f-4bea-b226-a3a69e6f7aea');\n",
              "        const dataTable =\n",
              "          await google.colab.kernel.invokeFunction('convertToInteractive',\n",
              "                                                    [key], {});\n",
              "        if (!dataTable) return;\n",
              "\n",
              "        const docLinkHtml = 'Like what you see? Visit the ' +\n",
              "          '<a target=\"_blank\" href=https://colab.research.google.com/notebooks/data_table.ipynb>data table notebook</a>'\n",
              "          + ' to learn more about interactive tables.';\n",
              "        element.innerHTML = '';\n",
              "        dataTable['output_type'] = 'display_data';\n",
              "        await google.colab.output.renderOutput(dataTable, element);\n",
              "        const docLink = document.createElement('div');\n",
              "        docLink.innerHTML = docLinkHtml;\n",
              "        element.appendChild(docLink);\n",
              "      }\n",
              "    </script>\n",
              "  </div>\n",
              "\n",
              "\n",
              "    <div id=\"df-abec7f75-a0ba-4e54-986f-e980e6027aec\">\n",
              "      <button class=\"colab-df-quickchart\" onclick=\"quickchart('df-abec7f75-a0ba-4e54-986f-e980e6027aec')\"\n",
              "                title=\"Suggest charts\"\n",
              "                style=\"display:none;\">\n",
              "\n",
              "<svg xmlns=\"http://www.w3.org/2000/svg\" height=\"24px\"viewBox=\"0 0 24 24\"\n",
              "     width=\"24px\">\n",
              "    <g>\n",
              "        <path d=\"M19 3H5c-1.1 0-2 .9-2 2v14c0 1.1.9 2 2 2h14c1.1 0 2-.9 2-2V5c0-1.1-.9-2-2-2zM9 17H7v-7h2v7zm4 0h-2V7h2v10zm4 0h-2v-4h2v4z\"/>\n",
              "    </g>\n",
              "</svg>\n",
              "      </button>\n",
              "\n",
              "<style>\n",
              "  .colab-df-quickchart {\n",
              "      --bg-color: #E8F0FE;\n",
              "      --fill-color: #1967D2;\n",
              "      --hover-bg-color: #E2EBFA;\n",
              "      --hover-fill-color: #174EA6;\n",
              "      --disabled-fill-color: #AAA;\n",
              "      --disabled-bg-color: #DDD;\n",
              "  }\n",
              "\n",
              "  [theme=dark] .colab-df-quickchart {\n",
              "      --bg-color: #3B4455;\n",
              "      --fill-color: #D2E3FC;\n",
              "      --hover-bg-color: #434B5C;\n",
              "      --hover-fill-color: #FFFFFF;\n",
              "      --disabled-bg-color: #3B4455;\n",
              "      --disabled-fill-color: #666;\n",
              "  }\n",
              "\n",
              "  .colab-df-quickchart {\n",
              "    background-color: var(--bg-color);\n",
              "    border: none;\n",
              "    border-radius: 50%;\n",
              "    cursor: pointer;\n",
              "    display: none;\n",
              "    fill: var(--fill-color);\n",
              "    height: 32px;\n",
              "    padding: 0;\n",
              "    width: 32px;\n",
              "  }\n",
              "\n",
              "  .colab-df-quickchart:hover {\n",
              "    background-color: var(--hover-bg-color);\n",
              "    box-shadow: 0 1px 2px rgba(60, 64, 67, 0.3), 0 1px 3px 1px rgba(60, 64, 67, 0.15);\n",
              "    fill: var(--button-hover-fill-color);\n",
              "  }\n",
              "\n",
              "  .colab-df-quickchart-complete:disabled,\n",
              "  .colab-df-quickchart-complete:disabled:hover {\n",
              "    background-color: var(--disabled-bg-color);\n",
              "    fill: var(--disabled-fill-color);\n",
              "    box-shadow: none;\n",
              "  }\n",
              "\n",
              "  .colab-df-spinner {\n",
              "    border: 2px solid var(--fill-color);\n",
              "    border-color: transparent;\n",
              "    border-bottom-color: var(--fill-color);\n",
              "    animation:\n",
              "      spin 1s steps(1) infinite;\n",
              "  }\n",
              "\n",
              "  @keyframes spin {\n",
              "    0% {\n",
              "      border-color: transparent;\n",
              "      border-bottom-color: var(--fill-color);\n",
              "      border-left-color: var(--fill-color);\n",
              "    }\n",
              "    20% {\n",
              "      border-color: transparent;\n",
              "      border-left-color: var(--fill-color);\n",
              "      border-top-color: var(--fill-color);\n",
              "    }\n",
              "    30% {\n",
              "      border-color: transparent;\n",
              "      border-left-color: var(--fill-color);\n",
              "      border-top-color: var(--fill-color);\n",
              "      border-right-color: var(--fill-color);\n",
              "    }\n",
              "    40% {\n",
              "      border-color: transparent;\n",
              "      border-right-color: var(--fill-color);\n",
              "      border-top-color: var(--fill-color);\n",
              "    }\n",
              "    60% {\n",
              "      border-color: transparent;\n",
              "      border-right-color: var(--fill-color);\n",
              "    }\n",
              "    80% {\n",
              "      border-color: transparent;\n",
              "      border-right-color: var(--fill-color);\n",
              "      border-bottom-color: var(--fill-color);\n",
              "    }\n",
              "    90% {\n",
              "      border-color: transparent;\n",
              "      border-bottom-color: var(--fill-color);\n",
              "    }\n",
              "  }\n",
              "</style>\n",
              "\n",
              "      <script>\n",
              "        async function quickchart(key) {\n",
              "          const quickchartButtonEl =\n",
              "            document.querySelector('#' + key + ' button');\n",
              "          quickchartButtonEl.disabled = true;  // To prevent multiple clicks.\n",
              "          quickchartButtonEl.classList.add('colab-df-spinner');\n",
              "          try {\n",
              "            const charts = await google.colab.kernel.invokeFunction(\n",
              "                'suggestCharts', [key], {});\n",
              "          } catch (error) {\n",
              "            console.error('Error during call to suggestCharts:', error);\n",
              "          }\n",
              "          quickchartButtonEl.classList.remove('colab-df-spinner');\n",
              "          quickchartButtonEl.classList.add('colab-df-quickchart-complete');\n",
              "        }\n",
              "        (() => {\n",
              "          let quickchartButtonEl =\n",
              "            document.querySelector('#df-abec7f75-a0ba-4e54-986f-e980e6027aec button');\n",
              "          quickchartButtonEl.style.display =\n",
              "            google.colab.kernel.accessAllowed ? 'block' : 'none';\n",
              "        })();\n",
              "      </script>\n",
              "    </div>\n",
              "\n",
              "    </div>\n",
              "  </div>\n"
            ],
            "application/vnd.google.colaboratory.intrinsic+json": {
              "type": "dataframe",
              "variable_name": "df_train",
              "summary": "{\n  \"name\": \"df_train\",\n  \"rows\": 7150,\n  \"fields\": [\n    {\n      \"column\": \"make\",\n      \"properties\": {\n        \"dtype\": \"category\",\n        \"num_unique_values\": 48,\n        \"samples\": [\n          \"buick\",\n          \"aston_martin\",\n          \"chrysler\"\n        ],\n        \"semantic_type\": \"\",\n        \"description\": \"\"\n      }\n    },\n    {\n      \"column\": \"model\",\n      \"properties\": {\n        \"dtype\": \"category\",\n        \"num_unique_values\": 881,\n        \"samples\": [\n          \"rav4\",\n          \"cabrio\",\n          \"v70\"\n        ],\n        \"semantic_type\": \"\",\n        \"description\": \"\"\n      }\n    },\n    {\n      \"column\": \"year\",\n      \"properties\": {\n        \"dtype\": \"number\",\n        \"std\": 7,\n        \"min\": 1990,\n        \"max\": 2017,\n        \"num_unique_values\": 28,\n        \"samples\": [\n          2014,\n          1999,\n          2011\n        ],\n        \"semantic_type\": \"\",\n        \"description\": \"\"\n      }\n    },\n    {\n      \"column\": \"engine_fuel_type\",\n      \"properties\": {\n        \"dtype\": \"category\",\n        \"num_unique_values\": 9,\n        \"samples\": [\n          \"flex-fuel_(unleaded/natural_gas)\",\n          \"flex-fuel_(unleaded/e85)\",\n          \"flex-fuel_(premium_unleaded_required/e85)\"\n        ],\n        \"semantic_type\": \"\",\n        \"description\": \"\"\n      }\n    },\n    {\n      \"column\": \"engine_hp\",\n      \"properties\": {\n        \"dtype\": \"number\",\n        \"std\": 109.47357057608241,\n        \"min\": 55.0,\n        \"max\": 1001.0,\n        \"num_unique_values\": 344,\n        \"samples\": [\n          375.0,\n          166.0,\n          291.0\n        ],\n        \"semantic_type\": \"\",\n        \"description\": \"\"\n      }\n    },\n    {\n      \"column\": \"engine_cylinders\",\n      \"properties\": {\n        \"dtype\": \"number\",\n        \"std\": 1.7771586371664214,\n        \"min\": 0.0,\n        \"max\": 16.0,\n        \"num_unique_values\": 9,\n        \"samples\": [\n          0.0,\n          8.0,\n          3.0\n        ],\n        \"semantic_type\": \"\",\n        \"description\": \"\"\n      }\n    },\n    {\n      \"column\": \"transmission_type\",\n      \"properties\": {\n        \"dtype\": \"category\",\n        \"num_unique_values\": 5,\n        \"samples\": [\n          \"automatic\",\n          \"direct_drive\",\n          \"automated_manual\"\n        ],\n        \"semantic_type\": \"\",\n        \"description\": \"\"\n      }\n    },\n    {\n      \"column\": \"driven_wheels\",\n      \"properties\": {\n        \"dtype\": \"category\",\n        \"num_unique_values\": 4,\n        \"samples\": [\n          \"all_wheel_drive\",\n          \"four_wheel_drive\",\n          \"front_wheel_drive\"\n        ],\n        \"semantic_type\": \"\",\n        \"description\": \"\"\n      }\n    },\n    {\n      \"column\": \"number_of_doors\",\n      \"properties\": {\n        \"dtype\": \"number\",\n        \"std\": 0.8842157471739052,\n        \"min\": 2.0,\n        \"max\": 4.0,\n        \"num_unique_values\": 3,\n        \"samples\": [\n          2.0,\n          4.0,\n          3.0\n        ],\n        \"semantic_type\": \"\",\n        \"description\": \"\"\n      }\n    },\n    {\n      \"column\": \"market_category\",\n      \"properties\": {\n        \"dtype\": \"category\",\n        \"num_unique_values\": 69,\n        \"samples\": [\n          \"luxury\",\n          \"hatchback\",\n          \"hatchback,factory_tuner,high-performance\"\n        ],\n        \"semantic_type\": \"\",\n        \"description\": \"\"\n      }\n    },\n    {\n      \"column\": \"vehicle_size\",\n      \"properties\": {\n        \"dtype\": \"category\",\n        \"num_unique_values\": 3,\n        \"samples\": [\n          \"compact\",\n          \"large\",\n          \"midsize\"\n        ],\n        \"semantic_type\": \"\",\n        \"description\": \"\"\n      }\n    },\n    {\n      \"column\": \"vehicle_style\",\n      \"properties\": {\n        \"dtype\": \"category\",\n        \"num_unique_values\": 16,\n        \"samples\": [\n          \"coupe\",\n          \"4dr_hatchback\",\n          \"sedan\"\n        ],\n        \"semantic_type\": \"\",\n        \"description\": \"\"\n      }\n    },\n    {\n      \"column\": \"highway_mpg\",\n      \"properties\": {\n        \"dtype\": \"number\",\n        \"std\": 9,\n        \"min\": 12,\n        \"max\": 354,\n        \"num_unique_values\": 56,\n        \"samples\": [\n          33,\n          29,\n          12\n        ],\n        \"semantic_type\": \"\",\n        \"description\": \"\"\n      }\n    },\n    {\n      \"column\": \"city_mpg\",\n      \"properties\": {\n        \"dtype\": \"number\",\n        \"std\": 9,\n        \"min\": 7,\n        \"max\": 137,\n        \"num_unique_values\": 66,\n        \"samples\": [\n          89,\n          58,\n          24\n        ],\n        \"semantic_type\": \"\",\n        \"description\": \"\"\n      }\n    },\n    {\n      \"column\": \"popularity\",\n      \"properties\": {\n        \"dtype\": \"number\",\n        \"std\": 1435,\n        \"min\": 2,\n        \"max\": 5657,\n        \"num_unique_values\": 48,\n        \"samples\": [\n          155,\n          259,\n          1013\n        ],\n        \"semantic_type\": \"\",\n        \"description\": \"\"\n      }\n    },\n    {\n      \"column\": \"msrp\",\n      \"properties\": {\n        \"dtype\": \"number\",\n        \"std\": 63585,\n        \"min\": 2000,\n        \"max\": 2065902,\n        \"num_unique_values\": 4358,\n        \"samples\": [\n          141200,\n          43490,\n          101600\n        ],\n        \"semantic_type\": \"\",\n        \"description\": \"\"\n      }\n    }\n  ]\n}"
            }
          },
          "metadata": {},
          "execution_count": 31
        }
      ],
      "source": [
        "df_train.head()"
      ],
      "id": "sMVd8vrr4j1Q"
    },
    {
      "cell_type": "code",
      "execution_count": 32,
      "metadata": {
        "id": "IoQZlvc-4j1R",
        "outputId": "c019156f-6a04-4e2d-d7b8-dcb42735a514",
        "colab": {
          "base_uri": "https://localhost:8080/"
        }
      },
      "outputs": [
        {
          "output_type": "execute_result",
          "data": {
            "text/plain": [
              "(7150, 2382, 2382)"
            ]
          },
          "metadata": {},
          "execution_count": 32
        }
      ],
      "source": [
        "len(df_train), len(df_val), len(df_test)"
      ],
      "id": "IoQZlvc-4j1R"
    },
    {
      "cell_type": "code",
      "execution_count": 33,
      "metadata": {
        "id": "yZQsdwWl4j1R"
      },
      "outputs": [],
      "source": [
        "df_train = df_train.reset_index(drop=True)\n",
        "df_val = df_val.reset_index(drop=True)\n",
        "df_test = df_test.reset_index(drop=True)"
      ],
      "id": "yZQsdwWl4j1R"
    },
    {
      "cell_type": "code",
      "execution_count": 34,
      "metadata": {
        "id": "jmAqJeRz4j1R"
      },
      "outputs": [],
      "source": [
        "y_train = np.log1p(df_train.msrp.values)\n",
        "y_val = np.log1p(df_val.msrp.values)\n",
        "y_test = np.log1p(df_test.msrp.values)"
      ],
      "id": "jmAqJeRz4j1R"
    },
    {
      "cell_type": "code",
      "execution_count": 35,
      "metadata": {
        "id": "sDeHxju84j1Z"
      },
      "outputs": [],
      "source": [
        "del df_train['msrp']\n",
        "del df_val['msrp']\n",
        "del df_test['msrp']"
      ],
      "id": "sDeHxju84j1Z"
    },
    {
      "cell_type": "code",
      "execution_count": 36,
      "metadata": {
        "id": "0lP2s4Kg4j1i",
        "outputId": "c9f66464-7fd8-43dc-cb95-537590d0c1c7",
        "colab": {
          "base_uri": "https://localhost:8080/"
        }
      },
      "outputs": [
        {
          "output_type": "execute_result",
          "data": {
            "text/plain": [
              "7150"
            ]
          },
          "metadata": {},
          "execution_count": 36
        }
      ],
      "source": [
        "len(y_train)"
      ],
      "id": "0lP2s4Kg4j1i"
    },
    {
      "cell_type": "markdown",
      "metadata": {
        "id": "yeH3dAN04j1j"
      },
      "source": [
        "## 2.5 Linear regression"
      ],
      "id": "yeH3dAN04j1j"
    },
    {
      "cell_type": "markdown",
      "metadata": {
        "id": "Ig_8vD8H4j1j"
      },
      "source": [
        "draw"
      ],
      "id": "Ig_8vD8H4j1j"
    },
    {
      "cell_type": "code",
      "execution_count": 37,
      "metadata": {
        "id": "sNraCLtD4j1k",
        "outputId": "b75a6c2c-4937-4af9-c6ad-79c654cfab37",
        "colab": {
          "base_uri": "https://localhost:8080/",
          "height": 554
        }
      },
      "outputs": [
        {
          "output_type": "execute_result",
          "data": {
            "text/plain": [
              "make                                 rolls-royce\n",
              "model                     phantom_drophead_coupe\n",
              "year                                        2015\n",
              "engine_fuel_type     premium_unleaded_(required)\n",
              "engine_hp                                  453.0\n",
              "engine_cylinders                            12.0\n",
              "transmission_type                      automatic\n",
              "driven_wheels                   rear_wheel_drive\n",
              "number_of_doors                              2.0\n",
              "market_category        exotic,luxury,performance\n",
              "vehicle_size                               large\n",
              "vehicle_style                        convertible\n",
              "highway_mpg                                   19\n",
              "city_mpg                                      11\n",
              "popularity                                    86\n",
              "Name: 10, dtype: object"
            ],
            "text/html": [
              "<div>\n",
              "<style scoped>\n",
              "    .dataframe tbody tr th:only-of-type {\n",
              "        vertical-align: middle;\n",
              "    }\n",
              "\n",
              "    .dataframe tbody tr th {\n",
              "        vertical-align: top;\n",
              "    }\n",
              "\n",
              "    .dataframe thead th {\n",
              "        text-align: right;\n",
              "    }\n",
              "</style>\n",
              "<table border=\"1\" class=\"dataframe\">\n",
              "  <thead>\n",
              "    <tr style=\"text-align: right;\">\n",
              "      <th></th>\n",
              "      <th>10</th>\n",
              "    </tr>\n",
              "  </thead>\n",
              "  <tbody>\n",
              "    <tr>\n",
              "      <th>make</th>\n",
              "      <td>rolls-royce</td>\n",
              "    </tr>\n",
              "    <tr>\n",
              "      <th>model</th>\n",
              "      <td>phantom_drophead_coupe</td>\n",
              "    </tr>\n",
              "    <tr>\n",
              "      <th>year</th>\n",
              "      <td>2015</td>\n",
              "    </tr>\n",
              "    <tr>\n",
              "      <th>engine_fuel_type</th>\n",
              "      <td>premium_unleaded_(required)</td>\n",
              "    </tr>\n",
              "    <tr>\n",
              "      <th>engine_hp</th>\n",
              "      <td>453.0</td>\n",
              "    </tr>\n",
              "    <tr>\n",
              "      <th>engine_cylinders</th>\n",
              "      <td>12.0</td>\n",
              "    </tr>\n",
              "    <tr>\n",
              "      <th>transmission_type</th>\n",
              "      <td>automatic</td>\n",
              "    </tr>\n",
              "    <tr>\n",
              "      <th>driven_wheels</th>\n",
              "      <td>rear_wheel_drive</td>\n",
              "    </tr>\n",
              "    <tr>\n",
              "      <th>number_of_doors</th>\n",
              "      <td>2.0</td>\n",
              "    </tr>\n",
              "    <tr>\n",
              "      <th>market_category</th>\n",
              "      <td>exotic,luxury,performance</td>\n",
              "    </tr>\n",
              "    <tr>\n",
              "      <th>vehicle_size</th>\n",
              "      <td>large</td>\n",
              "    </tr>\n",
              "    <tr>\n",
              "      <th>vehicle_style</th>\n",
              "      <td>convertible</td>\n",
              "    </tr>\n",
              "    <tr>\n",
              "      <th>highway_mpg</th>\n",
              "      <td>19</td>\n",
              "    </tr>\n",
              "    <tr>\n",
              "      <th>city_mpg</th>\n",
              "      <td>11</td>\n",
              "    </tr>\n",
              "    <tr>\n",
              "      <th>popularity</th>\n",
              "      <td>86</td>\n",
              "    </tr>\n",
              "  </tbody>\n",
              "</table>\n",
              "</div><br><label><b>dtype:</b> object</label>"
            ]
          },
          "metadata": {},
          "execution_count": 37
        }
      ],
      "source": [
        "df_train.iloc[10]"
      ],
      "id": "sNraCLtD4j1k"
    },
    {
      "cell_type": "code",
      "execution_count": 37,
      "metadata": {
        "id": "C_fQDQMe4j1l"
      },
      "outputs": [],
      "source": [],
      "id": "C_fQDQMe4j1l"
    },
    {
      "cell_type": "code",
      "execution_count": 38,
      "metadata": {
        "id": "N3MZpV7n4j1l"
      },
      "outputs": [],
      "source": [
        "xi = [453, 11, 86]\n",
        "w0 = 7.17\n",
        "w = [0.01, 0.04, 0.002]"
      ],
      "id": "N3MZpV7n4j1l"
    },
    {
      "cell_type": "code",
      "execution_count": 39,
      "metadata": {
        "id": "kl-Nr7wp4j1m"
      },
      "outputs": [],
      "source": [
        "def linear_regression(xi):\n",
        "    n = len(xi)\n",
        "\n",
        "    pred = w0\n",
        "\n",
        "    for j in range(n):\n",
        "        pred = pred + w[j] * xi[j]\n",
        "\n",
        "    return pred"
      ],
      "id": "kl-Nr7wp4j1m"
    },
    {
      "cell_type": "code",
      "execution_count": 40,
      "metadata": {
        "id": "V61Fpi6G4j1m"
      },
      "outputs": [],
      "source": [
        "xi = [453, 11, 86]\n",
        "w0 = 7.17\n",
        "w = [0.01, 0.04, 0.002]"
      ],
      "id": "V61Fpi6G4j1m"
    },
    {
      "cell_type": "code",
      "execution_count": 41,
      "metadata": {
        "id": "XBJuuGYy4j1n",
        "outputId": "3d83952a-feb5-4f6f-9799-243f8f2abdb7",
        "colab": {
          "base_uri": "https://localhost:8080/"
        }
      },
      "outputs": [
        {
          "output_type": "execute_result",
          "data": {
            "text/plain": [
              "12.312"
            ]
          },
          "metadata": {},
          "execution_count": 41
        }
      ],
      "source": [
        "linear_regression(xi)"
      ],
      "id": "XBJuuGYy4j1n"
    },
    {
      "cell_type": "code",
      "execution_count": 42,
      "metadata": {
        "id": "7hwCQuPh4j1n",
        "outputId": "dbea69dc-96da-460f-f68c-e97a7fbd7eed",
        "colab": {
          "base_uri": "https://localhost:8080/"
        }
      },
      "outputs": [
        {
          "output_type": "execute_result",
          "data": {
            "text/plain": [
              "np.float64(222347.2221101062)"
            ]
          },
          "metadata": {},
          "execution_count": 42
        }
      ],
      "source": [
        "np.expm1(12.312)"
      ],
      "id": "7hwCQuPh4j1n"
    },
    {
      "cell_type": "code",
      "execution_count": 43,
      "metadata": {
        "scrolled": true,
        "id": "nJSAOyjH4j1o",
        "outputId": "f2995b8b-674d-4c9a-b74e-675ca8fb4aeb",
        "colab": {
          "base_uri": "https://localhost:8080/"
        }
      },
      "outputs": [
        {
          "output_type": "execute_result",
          "data": {
            "text/plain": [
              "np.float64(12.312)"
            ]
          },
          "metadata": {},
          "execution_count": 43
        }
      ],
      "source": [
        "np.log1p(222347.2221101062)"
      ],
      "id": "nJSAOyjH4j1o"
    },
    {
      "cell_type": "markdown",
      "metadata": {
        "id": "DQXSj_zO4j1o"
      },
      "source": [
        "## 2.6 Linear regression vector form"
      ],
      "id": "DQXSj_zO4j1o"
    },
    {
      "cell_type": "code",
      "execution_count": 44,
      "metadata": {
        "id": "CO3p49rq4j1o"
      },
      "outputs": [],
      "source": [
        "def dot(xi, w):\n",
        "    n = len(xi)\n",
        "\n",
        "    res = 0.0\n",
        "\n",
        "    for j in range(n):\n",
        "        res = res + xi[j] * w[j]\n",
        "\n",
        "    return res"
      ],
      "id": "CO3p49rq4j1o"
    },
    {
      "cell_type": "code",
      "execution_count": 45,
      "metadata": {
        "id": "ep_-Z4874j1p"
      },
      "outputs": [],
      "source": [
        "def linear_regression(xi):\n",
        "    return w0 + dot(xi, w)"
      ],
      "id": "ep_-Z4874j1p"
    },
    {
      "cell_type": "code",
      "execution_count": 46,
      "metadata": {
        "id": "pmifz5H84j1p"
      },
      "outputs": [],
      "source": [
        "w_new = [w0] + w"
      ],
      "id": "pmifz5H84j1p"
    },
    {
      "cell_type": "code",
      "execution_count": 47,
      "metadata": {
        "id": "QPLZlsIy4j1q",
        "outputId": "59b94439-2966-41b0-cb70-7d3bed39d059",
        "colab": {
          "base_uri": "https://localhost:8080/"
        }
      },
      "outputs": [
        {
          "output_type": "execute_result",
          "data": {
            "text/plain": [
              "[7.17, 0.01, 0.04, 0.002]"
            ]
          },
          "metadata": {},
          "execution_count": 47
        }
      ],
      "source": [
        "w_new"
      ],
      "id": "QPLZlsIy4j1q"
    },
    {
      "cell_type": "code",
      "execution_count": 48,
      "metadata": {
        "id": "jgndBPmz4j1q"
      },
      "outputs": [],
      "source": [
        "def linear_regression(xi):\n",
        "    xi = [1] + xi\n",
        "    return dot(xi, w_new)"
      ],
      "id": "jgndBPmz4j1q"
    },
    {
      "cell_type": "code",
      "execution_count": 49,
      "metadata": {
        "id": "qNMt5Xww4j1q",
        "outputId": "ab31c90f-ba91-4c12-b500-9830719a6339",
        "colab": {
          "base_uri": "https://localhost:8080/"
        }
      },
      "outputs": [
        {
          "output_type": "execute_result",
          "data": {
            "text/plain": [
              "12.312"
            ]
          },
          "metadata": {},
          "execution_count": 49
        }
      ],
      "source": [
        "linear_regression(xi)"
      ],
      "id": "qNMt5Xww4j1q"
    },
    {
      "cell_type": "code",
      "execution_count": 50,
      "metadata": {
        "id": "lTeJGmQs4j1r"
      },
      "outputs": [],
      "source": [
        "w0 = 7.17\n",
        "w = [0.01, 0.04, 0.002]\n",
        "w_new = [w0] + w"
      ],
      "id": "lTeJGmQs4j1r"
    },
    {
      "cell_type": "code",
      "execution_count": 51,
      "metadata": {
        "id": "J3oLqKtL4j1r",
        "outputId": "86d1a91f-c213-46dd-84f6-b90356baf20d",
        "colab": {
          "base_uri": "https://localhost:8080/"
        }
      },
      "outputs": [
        {
          "output_type": "execute_result",
          "data": {
            "text/plain": [
              "array([[   1,  148,   24, 1385],\n",
              "       [   1,  132,   25, 2031],\n",
              "       [   1,  453,   11,   86]])"
            ]
          },
          "metadata": {},
          "execution_count": 51
        }
      ],
      "source": [
        "x1  = [1, 148, 24, 1385]\n",
        "x2  = [1, 132, 25, 2031]\n",
        "x10 = [1, 453, 11, 86]\n",
        "\n",
        "X = [x1, x2, x10]\n",
        "X = np.array(X)\n",
        "X"
      ],
      "id": "J3oLqKtL4j1r"
    },
    {
      "cell_type": "code",
      "execution_count": 52,
      "metadata": {
        "id": "l4ddOQRw4j1s"
      },
      "outputs": [],
      "source": [
        "def linear_regression(X):\n",
        "    return X.dot(w_new)"
      ],
      "id": "l4ddOQRw4j1s"
    },
    {
      "cell_type": "code",
      "execution_count": 53,
      "metadata": {
        "id": "OXIXx0Wc4j1s",
        "outputId": "bb053f10-ac91-4d17-c5cb-daa9c40153e3",
        "colab": {
          "base_uri": "https://localhost:8080/"
        }
      },
      "outputs": [
        {
          "output_type": "execute_result",
          "data": {
            "text/plain": [
              "array([12.38 , 13.552, 12.312])"
            ]
          },
          "metadata": {},
          "execution_count": 53
        }
      ],
      "source": [
        "linear_regression(X)"
      ],
      "id": "OXIXx0Wc4j1s"
    },
    {
      "cell_type": "markdown",
      "metadata": {
        "id": "np_2O7Iv4j1t"
      },
      "source": [
        "## 2.7 Training a linear regression model"
      ],
      "id": "np_2O7Iv4j1t"
    },
    {
      "cell_type": "code",
      "execution_count": 54,
      "metadata": {
        "id": "7UapbwoB4j1t"
      },
      "outputs": [],
      "source": [
        "def train_linear_regression(X, y):\n",
        "    pass"
      ],
      "id": "7UapbwoB4j1t"
    },
    {
      "cell_type": "code",
      "execution_count": 55,
      "metadata": {
        "id": "sKc9LeY84j1u",
        "outputId": "1d230ae9-58f9-4bd5-873e-609aa2485998",
        "colab": {
          "base_uri": "https://localhost:8080/"
        }
      },
      "outputs": [
        {
          "output_type": "execute_result",
          "data": {
            "text/plain": [
              "array([[ 148,   24, 1385],\n",
              "       [ 132,   25, 2031],\n",
              "       [ 453,   11,   86],\n",
              "       [ 158,   24,  185],\n",
              "       [ 172,   25,  201],\n",
              "       [ 413,   11,   86],\n",
              "       [  38,   54,  185],\n",
              "       [ 142,   25,  431],\n",
              "       [ 453,   31,   86]])"
            ]
          },
          "metadata": {},
          "execution_count": 55
        }
      ],
      "source": [
        "X = [\n",
        "    [148, 24, 1385],\n",
        "    [132, 25, 2031],\n",
        "    [453, 11, 86],\n",
        "    [158, 24, 185],\n",
        "    [172, 25, 201],\n",
        "    [413, 11, 86],\n",
        "    [38,  54, 185],\n",
        "    [142, 25, 431],\n",
        "    [453, 31, 86],\n",
        "]\n",
        "\n",
        "X = np.array(X)\n",
        "X"
      ],
      "id": "sKc9LeY84j1u"
    },
    {
      "cell_type": "code",
      "execution_count": 56,
      "metadata": {
        "id": "RK2y07s44j1u",
        "outputId": "d5691e3f-aa57-4ebf-afcf-0d82aba555ac",
        "colab": {
          "base_uri": "https://localhost:8080/"
        }
      },
      "outputs": [
        {
          "output_type": "execute_result",
          "data": {
            "text/plain": [
              "array([1., 1., 1., 1., 1., 1., 1., 1., 1.])"
            ]
          },
          "metadata": {},
          "execution_count": 56
        }
      ],
      "source": [
        "ones = np.ones(X.shape[0])\n",
        "ones"
      ],
      "id": "RK2y07s44j1u"
    },
    {
      "cell_type": "code",
      "execution_count": 57,
      "metadata": {
        "id": "4v9PKufF4j1v"
      },
      "outputs": [],
      "source": [
        "X = np.column_stack([ones, X])"
      ],
      "id": "4v9PKufF4j1v"
    },
    {
      "cell_type": "code",
      "execution_count": 58,
      "metadata": {
        "id": "Bo8ZjH424j1v"
      },
      "outputs": [],
      "source": [
        "y = [10000, 20000, 15000, 20050, 10000, 20000, 15000, 25000, 12000]"
      ],
      "id": "Bo8ZjH424j1v"
    },
    {
      "cell_type": "code",
      "execution_count": 59,
      "metadata": {
        "id": "mPKvaU3T4j1v"
      },
      "outputs": [],
      "source": [
        "XTX = X.T.dot(X)\n",
        "XTX_inv = np.linalg.inv(XTX)\n",
        "w_full = XTX_inv.dot(X.T).dot(y)"
      ],
      "id": "mPKvaU3T4j1v"
    },
    {
      "cell_type": "code",
      "execution_count": 59,
      "metadata": {
        "id": "TWs166WP4j1w"
      },
      "outputs": [],
      "source": [],
      "id": "TWs166WP4j1w"
    },
    {
      "cell_type": "code",
      "execution_count": 59,
      "metadata": {
        "id": "X33Kzuou4j1w"
      },
      "outputs": [],
      "source": [],
      "id": "X33Kzuou4j1w"
    },
    {
      "cell_type": "code",
      "execution_count": 60,
      "metadata": {
        "id": "GySjTdC44j1x"
      },
      "outputs": [],
      "source": [
        "w0 = w_full[0]\n",
        "w = w_full[1:]"
      ],
      "id": "GySjTdC44j1x"
    },
    {
      "cell_type": "code",
      "execution_count": 61,
      "metadata": {
        "id": "9JitQftx4j1x",
        "outputId": "6ac18c61-d364-429c-a6ce-5c6a531acf16",
        "colab": {
          "base_uri": "https://localhost:8080/"
        }
      },
      "outputs": [
        {
          "output_type": "execute_result",
          "data": {
            "text/plain": [
              "(np.float64(25844.754055766753),\n",
              " array([ -16.08906468, -199.47254894,   -1.22802883]))"
            ]
          },
          "metadata": {},
          "execution_count": 61
        }
      ],
      "source": [
        "w0, w"
      ],
      "id": "9JitQftx4j1x"
    },
    {
      "cell_type": "code",
      "execution_count": 62,
      "metadata": {
        "id": "nYPP8Ro24j1y"
      },
      "outputs": [],
      "source": [
        "def train_linear_regression(X, y):\n",
        "    ones = np.ones(X.shape[0])\n",
        "    X = np.column_stack([ones, X])\n",
        "\n",
        "    XTX = X.T.dot(X)\n",
        "    XTX_inv = np.linalg.inv(XTX)\n",
        "    w_full = XTX_inv.dot(X.T).dot(y)\n",
        "\n",
        "    return w_full[0], w_full[1:]"
      ],
      "id": "nYPP8Ro24j1y"
    },
    {
      "cell_type": "code",
      "execution_count": 63,
      "metadata": {
        "id": "mIF36xnk4j1y",
        "outputId": "0dbbd562-935f-4f6f-c461-bb8a89d6ba18",
        "colab": {
          "base_uri": "https://localhost:8080/",
          "height": 287
        }
      },
      "outputs": [
        {
          "output_type": "error",
          "ename": "LinAlgError",
          "evalue": "Singular matrix",
          "traceback": [
            "\u001b[0;31m---------------------------------------------------------------------------\u001b[0m",
            "\u001b[0;31mLinAlgError\u001b[0m                               Traceback (most recent call last)",
            "\u001b[0;32m/tmp/ipython-input-3115623625.py\u001b[0m in \u001b[0;36m<cell line: 0>\u001b[0;34m()\u001b[0m\n\u001b[0;32m----> 1\u001b[0;31m \u001b[0mtrain_linear_regression\u001b[0m\u001b[0;34m(\u001b[0m\u001b[0mX\u001b[0m\u001b[0;34m,\u001b[0m \u001b[0my\u001b[0m\u001b[0;34m)\u001b[0m\u001b[0;34m\u001b[0m\u001b[0;34m\u001b[0m\u001b[0m\n\u001b[0m",
            "\u001b[0;32m/tmp/ipython-input-1635720346.py\u001b[0m in \u001b[0;36mtrain_linear_regression\u001b[0;34m(X, y)\u001b[0m\n\u001b[1;32m      4\u001b[0m \u001b[0;34m\u001b[0m\u001b[0m\n\u001b[1;32m      5\u001b[0m     \u001b[0mXTX\u001b[0m \u001b[0;34m=\u001b[0m \u001b[0mX\u001b[0m\u001b[0;34m.\u001b[0m\u001b[0mT\u001b[0m\u001b[0;34m.\u001b[0m\u001b[0mdot\u001b[0m\u001b[0;34m(\u001b[0m\u001b[0mX\u001b[0m\u001b[0;34m)\u001b[0m\u001b[0;34m\u001b[0m\u001b[0;34m\u001b[0m\u001b[0m\n\u001b[0;32m----> 6\u001b[0;31m     \u001b[0mXTX_inv\u001b[0m \u001b[0;34m=\u001b[0m \u001b[0mnp\u001b[0m\u001b[0;34m.\u001b[0m\u001b[0mlinalg\u001b[0m\u001b[0;34m.\u001b[0m\u001b[0minv\u001b[0m\u001b[0;34m(\u001b[0m\u001b[0mXTX\u001b[0m\u001b[0;34m)\u001b[0m\u001b[0;34m\u001b[0m\u001b[0;34m\u001b[0m\u001b[0m\n\u001b[0m\u001b[1;32m      7\u001b[0m     \u001b[0mw_full\u001b[0m \u001b[0;34m=\u001b[0m \u001b[0mXTX_inv\u001b[0m\u001b[0;34m.\u001b[0m\u001b[0mdot\u001b[0m\u001b[0;34m(\u001b[0m\u001b[0mX\u001b[0m\u001b[0;34m.\u001b[0m\u001b[0mT\u001b[0m\u001b[0;34m)\u001b[0m\u001b[0;34m.\u001b[0m\u001b[0mdot\u001b[0m\u001b[0;34m(\u001b[0m\u001b[0my\u001b[0m\u001b[0;34m)\u001b[0m\u001b[0;34m\u001b[0m\u001b[0;34m\u001b[0m\u001b[0m\n\u001b[1;32m      8\u001b[0m \u001b[0;34m\u001b[0m\u001b[0m\n",
            "\u001b[0;32m/usr/local/lib/python3.12/dist-packages/numpy/linalg/_linalg.py\u001b[0m in \u001b[0;36minv\u001b[0;34m(a)\u001b[0m\n\u001b[1;32m    606\u001b[0m     with errstate(call=_raise_linalgerror_singular, invalid='call',\n\u001b[1;32m    607\u001b[0m                   over='ignore', divide='ignore', under='ignore'):\n\u001b[0;32m--> 608\u001b[0;31m         \u001b[0mainv\u001b[0m \u001b[0;34m=\u001b[0m \u001b[0m_umath_linalg\u001b[0m\u001b[0;34m.\u001b[0m\u001b[0minv\u001b[0m\u001b[0;34m(\u001b[0m\u001b[0ma\u001b[0m\u001b[0;34m,\u001b[0m \u001b[0msignature\u001b[0m\u001b[0;34m=\u001b[0m\u001b[0msignature\u001b[0m\u001b[0;34m)\u001b[0m\u001b[0;34m\u001b[0m\u001b[0;34m\u001b[0m\u001b[0m\n\u001b[0m\u001b[1;32m    609\u001b[0m     \u001b[0;32mreturn\u001b[0m \u001b[0mwrap\u001b[0m\u001b[0;34m(\u001b[0m\u001b[0mainv\u001b[0m\u001b[0;34m.\u001b[0m\u001b[0mastype\u001b[0m\u001b[0;34m(\u001b[0m\u001b[0mresult_t\u001b[0m\u001b[0;34m,\u001b[0m \u001b[0mcopy\u001b[0m\u001b[0;34m=\u001b[0m\u001b[0;32mFalse\u001b[0m\u001b[0;34m)\u001b[0m\u001b[0;34m)\u001b[0m\u001b[0;34m\u001b[0m\u001b[0;34m\u001b[0m\u001b[0m\n\u001b[1;32m    610\u001b[0m \u001b[0;34m\u001b[0m\u001b[0m\n",
            "\u001b[0;32m/usr/local/lib/python3.12/dist-packages/numpy/linalg/_linalg.py\u001b[0m in \u001b[0;36m_raise_linalgerror_singular\u001b[0;34m(err, flag)\u001b[0m\n\u001b[1;32m    102\u001b[0m \u001b[0;34m\u001b[0m\u001b[0m\n\u001b[1;32m    103\u001b[0m \u001b[0;32mdef\u001b[0m \u001b[0m_raise_linalgerror_singular\u001b[0m\u001b[0;34m(\u001b[0m\u001b[0merr\u001b[0m\u001b[0;34m,\u001b[0m \u001b[0mflag\u001b[0m\u001b[0;34m)\u001b[0m\u001b[0;34m:\u001b[0m\u001b[0;34m\u001b[0m\u001b[0;34m\u001b[0m\u001b[0m\n\u001b[0;32m--> 104\u001b[0;31m     \u001b[0;32mraise\u001b[0m \u001b[0mLinAlgError\u001b[0m\u001b[0;34m(\u001b[0m\u001b[0;34m\"Singular matrix\"\u001b[0m\u001b[0;34m)\u001b[0m\u001b[0;34m\u001b[0m\u001b[0;34m\u001b[0m\u001b[0m\n\u001b[0m\u001b[1;32m    105\u001b[0m \u001b[0;34m\u001b[0m\u001b[0m\n\u001b[1;32m    106\u001b[0m \u001b[0;32mdef\u001b[0m \u001b[0m_raise_linalgerror_nonposdef\u001b[0m\u001b[0;34m(\u001b[0m\u001b[0merr\u001b[0m\u001b[0;34m,\u001b[0m \u001b[0mflag\u001b[0m\u001b[0;34m)\u001b[0m\u001b[0;34m:\u001b[0m\u001b[0;34m\u001b[0m\u001b[0;34m\u001b[0m\u001b[0m\n",
            "\u001b[0;31mLinAlgError\u001b[0m: Singular matrix"
          ]
        }
      ],
      "source": [
        "train_linear_regression(X, y)"
      ],
      "id": "mIF36xnk4j1y"
    },
    {
      "cell_type": "markdown",
      "metadata": {
        "id": "ZnKxthyV4j1y"
      },
      "source": [
        "## 2.8 Car price baseline model"
      ],
      "id": "ZnKxthyV4j1y"
    },
    {
      "cell_type": "code",
      "execution_count": null,
      "metadata": {
        "id": "W08Dep8M4j1z"
      },
      "outputs": [],
      "source": [
        "df_train.columns"
      ],
      "id": "W08Dep8M4j1z"
    },
    {
      "cell_type": "code",
      "execution_count": null,
      "metadata": {
        "scrolled": true,
        "id": "_dmUv2aq4j1z"
      },
      "outputs": [],
      "source": [
        "base = ['engine_hp', 'engine_cylinders', 'highway_mpg',\n",
        "        'city_mpg', 'popularity']\n",
        "\n",
        "X_train = df_train[base].fillna(0).values\n",
        "\n",
        "w0, w = train_linear_regression(X_train, y_train)\n",
        "\n",
        "y_pred = w0 + X_train.dot(w)"
      ],
      "id": "_dmUv2aq4j1z"
    },
    {
      "cell_type": "code",
      "execution_count": null,
      "metadata": {
        "id": "nW-Gsz5v4j1z"
      },
      "outputs": [],
      "source": [
        "w0"
      ],
      "id": "nW-Gsz5v4j1z"
    },
    {
      "cell_type": "code",
      "execution_count": null,
      "metadata": {
        "id": "5jnkUaDp4j10"
      },
      "outputs": [],
      "source": [
        "w"
      ],
      "id": "5jnkUaDp4j10"
    },
    {
      "cell_type": "code",
      "execution_count": null,
      "metadata": {
        "id": "rb1G3R8w4j10"
      },
      "outputs": [],
      "source": [],
      "id": "rb1G3R8w4j10"
    },
    {
      "cell_type": "code",
      "execution_count": null,
      "metadata": {
        "id": "Z2hs4EuD4j11"
      },
      "outputs": [],
      "source": [
        "sns.histplot(y_pred, color='red', alpha=0.5, bins=50)\n",
        "sns.histplot(y_train, color='blue', alpha=0.5, bins=50)\n"
      ],
      "id": "Z2hs4EuD4j11"
    },
    {
      "cell_type": "markdown",
      "metadata": {
        "id": "ezoHKnVd4j12"
      },
      "source": [
        "## 2.9 RMSE"
      ],
      "id": "ezoHKnVd4j12"
    },
    {
      "cell_type": "code",
      "execution_count": null,
      "metadata": {
        "id": "TViGghMO4j13"
      },
      "outputs": [],
      "source": [
        "def rmse(y, y_pred):\n",
        "    se = (y - y_pred) ** 2\n",
        "    mse = se.mean()\n",
        "    return np.sqrt(mse)"
      ],
      "id": "TViGghMO4j13"
    },
    {
      "cell_type": "code",
      "execution_count": null,
      "metadata": {
        "id": "98qtEvpI4j13"
      },
      "outputs": [],
      "source": [
        "rmse(y_train, y_pred)"
      ],
      "id": "98qtEvpI4j13"
    },
    {
      "cell_type": "markdown",
      "metadata": {
        "id": "M127F-S34j14"
      },
      "source": [
        "## 2.10 Validating the model"
      ],
      "id": "M127F-S34j14"
    },
    {
      "cell_type": "code",
      "execution_count": null,
      "metadata": {
        "id": "SM9vkrQL4j14"
      },
      "outputs": [],
      "source": [
        "def prepare_X(df):\n",
        "    df_num = df[base]\n",
        "    df_num = df_num.fillna(0)\n",
        "    X = df_num.values\n",
        "    return X"
      ],
      "id": "SM9vkrQL4j14"
    },
    {
      "cell_type": "code",
      "execution_count": null,
      "metadata": {
        "id": "4gYct8nz4j14"
      },
      "outputs": [],
      "source": [
        "X_train = prepare_X(df_train)\n",
        "w0, w = train_linear_regression(X_train, y_train)\n",
        "\n",
        "X_val = prepare_X(df_val)\n",
        "y_pred = w0 + X_val.dot(w)\n",
        "rmse(y_val, y_pred)"
      ],
      "id": "4gYct8nz4j14"
    },
    {
      "cell_type": "markdown",
      "metadata": {
        "id": "YXBfdRzJ4j15"
      },
      "source": [
        "## 2.11 Simple feature engineering"
      ],
      "id": "YXBfdRzJ4j15"
    },
    {
      "cell_type": "code",
      "execution_count": null,
      "metadata": {
        "id": "n5qPpxPs4j15"
      },
      "outputs": [],
      "source": [
        "def prepare_X(df):\n",
        "    df = df.copy()\n",
        "\n",
        "    df['age'] = 2017 - df['year']\n",
        "    features = base + ['age']\n",
        "\n",
        "    df_num = df[features]\n",
        "    df_num = df_num.fillna(0)\n",
        "    X = df_num.values\n",
        "\n",
        "    return X"
      ],
      "id": "n5qPpxPs4j15"
    },
    {
      "cell_type": "code",
      "execution_count": null,
      "metadata": {
        "id": "_dyBc4vy4j16"
      },
      "outputs": [],
      "source": [
        "X_train = prepare_X(df_train)\n",
        "w0, w = train_linear_regression(X_train, y_train)\n",
        "\n",
        "X_val = prepare_X(df_val)\n",
        "y_pred = w0 + X_val.dot(w)\n",
        "rmse(y_val, y_pred)"
      ],
      "id": "_dyBc4vy4j16"
    },
    {
      "cell_type": "code",
      "execution_count": null,
      "metadata": {
        "id": "BIb-jtcJ4j16"
      },
      "outputs": [],
      "source": [
        "sns.histplot(y_pred, label='prediction', color='red', alpha=0.5, bins=50)\n",
        "sns.histplot(y_val, label='target', color='blue',  alpha=0.5, bins=50)\n",
        "plt.legend()"
      ],
      "id": "BIb-jtcJ4j16"
    },
    {
      "cell_type": "markdown",
      "metadata": {
        "id": "GA0qajbO4j16"
      },
      "source": [
        "## 2.12 Categorical variables"
      ],
      "id": "GA0qajbO4j16"
    },
    {
      "cell_type": "code",
      "execution_count": null,
      "metadata": {
        "id": "7RAxoomL4j17"
      },
      "outputs": [],
      "source": [
        "categorical_columns = [\n",
        "    'make', 'model', 'engine_fuel_type', 'driven_wheels', 'market_category',\n",
        "    'vehicle_size', 'vehicle_style']\n",
        "\n",
        "categorical = {}\n",
        "\n",
        "for c in categorical_columns:\n",
        "    categorical[c] = list(df_train[c].value_counts().head().index)"
      ],
      "id": "7RAxoomL4j17"
    },
    {
      "cell_type": "code",
      "execution_count": null,
      "metadata": {
        "id": "Km9QBgg44j17"
      },
      "outputs": [],
      "source": [
        "def prepare_X(df):\n",
        "    df = df.copy()\n",
        "\n",
        "    df['age'] = 2017 - df['year']\n",
        "    features = base + ['age']\n",
        "\n",
        "    for v in [2, 3, 4]:\n",
        "        df['num_doors_%d' % v] = (df.number_of_doors == v).astype(int)\n",
        "        features.append('num_doors_%d' % v)\n",
        "\n",
        "    for name, values in categorical.items():\n",
        "        for value in values:\n",
        "            df['%s_%s' % (name, value)] = (df[name] == value).astype(int)\n",
        "            features.append('%s_%s' % (name, value))\n",
        "\n",
        "    df_num = df[features]\n",
        "    df_num = df_num.fillna(0)\n",
        "    X = df_num.values\n",
        "\n",
        "    return X"
      ],
      "id": "Km9QBgg44j17"
    },
    {
      "cell_type": "code",
      "source": [
        "'num_doors_%d' % 3\n",
        "categorical"
      ],
      "metadata": {
        "id": "Bx0jj_TOXZsc"
      },
      "id": "Bx0jj_TOXZsc",
      "execution_count": null,
      "outputs": []
    },
    {
      "cell_type": "code",
      "execution_count": null,
      "metadata": {
        "id": "WTY4Aiic4j18"
      },
      "outputs": [],
      "source": [
        "X_train = prepare_X(df_train)\n",
        "w0, w = train_linear_regression(X_train, y_train)\n",
        "\n",
        "X_val = prepare_X(df_val)\n",
        "y_pred = w0 + X_val.dot(w)\n",
        "rmse(y_val, y_pred)"
      ],
      "id": "WTY4Aiic4j18"
    },
    {
      "cell_type": "code",
      "execution_count": null,
      "metadata": {
        "id": "8fU7BX9Q4j18"
      },
      "outputs": [],
      "source": [
        "w0, w"
      ],
      "id": "8fU7BX9Q4j18"
    },
    {
      "cell_type": "markdown",
      "metadata": {
        "id": "-X_CWUwK4j18"
      },
      "source": [
        "## 2.13 Regularization"
      ],
      "id": "-X_CWUwK4j18"
    },
    {
      "cell_type": "code",
      "execution_count": null,
      "metadata": {
        "id": "44wS6mkf4j19"
      },
      "outputs": [],
      "source": [
        "X = [\n",
        "    [4, 4, 4],\n",
        "    [3, 5, 5],\n",
        "    [5, 1, 1],\n",
        "    [5, 4, 4],\n",
        "    [7, 5, 5],\n",
        "    [4, 5, 5.00000001],\n",
        "]\n",
        "\n",
        "X = np.array(X)\n",
        "X"
      ],
      "id": "44wS6mkf4j19"
    },
    {
      "cell_type": "code",
      "execution_count": null,
      "metadata": {
        "id": "D80TpuWv4j19"
      },
      "outputs": [],
      "source": [
        "y= [1, 2, 3, 1, 2, 3]"
      ],
      "id": "D80TpuWv4j19"
    },
    {
      "cell_type": "code",
      "execution_count": null,
      "metadata": {
        "id": "DK-nfI2f4j19"
      },
      "outputs": [],
      "source": [
        "XTX = X.T.dot(X)\n",
        "XTX"
      ],
      "id": "DK-nfI2f4j19"
    },
    {
      "cell_type": "code",
      "execution_count": null,
      "metadata": {
        "id": "_RBDrla34j1-"
      },
      "outputs": [],
      "source": [
        "XTX_inv = np.linalg.inv(XTX)"
      ],
      "id": "_RBDrla34j1-"
    },
    {
      "cell_type": "code",
      "execution_count": null,
      "metadata": {
        "id": "xJYRaTeM4j1-"
      },
      "outputs": [],
      "source": [
        "XTX_inv"
      ],
      "id": "xJYRaTeM4j1-"
    },
    {
      "cell_type": "code",
      "execution_count": null,
      "metadata": {
        "id": "Lhj86QrX4j1-"
      },
      "outputs": [],
      "source": [
        "XTX_inv.dot(X.T).dot(y)"
      ],
      "id": "Lhj86QrX4j1-"
    },
    {
      "cell_type": "code",
      "execution_count": null,
      "metadata": {
        "id": "ph_ow7to4j1_"
      },
      "outputs": [],
      "source": [
        "XTX = [\n",
        "    [1, 2, 2],\n",
        "    [2, 1, 1.0000001],\n",
        "    [2, 1.0000001, 1]\n",
        "]\n",
        "\n",
        "XTX = np.array(XTX)"
      ],
      "id": "ph_ow7to4j1_"
    },
    {
      "cell_type": "code",
      "execution_count": null,
      "metadata": {
        "id": "pniF1GzE4j1_"
      },
      "outputs": [],
      "source": [
        "np.linalg.inv(XTX)"
      ],
      "id": "pniF1GzE4j1_"
    },
    {
      "cell_type": "code",
      "execution_count": null,
      "metadata": {
        "id": "dMDuBUUQ4j2A"
      },
      "outputs": [],
      "source": [
        "XTX = XTX + 0.01 * np.eye(3)"
      ],
      "id": "dMDuBUUQ4j2A"
    },
    {
      "cell_type": "code",
      "execution_count": null,
      "metadata": {
        "id": "AgrSeypN4j2A"
      },
      "outputs": [],
      "source": [
        "np.linalg.inv(XTX)"
      ],
      "id": "AgrSeypN4j2A"
    },
    {
      "cell_type": "code",
      "execution_count": null,
      "metadata": {
        "id": "VE71sADV4j2B"
      },
      "outputs": [],
      "source": [
        "def train_linear_regression_reg(X, y, r=0.001):\n",
        "    ones = np.ones(X.shape[0])\n",
        "    X = np.column_stack([ones, X])\n",
        "\n",
        "    XTX = X.T.dot(X)\n",
        "    XTX = XTX + r * np.eye(XTX.shape[0])\n",
        "\n",
        "    XTX_inv = np.linalg.inv(XTX)\n",
        "    w_full = XTX_inv.dot(X.T).dot(y)\n",
        "\n",
        "    return w_full[0], w_full[1:]"
      ],
      "id": "VE71sADV4j2B"
    },
    {
      "cell_type": "code",
      "execution_count": null,
      "metadata": {
        "id": "W8Gu97Yx4j2C"
      },
      "outputs": [],
      "source": [
        "X_train = prepare_X(df_train)\n",
        "w0, w = train_linear_regression_reg(X_train, y_train, r=0.01)\n",
        "\n",
        "X_val = prepare_X(df_val)\n",
        "y_pred = w0 + X_val.dot(w)\n",
        "rmse(y_val, y_pred)"
      ],
      "id": "W8Gu97Yx4j2C"
    },
    {
      "cell_type": "markdown",
      "metadata": {
        "id": "J-EHlCku4j2C"
      },
      "source": [
        "## 2.14 Tuning the model"
      ],
      "id": "J-EHlCku4j2C"
    },
    {
      "cell_type": "code",
      "execution_count": null,
      "metadata": {
        "id": "gW4I13IQ4j2D"
      },
      "outputs": [],
      "source": [
        "for r in [0.0, 0.00001, 0.0001, 0.001, 0.1, 1, 10]:\n",
        "    X_train = prepare_X(df_train)\n",
        "    w0, w = train_linear_regression_reg(X_train, y_train, r=r)\n",
        "\n",
        "    X_val = prepare_X(df_val)\n",
        "    y_pred = w0 + X_val.dot(w)\n",
        "    score = rmse(y_val, y_pred)\n",
        "\n",
        "    print(r, w0, score)"
      ],
      "id": "gW4I13IQ4j2D"
    },
    {
      "cell_type": "code",
      "execution_count": null,
      "metadata": {
        "id": "5ETE0Ztu4j2D"
      },
      "outputs": [],
      "source": [
        "r = 0.001\n",
        "X_train = prepare_X(df_train)\n",
        "w0, w = train_linear_regression_reg(X_train, y_train, r=r)\n",
        "\n",
        "X_val = prepare_X(df_val)\n",
        "y_pred = w0 + X_val.dot(w)\n",
        "score = rmse(y_val, y_pred)\n",
        "score"
      ],
      "id": "5ETE0Ztu4j2D"
    },
    {
      "cell_type": "markdown",
      "metadata": {
        "id": "YIwJ1IS_4j2D"
      },
      "source": [
        "## 2.15 Using the model"
      ],
      "id": "YIwJ1IS_4j2D"
    },
    {
      "cell_type": "code",
      "execution_count": null,
      "metadata": {
        "id": "hmjz8R-k4j2E"
      },
      "outputs": [],
      "source": [
        "df_full_train = pd.concat([df_train, df_val])"
      ],
      "id": "hmjz8R-k4j2E"
    },
    {
      "cell_type": "code",
      "execution_count": null,
      "metadata": {
        "id": "gtyZyCE84j2E"
      },
      "outputs": [],
      "source": [
        "df_full_train = df_full_train.reset_index(drop=True)"
      ],
      "id": "gtyZyCE84j2E"
    },
    {
      "cell_type": "code",
      "execution_count": null,
      "metadata": {
        "id": "FRfDr-kH4j2E"
      },
      "outputs": [],
      "source": [
        "X_full_train = prepare_X(df_full_train)"
      ],
      "id": "FRfDr-kH4j2E"
    },
    {
      "cell_type": "code",
      "execution_count": null,
      "metadata": {
        "id": "6_oJ5NP-4j2F"
      },
      "outputs": [],
      "source": [
        "X_full_train"
      ],
      "id": "6_oJ5NP-4j2F"
    },
    {
      "cell_type": "code",
      "execution_count": null,
      "metadata": {
        "id": "acBeYCKN4j2F"
      },
      "outputs": [],
      "source": [
        "y_full_train = np.concatenate([y_train, y_val])"
      ],
      "id": "acBeYCKN4j2F"
    },
    {
      "cell_type": "code",
      "execution_count": null,
      "metadata": {
        "id": "jc_A2wco4j2G"
      },
      "outputs": [],
      "source": [
        "w0, w = train_linear_regression_reg(X_full_train, y_full_train, r=0.001)"
      ],
      "id": "jc_A2wco4j2G"
    },
    {
      "cell_type": "code",
      "execution_count": null,
      "metadata": {
        "id": "TRMS6pHq4j2G"
      },
      "outputs": [],
      "source": [
        "X_test = prepare_X(df_test)\n",
        "y_pred = w0 + X_test.dot(w)\n",
        "score = rmse(y_test, y_pred)\n",
        "score"
      ],
      "id": "TRMS6pHq4j2G"
    },
    {
      "cell_type": "code",
      "execution_count": null,
      "metadata": {
        "id": "xSZqoUtX4j2H"
      },
      "outputs": [],
      "source": [
        "car = df_test.iloc[20].to_dict()\n",
        "car"
      ],
      "id": "xSZqoUtX4j2H"
    },
    {
      "cell_type": "code",
      "execution_count": null,
      "metadata": {
        "id": "tvg9kgNo4j2H"
      },
      "outputs": [],
      "source": [
        "df_small = pd.DataFrame([car])\n",
        "df_small"
      ],
      "id": "tvg9kgNo4j2H"
    },
    {
      "cell_type": "code",
      "execution_count": null,
      "metadata": {
        "id": "gTsPPIUC4j2I"
      },
      "outputs": [],
      "source": [
        "X_small = prepare_X(df_small)"
      ],
      "id": "gTsPPIUC4j2I"
    },
    {
      "cell_type": "code",
      "execution_count": null,
      "metadata": {
        "id": "IvQ9W0pa4j2I"
      },
      "outputs": [],
      "source": [
        "y_pred = w0 + X_small.dot(w)\n",
        "y_pred = y_pred[0]\n",
        "y_pred"
      ],
      "id": "IvQ9W0pa4j2I"
    },
    {
      "cell_type": "code",
      "execution_count": null,
      "metadata": {
        "id": "cX9W3d7C4j2I"
      },
      "outputs": [],
      "source": [
        "np.expm1(y_pred)"
      ],
      "id": "cX9W3d7C4j2I"
    },
    {
      "cell_type": "code",
      "execution_count": null,
      "metadata": {
        "id": "sQVYQHe94j2J"
      },
      "outputs": [],
      "source": [
        "np.expm1(y_test[20])"
      ],
      "id": "sQVYQHe94j2J"
    },
    {
      "cell_type": "markdown",
      "metadata": {
        "id": "F6e7a6zc4j2J"
      },
      "source": [
        "## Next steps"
      ],
      "id": "F6e7a6zc4j2J"
    },
    {
      "cell_type": "markdown",
      "metadata": {
        "id": "qfElUquv4j2J"
      },
      "source": [
        "* We included only 5 top features. What happens if we include 10?\n",
        "\n",
        "Other projects\n",
        "\n",
        "* Predict the price of a house - e.g. boston dataset\n",
        "* https://archive.ics.uci.edu/ml/datasets.php?task=reg\n"
      ],
      "id": "qfElUquv4j2J"
    },
    {
      "cell_type": "markdown",
      "metadata": {
        "id": "pmrtJMZL4j2K"
      },
      "source": [
        "## Summary\n",
        "\n",
        "* EDA - looking at data, finding missing values\n",
        "* Target variable distribution - long tail => bell shaped curve\n",
        "* Validation framework: train/val/test split (helped us detect problems)\n",
        "* Normal equation - not magic, but math\n",
        "* Implemented it with numpy\n",
        "* RMSE to validate our model\n",
        "* Feature engineering: age, categorical features\n",
        "* Regularization to fight numerical instability"
      ],
      "id": "pmrtJMZL4j2K"
    },
    {
      "cell_type": "code",
      "execution_count": null,
      "metadata": {
        "id": "dInAmFlQ4j2K"
      },
      "outputs": [],
      "source": [],
      "id": "dInAmFlQ4j2K"
    }
  ],
  "metadata": {
    "kernelspec": {
      "display_name": "Python 3",
      "language": "python",
      "name": "python3"
    },
    "language_info": {
      "codemirror_mode": {
        "name": "ipython",
        "version": 3
      },
      "file_extension": ".py",
      "mimetype": "text/x-python",
      "name": "python",
      "nbconvert_exporter": "python",
      "pygments_lexer": "ipython3",
      "version": "3.6.9"
    },
    "colab": {
      "provenance": []
    }
  },
  "nbformat": 4,
  "nbformat_minor": 5
}