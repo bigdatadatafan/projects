{
  "cells": [
    {
      "cell_type": "markdown",
      "id": "3aace4b5",
      "metadata": {
        "id": "3aace4b5"
      },
      "source": [
        "## 1.8 Linear algebra"
      ]
    },
    {
      "cell_type": "markdown",
      "id": "2cd0b8e5",
      "metadata": {
        "id": "2cd0b8e5"
      },
      "source": [
        "Plan:\n",
        "\n",
        "* Vector operations\n",
        "* Multiplication\n",
        "    * Vector-vector multiplication\n",
        "    * Matrix-vector multiplication\n",
        "    * Matrix-matrix multiplication\n",
        "* Identity matrix\n",
        "* Inverse"
      ]
    },
    {
      "cell_type": "code",
      "execution_count": null,
      "id": "1317a223",
      "metadata": {
        "id": "1317a223"
      },
      "outputs": [],
      "source": [
        "import numpy as np"
      ]
    },
    {
      "cell_type": "markdown",
      "id": "4052050d",
      "metadata": {
        "id": "4052050d"
      },
      "source": [
        "## Vector operations"
      ]
    },
    {
      "cell_type": "code",
      "execution_count": null,
      "id": "e87a01b7",
      "metadata": {
        "id": "e87a01b7"
      },
      "outputs": [],
      "source": [
        "u = np.array([2, 4, 5, 6])"
      ]
    },
    {
      "cell_type": "code",
      "execution_count": null,
      "id": "913795a9",
      "metadata": {
        "id": "913795a9",
        "outputId": "463d7483-719d-4a96-fe6c-3b0c5e646ef9"
      },
      "outputs": [
        {
          "data": {
            "text/plain": [
              "array([ 4,  8, 10, 12])"
            ]
          },
          "execution_count": 6,
          "metadata": {},
          "output_type": "execute_result"
        }
      ],
      "source": [
        "2 * u"
      ]
    },
    {
      "cell_type": "code",
      "execution_count": null,
      "id": "24625627",
      "metadata": {
        "id": "24625627"
      },
      "outputs": [],
      "source": [
        "v = np.array([1, 0, 0, 2])"
      ]
    },
    {
      "cell_type": "code",
      "execution_count": null,
      "id": "edc95be4",
      "metadata": {
        "id": "edc95be4",
        "outputId": "40d459a1-bb68-45da-da11-4d589b03bc07"
      },
      "outputs": [
        {
          "data": {
            "text/plain": [
              "array([3, 4, 5, 8])"
            ]
          },
          "execution_count": 5,
          "metadata": {},
          "output_type": "execute_result"
        }
      ],
      "source": [
        "u + v"
      ]
    },
    {
      "cell_type": "code",
      "execution_count": null,
      "id": "62f471c3",
      "metadata": {
        "id": "62f471c3",
        "outputId": "a879c330-1ebe-4f49-af68-a3cbbe285db2"
      },
      "outputs": [
        {
          "data": {
            "text/plain": [
              "array([ 2,  0,  0, 12])"
            ]
          },
          "execution_count": 7,
          "metadata": {},
          "output_type": "execute_result"
        }
      ],
      "source": [
        "u * v"
      ]
    },
    {
      "cell_type": "markdown",
      "id": "6cb784ea",
      "metadata": {
        "id": "6cb784ea"
      },
      "source": [
        "## Multiplication"
      ]
    },
    {
      "cell_type": "code",
      "execution_count": null,
      "id": "6a838e14",
      "metadata": {
        "id": "6a838e14",
        "outputId": "d2a1f816-eb76-4129-9664-628057bb7af7"
      },
      "outputs": [
        {
          "data": {
            "text/plain": [
              "4"
            ]
          },
          "execution_count": 10,
          "metadata": {},
          "output_type": "execute_result"
        }
      ],
      "source": [
        "v.shape[0]"
      ]
    },
    {
      "cell_type": "code",
      "execution_count": null,
      "id": "bef565ee",
      "metadata": {
        "id": "bef565ee"
      },
      "outputs": [],
      "source": [
        "def vector_vector_multiplication(u, v):\n",
        "    assert u.shape[0] == v.shape[0]\n",
        "\n",
        "    n = u.shape[0]\n",
        "\n",
        "    result = 0.0\n",
        "\n",
        "    for i in range(n):\n",
        "        result = result + u[i] * v[i]\n",
        "\n",
        "    return result"
      ]
    },
    {
      "cell_type": "code",
      "execution_count": null,
      "id": "5f212712",
      "metadata": {
        "id": "5f212712",
        "outputId": "422ccd26-1db3-4f98-c8a7-94c14b327803"
      },
      "outputs": [
        {
          "data": {
            "text/plain": [
              "14.0"
            ]
          },
          "execution_count": 12,
          "metadata": {},
          "output_type": "execute_result"
        }
      ],
      "source": [
        "vector_vector_multiplication(u, v)"
      ]
    },
    {
      "cell_type": "code",
      "execution_count": null,
      "id": "b57c4464",
      "metadata": {
        "id": "b57c4464",
        "outputId": "48c8c5ab-f8c0-43f3-c990-09f8c93775c7"
      },
      "outputs": [
        {
          "data": {
            "text/plain": [
              "14"
            ]
          },
          "execution_count": 13,
          "metadata": {},
          "output_type": "execute_result"
        }
      ],
      "source": [
        "u.dot(v)"
      ]
    },
    {
      "cell_type": "code",
      "execution_count": null,
      "id": "b7710217",
      "metadata": {
        "id": "b7710217"
      },
      "outputs": [],
      "source": [
        "U = np.array([\n",
        "    [2, 4, 5, 6],\n",
        "    [1, 2, 1, 2],\n",
        "    [3, 1, 2, 1],\n",
        "])"
      ]
    },
    {
      "cell_type": "code",
      "execution_count": null,
      "id": "3f1ee5f1",
      "metadata": {
        "id": "3f1ee5f1",
        "outputId": "9b5cdce2-d35e-43d0-d074-75efecaeabf7"
      },
      "outputs": [
        {
          "data": {
            "text/plain": [
              "(3, 4)"
            ]
          },
          "execution_count": 16,
          "metadata": {},
          "output_type": "execute_result"
        }
      ],
      "source": [
        "U.shape"
      ]
    },
    {
      "cell_type": "code",
      "execution_count": null,
      "id": "8b4f7530",
      "metadata": {
        "id": "8b4f7530"
      },
      "outputs": [],
      "source": [
        "def matrix_vector_multiplication(U, v):\n",
        "    assert U.shape[1] == v.shape[0]\n",
        "\n",
        "    num_rows = U.shape[0]\n",
        "\n",
        "    result = np.zeros(num_rows)\n",
        "\n",
        "    for i in range(num_rows):\n",
        "        result[i] = vector_vector_multiplication(U[i], v)\n",
        "\n",
        "    return result"
      ]
    },
    {
      "cell_type": "code",
      "execution_count": null,
      "id": "930f42c3",
      "metadata": {
        "id": "930f42c3",
        "outputId": "7f7a6b4c-3b52-488c-be24-d2f0e8fbf3a7"
      },
      "outputs": [
        {
          "data": {
            "text/plain": [
              "array([14.,  5.,  5.])"
            ]
          },
          "execution_count": 18,
          "metadata": {},
          "output_type": "execute_result"
        }
      ],
      "source": [
        "matrix_vector_multiplication(U, v)"
      ]
    },
    {
      "cell_type": "code",
      "execution_count": null,
      "id": "0937dafd",
      "metadata": {
        "id": "0937dafd",
        "outputId": "f3077668-55aa-4e5f-b039-a09d6cb8d587"
      },
      "outputs": [
        {
          "data": {
            "text/plain": [
              "array([14,  5,  5])"
            ]
          },
          "execution_count": 19,
          "metadata": {},
          "output_type": "execute_result"
        }
      ],
      "source": [
        "U.dot(v)"
      ]
    },
    {
      "cell_type": "code",
      "execution_count": null,
      "id": "85280363",
      "metadata": {
        "id": "85280363"
      },
      "outputs": [],
      "source": [
        "V = np.array([\n",
        "    [1, 1, 2],\n",
        "    [0, 0.5, 1],\n",
        "    [0, 2, 1],\n",
        "    [2, 1, 0],\n",
        "])"
      ]
    },
    {
      "cell_type": "code",
      "execution_count": null,
      "id": "82039bcf",
      "metadata": {
        "id": "82039bcf"
      },
      "outputs": [],
      "source": [
        "def matrix_matrix_multiplication(U, V):\n",
        "    assert U.shape[1] == V.shape[0]\n",
        "\n",
        "    num_rows = U.shape[0]\n",
        "    num_cols = V.shape[1]\n",
        "\n",
        "    result = np.zeros((num_rows, num_cols))\n",
        "\n",
        "    for i in range(num_cols):\n",
        "        vi = V[:, i]\n",
        "        Uvi = matrix_vector_multiplication(U, vi)\n",
        "        result[:, i] = Uvi\n",
        "\n",
        "    return result"
      ]
    },
    {
      "cell_type": "code",
      "execution_count": null,
      "id": "ab0e5aba",
      "metadata": {
        "id": "ab0e5aba",
        "outputId": "90fcee96-17c1-4f2e-ef0c-fa02dc9140ec"
      },
      "outputs": [
        {
          "data": {
            "text/plain": [
              "array([[14. , 20. , 13. ],\n",
              "       [ 5. ,  6. ,  5. ],\n",
              "       [ 5. ,  8.5,  9. ]])"
            ]
          },
          "execution_count": 22,
          "metadata": {},
          "output_type": "execute_result"
        }
      ],
      "source": [
        "matrix_matrix_multiplication(U, V)"
      ]
    },
    {
      "cell_type": "code",
      "execution_count": null,
      "id": "8d0e3b73",
      "metadata": {
        "id": "8d0e3b73",
        "outputId": "47956996-ea20-4826-fa3c-21926ee02a25"
      },
      "outputs": [
        {
          "data": {
            "text/plain": [
              "array([[14. , 20. , 13. ],\n",
              "       [ 5. ,  6. ,  5. ],\n",
              "       [ 5. ,  8.5,  9. ]])"
            ]
          },
          "execution_count": 23,
          "metadata": {},
          "output_type": "execute_result"
        }
      ],
      "source": [
        "U.dot(V)"
      ]
    },
    {
      "cell_type": "markdown",
      "id": "fb2cdbdd",
      "metadata": {
        "id": "fb2cdbdd"
      },
      "source": [
        "## Identity matrix"
      ]
    },
    {
      "cell_type": "code",
      "execution_count": null,
      "id": "ca913560",
      "metadata": {
        "id": "ca913560"
      },
      "outputs": [],
      "source": [
        "I = np.eye(3)"
      ]
    },
    {
      "cell_type": "code",
      "execution_count": null,
      "id": "0614d05f",
      "metadata": {
        "id": "0614d05f",
        "outputId": "68ee196f-e922-4167-a867-17dfb39549a5"
      },
      "outputs": [
        {
          "data": {
            "text/plain": [
              "array([[1. , 1. , 2. ],\n",
              "       [0. , 0.5, 1. ],\n",
              "       [0. , 2. , 1. ],\n",
              "       [2. , 1. , 0. ]])"
            ]
          },
          "execution_count": 28,
          "metadata": {},
          "output_type": "execute_result"
        }
      ],
      "source": [
        "V"
      ]
    },
    {
      "cell_type": "code",
      "execution_count": null,
      "id": "aabbf2ad",
      "metadata": {
        "id": "aabbf2ad",
        "outputId": "6877d73d-9a63-4769-c6bd-caf7fa2b87d3"
      },
      "outputs": [
        {
          "data": {
            "text/plain": [
              "array([[1. , 1. , 2. ],\n",
              "       [0. , 0.5, 1. ],\n",
              "       [0. , 2. , 1. ],\n",
              "       [2. , 1. , 0. ]])"
            ]
          },
          "execution_count": 27,
          "metadata": {},
          "output_type": "execute_result"
        }
      ],
      "source": [
        "V.dot(I)"
      ]
    },
    {
      "cell_type": "markdown",
      "id": "e8f786ef",
      "metadata": {
        "id": "e8f786ef"
      },
      "source": [
        "## Inverse"
      ]
    },
    {
      "cell_type": "code",
      "execution_count": null,
      "id": "3e6fc747",
      "metadata": {
        "id": "3e6fc747",
        "outputId": "7b55a451-427d-4735-8f12-3608ac19bd40"
      },
      "outputs": [
        {
          "data": {
            "text/plain": [
              "array([[1. , 1. , 2. ],\n",
              "       [0. , 0.5, 1. ],\n",
              "       [0. , 2. , 1. ]])"
            ]
          },
          "execution_count": 31,
          "metadata": {},
          "output_type": "execute_result"
        }
      ],
      "source": [
        "Vs = V[[0, 1, 2]]\n",
        "Vs"
      ]
    },
    {
      "cell_type": "code",
      "execution_count": null,
      "id": "5265b91e",
      "metadata": {
        "scrolled": true,
        "id": "5265b91e",
        "outputId": "65cc517f-898e-4b3c-9665-f2e988890d8c"
      },
      "outputs": [
        {
          "data": {
            "text/plain": [
              "array([[ 1.        , -2.        ,  0.        ],\n",
              "       [ 0.        , -0.66666667,  0.66666667],\n",
              "       [ 0.        ,  1.33333333, -0.33333333]])"
            ]
          },
          "execution_count": 33,
          "metadata": {},
          "output_type": "execute_result"
        }
      ],
      "source": [
        "Vs_inv = np.linalg.inv(Vs)\n",
        "Vs_inv"
      ]
    },
    {
      "cell_type": "code",
      "execution_count": null,
      "id": "3cd1d98b",
      "metadata": {
        "id": "3cd1d98b",
        "outputId": "3b35286d-47c6-4221-833c-e3237bbf903e"
      },
      "outputs": [
        {
          "data": {
            "text/plain": [
              "array([[1., 0., 0.],\n",
              "       [0., 1., 0.],\n",
              "       [0., 0., 1.]])"
            ]
          },
          "execution_count": 34,
          "metadata": {},
          "output_type": "execute_result"
        }
      ],
      "source": [
        "Vs_inv.dot(Vs)"
      ]
    },
    {
      "cell_type": "markdown",
      "id": "1c54ed7d",
      "metadata": {
        "id": "1c54ed7d"
      },
      "source": [
        "### Next\n",
        "\n",
        "Intro to Pandas"
      ]
    },
    {
      "cell_type": "code",
      "execution_count": null,
      "id": "64d8bdce",
      "metadata": {
        "id": "64d8bdce"
      },
      "outputs": [],
      "source": []
    }
  ],
  "metadata": {
    "kernelspec": {
      "display_name": "Python 3 (ipykernel)",
      "language": "python",
      "name": "python3"
    },
    "language_info": {
      "codemirror_mode": {
        "name": "ipython",
        "version": 3
      },
      "file_extension": ".py",
      "mimetype": "text/x-python",
      "name": "python",
      "nbconvert_exporter": "python",
      "pygments_lexer": "ipython3",
      "version": "3.8.11"
    },
    "colab": {
      "provenance": []
    }
  },
  "nbformat": 4,
  "nbformat_minor": 5
}