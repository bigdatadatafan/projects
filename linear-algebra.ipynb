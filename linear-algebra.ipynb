{
  "cells": [
    {
      "cell_type": "markdown",
      "id": "3aace4b5",
      "metadata": {
        "id": "3aace4b5"
      },
      "source": [
        "\n",
        "\n",
        "\n",
        "\n",
        "\n",
        "\n",
        "## 1.8 Algebra Lineal"
      ]
    },
    {
      "cell_type": "markdown",
      "id": "2cd0b8e5",
      "metadata": {
        "id": "2cd0b8e5"
      },
      "source": [
        "Plan:\n",
        "\n",
        "* Vector operations\n",
        "* Multiplication\n",
        "    * Vector-vector multiplication\n",
        "    * Matrix-vector multiplication\n",
        "    * Matrix-matrix multiplication\n",
        "* Identity matrix\n",
        "* Inverse"
      ]
    },
    {
      "cell_type": "code",
      "execution_count": 26,
      "id": "1317a223",
      "metadata": {
        "id": "1317a223"
      },
      "outputs": [],
      "source": [
        "import numpy as np"
      ]
    },
    {
      "cell_type": "markdown",
      "id": "4052050d",
      "metadata": {
        "id": "4052050d"
      },
      "source": [
        "## Vector operations"
      ]
    },
    {
      "cell_type": "code",
      "execution_count": 27,
      "id": "e87a01b7",
      "metadata": {
        "id": "e87a01b7"
      },
      "outputs": [],
      "source": [
        "u = np.array([2, 4, 5, 6])"
      ]
    },
    {
      "cell_type": "code",
      "execution_count": 28,
      "id": "913795a9",
      "metadata": {
        "id": "913795a9",
        "outputId": "7bf56d0c-7c74-45ad-d211-10d04d55d5b2",
        "colab": {
          "base_uri": "https://localhost:8080/"
        }
      },
      "outputs": [
        {
          "output_type": "execute_result",
          "data": {
            "text/plain": [
              "array([ 4,  8, 10, 12])"
            ]
          },
          "metadata": {},
          "execution_count": 28
        }
      ],
      "source": [
        "2 * u"
      ]
    },
    {
      "cell_type": "code",
      "execution_count": 29,
      "id": "24625627",
      "metadata": {
        "id": "24625627"
      },
      "outputs": [],
      "source": [
        "v = np.array([1, 0, 0, 2])"
      ]
    },
    {
      "cell_type": "code",
      "execution_count": 30,
      "id": "edc95be4",
      "metadata": {
        "id": "edc95be4",
        "outputId": "6d158d08-69ab-481c-df98-c0548023dbfb",
        "colab": {
          "base_uri": "https://localhost:8080/"
        }
      },
      "outputs": [
        {
          "output_type": "execute_result",
          "data": {
            "text/plain": [
              "array([3, 4, 5, 8])"
            ]
          },
          "metadata": {},
          "execution_count": 30
        }
      ],
      "source": [
        "u + v"
      ]
    },
    {
      "cell_type": "code",
      "execution_count": 31,
      "id": "62f471c3",
      "metadata": {
        "id": "62f471c3",
        "outputId": "207a58c4-ce04-44b3-dd2c-f2682c4f2457",
        "colab": {
          "base_uri": "https://localhost:8080/"
        }
      },
      "outputs": [
        {
          "output_type": "execute_result",
          "data": {
            "text/plain": [
              "array([ 2,  0,  0, 12])"
            ]
          },
          "metadata": {},
          "execution_count": 31
        }
      ],
      "source": [
        "u * v"
      ]
    },
    {
      "cell_type": "markdown",
      "id": "6cb784ea",
      "metadata": {
        "id": "6cb784ea"
      },
      "source": [
        "## Multiplication"
      ]
    },
    {
      "cell_type": "code",
      "execution_count": 32,
      "id": "6a838e14",
      "metadata": {
        "id": "6a838e14",
        "outputId": "2d1756fe-180c-4f51-fe2d-4f2052e48a26",
        "colab": {
          "base_uri": "https://localhost:8080/"
        }
      },
      "outputs": [
        {
          "output_type": "execute_result",
          "data": {
            "text/plain": [
              "4"
            ]
          },
          "metadata": {},
          "execution_count": 32
        }
      ],
      "source": [
        "v.shape[0]"
      ]
    },
    {
      "cell_type": "code",
      "execution_count": 33,
      "id": "bef565ee",
      "metadata": {
        "id": "bef565ee"
      },
      "outputs": [],
      "source": [
        "def vector_vector_multiplication(u, v):\n",
        "    assert u.shape[0] == v.shape[0]\n",
        "\n",
        "    n = u.shape[0]\n",
        "\n",
        "    result = 0.0\n",
        "\n",
        "    for i in range(n):\n",
        "        result = result + u[i] * v[i]\n",
        "\n",
        "    return result"
      ]
    },
    {
      "cell_type": "code",
      "execution_count": 34,
      "id": "5f212712",
      "metadata": {
        "id": "5f212712",
        "outputId": "75407c9a-535e-48d1-c4fa-b470ace624ba",
        "colab": {
          "base_uri": "https://localhost:8080/"
        }
      },
      "outputs": [
        {
          "output_type": "execute_result",
          "data": {
            "text/plain": [
              "np.float64(14.0)"
            ]
          },
          "metadata": {},
          "execution_count": 34
        }
      ],
      "source": [
        "vector_vector_multiplication(u, v)"
      ]
    },
    {
      "cell_type": "code",
      "execution_count": 35,
      "id": "b57c4464",
      "metadata": {
        "id": "b57c4464",
        "outputId": "1b5453f5-48d2-4b09-88fe-098c99b682b4",
        "colab": {
          "base_uri": "https://localhost:8080/"
        }
      },
      "outputs": [
        {
          "output_type": "execute_result",
          "data": {
            "text/plain": [
              "np.int64(14)"
            ]
          },
          "metadata": {},
          "execution_count": 35
        }
      ],
      "source": [
        "u.dot(v)"
      ]
    },
    {
      "cell_type": "code",
      "execution_count": 36,
      "id": "b7710217",
      "metadata": {
        "id": "b7710217"
      },
      "outputs": [],
      "source": [
        "U = np.array([\n",
        "    [2, 4, 5, 6],\n",
        "    [1, 2, 1, 2],\n",
        "    [3, 1, 2, 1],\n",
        "])"
      ]
    },
    {
      "cell_type": "code",
      "execution_count": 37,
      "id": "3f1ee5f1",
      "metadata": {
        "id": "3f1ee5f1",
        "outputId": "63db5590-af4d-4b26-b674-1a83ad14f2da",
        "colab": {
          "base_uri": "https://localhost:8080/"
        }
      },
      "outputs": [
        {
          "output_type": "execute_result",
          "data": {
            "text/plain": [
              "(3, 4)"
            ]
          },
          "metadata": {},
          "execution_count": 37
        }
      ],
      "source": [
        "U.shape"
      ]
    },
    {
      "cell_type": "code",
      "execution_count": 38,
      "id": "8b4f7530",
      "metadata": {
        "id": "8b4f7530"
      },
      "outputs": [],
      "source": [
        "def matrix_vector_multiplication(U, v):\n",
        "    assert U.shape[1] == v.shape[0]\n",
        "\n",
        "    num_rows = U.shape[0]\n",
        "\n",
        "    result = np.zeros(num_rows)\n",
        "\n",
        "    for i in range(num_rows):\n",
        "        result[i] = vector_vector_multiplication(U[i], v)\n",
        "\n",
        "    return result"
      ]
    },
    {
      "cell_type": "code",
      "execution_count": 39,
      "id": "930f42c3",
      "metadata": {
        "id": "930f42c3",
        "outputId": "f779288c-1e9f-4e97-8d87-eeca9f47ac9b",
        "colab": {
          "base_uri": "https://localhost:8080/"
        }
      },
      "outputs": [
        {
          "output_type": "execute_result",
          "data": {
            "text/plain": [
              "array([14.,  5.,  5.])"
            ]
          },
          "metadata": {},
          "execution_count": 39
        }
      ],
      "source": [
        "matrix_vector_multiplication(U, v)"
      ]
    },
    {
      "cell_type": "code",
      "execution_count": 40,
      "id": "0937dafd",
      "metadata": {
        "id": "0937dafd",
        "outputId": "e3259afe-cb9b-4da5-8c54-43880c128d90",
        "colab": {
          "base_uri": "https://localhost:8080/"
        }
      },
      "outputs": [
        {
          "output_type": "execute_result",
          "data": {
            "text/plain": [
              "array([14,  5,  5])"
            ]
          },
          "metadata": {},
          "execution_count": 40
        }
      ],
      "source": [
        "U.dot(v)"
      ]
    },
    {
      "cell_type": "code",
      "execution_count": 41,
      "id": "85280363",
      "metadata": {
        "id": "85280363"
      },
      "outputs": [],
      "source": [
        "V = np.array([\n",
        "    [1, 1, 2],\n",
        "    [0, 0.5, 1],\n",
        "    [0, 2, 1],\n",
        "    [2, 1, 0],\n",
        "])"
      ]
    },
    {
      "cell_type": "code",
      "execution_count": 42,
      "id": "82039bcf",
      "metadata": {
        "id": "82039bcf"
      },
      "outputs": [],
      "source": [
        "def matrix_matrix_multiplication(U, V):\n",
        "    assert U.shape[1] == V.shape[0]\n",
        "\n",
        "    num_rows = U.shape[0]\n",
        "    num_cols = V.shape[1]\n",
        "\n",
        "    result = np.zeros((num_rows, num_cols))\n",
        "\n",
        "    for i in range(num_cols):\n",
        "        vi = V[:, i]\n",
        "        Uvi = matrix_vector_multiplication(U, vi)\n",
        "        result[:, i] = Uvi\n",
        "\n",
        "    return result"
      ]
    },
    {
      "cell_type": "code",
      "execution_count": 43,
      "id": "ab0e5aba",
      "metadata": {
        "id": "ab0e5aba",
        "outputId": "cd0bfd3b-d935-445a-e07f-a59d83332011",
        "colab": {
          "base_uri": "https://localhost:8080/"
        }
      },
      "outputs": [
        {
          "output_type": "execute_result",
          "data": {
            "text/plain": [
              "array([[14. , 20. , 13. ],\n",
              "       [ 5. ,  6. ,  5. ],\n",
              "       [ 5. ,  8.5,  9. ]])"
            ]
          },
          "metadata": {},
          "execution_count": 43
        }
      ],
      "source": [
        "matrix_matrix_multiplication(U, V)"
      ]
    },
    {
      "cell_type": "code",
      "execution_count": 44,
      "id": "8d0e3b73",
      "metadata": {
        "id": "8d0e3b73",
        "outputId": "1fb5973f-ed0a-42ae-c7a0-943324fb6b3a",
        "colab": {
          "base_uri": "https://localhost:8080/"
        }
      },
      "outputs": [
        {
          "output_type": "execute_result",
          "data": {
            "text/plain": [
              "array([[14. , 20. , 13. ],\n",
              "       [ 5. ,  6. ,  5. ],\n",
              "       [ 5. ,  8.5,  9. ]])"
            ]
          },
          "metadata": {},
          "execution_count": 44
        }
      ],
      "source": [
        "U.dot(V)"
      ]
    },
    {
      "cell_type": "markdown",
      "id": "fb2cdbdd",
      "metadata": {
        "id": "fb2cdbdd"
      },
      "source": [
        "## Identity matrix"
      ]
    },
    {
      "cell_type": "code",
      "execution_count": 45,
      "id": "ca913560",
      "metadata": {
        "id": "ca913560"
      },
      "outputs": [],
      "source": [
        "I = np.eye(3)"
      ]
    },
    {
      "cell_type": "code",
      "execution_count": 46,
      "id": "0614d05f",
      "metadata": {
        "id": "0614d05f",
        "outputId": "740616b8-b401-4a90-8890-e47f945f0aa1",
        "colab": {
          "base_uri": "https://localhost:8080/"
        }
      },
      "outputs": [
        {
          "output_type": "execute_result",
          "data": {
            "text/plain": [
              "array([[1. , 1. , 2. ],\n",
              "       [0. , 0.5, 1. ],\n",
              "       [0. , 2. , 1. ],\n",
              "       [2. , 1. , 0. ]])"
            ]
          },
          "metadata": {},
          "execution_count": 46
        }
      ],
      "source": [
        "V"
      ]
    },
    {
      "cell_type": "code",
      "execution_count": 47,
      "id": "aabbf2ad",
      "metadata": {
        "id": "aabbf2ad",
        "outputId": "794a2f76-1e56-4c60-efb8-aec5cef11da4",
        "colab": {
          "base_uri": "https://localhost:8080/"
        }
      },
      "outputs": [
        {
          "output_type": "execute_result",
          "data": {
            "text/plain": [
              "array([[1. , 1. , 2. ],\n",
              "       [0. , 0.5, 1. ],\n",
              "       [0. , 2. , 1. ],\n",
              "       [2. , 1. , 0. ]])"
            ]
          },
          "metadata": {},
          "execution_count": 47
        }
      ],
      "source": [
        "V.dot(I)"
      ]
    },
    {
      "cell_type": "markdown",
      "id": "e8f786ef",
      "metadata": {
        "id": "e8f786ef"
      },
      "source": [
        "## Inverse"
      ]
    },
    {
      "cell_type": "code",
      "execution_count": 48,
      "id": "3e6fc747",
      "metadata": {
        "id": "3e6fc747",
        "outputId": "3f7cb421-ed47-47c1-9069-7b9476953caa",
        "colab": {
          "base_uri": "https://localhost:8080/"
        }
      },
      "outputs": [
        {
          "output_type": "execute_result",
          "data": {
            "text/plain": [
              "array([[1. , 1. , 2. ],\n",
              "       [0. , 0.5, 1. ],\n",
              "       [0. , 2. , 1. ]])"
            ]
          },
          "metadata": {},
          "execution_count": 48
        }
      ],
      "source": [
        "Vs = V[[0, 1, 2]]\n",
        "Vs"
      ]
    },
    {
      "cell_type": "code",
      "execution_count": 49,
      "id": "5265b91e",
      "metadata": {
        "scrolled": true,
        "id": "5265b91e",
        "outputId": "10107ab3-73cb-4212-a1c1-9a00c77595f6",
        "colab": {
          "base_uri": "https://localhost:8080/"
        }
      },
      "outputs": [
        {
          "output_type": "execute_result",
          "data": {
            "text/plain": [
              "array([[ 1.        , -2.        ,  0.        ],\n",
              "       [ 0.        , -0.66666667,  0.66666667],\n",
              "       [ 0.        ,  1.33333333, -0.33333333]])"
            ]
          },
          "metadata": {},
          "execution_count": 49
        }
      ],
      "source": [
        "Vs_inv = np.linalg.inv(Vs)\n",
        "Vs_inv"
      ]
    },
    {
      "cell_type": "code",
      "execution_count": 50,
      "id": "3cd1d98b",
      "metadata": {
        "id": "3cd1d98b",
        "outputId": "b649caa0-a73e-4c39-833c-e2db49c9d71d",
        "colab": {
          "base_uri": "https://localhost:8080/"
        }
      },
      "outputs": [
        {
          "output_type": "execute_result",
          "data": {
            "text/plain": [
              "array([[1., 0., 0.],\n",
              "       [0., 1., 0.],\n",
              "       [0., 0., 1.]])"
            ]
          },
          "metadata": {},
          "execution_count": 50
        }
      ],
      "source": [
        "Vs_inv.dot(Vs)"
      ]
    },
    {
      "cell_type": "markdown",
      "id": "1c54ed7d",
      "metadata": {
        "id": "1c54ed7d"
      },
      "source": [
        "### Next\n",
        "\n",
        "Intro to Pandas"
      ]
    },
    {
      "cell_type": "code",
      "execution_count": 50,
      "id": "64d8bdce",
      "metadata": {
        "id": "64d8bdce"
      },
      "outputs": [],
      "source": []
    }
  ],
  "metadata": {
    "kernelspec": {
      "display_name": "Python 3 (ipykernel)",
      "language": "python",
      "name": "python3"
    },
    "language_info": {
      "codemirror_mode": {
        "name": "ipython",
        "version": 3
      },
      "file_extension": ".py",
      "mimetype": "text/x-python",
      "name": "python",
      "nbconvert_exporter": "python",
      "pygments_lexer": "ipython3",
      "version": "3.8.11"
    },
    "colab": {
      "provenance": []
    }
  },
  "nbformat": 4,
  "nbformat_minor": 5
}