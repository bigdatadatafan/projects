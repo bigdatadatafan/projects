{
  "cells": [
    {
      "cell_type": "markdown",
      "id": "502da6a2",
      "metadata": {
        "id": "502da6a2"
      },
      "source": [
        "\n",
        "\n",
        "## 1.7 Introduction to NumPy\n",
        "\n",
        "\n",
        "Plan:\n",
        "\n",
        "* Creating arrays\n",
        "* Multi-dimensional arrays\n",
        "* Randomly generated arrays\n",
        "* Element-wise operations\n",
        "    * Comparison operations\n",
        "    * Logical operations\n",
        "* Summarizing operations"
      ]
    },
    {
      "cell_type": "code",
      "execution_count": null,
      "id": "95aa5b76",
      "metadata": {
        "id": "95aa5b76"
      },
      "outputs": [],
      "source": [
        "import numpy as np"
      ]
    },
    {
      "cell_type": "code",
      "execution_count": null,
      "id": "aa693c84",
      "metadata": {
        "id": "aa693c84",
        "outputId": "2f7f45a9-9bd0-46e8-cc5b-e92bbdc0b329"
      },
      "outputs": [
        {
          "data": {
            "text/plain": [
              "<module 'numpy' from '/home/alexey/.pyenv/versions/3.8.11/lib/python3.8/site-packages/numpy/__init__.py'>"
            ]
          },
          "execution_count": 8,
          "metadata": {},
          "output_type": "execute_result"
        }
      ],
      "source": [
        "np"
      ]
    },
    {
      "cell_type": "markdown",
      "id": "1e3ff2dc",
      "metadata": {
        "id": "1e3ff2dc"
      },
      "source": [
        "## Creating arrays\n"
      ]
    },
    {
      "cell_type": "code",
      "execution_count": null,
      "id": "783c3362",
      "metadata": {
        "id": "783c3362",
        "outputId": "88b6a038-6bb8-4419-db1b-13c6e1320a22"
      },
      "outputs": [
        {
          "data": {
            "text/plain": [
              "array([0., 0., 0., 0., 0., 0., 0., 0., 0., 0.])"
            ]
          },
          "execution_count": 10,
          "metadata": {},
          "output_type": "execute_result"
        }
      ],
      "source": [
        "np.zeros(10)"
      ]
    },
    {
      "cell_type": "code",
      "execution_count": null,
      "id": "2fc75d89",
      "metadata": {
        "id": "2fc75d89",
        "outputId": "e08ddf1a-9c35-45a6-e530-7a8ae9c280d5"
      },
      "outputs": [
        {
          "data": {
            "text/plain": [
              "array([1., 1., 1., 1., 1., 1., 1., 1., 1., 1.])"
            ]
          },
          "execution_count": 11,
          "metadata": {},
          "output_type": "execute_result"
        }
      ],
      "source": [
        "np.ones(10)"
      ]
    },
    {
      "cell_type": "code",
      "execution_count": null,
      "id": "5183483b",
      "metadata": {
        "id": "5183483b",
        "outputId": "542164ed-7184-4491-f573-e8014b0a5859"
      },
      "outputs": [
        {
          "data": {
            "text/plain": [
              "array([2.5, 2.5, 2.5, 2.5, 2.5, 2.5, 2.5, 2.5, 2.5, 2.5])"
            ]
          },
          "execution_count": 12,
          "metadata": {},
          "output_type": "execute_result"
        }
      ],
      "source": [
        "np.full(10, 2.5)"
      ]
    },
    {
      "cell_type": "code",
      "execution_count": null,
      "id": "fe81664d",
      "metadata": {
        "id": "fe81664d",
        "outputId": "48c0f728-3ef0-4c63-c502-e6387b21838c"
      },
      "outputs": [
        {
          "data": {
            "text/plain": [
              "array([ 1,  2,  3,  5,  7, 12])"
            ]
          },
          "execution_count": 15,
          "metadata": {},
          "output_type": "execute_result"
        }
      ],
      "source": [
        "a = np.array([1, 2, 3, 5, 7, 12])\n",
        "a"
      ]
    },
    {
      "cell_type": "code",
      "execution_count": null,
      "id": "dee26035",
      "metadata": {
        "id": "dee26035"
      },
      "outputs": [],
      "source": [
        "a[2] = 10"
      ]
    },
    {
      "cell_type": "code",
      "execution_count": null,
      "id": "0cf95a0f",
      "metadata": {
        "id": "0cf95a0f",
        "outputId": "a7820e2c-5311-4cd9-ff84-7068a0080596"
      },
      "outputs": [
        {
          "data": {
            "text/plain": [
              "array([ 1,  2, 10,  5,  7, 12])"
            ]
          },
          "execution_count": 18,
          "metadata": {},
          "output_type": "execute_result"
        }
      ],
      "source": [
        "a"
      ]
    },
    {
      "cell_type": "code",
      "execution_count": null,
      "id": "9a579406",
      "metadata": {
        "id": "9a579406",
        "outputId": "01dbd20c-9333-409e-b048-1019e424f9ba"
      },
      "outputs": [
        {
          "data": {
            "text/plain": [
              "array([3, 4, 5, 6, 7, 8, 9])"
            ]
          },
          "execution_count": 20,
          "metadata": {},
          "output_type": "execute_result"
        }
      ],
      "source": [
        "np.arange(3, 10)"
      ]
    },
    {
      "cell_type": "code",
      "execution_count": null,
      "id": "96260ddb",
      "metadata": {
        "id": "96260ddb",
        "outputId": "656421a1-f3c8-46b2-ef2f-0a13f086891a"
      },
      "outputs": [
        {
          "data": {
            "text/plain": [
              "array([  0.,  10.,  20.,  30.,  40.,  50.,  60.,  70.,  80.,  90., 100.])"
            ]
          },
          "execution_count": 24,
          "metadata": {},
          "output_type": "execute_result"
        }
      ],
      "source": [
        "np.linspace(0, 100, 11)"
      ]
    },
    {
      "cell_type": "markdown",
      "id": "37f36946",
      "metadata": {
        "id": "37f36946"
      },
      "source": [
        "## Multi-dimensional arrays\n"
      ]
    },
    {
      "cell_type": "code",
      "execution_count": null,
      "id": "b4a61c53",
      "metadata": {
        "id": "b4a61c53",
        "outputId": "b591ac08-9bdb-45bb-e853-3d9fee8a17d8"
      },
      "outputs": [
        {
          "data": {
            "text/plain": [
              "array([[0., 0.],\n",
              "       [0., 0.],\n",
              "       [0., 0.],\n",
              "       [0., 0.],\n",
              "       [0., 0.]])"
            ]
          },
          "execution_count": 25,
          "metadata": {},
          "output_type": "execute_result"
        }
      ],
      "source": [
        "np.zeros((5, 2))"
      ]
    },
    {
      "cell_type": "code",
      "execution_count": null,
      "id": "4f75f854",
      "metadata": {
        "id": "4f75f854"
      },
      "outputs": [],
      "source": [
        "n = np.array([\n",
        "    [1, 2, 3],\n",
        "    [4, 5, 6],\n",
        "    [7, 8, 9]\n",
        "])"
      ]
    },
    {
      "cell_type": "code",
      "execution_count": null,
      "id": "619860f6",
      "metadata": {
        "id": "619860f6"
      },
      "outputs": [],
      "source": [
        "n[0, 1] = 20"
      ]
    },
    {
      "cell_type": "code",
      "execution_count": null,
      "id": "54333fc7",
      "metadata": {
        "id": "54333fc7",
        "outputId": "39cf80c5-fb1c-46b0-92be-4ab4068d2c56"
      },
      "outputs": [
        {
          "data": {
            "text/plain": [
              "array([[ 1, 20,  3],\n",
              "       [ 4,  5,  6],\n",
              "       [ 7,  8,  9]])"
            ]
          },
          "execution_count": 30,
          "metadata": {},
          "output_type": "execute_result"
        }
      ],
      "source": [
        "n"
      ]
    },
    {
      "cell_type": "code",
      "execution_count": null,
      "id": "57eef634",
      "metadata": {
        "id": "57eef634"
      },
      "outputs": [],
      "source": [
        "n[2] = [1, 1, 1]"
      ]
    },
    {
      "cell_type": "code",
      "execution_count": null,
      "id": "b3fa6ae7",
      "metadata": {
        "id": "b3fa6ae7",
        "outputId": "016c0837-22b5-4120-f4b6-68d870aa66be"
      },
      "outputs": [
        {
          "data": {
            "text/plain": [
              "array([[ 1, 20,  3],\n",
              "       [ 4,  5,  6],\n",
              "       [ 1,  1,  1]])"
            ]
          },
          "execution_count": 35,
          "metadata": {},
          "output_type": "execute_result"
        }
      ],
      "source": [
        "n"
      ]
    },
    {
      "cell_type": "code",
      "execution_count": null,
      "id": "42f1d1f4",
      "metadata": {
        "id": "42f1d1f4"
      },
      "outputs": [],
      "source": [
        "n[:, 2] = [0, 1, 2]"
      ]
    },
    {
      "cell_type": "code",
      "execution_count": null,
      "id": "13442277",
      "metadata": {
        "id": "13442277",
        "outputId": "7cb52359-3551-417a-d39a-b513c479639f"
      },
      "outputs": [
        {
          "data": {
            "text/plain": [
              "array([[ 1, 20,  0],\n",
              "       [ 4,  5,  1],\n",
              "       [ 1,  1,  2]])"
            ]
          },
          "execution_count": 40,
          "metadata": {},
          "output_type": "execute_result"
        }
      ],
      "source": [
        "n"
      ]
    },
    {
      "cell_type": "markdown",
      "id": "62ba6337",
      "metadata": {
        "id": "62ba6337"
      },
      "source": [
        "## Randomly generated arrays\n"
      ]
    },
    {
      "cell_type": "code",
      "execution_count": null,
      "id": "6781ff11",
      "metadata": {
        "id": "6781ff11",
        "outputId": "bc7e8f28-6e90-454e-9d05-2ec0a74a5e5e"
      },
      "outputs": [
        {
          "data": {
            "text/plain": [
              "array([[43.59949021,  2.59262318],\n",
              "       [54.96624779, 43.53223926],\n",
              "       [42.03678021, 33.0334821 ],\n",
              "       [20.4648634 , 61.92709664],\n",
              "       [29.96546737, 26.68272751]])"
            ]
          },
          "execution_count": 51,
          "metadata": {},
          "output_type": "execute_result"
        }
      ],
      "source": [
        "np.random.seed(2)\n",
        "100 * np.random.rand(5, 2)"
      ]
    },
    {
      "cell_type": "code",
      "execution_count": null,
      "id": "4374e58b",
      "metadata": {
        "id": "4374e58b",
        "outputId": "d6635989-50af-4913-9981-5bff41588b27"
      },
      "outputs": [
        {
          "data": {
            "text/plain": [
              "array([[-0.41675785, -0.05626683],\n",
              "       [-2.1361961 ,  1.64027081],\n",
              "       [-1.79343559, -0.84174737],\n",
              "       [ 0.50288142, -1.24528809],\n",
              "       [-1.05795222, -0.90900761]])"
            ]
          },
          "execution_count": 50,
          "metadata": {},
          "output_type": "execute_result"
        }
      ],
      "source": [
        "np.random.seed(2)\n",
        "np.random.randn(5, 2)"
      ]
    },
    {
      "cell_type": "code",
      "execution_count": null,
      "id": "ebb39565",
      "metadata": {
        "id": "ebb39565",
        "outputId": "c8b19a60-9930-4a63-9c6d-085f42276940"
      },
      "outputs": [
        {
          "data": {
            "text/plain": [
              "array([[40, 15],\n",
              "       [72, 22],\n",
              "       [43, 82],\n",
              "       [75,  7],\n",
              "       [34, 49]])"
            ]
          },
          "execution_count": 52,
          "metadata": {},
          "output_type": "execute_result"
        }
      ],
      "source": [
        "np.random.seed(2)\n",
        "np.random.randint(low=0, high=100, size=(5, 2))"
      ]
    },
    {
      "cell_type": "markdown",
      "id": "364c6d7c",
      "metadata": {
        "id": "364c6d7c"
      },
      "source": [
        "## Element-wise operations\n"
      ]
    },
    {
      "cell_type": "code",
      "execution_count": null,
      "id": "51390a32",
      "metadata": {
        "id": "51390a32",
        "outputId": "05e5c65d-341d-4ea4-e2c8-34ab72804dcc"
      },
      "outputs": [
        {
          "data": {
            "text/plain": [
              "array([0, 1, 2, 3, 4])"
            ]
          },
          "execution_count": 53,
          "metadata": {},
          "output_type": "execute_result"
        }
      ],
      "source": [
        "a = np.arange(5)\n",
        "a"
      ]
    },
    {
      "cell_type": "code",
      "execution_count": null,
      "id": "6e87e9b0",
      "metadata": {
        "id": "6e87e9b0"
      },
      "outputs": [],
      "source": [
        "b = (10 + (a * 2)) ** 2 / 100"
      ]
    },
    {
      "cell_type": "code",
      "execution_count": null,
      "id": "013a9e2a",
      "metadata": {
        "id": "013a9e2a",
        "outputId": "b3783e90-f998-4af8-83bc-2a07d8dc516b"
      },
      "outputs": [
        {
          "data": {
            "text/plain": [
              "array([1.  , 1.44, 1.96, 2.56, 3.24])"
            ]
          },
          "execution_count": 65,
          "metadata": {},
          "output_type": "execute_result"
        }
      ],
      "source": [
        "b"
      ]
    },
    {
      "cell_type": "code",
      "execution_count": null,
      "id": "08592c4a",
      "metadata": {
        "id": "08592c4a",
        "outputId": "5c37dd35-57aa-4a3e-befb-24689e489b93"
      },
      "outputs": [
        {
          "data": {
            "text/plain": [
              "array([10.        , 10.69444444, 11.02040816, 11.171875  , 11.2345679 ])"
            ]
          },
          "execution_count": 68,
          "metadata": {},
          "output_type": "execute_result"
        }
      ],
      "source": [
        "a / b + 10"
      ]
    },
    {
      "cell_type": "markdown",
      "id": "35fc84d3",
      "metadata": {
        "id": "35fc84d3"
      },
      "source": [
        "## Comparison operations"
      ]
    },
    {
      "cell_type": "code",
      "execution_count": null,
      "id": "e26eefdc",
      "metadata": {
        "id": "e26eefdc",
        "outputId": "214d1952-f464-4cd6-8881-d1cc382f8101"
      },
      "outputs": [
        {
          "data": {
            "text/plain": [
              "array([0, 1, 2, 3, 4])"
            ]
          },
          "execution_count": 70,
          "metadata": {},
          "output_type": "execute_result"
        }
      ],
      "source": [
        "a"
      ]
    },
    {
      "cell_type": "code",
      "execution_count": null,
      "id": "8fd3fc96",
      "metadata": {
        "id": "8fd3fc96",
        "outputId": "dc137e18-57f6-4bae-ffb4-be7587f4a8c7"
      },
      "outputs": [
        {
          "data": {
            "text/plain": [
              "array([False, False,  True,  True,  True])"
            ]
          },
          "execution_count": 69,
          "metadata": {},
          "output_type": "execute_result"
        }
      ],
      "source": [
        "a >= 2"
      ]
    },
    {
      "cell_type": "code",
      "execution_count": null,
      "id": "bca43c2c",
      "metadata": {
        "id": "bca43c2c",
        "outputId": "70b6d9f1-c419-4bde-9f36-add99426d851"
      },
      "outputs": [
        {
          "data": {
            "text/plain": [
              "array([1.  , 1.44, 1.96, 2.56, 3.24])"
            ]
          },
          "execution_count": 71,
          "metadata": {},
          "output_type": "execute_result"
        }
      ],
      "source": [
        "b"
      ]
    },
    {
      "cell_type": "code",
      "execution_count": null,
      "id": "f6e89611",
      "metadata": {
        "id": "f6e89611",
        "outputId": "9f48ba02-554b-4749-c2c5-8ea421e0ad8b"
      },
      "outputs": [
        {
          "data": {
            "text/plain": [
              "array([False, False,  True,  True,  True])"
            ]
          },
          "execution_count": 72,
          "metadata": {},
          "output_type": "execute_result"
        }
      ],
      "source": [
        "a > b"
      ]
    },
    {
      "cell_type": "code",
      "execution_count": null,
      "id": "15a5a80a",
      "metadata": {
        "id": "15a5a80a",
        "outputId": "c1573abb-9012-49a9-9329-1f76c4a68a30"
      },
      "outputs": [
        {
          "data": {
            "text/plain": [
              "array([2, 3, 4])"
            ]
          },
          "execution_count": 73,
          "metadata": {},
          "output_type": "execute_result"
        }
      ],
      "source": [
        "a[a > b]"
      ]
    },
    {
      "cell_type": "markdown",
      "id": "0259499b",
      "metadata": {
        "id": "0259499b"
      },
      "source": [
        "## Summarizing operations"
      ]
    },
    {
      "cell_type": "code",
      "execution_count": null,
      "id": "c1b30281",
      "metadata": {
        "id": "c1b30281",
        "outputId": "69f0c8be-6670-4874-eb63-b3ddf06880b3"
      },
      "outputs": [
        {
          "data": {
            "text/plain": [
              "array([0, 1, 2, 3, 4])"
            ]
          },
          "execution_count": 75,
          "metadata": {},
          "output_type": "execute_result"
        }
      ],
      "source": [
        "a"
      ]
    },
    {
      "cell_type": "code",
      "execution_count": null,
      "id": "d850c2aa",
      "metadata": {
        "id": "d850c2aa",
        "outputId": "4eebe481-bf03-4130-ad8f-311004611973"
      },
      "outputs": [
        {
          "data": {
            "text/plain": [
              "1.4142135623730951"
            ]
          },
          "execution_count": 79,
          "metadata": {},
          "output_type": "execute_result"
        }
      ],
      "source": [
        "a.std()"
      ]
    },
    {
      "cell_type": "code",
      "execution_count": null,
      "id": "2b2587f2",
      "metadata": {
        "id": "2b2587f2",
        "outputId": "380caded-2d4c-458c-8815-71f91cb36efb"
      },
      "outputs": [
        {
          "data": {
            "text/plain": [
              "0"
            ]
          },
          "execution_count": 82,
          "metadata": {},
          "output_type": "execute_result"
        }
      ],
      "source": [
        "n.min()"
      ]
    },
    {
      "cell_type": "markdown",
      "id": "0662686b",
      "metadata": {
        "id": "0662686b"
      },
      "source": [
        "### Next\n",
        "\n",
        "Linear algebra refresher"
      ]
    }
  ],
  "metadata": {
    "kernelspec": {
      "display_name": "Python 3 (ipykernel)",
      "language": "python",
      "name": "python3"
    },
    "language_info": {
      "codemirror_mode": {
        "name": "ipython",
        "version": 3
      },
      "file_extension": ".py",
      "mimetype": "text/x-python",
      "name": "python",
      "nbconvert_exporter": "python",
      "pygments_lexer": "ipython3",
      "version": "3.8.11"
    },
    "colab": {
      "provenance": []
    }
  },
  "nbformat": 4,
  "nbformat_minor": 5
}