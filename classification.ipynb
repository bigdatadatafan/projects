{
  "cells": [
    {
      "cell_type": "markdown",
      "metadata": {
        "id": "W35Oy29_JDQY"
      },
      "source": [
        "# 3. Machine Learning for Classification\n",
        "\n",
        "We'll use logistic regression to predict churn\n",
        "\n",
        "\n",
        "## 3.1 Churn prediction project\n",
        "\n",
        "* Dataset: https://www.kaggle.com/blastchar/telco-customer-churn\n",
        "* https://raw.githubusercontent.com/bigdatadatafan/datasets-clase/main/Telco-Customer-Churn.csv\n"
      ],
      "id": "W35Oy29_JDQY"
    },
    {
      "cell_type": "markdown",
      "metadata": {
        "id": "6R3y8r4kJDQb"
      },
      "source": [
        "## 3.2 Data preparation\n",
        "\n",
        "* Download the data, read it with pandas\n",
        "* Look at the data\n",
        "* Make column names and values look uniform\n",
        "* Check if all the columns read correctly\n",
        "* Check if the churn variable needs any preparation"
      ],
      "id": "6R3y8r4kJDQb"
    },
    {
      "cell_type": "code",
      "execution_count": null,
      "metadata": {
        "id": "DwcoSAv3JDQd"
      },
      "outputs": [],
      "source": [
        "import pandas as pd\n",
        "import numpy as np\n",
        "\n",
        "import matplotlib.pyplot as plt"
      ],
      "id": "DwcoSAv3JDQd"
    },
    {
      "cell_type": "code",
      "execution_count": null,
      "metadata": {
        "id": "Q5pEklZnJDQf"
      },
      "outputs": [],
      "source": [
        "data = 'https://raw.githubusercontent.com/bigdatadatafan/datasets-clase/main/Telco-Customer-Churn.csv'"
      ],
      "id": "Q5pEklZnJDQf"
    },
    {
      "cell_type": "code",
      "execution_count": null,
      "metadata": {
        "id": "CY50KHYMJDQh",
        "outputId": "9d27895b-77b8-47dd-b38c-e11a06c4c952",
        "colab": {
          "base_uri": "https://localhost:8080/",
          "height": 342
        }
      },
      "outputs": [
        {
          "output_type": "execute_result",
          "data": {
            "text/plain": [
              "   customerID  gender  SeniorCitizen Partner Dependents  tenure PhoneService  \\\n",
              "0  7590-VHVEG  Female              0     Yes         No       1           No   \n",
              "1  5575-GNVDE    Male              0      No         No      34          Yes   \n",
              "2  3668-QPYBK    Male              0      No         No       2          Yes   \n",
              "3  7795-CFOCW    Male              0      No         No      45           No   \n",
              "4  9237-HQITU  Female              0      No         No       2          Yes   \n",
              "\n",
              "      MultipleLines InternetService OnlineSecurity  ... DeviceProtection  \\\n",
              "0  No phone service             DSL             No  ...               No   \n",
              "1                No             DSL            Yes  ...              Yes   \n",
              "2                No             DSL            Yes  ...               No   \n",
              "3  No phone service             DSL            Yes  ...              Yes   \n",
              "4                No     Fiber optic             No  ...               No   \n",
              "\n",
              "  TechSupport StreamingTV StreamingMovies        Contract PaperlessBilling  \\\n",
              "0          No          No              No  Month-to-month              Yes   \n",
              "1          No          No              No        One year               No   \n",
              "2          No          No              No  Month-to-month              Yes   \n",
              "3         Yes          No              No        One year               No   \n",
              "4          No          No              No  Month-to-month              Yes   \n",
              "\n",
              "               PaymentMethod MonthlyCharges  TotalCharges Churn  \n",
              "0           Electronic check          29.85         29.85    No  \n",
              "1               Mailed check          56.95        1889.5    No  \n",
              "2               Mailed check          53.85        108.15   Yes  \n",
              "3  Bank transfer (automatic)          42.30       1840.75    No  \n",
              "4           Electronic check          70.70        151.65   Yes  \n",
              "\n",
              "[5 rows x 21 columns]"
            ],
            "text/html": [
              "\n",
              "  <div id=\"df-71ed46e4-fd1a-49b3-b0d9-ced6cc4a6b4a\" class=\"colab-df-container\">\n",
              "    <div>\n",
              "<style scoped>\n",
              "    .dataframe tbody tr th:only-of-type {\n",
              "        vertical-align: middle;\n",
              "    }\n",
              "\n",
              "    .dataframe tbody tr th {\n",
              "        vertical-align: top;\n",
              "    }\n",
              "\n",
              "    .dataframe thead th {\n",
              "        text-align: right;\n",
              "    }\n",
              "</style>\n",
              "<table border=\"1\" class=\"dataframe\">\n",
              "  <thead>\n",
              "    <tr style=\"text-align: right;\">\n",
              "      <th></th>\n",
              "      <th>customerID</th>\n",
              "      <th>gender</th>\n",
              "      <th>SeniorCitizen</th>\n",
              "      <th>Partner</th>\n",
              "      <th>Dependents</th>\n",
              "      <th>tenure</th>\n",
              "      <th>PhoneService</th>\n",
              "      <th>MultipleLines</th>\n",
              "      <th>InternetService</th>\n",
              "      <th>OnlineSecurity</th>\n",
              "      <th>...</th>\n",
              "      <th>DeviceProtection</th>\n",
              "      <th>TechSupport</th>\n",
              "      <th>StreamingTV</th>\n",
              "      <th>StreamingMovies</th>\n",
              "      <th>Contract</th>\n",
              "      <th>PaperlessBilling</th>\n",
              "      <th>PaymentMethod</th>\n",
              "      <th>MonthlyCharges</th>\n",
              "      <th>TotalCharges</th>\n",
              "      <th>Churn</th>\n",
              "    </tr>\n",
              "  </thead>\n",
              "  <tbody>\n",
              "    <tr>\n",
              "      <th>0</th>\n",
              "      <td>7590-VHVEG</td>\n",
              "      <td>Female</td>\n",
              "      <td>0</td>\n",
              "      <td>Yes</td>\n",
              "      <td>No</td>\n",
              "      <td>1</td>\n",
              "      <td>No</td>\n",
              "      <td>No phone service</td>\n",
              "      <td>DSL</td>\n",
              "      <td>No</td>\n",
              "      <td>...</td>\n",
              "      <td>No</td>\n",
              "      <td>No</td>\n",
              "      <td>No</td>\n",
              "      <td>No</td>\n",
              "      <td>Month-to-month</td>\n",
              "      <td>Yes</td>\n",
              "      <td>Electronic check</td>\n",
              "      <td>29.85</td>\n",
              "      <td>29.85</td>\n",
              "      <td>No</td>\n",
              "    </tr>\n",
              "    <tr>\n",
              "      <th>1</th>\n",
              "      <td>5575-GNVDE</td>\n",
              "      <td>Male</td>\n",
              "      <td>0</td>\n",
              "      <td>No</td>\n",
              "      <td>No</td>\n",
              "      <td>34</td>\n",
              "      <td>Yes</td>\n",
              "      <td>No</td>\n",
              "      <td>DSL</td>\n",
              "      <td>Yes</td>\n",
              "      <td>...</td>\n",
              "      <td>Yes</td>\n",
              "      <td>No</td>\n",
              "      <td>No</td>\n",
              "      <td>No</td>\n",
              "      <td>One year</td>\n",
              "      <td>No</td>\n",
              "      <td>Mailed check</td>\n",
              "      <td>56.95</td>\n",
              "      <td>1889.5</td>\n",
              "      <td>No</td>\n",
              "    </tr>\n",
              "    <tr>\n",
              "      <th>2</th>\n",
              "      <td>3668-QPYBK</td>\n",
              "      <td>Male</td>\n",
              "      <td>0</td>\n",
              "      <td>No</td>\n",
              "      <td>No</td>\n",
              "      <td>2</td>\n",
              "      <td>Yes</td>\n",
              "      <td>No</td>\n",
              "      <td>DSL</td>\n",
              "      <td>Yes</td>\n",
              "      <td>...</td>\n",
              "      <td>No</td>\n",
              "      <td>No</td>\n",
              "      <td>No</td>\n",
              "      <td>No</td>\n",
              "      <td>Month-to-month</td>\n",
              "      <td>Yes</td>\n",
              "      <td>Mailed check</td>\n",
              "      <td>53.85</td>\n",
              "      <td>108.15</td>\n",
              "      <td>Yes</td>\n",
              "    </tr>\n",
              "    <tr>\n",
              "      <th>3</th>\n",
              "      <td>7795-CFOCW</td>\n",
              "      <td>Male</td>\n",
              "      <td>0</td>\n",
              "      <td>No</td>\n",
              "      <td>No</td>\n",
              "      <td>45</td>\n",
              "      <td>No</td>\n",
              "      <td>No phone service</td>\n",
              "      <td>DSL</td>\n",
              "      <td>Yes</td>\n",
              "      <td>...</td>\n",
              "      <td>Yes</td>\n",
              "      <td>Yes</td>\n",
              "      <td>No</td>\n",
              "      <td>No</td>\n",
              "      <td>One year</td>\n",
              "      <td>No</td>\n",
              "      <td>Bank transfer (automatic)</td>\n",
              "      <td>42.30</td>\n",
              "      <td>1840.75</td>\n",
              "      <td>No</td>\n",
              "    </tr>\n",
              "    <tr>\n",
              "      <th>4</th>\n",
              "      <td>9237-HQITU</td>\n",
              "      <td>Female</td>\n",
              "      <td>0</td>\n",
              "      <td>No</td>\n",
              "      <td>No</td>\n",
              "      <td>2</td>\n",
              "      <td>Yes</td>\n",
              "      <td>No</td>\n",
              "      <td>Fiber optic</td>\n",
              "      <td>No</td>\n",
              "      <td>...</td>\n",
              "      <td>No</td>\n",
              "      <td>No</td>\n",
              "      <td>No</td>\n",
              "      <td>No</td>\n",
              "      <td>Month-to-month</td>\n",
              "      <td>Yes</td>\n",
              "      <td>Electronic check</td>\n",
              "      <td>70.70</td>\n",
              "      <td>151.65</td>\n",
              "      <td>Yes</td>\n",
              "    </tr>\n",
              "  </tbody>\n",
              "</table>\n",
              "<p>5 rows × 21 columns</p>\n",
              "</div>\n",
              "    <div class=\"colab-df-buttons\">\n",
              "\n",
              "  <div class=\"colab-df-container\">\n",
              "    <button class=\"colab-df-convert\" onclick=\"convertToInteractive('df-71ed46e4-fd1a-49b3-b0d9-ced6cc4a6b4a')\"\n",
              "            title=\"Convert this dataframe to an interactive table.\"\n",
              "            style=\"display:none;\">\n",
              "\n",
              "  <svg xmlns=\"http://www.w3.org/2000/svg\" height=\"24px\" viewBox=\"0 -960 960 960\">\n",
              "    <path d=\"M120-120v-720h720v720H120Zm60-500h600v-160H180v160Zm220 220h160v-160H400v160Zm0 220h160v-160H400v160ZM180-400h160v-160H180v160Zm440 0h160v-160H620v160ZM180-180h160v-160H180v160Zm440 0h160v-160H620v160Z\"/>\n",
              "  </svg>\n",
              "    </button>\n",
              "\n",
              "  <style>\n",
              "    .colab-df-container {\n",
              "      display:flex;\n",
              "      gap: 12px;\n",
              "    }\n",
              "\n",
              "    .colab-df-convert {\n",
              "      background-color: #E8F0FE;\n",
              "      border: none;\n",
              "      border-radius: 50%;\n",
              "      cursor: pointer;\n",
              "      display: none;\n",
              "      fill: #1967D2;\n",
              "      height: 32px;\n",
              "      padding: 0 0 0 0;\n",
              "      width: 32px;\n",
              "    }\n",
              "\n",
              "    .colab-df-convert:hover {\n",
              "      background-color: #E2EBFA;\n",
              "      box-shadow: 0px 1px 2px rgba(60, 64, 67, 0.3), 0px 1px 3px 1px rgba(60, 64, 67, 0.15);\n",
              "      fill: #174EA6;\n",
              "    }\n",
              "\n",
              "    .colab-df-buttons div {\n",
              "      margin-bottom: 4px;\n",
              "    }\n",
              "\n",
              "    [theme=dark] .colab-df-convert {\n",
              "      background-color: #3B4455;\n",
              "      fill: #D2E3FC;\n",
              "    }\n",
              "\n",
              "    [theme=dark] .colab-df-convert:hover {\n",
              "      background-color: #434B5C;\n",
              "      box-shadow: 0px 1px 3px 1px rgba(0, 0, 0, 0.15);\n",
              "      filter: drop-shadow(0px 1px 2px rgba(0, 0, 0, 0.3));\n",
              "      fill: #FFFFFF;\n",
              "    }\n",
              "  </style>\n",
              "\n",
              "    <script>\n",
              "      const buttonEl =\n",
              "        document.querySelector('#df-71ed46e4-fd1a-49b3-b0d9-ced6cc4a6b4a button.colab-df-convert');\n",
              "      buttonEl.style.display =\n",
              "        google.colab.kernel.accessAllowed ? 'block' : 'none';\n",
              "\n",
              "      async function convertToInteractive(key) {\n",
              "        const element = document.querySelector('#df-71ed46e4-fd1a-49b3-b0d9-ced6cc4a6b4a');\n",
              "        const dataTable =\n",
              "          await google.colab.kernel.invokeFunction('convertToInteractive',\n",
              "                                                    [key], {});\n",
              "        if (!dataTable) return;\n",
              "\n",
              "        const docLinkHtml = 'Like what you see? Visit the ' +\n",
              "          '<a target=\"_blank\" href=https://colab.research.google.com/notebooks/data_table.ipynb>data table notebook</a>'\n",
              "          + ' to learn more about interactive tables.';\n",
              "        element.innerHTML = '';\n",
              "        dataTable['output_type'] = 'display_data';\n",
              "        await google.colab.output.renderOutput(dataTable, element);\n",
              "        const docLink = document.createElement('div');\n",
              "        docLink.innerHTML = docLinkHtml;\n",
              "        element.appendChild(docLink);\n",
              "      }\n",
              "    </script>\n",
              "  </div>\n",
              "\n",
              "\n",
              "    <div id=\"df-4d349900-079a-4c0a-ba0a-efaf218595ff\">\n",
              "      <button class=\"colab-df-quickchart\" onclick=\"quickchart('df-4d349900-079a-4c0a-ba0a-efaf218595ff')\"\n",
              "                title=\"Suggest charts\"\n",
              "                style=\"display:none;\">\n",
              "\n",
              "<svg xmlns=\"http://www.w3.org/2000/svg\" height=\"24px\"viewBox=\"0 0 24 24\"\n",
              "     width=\"24px\">\n",
              "    <g>\n",
              "        <path d=\"M19 3H5c-1.1 0-2 .9-2 2v14c0 1.1.9 2 2 2h14c1.1 0 2-.9 2-2V5c0-1.1-.9-2-2-2zM9 17H7v-7h2v7zm4 0h-2V7h2v10zm4 0h-2v-4h2v4z\"/>\n",
              "    </g>\n",
              "</svg>\n",
              "      </button>\n",
              "\n",
              "<style>\n",
              "  .colab-df-quickchart {\n",
              "      --bg-color: #E8F0FE;\n",
              "      --fill-color: #1967D2;\n",
              "      --hover-bg-color: #E2EBFA;\n",
              "      --hover-fill-color: #174EA6;\n",
              "      --disabled-fill-color: #AAA;\n",
              "      --disabled-bg-color: #DDD;\n",
              "  }\n",
              "\n",
              "  [theme=dark] .colab-df-quickchart {\n",
              "      --bg-color: #3B4455;\n",
              "      --fill-color: #D2E3FC;\n",
              "      --hover-bg-color: #434B5C;\n",
              "      --hover-fill-color: #FFFFFF;\n",
              "      --disabled-bg-color: #3B4455;\n",
              "      --disabled-fill-color: #666;\n",
              "  }\n",
              "\n",
              "  .colab-df-quickchart {\n",
              "    background-color: var(--bg-color);\n",
              "    border: none;\n",
              "    border-radius: 50%;\n",
              "    cursor: pointer;\n",
              "    display: none;\n",
              "    fill: var(--fill-color);\n",
              "    height: 32px;\n",
              "    padding: 0;\n",
              "    width: 32px;\n",
              "  }\n",
              "\n",
              "  .colab-df-quickchart:hover {\n",
              "    background-color: var(--hover-bg-color);\n",
              "    box-shadow: 0 1px 2px rgba(60, 64, 67, 0.3), 0 1px 3px 1px rgba(60, 64, 67, 0.15);\n",
              "    fill: var(--button-hover-fill-color);\n",
              "  }\n",
              "\n",
              "  .colab-df-quickchart-complete:disabled,\n",
              "  .colab-df-quickchart-complete:disabled:hover {\n",
              "    background-color: var(--disabled-bg-color);\n",
              "    fill: var(--disabled-fill-color);\n",
              "    box-shadow: none;\n",
              "  }\n",
              "\n",
              "  .colab-df-spinner {\n",
              "    border: 2px solid var(--fill-color);\n",
              "    border-color: transparent;\n",
              "    border-bottom-color: var(--fill-color);\n",
              "    animation:\n",
              "      spin 1s steps(1) infinite;\n",
              "  }\n",
              "\n",
              "  @keyframes spin {\n",
              "    0% {\n",
              "      border-color: transparent;\n",
              "      border-bottom-color: var(--fill-color);\n",
              "      border-left-color: var(--fill-color);\n",
              "    }\n",
              "    20% {\n",
              "      border-color: transparent;\n",
              "      border-left-color: var(--fill-color);\n",
              "      border-top-color: var(--fill-color);\n",
              "    }\n",
              "    30% {\n",
              "      border-color: transparent;\n",
              "      border-left-color: var(--fill-color);\n",
              "      border-top-color: var(--fill-color);\n",
              "      border-right-color: var(--fill-color);\n",
              "    }\n",
              "    40% {\n",
              "      border-color: transparent;\n",
              "      border-right-color: var(--fill-color);\n",
              "      border-top-color: var(--fill-color);\n",
              "    }\n",
              "    60% {\n",
              "      border-color: transparent;\n",
              "      border-right-color: var(--fill-color);\n",
              "    }\n",
              "    80% {\n",
              "      border-color: transparent;\n",
              "      border-right-color: var(--fill-color);\n",
              "      border-bottom-color: var(--fill-color);\n",
              "    }\n",
              "    90% {\n",
              "      border-color: transparent;\n",
              "      border-bottom-color: var(--fill-color);\n",
              "    }\n",
              "  }\n",
              "</style>\n",
              "\n",
              "      <script>\n",
              "        async function quickchart(key) {\n",
              "          const quickchartButtonEl =\n",
              "            document.querySelector('#' + key + ' button');\n",
              "          quickchartButtonEl.disabled = true;  // To prevent multiple clicks.\n",
              "          quickchartButtonEl.classList.add('colab-df-spinner');\n",
              "          try {\n",
              "            const charts = await google.colab.kernel.invokeFunction(\n",
              "                'suggestCharts', [key], {});\n",
              "          } catch (error) {\n",
              "            console.error('Error during call to suggestCharts:', error);\n",
              "          }\n",
              "          quickchartButtonEl.classList.remove('colab-df-spinner');\n",
              "          quickchartButtonEl.classList.add('colab-df-quickchart-complete');\n",
              "        }\n",
              "        (() => {\n",
              "          let quickchartButtonEl =\n",
              "            document.querySelector('#df-4d349900-079a-4c0a-ba0a-efaf218595ff button');\n",
              "          quickchartButtonEl.style.display =\n",
              "            google.colab.kernel.accessAllowed ? 'block' : 'none';\n",
              "        })();\n",
              "      </script>\n",
              "    </div>\n",
              "\n",
              "    </div>\n",
              "  </div>\n"
            ],
            "application/vnd.google.colaboratory.intrinsic+json": {
              "type": "dataframe",
              "variable_name": "df"
            }
          },
          "metadata": {},
          "execution_count": 8
        }
      ],
      "source": [
        "df = pd.read_csv(data)\n",
        "df.head()"
      ],
      "id": "CY50KHYMJDQh"
    },
    {
      "cell_type": "code",
      "execution_count": null,
      "metadata": {
        "id": "WM6FAkWkJDQj"
      },
      "outputs": [],
      "source": [
        "df.columns = df.columns.str.lower().str.replace(' ', '_')\n",
        "\n",
        "categorical_columns = list(df.dtypes[df.dtypes == 'object'].index)\n",
        "\n",
        "for c in categorical_columns:\n",
        "    df[c] = df[c].str.lower().str.replace(' ', '_')"
      ],
      "id": "WM6FAkWkJDQj"
    },
    {
      "cell_type": "code",
      "execution_count": null,
      "metadata": {
        "id": "ssLzBLmwJDQk",
        "outputId": "1ef29f6c-cc60-4009-f566-cd19e409769e"
      },
      "outputs": [
        {
          "data": {
            "text/html": [
              "<div>\n",
              "<style scoped>\n",
              "    .dataframe tbody tr th:only-of-type {\n",
              "        vertical-align: middle;\n",
              "    }\n",
              "\n",
              "    .dataframe tbody tr th {\n",
              "        vertical-align: top;\n",
              "    }\n",
              "\n",
              "    .dataframe thead th {\n",
              "        text-align: right;\n",
              "    }\n",
              "</style>\n",
              "<table border=\"1\" class=\"dataframe\">\n",
              "  <thead>\n",
              "    <tr style=\"text-align: right;\">\n",
              "      <th></th>\n",
              "      <th>0</th>\n",
              "      <th>1</th>\n",
              "      <th>2</th>\n",
              "      <th>3</th>\n",
              "      <th>4</th>\n",
              "    </tr>\n",
              "  </thead>\n",
              "  <tbody>\n",
              "    <tr>\n",
              "      <th>customerid</th>\n",
              "      <td>7590-vhveg</td>\n",
              "      <td>5575-gnvde</td>\n",
              "      <td>3668-qpybk</td>\n",
              "      <td>7795-cfocw</td>\n",
              "      <td>9237-hqitu</td>\n",
              "    </tr>\n",
              "    <tr>\n",
              "      <th>gender</th>\n",
              "      <td>female</td>\n",
              "      <td>male</td>\n",
              "      <td>male</td>\n",
              "      <td>male</td>\n",
              "      <td>female</td>\n",
              "    </tr>\n",
              "    <tr>\n",
              "      <th>seniorcitizen</th>\n",
              "      <td>0</td>\n",
              "      <td>0</td>\n",
              "      <td>0</td>\n",
              "      <td>0</td>\n",
              "      <td>0</td>\n",
              "    </tr>\n",
              "    <tr>\n",
              "      <th>partner</th>\n",
              "      <td>yes</td>\n",
              "      <td>no</td>\n",
              "      <td>no</td>\n",
              "      <td>no</td>\n",
              "      <td>no</td>\n",
              "    </tr>\n",
              "    <tr>\n",
              "      <th>dependents</th>\n",
              "      <td>no</td>\n",
              "      <td>no</td>\n",
              "      <td>no</td>\n",
              "      <td>no</td>\n",
              "      <td>no</td>\n",
              "    </tr>\n",
              "    <tr>\n",
              "      <th>tenure</th>\n",
              "      <td>1</td>\n",
              "      <td>34</td>\n",
              "      <td>2</td>\n",
              "      <td>45</td>\n",
              "      <td>2</td>\n",
              "    </tr>\n",
              "    <tr>\n",
              "      <th>phoneservice</th>\n",
              "      <td>no</td>\n",
              "      <td>yes</td>\n",
              "      <td>yes</td>\n",
              "      <td>no</td>\n",
              "      <td>yes</td>\n",
              "    </tr>\n",
              "    <tr>\n",
              "      <th>multiplelines</th>\n",
              "      <td>no_phone_service</td>\n",
              "      <td>no</td>\n",
              "      <td>no</td>\n",
              "      <td>no_phone_service</td>\n",
              "      <td>no</td>\n",
              "    </tr>\n",
              "    <tr>\n",
              "      <th>internetservice</th>\n",
              "      <td>dsl</td>\n",
              "      <td>dsl</td>\n",
              "      <td>dsl</td>\n",
              "      <td>dsl</td>\n",
              "      <td>fiber_optic</td>\n",
              "    </tr>\n",
              "    <tr>\n",
              "      <th>onlinesecurity</th>\n",
              "      <td>no</td>\n",
              "      <td>yes</td>\n",
              "      <td>yes</td>\n",
              "      <td>yes</td>\n",
              "      <td>no</td>\n",
              "    </tr>\n",
              "    <tr>\n",
              "      <th>onlinebackup</th>\n",
              "      <td>yes</td>\n",
              "      <td>no</td>\n",
              "      <td>yes</td>\n",
              "      <td>no</td>\n",
              "      <td>no</td>\n",
              "    </tr>\n",
              "    <tr>\n",
              "      <th>deviceprotection</th>\n",
              "      <td>no</td>\n",
              "      <td>yes</td>\n",
              "      <td>no</td>\n",
              "      <td>yes</td>\n",
              "      <td>no</td>\n",
              "    </tr>\n",
              "    <tr>\n",
              "      <th>techsupport</th>\n",
              "      <td>no</td>\n",
              "      <td>no</td>\n",
              "      <td>no</td>\n",
              "      <td>yes</td>\n",
              "      <td>no</td>\n",
              "    </tr>\n",
              "    <tr>\n",
              "      <th>streamingtv</th>\n",
              "      <td>no</td>\n",
              "      <td>no</td>\n",
              "      <td>no</td>\n",
              "      <td>no</td>\n",
              "      <td>no</td>\n",
              "    </tr>\n",
              "    <tr>\n",
              "      <th>streamingmovies</th>\n",
              "      <td>no</td>\n",
              "      <td>no</td>\n",
              "      <td>no</td>\n",
              "      <td>no</td>\n",
              "      <td>no</td>\n",
              "    </tr>\n",
              "    <tr>\n",
              "      <th>contract</th>\n",
              "      <td>month-to-month</td>\n",
              "      <td>one_year</td>\n",
              "      <td>month-to-month</td>\n",
              "      <td>one_year</td>\n",
              "      <td>month-to-month</td>\n",
              "    </tr>\n",
              "    <tr>\n",
              "      <th>paperlessbilling</th>\n",
              "      <td>yes</td>\n",
              "      <td>no</td>\n",
              "      <td>yes</td>\n",
              "      <td>no</td>\n",
              "      <td>yes</td>\n",
              "    </tr>\n",
              "    <tr>\n",
              "      <th>paymentmethod</th>\n",
              "      <td>electronic_check</td>\n",
              "      <td>mailed_check</td>\n",
              "      <td>mailed_check</td>\n",
              "      <td>bank_transfer_(automatic)</td>\n",
              "      <td>electronic_check</td>\n",
              "    </tr>\n",
              "    <tr>\n",
              "      <th>monthlycharges</th>\n",
              "      <td>29.85</td>\n",
              "      <td>56.95</td>\n",
              "      <td>53.85</td>\n",
              "      <td>42.3</td>\n",
              "      <td>70.7</td>\n",
              "    </tr>\n",
              "    <tr>\n",
              "      <th>totalcharges</th>\n",
              "      <td>29.85</td>\n",
              "      <td>1889.5</td>\n",
              "      <td>108.15</td>\n",
              "      <td>1840.75</td>\n",
              "      <td>151.65</td>\n",
              "    </tr>\n",
              "    <tr>\n",
              "      <th>churn</th>\n",
              "      <td>no</td>\n",
              "      <td>no</td>\n",
              "      <td>yes</td>\n",
              "      <td>no</td>\n",
              "      <td>yes</td>\n",
              "    </tr>\n",
              "  </tbody>\n",
              "</table>\n",
              "</div>"
            ],
            "text/plain": [
              "                                 0             1               2  \\\n",
              "customerid              7590-vhveg    5575-gnvde      3668-qpybk   \n",
              "gender                      female          male            male   \n",
              "seniorcitizen                    0             0               0   \n",
              "partner                        yes            no              no   \n",
              "dependents                      no            no              no   \n",
              "tenure                           1            34               2   \n",
              "phoneservice                    no           yes             yes   \n",
              "multiplelines     no_phone_service            no              no   \n",
              "internetservice                dsl           dsl             dsl   \n",
              "onlinesecurity                  no           yes             yes   \n",
              "onlinebackup                   yes            no             yes   \n",
              "deviceprotection                no           yes              no   \n",
              "techsupport                     no            no              no   \n",
              "streamingtv                     no            no              no   \n",
              "streamingmovies                 no            no              no   \n",
              "contract            month-to-month      one_year  month-to-month   \n",
              "paperlessbilling               yes            no             yes   \n",
              "paymentmethod     electronic_check  mailed_check    mailed_check   \n",
              "monthlycharges               29.85         56.95           53.85   \n",
              "totalcharges                 29.85        1889.5          108.15   \n",
              "churn                           no            no             yes   \n",
              "\n",
              "                                          3                 4  \n",
              "customerid                       7795-cfocw        9237-hqitu  \n",
              "gender                                 male            female  \n",
              "seniorcitizen                             0                 0  \n",
              "partner                                  no                no  \n",
              "dependents                               no                no  \n",
              "tenure                                   45                 2  \n",
              "phoneservice                             no               yes  \n",
              "multiplelines              no_phone_service                no  \n",
              "internetservice                         dsl       fiber_optic  \n",
              "onlinesecurity                          yes                no  \n",
              "onlinebackup                             no                no  \n",
              "deviceprotection                        yes                no  \n",
              "techsupport                             yes                no  \n",
              "streamingtv                              no                no  \n",
              "streamingmovies                          no                no  \n",
              "contract                           one_year    month-to-month  \n",
              "paperlessbilling                         no               yes  \n",
              "paymentmethod     bank_transfer_(automatic)  electronic_check  \n",
              "monthlycharges                         42.3              70.7  \n",
              "totalcharges                        1840.75            151.65  \n",
              "churn                                    no               yes  "
            ]
          },
          "execution_count": 6,
          "metadata": {},
          "output_type": "execute_result"
        }
      ],
      "source": [
        "df.head().T"
      ],
      "id": "ssLzBLmwJDQk"
    },
    {
      "cell_type": "code",
      "execution_count": null,
      "metadata": {
        "id": "5G_vdCFYJDQm"
      },
      "outputs": [],
      "source": [
        "tc = pd.to_numeric(df.totalcharges, errors='coerce')"
      ],
      "id": "5G_vdCFYJDQm"
    },
    {
      "cell_type": "code",
      "execution_count": null,
      "metadata": {
        "id": "Xbz3awvjJDQn"
      },
      "outputs": [],
      "source": [
        "df.totalcharges = pd.to_numeric(df.totalcharges, errors='coerce')"
      ],
      "id": "Xbz3awvjJDQn"
    },
    {
      "cell_type": "code",
      "execution_count": null,
      "metadata": {
        "id": "Mptg7tqkJDQo"
      },
      "outputs": [],
      "source": [
        "df.totalcharges = df.totalcharges.fillna(0)"
      ],
      "id": "Mptg7tqkJDQo"
    },
    {
      "cell_type": "code",
      "execution_count": null,
      "metadata": {
        "id": "jRtx5WyQJDQo",
        "outputId": "87cd0328-bbbc-47c6-d8a3-01c16b6babdb"
      },
      "outputs": [
        {
          "data": {
            "text/plain": [
              "0     no\n",
              "1     no\n",
              "2    yes\n",
              "3     no\n",
              "4    yes\n",
              "Name: churn, dtype: object"
            ]
          },
          "execution_count": 10,
          "metadata": {},
          "output_type": "execute_result"
        }
      ],
      "source": [
        "df.churn.head()"
      ],
      "id": "jRtx5WyQJDQo"
    },
    {
      "cell_type": "code",
      "execution_count": null,
      "metadata": {
        "id": "YjzqnCapJDQp"
      },
      "outputs": [],
      "source": [
        "df.churn = (df.churn == 'yes').astype(int)"
      ],
      "id": "YjzqnCapJDQp"
    },
    {
      "cell_type": "markdown",
      "metadata": {
        "id": "8U4SbuZ8JDQp"
      },
      "source": [
        "## 3.3 Setting up the validation framework\n",
        "\n",
        "* Perform the train/validation/test split with Scikit-Learn"
      ],
      "id": "8U4SbuZ8JDQp"
    },
    {
      "cell_type": "code",
      "execution_count": null,
      "metadata": {
        "id": "2k6rDn9oJDQq"
      },
      "outputs": [],
      "source": [
        "from sklearn.model_selection import train_test_split"
      ],
      "id": "2k6rDn9oJDQq"
    },
    {
      "cell_type": "code",
      "execution_count": null,
      "metadata": {
        "id": "5I6QnC5qJDQq"
      },
      "outputs": [],
      "source": [
        "df_full_train, df_test = train_test_split(df, test_size=0.2, random_state=1)\n",
        "df_train, df_val = train_test_split(df_full_train, test_size=0.25, random_state=1)"
      ],
      "id": "5I6QnC5qJDQq"
    },
    {
      "cell_type": "code",
      "execution_count": null,
      "metadata": {
        "id": "DQuBpWbJJDQq",
        "outputId": "86302490-1b71-4f98-fc4d-0d1fbfc9dc6f"
      },
      "outputs": [
        {
          "data": {
            "text/plain": [
              "(4225, 1409, 1409)"
            ]
          },
          "execution_count": 14,
          "metadata": {},
          "output_type": "execute_result"
        }
      ],
      "source": [
        "len(df_train), len(df_val), len(df_test)"
      ],
      "id": "DQuBpWbJJDQq"
    },
    {
      "cell_type": "code",
      "execution_count": null,
      "metadata": {
        "id": "sKgptydoJDQr"
      },
      "outputs": [],
      "source": [
        "df_train = df_train.reset_index(drop=True)\n",
        "df_val = df_val.reset_index(drop=True)\n",
        "df_test = df_test.reset_index(drop=True)"
      ],
      "id": "sKgptydoJDQr"
    },
    {
      "cell_type": "code",
      "execution_count": null,
      "metadata": {
        "id": "wmtyqLrSJDQr"
      },
      "outputs": [],
      "source": [
        "y_train = df_train.churn.values\n",
        "y_val = df_val.churn.values\n",
        "y_test = df_test.churn.values\n",
        "\n",
        "del df_train['churn']\n",
        "del df_val['churn']\n",
        "del df_test['churn']"
      ],
      "id": "wmtyqLrSJDQr"
    },
    {
      "cell_type": "markdown",
      "metadata": {
        "id": "TBVc-tGRJDQs"
      },
      "source": [
        "## 3.4 EDA\n",
        "\n",
        "* Check missing values\n",
        "* Look at the target variable (churn)\n",
        "* Look at numerical and categorical variables"
      ],
      "id": "TBVc-tGRJDQs"
    },
    {
      "cell_type": "code",
      "execution_count": null,
      "metadata": {
        "id": "kGmAPEDBJDQs"
      },
      "outputs": [],
      "source": [
        "df_full_train = df_full_train.reset_index(drop=True)"
      ],
      "id": "kGmAPEDBJDQs"
    },
    {
      "cell_type": "code",
      "execution_count": null,
      "metadata": {
        "id": "SpMEQ0dYJDQs",
        "outputId": "ef995a2c-ce1c-46c5-8841-6adf21993253"
      },
      "outputs": [
        {
          "data": {
            "text/plain": [
              "customerid          0\n",
              "gender              0\n",
              "seniorcitizen       0\n",
              "partner             0\n",
              "dependents          0\n",
              "tenure              0\n",
              "phoneservice        0\n",
              "multiplelines       0\n",
              "internetservice     0\n",
              "onlinesecurity      0\n",
              "onlinebackup        0\n",
              "deviceprotection    0\n",
              "techsupport         0\n",
              "streamingtv         0\n",
              "streamingmovies     0\n",
              "contract            0\n",
              "paperlessbilling    0\n",
              "paymentmethod       0\n",
              "monthlycharges      0\n",
              "totalcharges        0\n",
              "churn               0\n",
              "dtype: int64"
            ]
          },
          "execution_count": 18,
          "metadata": {},
          "output_type": "execute_result"
        }
      ],
      "source": [
        "df_full_train.isnull().sum()"
      ],
      "id": "SpMEQ0dYJDQs"
    },
    {
      "cell_type": "code",
      "execution_count": null,
      "metadata": {
        "id": "OKansJnpJDQt",
        "outputId": "91e40fe6-fefe-4354-8f32-966a48a04b40"
      },
      "outputs": [
        {
          "data": {
            "text/plain": [
              "0    0.730032\n",
              "1    0.269968\n",
              "Name: churn, dtype: float64"
            ]
          },
          "execution_count": 19,
          "metadata": {},
          "output_type": "execute_result"
        }
      ],
      "source": [
        "df_full_train.churn.value_counts(normalize=True)"
      ],
      "id": "OKansJnpJDQt"
    },
    {
      "cell_type": "code",
      "execution_count": null,
      "metadata": {
        "id": "2cR_H2x3JDQt",
        "outputId": "a0a5c486-cc4f-4453-b260-1a2469114e91"
      },
      "outputs": [
        {
          "data": {
            "text/plain": [
              "0.26996805111821087"
            ]
          },
          "execution_count": 20,
          "metadata": {},
          "output_type": "execute_result"
        }
      ],
      "source": [
        "df_full_train.churn.mean()"
      ],
      "id": "2cR_H2x3JDQt"
    },
    {
      "cell_type": "code",
      "execution_count": null,
      "metadata": {
        "id": "9KvuBq6qJDQt"
      },
      "outputs": [],
      "source": [
        "numerical = ['tenure', 'monthlycharges', 'totalcharges']"
      ],
      "id": "9KvuBq6qJDQt"
    },
    {
      "cell_type": "code",
      "execution_count": null,
      "metadata": {
        "id": "FMvJGOIfJDQu"
      },
      "outputs": [],
      "source": [
        "categorical = [\n",
        "    'gender',\n",
        "    'seniorcitizen',\n",
        "    'partner',\n",
        "    'dependents',\n",
        "    'phoneservice',\n",
        "    'multiplelines',\n",
        "    'internetservice',\n",
        "    'onlinesecurity',\n",
        "    'onlinebackup',\n",
        "    'deviceprotection',\n",
        "    'techsupport',\n",
        "    'streamingtv',\n",
        "    'streamingmovies',\n",
        "    'contract',\n",
        "    'paperlessbilling',\n",
        "    'paymentmethod',\n",
        "]"
      ],
      "id": "FMvJGOIfJDQu"
    },
    {
      "cell_type": "code",
      "execution_count": null,
      "metadata": {
        "id": "X536gcv0JDQu",
        "outputId": "8a46ca6a-810e-4b64-f81e-4533a1e75980"
      },
      "outputs": [
        {
          "data": {
            "text/plain": [
              "gender              2\n",
              "seniorcitizen       2\n",
              "partner             2\n",
              "dependents          2\n",
              "phoneservice        2\n",
              "multiplelines       3\n",
              "internetservice     3\n",
              "onlinesecurity      3\n",
              "onlinebackup        3\n",
              "deviceprotection    3\n",
              "techsupport         3\n",
              "streamingtv         3\n",
              "streamingmovies     3\n",
              "contract            3\n",
              "paperlessbilling    2\n",
              "paymentmethod       4\n",
              "dtype: int64"
            ]
          },
          "execution_count": 23,
          "metadata": {},
          "output_type": "execute_result"
        }
      ],
      "source": [
        "df_full_train[categorical].nunique()"
      ],
      "id": "X536gcv0JDQu"
    },
    {
      "cell_type": "markdown",
      "metadata": {
        "id": "Fb0QSCWhJDQu"
      },
      "source": [
        "## 3.5 Feature importance: Churn rate and risk ratio\n",
        "\n",
        "Feature importance analysis (part of EDA) - identifying which features affect our target variable\n",
        "\n",
        "* Churn rate\n",
        "* Risk ratio\n",
        "* Mutual information - later"
      ],
      "id": "Fb0QSCWhJDQu"
    },
    {
      "cell_type": "markdown",
      "metadata": {
        "id": "pZd4rg9mJDQv"
      },
      "source": [
        "#### Churn rate"
      ],
      "id": "pZd4rg9mJDQv"
    },
    {
      "cell_type": "code",
      "execution_count": null,
      "metadata": {
        "id": "KKgbOMsqJDQv",
        "outputId": "05388d46-e9da-45e2-b0a1-eb7e93289a09"
      },
      "outputs": [
        {
          "data": {
            "text/html": [
              "<div>\n",
              "<style scoped>\n",
              "    .dataframe tbody tr th:only-of-type {\n",
              "        vertical-align: middle;\n",
              "    }\n",
              "\n",
              "    .dataframe tbody tr th {\n",
              "        vertical-align: top;\n",
              "    }\n",
              "\n",
              "    .dataframe thead th {\n",
              "        text-align: right;\n",
              "    }\n",
              "</style>\n",
              "<table border=\"1\" class=\"dataframe\">\n",
              "  <thead>\n",
              "    <tr style=\"text-align: right;\">\n",
              "      <th></th>\n",
              "      <th>customerid</th>\n",
              "      <th>gender</th>\n",
              "      <th>seniorcitizen</th>\n",
              "      <th>partner</th>\n",
              "      <th>dependents</th>\n",
              "      <th>tenure</th>\n",
              "      <th>phoneservice</th>\n",
              "      <th>multiplelines</th>\n",
              "      <th>internetservice</th>\n",
              "      <th>onlinesecurity</th>\n",
              "      <th>...</th>\n",
              "      <th>deviceprotection</th>\n",
              "      <th>techsupport</th>\n",
              "      <th>streamingtv</th>\n",
              "      <th>streamingmovies</th>\n",
              "      <th>contract</th>\n",
              "      <th>paperlessbilling</th>\n",
              "      <th>paymentmethod</th>\n",
              "      <th>monthlycharges</th>\n",
              "      <th>totalcharges</th>\n",
              "      <th>churn</th>\n",
              "    </tr>\n",
              "  </thead>\n",
              "  <tbody>\n",
              "    <tr>\n",
              "      <th>0</th>\n",
              "      <td>5442-pptjy</td>\n",
              "      <td>male</td>\n",
              "      <td>0</td>\n",
              "      <td>yes</td>\n",
              "      <td>yes</td>\n",
              "      <td>12</td>\n",
              "      <td>yes</td>\n",
              "      <td>no</td>\n",
              "      <td>no</td>\n",
              "      <td>no_internet_service</td>\n",
              "      <td>...</td>\n",
              "      <td>no_internet_service</td>\n",
              "      <td>no_internet_service</td>\n",
              "      <td>no_internet_service</td>\n",
              "      <td>no_internet_service</td>\n",
              "      <td>two_year</td>\n",
              "      <td>no</td>\n",
              "      <td>mailed_check</td>\n",
              "      <td>19.70</td>\n",
              "      <td>258.35</td>\n",
              "      <td>0</td>\n",
              "    </tr>\n",
              "    <tr>\n",
              "      <th>1</th>\n",
              "      <td>6261-rcvns</td>\n",
              "      <td>female</td>\n",
              "      <td>0</td>\n",
              "      <td>no</td>\n",
              "      <td>no</td>\n",
              "      <td>42</td>\n",
              "      <td>yes</td>\n",
              "      <td>no</td>\n",
              "      <td>dsl</td>\n",
              "      <td>yes</td>\n",
              "      <td>...</td>\n",
              "      <td>yes</td>\n",
              "      <td>yes</td>\n",
              "      <td>no</td>\n",
              "      <td>yes</td>\n",
              "      <td>one_year</td>\n",
              "      <td>no</td>\n",
              "      <td>credit_card_(automatic)</td>\n",
              "      <td>73.90</td>\n",
              "      <td>3160.55</td>\n",
              "      <td>1</td>\n",
              "    </tr>\n",
              "    <tr>\n",
              "      <th>2</th>\n",
              "      <td>2176-osjuv</td>\n",
              "      <td>male</td>\n",
              "      <td>0</td>\n",
              "      <td>yes</td>\n",
              "      <td>no</td>\n",
              "      <td>71</td>\n",
              "      <td>yes</td>\n",
              "      <td>yes</td>\n",
              "      <td>dsl</td>\n",
              "      <td>yes</td>\n",
              "      <td>...</td>\n",
              "      <td>no</td>\n",
              "      <td>yes</td>\n",
              "      <td>no</td>\n",
              "      <td>no</td>\n",
              "      <td>two_year</td>\n",
              "      <td>no</td>\n",
              "      <td>bank_transfer_(automatic)</td>\n",
              "      <td>65.15</td>\n",
              "      <td>4681.75</td>\n",
              "      <td>0</td>\n",
              "    </tr>\n",
              "    <tr>\n",
              "      <th>3</th>\n",
              "      <td>6161-erdgd</td>\n",
              "      <td>male</td>\n",
              "      <td>0</td>\n",
              "      <td>yes</td>\n",
              "      <td>yes</td>\n",
              "      <td>71</td>\n",
              "      <td>yes</td>\n",
              "      <td>yes</td>\n",
              "      <td>dsl</td>\n",
              "      <td>yes</td>\n",
              "      <td>...</td>\n",
              "      <td>yes</td>\n",
              "      <td>yes</td>\n",
              "      <td>yes</td>\n",
              "      <td>yes</td>\n",
              "      <td>one_year</td>\n",
              "      <td>no</td>\n",
              "      <td>electronic_check</td>\n",
              "      <td>85.45</td>\n",
              "      <td>6300.85</td>\n",
              "      <td>0</td>\n",
              "    </tr>\n",
              "    <tr>\n",
              "      <th>4</th>\n",
              "      <td>2364-ufrom</td>\n",
              "      <td>male</td>\n",
              "      <td>0</td>\n",
              "      <td>no</td>\n",
              "      <td>no</td>\n",
              "      <td>30</td>\n",
              "      <td>yes</td>\n",
              "      <td>no</td>\n",
              "      <td>dsl</td>\n",
              "      <td>yes</td>\n",
              "      <td>...</td>\n",
              "      <td>no</td>\n",
              "      <td>yes</td>\n",
              "      <td>yes</td>\n",
              "      <td>no</td>\n",
              "      <td>one_year</td>\n",
              "      <td>no</td>\n",
              "      <td>electronic_check</td>\n",
              "      <td>70.40</td>\n",
              "      <td>2044.75</td>\n",
              "      <td>0</td>\n",
              "    </tr>\n",
              "  </tbody>\n",
              "</table>\n",
              "<p>5 rows × 21 columns</p>\n",
              "</div>"
            ],
            "text/plain": [
              "   customerid  gender  seniorcitizen partner dependents  tenure phoneservice  \\\n",
              "0  5442-pptjy    male              0     yes        yes      12          yes   \n",
              "1  6261-rcvns  female              0      no         no      42          yes   \n",
              "2  2176-osjuv    male              0     yes         no      71          yes   \n",
              "3  6161-erdgd    male              0     yes        yes      71          yes   \n",
              "4  2364-ufrom    male              0      no         no      30          yes   \n",
              "\n",
              "  multiplelines internetservice       onlinesecurity  ...  \\\n",
              "0            no              no  no_internet_service  ...   \n",
              "1            no             dsl                  yes  ...   \n",
              "2           yes             dsl                  yes  ...   \n",
              "3           yes             dsl                  yes  ...   \n",
              "4            no             dsl                  yes  ...   \n",
              "\n",
              "      deviceprotection          techsupport          streamingtv  \\\n",
              "0  no_internet_service  no_internet_service  no_internet_service   \n",
              "1                  yes                  yes                   no   \n",
              "2                   no                  yes                   no   \n",
              "3                  yes                  yes                  yes   \n",
              "4                   no                  yes                  yes   \n",
              "\n",
              "       streamingmovies  contract paperlessbilling              paymentmethod  \\\n",
              "0  no_internet_service  two_year               no               mailed_check   \n",
              "1                  yes  one_year               no    credit_card_(automatic)   \n",
              "2                   no  two_year               no  bank_transfer_(automatic)   \n",
              "3                  yes  one_year               no           electronic_check   \n",
              "4                   no  one_year               no           electronic_check   \n",
              "\n",
              "  monthlycharges  totalcharges  churn  \n",
              "0          19.70        258.35      0  \n",
              "1          73.90       3160.55      1  \n",
              "2          65.15       4681.75      0  \n",
              "3          85.45       6300.85      0  \n",
              "4          70.40       2044.75      0  \n",
              "\n",
              "[5 rows x 21 columns]"
            ]
          },
          "execution_count": 24,
          "metadata": {},
          "output_type": "execute_result"
        }
      ],
      "source": [
        "df_full_train.head()"
      ],
      "id": "KKgbOMsqJDQv"
    },
    {
      "cell_type": "code",
      "execution_count": null,
      "metadata": {
        "id": "ynfC9kFTJDQw",
        "outputId": "4e08db5d-b2cb-4df0-a737-db91f2469cfe"
      },
      "outputs": [
        {
          "data": {
            "text/plain": [
              "0.27682403433476394"
            ]
          },
          "execution_count": 25,
          "metadata": {},
          "output_type": "execute_result"
        }
      ],
      "source": [
        "churn_female = df_full_train[df_full_train.gender == 'female'].churn.mean()\n",
        "churn_female"
      ],
      "id": "ynfC9kFTJDQw"
    },
    {
      "cell_type": "code",
      "execution_count": null,
      "metadata": {
        "id": "bC2_pPoYJDQw",
        "outputId": "b20c4c9e-20f6-4eba-8b8b-2f160f3d9a4b"
      },
      "outputs": [
        {
          "data": {
            "text/plain": [
              "0.2632135306553911"
            ]
          },
          "execution_count": 26,
          "metadata": {},
          "output_type": "execute_result"
        }
      ],
      "source": [
        "churn_male = df_full_train[df_full_train.gender == 'male'].churn.mean()\n",
        "churn_male"
      ],
      "id": "bC2_pPoYJDQw"
    },
    {
      "cell_type": "code",
      "execution_count": null,
      "metadata": {
        "id": "r4jwxPA2JDQx",
        "outputId": "a0fd35f2-4c7d-4fe4-de05-cf247f5afcda"
      },
      "outputs": [
        {
          "data": {
            "text/plain": [
              "0.26996805111821087"
            ]
          },
          "execution_count": 27,
          "metadata": {},
          "output_type": "execute_result"
        }
      ],
      "source": [
        "global_churn = df_full_train.churn.mean()\n",
        "global_churn"
      ],
      "id": "r4jwxPA2JDQx"
    },
    {
      "cell_type": "code",
      "execution_count": null,
      "metadata": {
        "id": "aqhSa9a4JDQx",
        "outputId": "7f06431b-503c-45ec-edd0-08b047494f6f"
      },
      "outputs": [
        {
          "data": {
            "text/plain": [
              "-0.006855983216553063"
            ]
          },
          "execution_count": 28,
          "metadata": {},
          "output_type": "execute_result"
        }
      ],
      "source": [
        "global_churn - churn_female"
      ],
      "id": "aqhSa9a4JDQx"
    },
    {
      "cell_type": "code",
      "execution_count": null,
      "metadata": {
        "id": "BYNJaXRtJDQx",
        "outputId": "cc46f26e-0b98-4cd0-a01c-f69345683c94"
      },
      "outputs": [
        {
          "data": {
            "text/plain": [
              "0.006754520462819769"
            ]
          },
          "execution_count": 29,
          "metadata": {},
          "output_type": "execute_result"
        }
      ],
      "source": [
        "global_churn - churn_male"
      ],
      "id": "BYNJaXRtJDQx"
    },
    {
      "cell_type": "code",
      "execution_count": null,
      "metadata": {
        "id": "R43iV0cHJDQy",
        "outputId": "db54aa75-9b60-4c80-a3aa-42f8061d3e28"
      },
      "outputs": [
        {
          "data": {
            "text/plain": [
              "no     2932\n",
              "yes    2702\n",
              "Name: partner, dtype: int64"
            ]
          },
          "execution_count": 30,
          "metadata": {},
          "output_type": "execute_result"
        }
      ],
      "source": [
        "df_full_train.partner.value_counts()"
      ],
      "id": "R43iV0cHJDQy"
    },
    {
      "cell_type": "code",
      "execution_count": null,
      "metadata": {
        "id": "RiL-uiIFJDQy",
        "outputId": "41386c59-b021-400d-c2f6-897000f57ed8"
      },
      "outputs": [
        {
          "data": {
            "text/plain": [
              "0.20503330866025166"
            ]
          },
          "execution_count": 31,
          "metadata": {},
          "output_type": "execute_result"
        }
      ],
      "source": [
        "churn_partner = df_full_train[df_full_train.partner == 'yes'].churn.mean()\n",
        "churn_partner"
      ],
      "id": "RiL-uiIFJDQy"
    },
    {
      "cell_type": "code",
      "execution_count": null,
      "metadata": {
        "id": "FTCMo5zVJDQz",
        "outputId": "a719b2d2-a136-4d31-aab0-134ebc73e167"
      },
      "outputs": [
        {
          "data": {
            "text/plain": [
              "0.06493474245795922"
            ]
          },
          "execution_count": 32,
          "metadata": {},
          "output_type": "execute_result"
        }
      ],
      "source": [
        "global_churn - churn_partner"
      ],
      "id": "FTCMo5zVJDQz"
    },
    {
      "cell_type": "code",
      "execution_count": null,
      "metadata": {
        "id": "MOveYnaRJDQ0",
        "outputId": "b4a2d4a1-4c64-4e89-f2fb-ca057198888b"
      },
      "outputs": [
        {
          "data": {
            "text/plain": [
              "0.3298090040927694"
            ]
          },
          "execution_count": 33,
          "metadata": {},
          "output_type": "execute_result"
        }
      ],
      "source": [
        "churn_no_partner = df_full_train[df_full_train.partner == 'no'].churn.mean()\n",
        "churn_no_partner"
      ],
      "id": "MOveYnaRJDQ0"
    },
    {
      "cell_type": "code",
      "execution_count": null,
      "metadata": {
        "id": "ccdqCP13JDQ-",
        "outputId": "fc72e186-dd25-47e8-ee1d-9d9c6559d6cd"
      },
      "outputs": [
        {
          "data": {
            "text/plain": [
              "-0.05984095297455855"
            ]
          },
          "execution_count": 34,
          "metadata": {},
          "output_type": "execute_result"
        }
      ],
      "source": [
        "global_churn - churn_no_partner"
      ],
      "id": "ccdqCP13JDQ-"
    },
    {
      "cell_type": "markdown",
      "metadata": {
        "id": "kLE7ArDRJDQ_"
      },
      "source": [
        "#### Risk ratio"
      ],
      "id": "kLE7ArDRJDQ_"
    },
    {
      "cell_type": "code",
      "execution_count": null,
      "metadata": {
        "id": "0gZKBAYaJDRA",
        "outputId": "ce7c0a60-cd49-45e7-cffe-ebbf4f9efe4d"
      },
      "outputs": [
        {
          "data": {
            "text/plain": [
              "1.2216593879412643"
            ]
          },
          "execution_count": 35,
          "metadata": {},
          "output_type": "execute_result"
        }
      ],
      "source": [
        "churn_no_partner / global_churn"
      ],
      "id": "0gZKBAYaJDRA"
    },
    {
      "cell_type": "code",
      "execution_count": null,
      "metadata": {
        "id": "KeUrFJv6JDRB",
        "outputId": "26e82417-ac35-479c-f3c7-609ad1f7879b"
      },
      "outputs": [
        {
          "data": {
            "text/plain": [
              "0.7594724924338315"
            ]
          },
          "execution_count": 36,
          "metadata": {},
          "output_type": "execute_result"
        }
      ],
      "source": [
        "churn_partner / global_churn"
      ],
      "id": "KeUrFJv6JDRB"
    },
    {
      "cell_type": "markdown",
      "metadata": {
        "id": "s8S2OtwRJDRB"
      },
      "source": [
        "```\n",
        "SELECT\n",
        "    gender,\n",
        "    AVG(churn),\n",
        "    AVG(churn) - global_churn AS diff,\n",
        "    AVG(churn) / global_churn AS risk\n",
        "FROM\n",
        "    data\n",
        "GROUP BY\n",
        "    gender;\n",
        "```"
      ],
      "id": "s8S2OtwRJDRB"
    },
    {
      "cell_type": "code",
      "execution_count": null,
      "metadata": {
        "id": "HSSa-vQfJDRB"
      },
      "outputs": [],
      "source": [
        "from IPython.display import display"
      ],
      "id": "HSSa-vQfJDRB"
    },
    {
      "cell_type": "code",
      "execution_count": null,
      "metadata": {
        "id": "aMe41SKWJDRC",
        "outputId": "1f409466-052b-46ec-bac1-422d33c192d5"
      },
      "outputs": [
        {
          "name": "stdout",
          "output_type": "stream",
          "text": [
            "gender\n"
          ]
        },
        {
          "data": {
            "text/html": [
              "<div>\n",
              "<style scoped>\n",
              "    .dataframe tbody tr th:only-of-type {\n",
              "        vertical-align: middle;\n",
              "    }\n",
              "\n",
              "    .dataframe tbody tr th {\n",
              "        vertical-align: top;\n",
              "    }\n",
              "\n",
              "    .dataframe thead th {\n",
              "        text-align: right;\n",
              "    }\n",
              "</style>\n",
              "<table border=\"1\" class=\"dataframe\">\n",
              "  <thead>\n",
              "    <tr style=\"text-align: right;\">\n",
              "      <th></th>\n",
              "      <th>mean</th>\n",
              "      <th>count</th>\n",
              "      <th>diff</th>\n",
              "      <th>risk</th>\n",
              "    </tr>\n",
              "    <tr>\n",
              "      <th>gender</th>\n",
              "      <th></th>\n",
              "      <th></th>\n",
              "      <th></th>\n",
              "      <th></th>\n",
              "    </tr>\n",
              "  </thead>\n",
              "  <tbody>\n",
              "    <tr>\n",
              "      <th>female</th>\n",
              "      <td>0.276824</td>\n",
              "      <td>2796</td>\n",
              "      <td>0.006856</td>\n",
              "      <td>1.025396</td>\n",
              "    </tr>\n",
              "    <tr>\n",
              "      <th>male</th>\n",
              "      <td>0.263214</td>\n",
              "      <td>2838</td>\n",
              "      <td>-0.006755</td>\n",
              "      <td>0.974980</td>\n",
              "    </tr>\n",
              "  </tbody>\n",
              "</table>\n",
              "</div>"
            ],
            "text/plain": [
              "            mean  count      diff      risk\n",
              "gender                                     \n",
              "female  0.276824   2796  0.006856  1.025396\n",
              "male    0.263214   2838 -0.006755  0.974980"
            ]
          },
          "metadata": {},
          "output_type": "display_data"
        },
        {
          "name": "stdout",
          "output_type": "stream",
          "text": [
            "\n",
            "\n",
            "seniorcitizen\n"
          ]
        },
        {
          "data": {
            "text/html": [
              "<div>\n",
              "<style scoped>\n",
              "    .dataframe tbody tr th:only-of-type {\n",
              "        vertical-align: middle;\n",
              "    }\n",
              "\n",
              "    .dataframe tbody tr th {\n",
              "        vertical-align: top;\n",
              "    }\n",
              "\n",
              "    .dataframe thead th {\n",
              "        text-align: right;\n",
              "    }\n",
              "</style>\n",
              "<table border=\"1\" class=\"dataframe\">\n",
              "  <thead>\n",
              "    <tr style=\"text-align: right;\">\n",
              "      <th></th>\n",
              "      <th>mean</th>\n",
              "      <th>count</th>\n",
              "      <th>diff</th>\n",
              "      <th>risk</th>\n",
              "    </tr>\n",
              "    <tr>\n",
              "      <th>seniorcitizen</th>\n",
              "      <th></th>\n",
              "      <th></th>\n",
              "      <th></th>\n",
              "      <th></th>\n",
              "    </tr>\n",
              "  </thead>\n",
              "  <tbody>\n",
              "    <tr>\n",
              "      <th>0</th>\n",
              "      <td>0.242270</td>\n",
              "      <td>4722</td>\n",
              "      <td>-0.027698</td>\n",
              "      <td>0.897403</td>\n",
              "    </tr>\n",
              "    <tr>\n",
              "      <th>1</th>\n",
              "      <td>0.413377</td>\n",
              "      <td>912</td>\n",
              "      <td>0.143409</td>\n",
              "      <td>1.531208</td>\n",
              "    </tr>\n",
              "  </tbody>\n",
              "</table>\n",
              "</div>"
            ],
            "text/plain": [
              "                   mean  count      diff      risk\n",
              "seniorcitizen                                     \n",
              "0              0.242270   4722 -0.027698  0.897403\n",
              "1              0.413377    912  0.143409  1.531208"
            ]
          },
          "metadata": {},
          "output_type": "display_data"
        },
        {
          "name": "stdout",
          "output_type": "stream",
          "text": [
            "\n",
            "\n",
            "partner\n"
          ]
        },
        {
          "data": {
            "text/html": [
              "<div>\n",
              "<style scoped>\n",
              "    .dataframe tbody tr th:only-of-type {\n",
              "        vertical-align: middle;\n",
              "    }\n",
              "\n",
              "    .dataframe tbody tr th {\n",
              "        vertical-align: top;\n",
              "    }\n",
              "\n",
              "    .dataframe thead th {\n",
              "        text-align: right;\n",
              "    }\n",
              "</style>\n",
              "<table border=\"1\" class=\"dataframe\">\n",
              "  <thead>\n",
              "    <tr style=\"text-align: right;\">\n",
              "      <th></th>\n",
              "      <th>mean</th>\n",
              "      <th>count</th>\n",
              "      <th>diff</th>\n",
              "      <th>risk</th>\n",
              "    </tr>\n",
              "    <tr>\n",
              "      <th>partner</th>\n",
              "      <th></th>\n",
              "      <th></th>\n",
              "      <th></th>\n",
              "      <th></th>\n",
              "    </tr>\n",
              "  </thead>\n",
              "  <tbody>\n",
              "    <tr>\n",
              "      <th>no</th>\n",
              "      <td>0.329809</td>\n",
              "      <td>2932</td>\n",
              "      <td>0.059841</td>\n",
              "      <td>1.221659</td>\n",
              "    </tr>\n",
              "    <tr>\n",
              "      <th>yes</th>\n",
              "      <td>0.205033</td>\n",
              "      <td>2702</td>\n",
              "      <td>-0.064935</td>\n",
              "      <td>0.759472</td>\n",
              "    </tr>\n",
              "  </tbody>\n",
              "</table>\n",
              "</div>"
            ],
            "text/plain": [
              "             mean  count      diff      risk\n",
              "partner                                     \n",
              "no       0.329809   2932  0.059841  1.221659\n",
              "yes      0.205033   2702 -0.064935  0.759472"
            ]
          },
          "metadata": {},
          "output_type": "display_data"
        },
        {
          "name": "stdout",
          "output_type": "stream",
          "text": [
            "\n",
            "\n",
            "dependents\n"
          ]
        },
        {
          "data": {
            "text/html": [
              "<div>\n",
              "<style scoped>\n",
              "    .dataframe tbody tr th:only-of-type {\n",
              "        vertical-align: middle;\n",
              "    }\n",
              "\n",
              "    .dataframe tbody tr th {\n",
              "        vertical-align: top;\n",
              "    }\n",
              "\n",
              "    .dataframe thead th {\n",
              "        text-align: right;\n",
              "    }\n",
              "</style>\n",
              "<table border=\"1\" class=\"dataframe\">\n",
              "  <thead>\n",
              "    <tr style=\"text-align: right;\">\n",
              "      <th></th>\n",
              "      <th>mean</th>\n",
              "      <th>count</th>\n",
              "      <th>diff</th>\n",
              "      <th>risk</th>\n",
              "    </tr>\n",
              "    <tr>\n",
              "      <th>dependents</th>\n",
              "      <th></th>\n",
              "      <th></th>\n",
              "      <th></th>\n",
              "      <th></th>\n",
              "    </tr>\n",
              "  </thead>\n",
              "  <tbody>\n",
              "    <tr>\n",
              "      <th>no</th>\n",
              "      <td>0.313760</td>\n",
              "      <td>3968</td>\n",
              "      <td>0.043792</td>\n",
              "      <td>1.162212</td>\n",
              "    </tr>\n",
              "    <tr>\n",
              "      <th>yes</th>\n",
              "      <td>0.165666</td>\n",
              "      <td>1666</td>\n",
              "      <td>-0.104302</td>\n",
              "      <td>0.613651</td>\n",
              "    </tr>\n",
              "  </tbody>\n",
              "</table>\n",
              "</div>"
            ],
            "text/plain": [
              "                mean  count      diff      risk\n",
              "dependents                                     \n",
              "no          0.313760   3968  0.043792  1.162212\n",
              "yes         0.165666   1666 -0.104302  0.613651"
            ]
          },
          "metadata": {},
          "output_type": "display_data"
        },
        {
          "name": "stdout",
          "output_type": "stream",
          "text": [
            "\n",
            "\n",
            "phoneservice\n"
          ]
        },
        {
          "data": {
            "text/html": [
              "<div>\n",
              "<style scoped>\n",
              "    .dataframe tbody tr th:only-of-type {\n",
              "        vertical-align: middle;\n",
              "    }\n",
              "\n",
              "    .dataframe tbody tr th {\n",
              "        vertical-align: top;\n",
              "    }\n",
              "\n",
              "    .dataframe thead th {\n",
              "        text-align: right;\n",
              "    }\n",
              "</style>\n",
              "<table border=\"1\" class=\"dataframe\">\n",
              "  <thead>\n",
              "    <tr style=\"text-align: right;\">\n",
              "      <th></th>\n",
              "      <th>mean</th>\n",
              "      <th>count</th>\n",
              "      <th>diff</th>\n",
              "      <th>risk</th>\n",
              "    </tr>\n",
              "    <tr>\n",
              "      <th>phoneservice</th>\n",
              "      <th></th>\n",
              "      <th></th>\n",
              "      <th></th>\n",
              "      <th></th>\n",
              "    </tr>\n",
              "  </thead>\n",
              "  <tbody>\n",
              "    <tr>\n",
              "      <th>no</th>\n",
              "      <td>0.241316</td>\n",
              "      <td>547</td>\n",
              "      <td>-0.028652</td>\n",
              "      <td>0.893870</td>\n",
              "    </tr>\n",
              "    <tr>\n",
              "      <th>yes</th>\n",
              "      <td>0.273049</td>\n",
              "      <td>5087</td>\n",
              "      <td>0.003081</td>\n",
              "      <td>1.011412</td>\n",
              "    </tr>\n",
              "  </tbody>\n",
              "</table>\n",
              "</div>"
            ],
            "text/plain": [
              "                  mean  count      diff      risk\n",
              "phoneservice                                     \n",
              "no            0.241316    547 -0.028652  0.893870\n",
              "yes           0.273049   5087  0.003081  1.011412"
            ]
          },
          "metadata": {},
          "output_type": "display_data"
        },
        {
          "name": "stdout",
          "output_type": "stream",
          "text": [
            "\n",
            "\n",
            "multiplelines\n"
          ]
        },
        {
          "data": {
            "text/html": [
              "<div>\n",
              "<style scoped>\n",
              "    .dataframe tbody tr th:only-of-type {\n",
              "        vertical-align: middle;\n",
              "    }\n",
              "\n",
              "    .dataframe tbody tr th {\n",
              "        vertical-align: top;\n",
              "    }\n",
              "\n",
              "    .dataframe thead th {\n",
              "        text-align: right;\n",
              "    }\n",
              "</style>\n",
              "<table border=\"1\" class=\"dataframe\">\n",
              "  <thead>\n",
              "    <tr style=\"text-align: right;\">\n",
              "      <th></th>\n",
              "      <th>mean</th>\n",
              "      <th>count</th>\n",
              "      <th>diff</th>\n",
              "      <th>risk</th>\n",
              "    </tr>\n",
              "    <tr>\n",
              "      <th>multiplelines</th>\n",
              "      <th></th>\n",
              "      <th></th>\n",
              "      <th></th>\n",
              "      <th></th>\n",
              "    </tr>\n",
              "  </thead>\n",
              "  <tbody>\n",
              "    <tr>\n",
              "      <th>no</th>\n",
              "      <td>0.257407</td>\n",
              "      <td>2700</td>\n",
              "      <td>-0.012561</td>\n",
              "      <td>0.953474</td>\n",
              "    </tr>\n",
              "    <tr>\n",
              "      <th>no_phone_service</th>\n",
              "      <td>0.241316</td>\n",
              "      <td>547</td>\n",
              "      <td>-0.028652</td>\n",
              "      <td>0.893870</td>\n",
              "    </tr>\n",
              "    <tr>\n",
              "      <th>yes</th>\n",
              "      <td>0.290742</td>\n",
              "      <td>2387</td>\n",
              "      <td>0.020773</td>\n",
              "      <td>1.076948</td>\n",
              "    </tr>\n",
              "  </tbody>\n",
              "</table>\n",
              "</div>"
            ],
            "text/plain": [
              "                      mean  count      diff      risk\n",
              "multiplelines                                        \n",
              "no                0.257407   2700 -0.012561  0.953474\n",
              "no_phone_service  0.241316    547 -0.028652  0.893870\n",
              "yes               0.290742   2387  0.020773  1.076948"
            ]
          },
          "metadata": {},
          "output_type": "display_data"
        },
        {
          "name": "stdout",
          "output_type": "stream",
          "text": [
            "\n",
            "\n",
            "internetservice\n"
          ]
        },
        {
          "data": {
            "text/html": [
              "<div>\n",
              "<style scoped>\n",
              "    .dataframe tbody tr th:only-of-type {\n",
              "        vertical-align: middle;\n",
              "    }\n",
              "\n",
              "    .dataframe tbody tr th {\n",
              "        vertical-align: top;\n",
              "    }\n",
              "\n",
              "    .dataframe thead th {\n",
              "        text-align: right;\n",
              "    }\n",
              "</style>\n",
              "<table border=\"1\" class=\"dataframe\">\n",
              "  <thead>\n",
              "    <tr style=\"text-align: right;\">\n",
              "      <th></th>\n",
              "      <th>mean</th>\n",
              "      <th>count</th>\n",
              "      <th>diff</th>\n",
              "      <th>risk</th>\n",
              "    </tr>\n",
              "    <tr>\n",
              "      <th>internetservice</th>\n",
              "      <th></th>\n",
              "      <th></th>\n",
              "      <th></th>\n",
              "      <th></th>\n",
              "    </tr>\n",
              "  </thead>\n",
              "  <tbody>\n",
              "    <tr>\n",
              "      <th>dsl</th>\n",
              "      <td>0.192347</td>\n",
              "      <td>1934</td>\n",
              "      <td>-0.077621</td>\n",
              "      <td>0.712482</td>\n",
              "    </tr>\n",
              "    <tr>\n",
              "      <th>fiber_optic</th>\n",
              "      <td>0.425171</td>\n",
              "      <td>2479</td>\n",
              "      <td>0.155203</td>\n",
              "      <td>1.574895</td>\n",
              "    </tr>\n",
              "    <tr>\n",
              "      <th>no</th>\n",
              "      <td>0.077805</td>\n",
              "      <td>1221</td>\n",
              "      <td>-0.192163</td>\n",
              "      <td>0.288201</td>\n",
              "    </tr>\n",
              "  </tbody>\n",
              "</table>\n",
              "</div>"
            ],
            "text/plain": [
              "                     mean  count      diff      risk\n",
              "internetservice                                     \n",
              "dsl              0.192347   1934 -0.077621  0.712482\n",
              "fiber_optic      0.425171   2479  0.155203  1.574895\n",
              "no               0.077805   1221 -0.192163  0.288201"
            ]
          },
          "metadata": {},
          "output_type": "display_data"
        },
        {
          "name": "stdout",
          "output_type": "stream",
          "text": [
            "\n",
            "\n",
            "onlinesecurity\n"
          ]
        },
        {
          "data": {
            "text/html": [
              "<div>\n",
              "<style scoped>\n",
              "    .dataframe tbody tr th:only-of-type {\n",
              "        vertical-align: middle;\n",
              "    }\n",
              "\n",
              "    .dataframe tbody tr th {\n",
              "        vertical-align: top;\n",
              "    }\n",
              "\n",
              "    .dataframe thead th {\n",
              "        text-align: right;\n",
              "    }\n",
              "</style>\n",
              "<table border=\"1\" class=\"dataframe\">\n",
              "  <thead>\n",
              "    <tr style=\"text-align: right;\">\n",
              "      <th></th>\n",
              "      <th>mean</th>\n",
              "      <th>count</th>\n",
              "      <th>diff</th>\n",
              "      <th>risk</th>\n",
              "    </tr>\n",
              "    <tr>\n",
              "      <th>onlinesecurity</th>\n",
              "      <th></th>\n",
              "      <th></th>\n",
              "      <th></th>\n",
              "      <th></th>\n",
              "    </tr>\n",
              "  </thead>\n",
              "  <tbody>\n",
              "    <tr>\n",
              "      <th>no</th>\n",
              "      <td>0.420921</td>\n",
              "      <td>2801</td>\n",
              "      <td>0.150953</td>\n",
              "      <td>1.559152</td>\n",
              "    </tr>\n",
              "    <tr>\n",
              "      <th>no_internet_service</th>\n",
              "      <td>0.077805</td>\n",
              "      <td>1221</td>\n",
              "      <td>-0.192163</td>\n",
              "      <td>0.288201</td>\n",
              "    </tr>\n",
              "    <tr>\n",
              "      <th>yes</th>\n",
              "      <td>0.153226</td>\n",
              "      <td>1612</td>\n",
              "      <td>-0.116742</td>\n",
              "      <td>0.567570</td>\n",
              "    </tr>\n",
              "  </tbody>\n",
              "</table>\n",
              "</div>"
            ],
            "text/plain": [
              "                         mean  count      diff      risk\n",
              "onlinesecurity                                          \n",
              "no                   0.420921   2801  0.150953  1.559152\n",
              "no_internet_service  0.077805   1221 -0.192163  0.288201\n",
              "yes                  0.153226   1612 -0.116742  0.567570"
            ]
          },
          "metadata": {},
          "output_type": "display_data"
        },
        {
          "name": "stdout",
          "output_type": "stream",
          "text": [
            "\n",
            "\n",
            "onlinebackup\n"
          ]
        },
        {
          "data": {
            "text/html": [
              "<div>\n",
              "<style scoped>\n",
              "    .dataframe tbody tr th:only-of-type {\n",
              "        vertical-align: middle;\n",
              "    }\n",
              "\n",
              "    .dataframe tbody tr th {\n",
              "        vertical-align: top;\n",
              "    }\n",
              "\n",
              "    .dataframe thead th {\n",
              "        text-align: right;\n",
              "    }\n",
              "</style>\n",
              "<table border=\"1\" class=\"dataframe\">\n",
              "  <thead>\n",
              "    <tr style=\"text-align: right;\">\n",
              "      <th></th>\n",
              "      <th>mean</th>\n",
              "      <th>count</th>\n",
              "      <th>diff</th>\n",
              "      <th>risk</th>\n",
              "    </tr>\n",
              "    <tr>\n",
              "      <th>onlinebackup</th>\n",
              "      <th></th>\n",
              "      <th></th>\n",
              "      <th></th>\n",
              "      <th></th>\n",
              "    </tr>\n",
              "  </thead>\n",
              "  <tbody>\n",
              "    <tr>\n",
              "      <th>no</th>\n",
              "      <td>0.404323</td>\n",
              "      <td>2498</td>\n",
              "      <td>0.134355</td>\n",
              "      <td>1.497672</td>\n",
              "    </tr>\n",
              "    <tr>\n",
              "      <th>no_internet_service</th>\n",
              "      <td>0.077805</td>\n",
              "      <td>1221</td>\n",
              "      <td>-0.192163</td>\n",
              "      <td>0.288201</td>\n",
              "    </tr>\n",
              "    <tr>\n",
              "      <th>yes</th>\n",
              "      <td>0.217232</td>\n",
              "      <td>1915</td>\n",
              "      <td>-0.052736</td>\n",
              "      <td>0.804660</td>\n",
              "    </tr>\n",
              "  </tbody>\n",
              "</table>\n",
              "</div>"
            ],
            "text/plain": [
              "                         mean  count      diff      risk\n",
              "onlinebackup                                            \n",
              "no                   0.404323   2498  0.134355  1.497672\n",
              "no_internet_service  0.077805   1221 -0.192163  0.288201\n",
              "yes                  0.217232   1915 -0.052736  0.804660"
            ]
          },
          "metadata": {},
          "output_type": "display_data"
        },
        {
          "name": "stdout",
          "output_type": "stream",
          "text": [
            "\n",
            "\n",
            "deviceprotection\n"
          ]
        },
        {
          "data": {
            "text/html": [
              "<div>\n",
              "<style scoped>\n",
              "    .dataframe tbody tr th:only-of-type {\n",
              "        vertical-align: middle;\n",
              "    }\n",
              "\n",
              "    .dataframe tbody tr th {\n",
              "        vertical-align: top;\n",
              "    }\n",
              "\n",
              "    .dataframe thead th {\n",
              "        text-align: right;\n",
              "    }\n",
              "</style>\n",
              "<table border=\"1\" class=\"dataframe\">\n",
              "  <thead>\n",
              "    <tr style=\"text-align: right;\">\n",
              "      <th></th>\n",
              "      <th>mean</th>\n",
              "      <th>count</th>\n",
              "      <th>diff</th>\n",
              "      <th>risk</th>\n",
              "    </tr>\n",
              "    <tr>\n",
              "      <th>deviceprotection</th>\n",
              "      <th></th>\n",
              "      <th></th>\n",
              "      <th></th>\n",
              "      <th></th>\n",
              "    </tr>\n",
              "  </thead>\n",
              "  <tbody>\n",
              "    <tr>\n",
              "      <th>no</th>\n",
              "      <td>0.395875</td>\n",
              "      <td>2473</td>\n",
              "      <td>0.125907</td>\n",
              "      <td>1.466379</td>\n",
              "    </tr>\n",
              "    <tr>\n",
              "      <th>no_internet_service</th>\n",
              "      <td>0.077805</td>\n",
              "      <td>1221</td>\n",
              "      <td>-0.192163</td>\n",
              "      <td>0.288201</td>\n",
              "    </tr>\n",
              "    <tr>\n",
              "      <th>yes</th>\n",
              "      <td>0.230412</td>\n",
              "      <td>1940</td>\n",
              "      <td>-0.039556</td>\n",
              "      <td>0.853480</td>\n",
              "    </tr>\n",
              "  </tbody>\n",
              "</table>\n",
              "</div>"
            ],
            "text/plain": [
              "                         mean  count      diff      risk\n",
              "deviceprotection                                        \n",
              "no                   0.395875   2473  0.125907  1.466379\n",
              "no_internet_service  0.077805   1221 -0.192163  0.288201\n",
              "yes                  0.230412   1940 -0.039556  0.853480"
            ]
          },
          "metadata": {},
          "output_type": "display_data"
        },
        {
          "name": "stdout",
          "output_type": "stream",
          "text": [
            "\n",
            "\n",
            "techsupport\n"
          ]
        },
        {
          "data": {
            "text/html": [
              "<div>\n",
              "<style scoped>\n",
              "    .dataframe tbody tr th:only-of-type {\n",
              "        vertical-align: middle;\n",
              "    }\n",
              "\n",
              "    .dataframe tbody tr th {\n",
              "        vertical-align: top;\n",
              "    }\n",
              "\n",
              "    .dataframe thead th {\n",
              "        text-align: right;\n",
              "    }\n",
              "</style>\n",
              "<table border=\"1\" class=\"dataframe\">\n",
              "  <thead>\n",
              "    <tr style=\"text-align: right;\">\n",
              "      <th></th>\n",
              "      <th>mean</th>\n",
              "      <th>count</th>\n",
              "      <th>diff</th>\n",
              "      <th>risk</th>\n",
              "    </tr>\n",
              "    <tr>\n",
              "      <th>techsupport</th>\n",
              "      <th></th>\n",
              "      <th></th>\n",
              "      <th></th>\n",
              "      <th></th>\n",
              "    </tr>\n",
              "  </thead>\n",
              "  <tbody>\n",
              "    <tr>\n",
              "      <th>no</th>\n",
              "      <td>0.418914</td>\n",
              "      <td>2781</td>\n",
              "      <td>0.148946</td>\n",
              "      <td>1.551717</td>\n",
              "    </tr>\n",
              "    <tr>\n",
              "      <th>no_internet_service</th>\n",
              "      <td>0.077805</td>\n",
              "      <td>1221</td>\n",
              "      <td>-0.192163</td>\n",
              "      <td>0.288201</td>\n",
              "    </tr>\n",
              "    <tr>\n",
              "      <th>yes</th>\n",
              "      <td>0.159926</td>\n",
              "      <td>1632</td>\n",
              "      <td>-0.110042</td>\n",
              "      <td>0.592390</td>\n",
              "    </tr>\n",
              "  </tbody>\n",
              "</table>\n",
              "</div>"
            ],
            "text/plain": [
              "                         mean  count      diff      risk\n",
              "techsupport                                             \n",
              "no                   0.418914   2781  0.148946  1.551717\n",
              "no_internet_service  0.077805   1221 -0.192163  0.288201\n",
              "yes                  0.159926   1632 -0.110042  0.592390"
            ]
          },
          "metadata": {},
          "output_type": "display_data"
        },
        {
          "name": "stdout",
          "output_type": "stream",
          "text": [
            "\n",
            "\n",
            "streamingtv\n"
          ]
        },
        {
          "data": {
            "text/html": [
              "<div>\n",
              "<style scoped>\n",
              "    .dataframe tbody tr th:only-of-type {\n",
              "        vertical-align: middle;\n",
              "    }\n",
              "\n",
              "    .dataframe tbody tr th {\n",
              "        vertical-align: top;\n",
              "    }\n",
              "\n",
              "    .dataframe thead th {\n",
              "        text-align: right;\n",
              "    }\n",
              "</style>\n",
              "<table border=\"1\" class=\"dataframe\">\n",
              "  <thead>\n",
              "    <tr style=\"text-align: right;\">\n",
              "      <th></th>\n",
              "      <th>mean</th>\n",
              "      <th>count</th>\n",
              "      <th>diff</th>\n",
              "      <th>risk</th>\n",
              "    </tr>\n",
              "    <tr>\n",
              "      <th>streamingtv</th>\n",
              "      <th></th>\n",
              "      <th></th>\n",
              "      <th></th>\n",
              "      <th></th>\n",
              "    </tr>\n",
              "  </thead>\n",
              "  <tbody>\n",
              "    <tr>\n",
              "      <th>no</th>\n",
              "      <td>0.342832</td>\n",
              "      <td>2246</td>\n",
              "      <td>0.072864</td>\n",
              "      <td>1.269897</td>\n",
              "    </tr>\n",
              "    <tr>\n",
              "      <th>no_internet_service</th>\n",
              "      <td>0.077805</td>\n",
              "      <td>1221</td>\n",
              "      <td>-0.192163</td>\n",
              "      <td>0.288201</td>\n",
              "    </tr>\n",
              "    <tr>\n",
              "      <th>yes</th>\n",
              "      <td>0.302723</td>\n",
              "      <td>2167</td>\n",
              "      <td>0.032755</td>\n",
              "      <td>1.121328</td>\n",
              "    </tr>\n",
              "  </tbody>\n",
              "</table>\n",
              "</div>"
            ],
            "text/plain": [
              "                         mean  count      diff      risk\n",
              "streamingtv                                             \n",
              "no                   0.342832   2246  0.072864  1.269897\n",
              "no_internet_service  0.077805   1221 -0.192163  0.288201\n",
              "yes                  0.302723   2167  0.032755  1.121328"
            ]
          },
          "metadata": {},
          "output_type": "display_data"
        },
        {
          "name": "stdout",
          "output_type": "stream",
          "text": [
            "\n",
            "\n",
            "streamingmovies\n"
          ]
        },
        {
          "data": {
            "text/html": [
              "<div>\n",
              "<style scoped>\n",
              "    .dataframe tbody tr th:only-of-type {\n",
              "        vertical-align: middle;\n",
              "    }\n",
              "\n",
              "    .dataframe tbody tr th {\n",
              "        vertical-align: top;\n",
              "    }\n",
              "\n",
              "    .dataframe thead th {\n",
              "        text-align: right;\n",
              "    }\n",
              "</style>\n",
              "<table border=\"1\" class=\"dataframe\">\n",
              "  <thead>\n",
              "    <tr style=\"text-align: right;\">\n",
              "      <th></th>\n",
              "      <th>mean</th>\n",
              "      <th>count</th>\n",
              "      <th>diff</th>\n",
              "      <th>risk</th>\n",
              "    </tr>\n",
              "    <tr>\n",
              "      <th>streamingmovies</th>\n",
              "      <th></th>\n",
              "      <th></th>\n",
              "      <th></th>\n",
              "      <th></th>\n",
              "    </tr>\n",
              "  </thead>\n",
              "  <tbody>\n",
              "    <tr>\n",
              "      <th>no</th>\n",
              "      <td>0.338906</td>\n",
              "      <td>2213</td>\n",
              "      <td>0.068938</td>\n",
              "      <td>1.255358</td>\n",
              "    </tr>\n",
              "    <tr>\n",
              "      <th>no_internet_service</th>\n",
              "      <td>0.077805</td>\n",
              "      <td>1221</td>\n",
              "      <td>-0.192163</td>\n",
              "      <td>0.288201</td>\n",
              "    </tr>\n",
              "    <tr>\n",
              "      <th>yes</th>\n",
              "      <td>0.307273</td>\n",
              "      <td>2200</td>\n",
              "      <td>0.037305</td>\n",
              "      <td>1.138182</td>\n",
              "    </tr>\n",
              "  </tbody>\n",
              "</table>\n",
              "</div>"
            ],
            "text/plain": [
              "                         mean  count      diff      risk\n",
              "streamingmovies                                         \n",
              "no                   0.338906   2213  0.068938  1.255358\n",
              "no_internet_service  0.077805   1221 -0.192163  0.288201\n",
              "yes                  0.307273   2200  0.037305  1.138182"
            ]
          },
          "metadata": {},
          "output_type": "display_data"
        },
        {
          "name": "stdout",
          "output_type": "stream",
          "text": [
            "\n",
            "\n",
            "contract\n"
          ]
        },
        {
          "data": {
            "text/html": [
              "<div>\n",
              "<style scoped>\n",
              "    .dataframe tbody tr th:only-of-type {\n",
              "        vertical-align: middle;\n",
              "    }\n",
              "\n",
              "    .dataframe tbody tr th {\n",
              "        vertical-align: top;\n",
              "    }\n",
              "\n",
              "    .dataframe thead th {\n",
              "        text-align: right;\n",
              "    }\n",
              "</style>\n",
              "<table border=\"1\" class=\"dataframe\">\n",
              "  <thead>\n",
              "    <tr style=\"text-align: right;\">\n",
              "      <th></th>\n",
              "      <th>mean</th>\n",
              "      <th>count</th>\n",
              "      <th>diff</th>\n",
              "      <th>risk</th>\n",
              "    </tr>\n",
              "    <tr>\n",
              "      <th>contract</th>\n",
              "      <th></th>\n",
              "      <th></th>\n",
              "      <th></th>\n",
              "      <th></th>\n",
              "    </tr>\n",
              "  </thead>\n",
              "  <tbody>\n",
              "    <tr>\n",
              "      <th>month-to-month</th>\n",
              "      <td>0.431701</td>\n",
              "      <td>3104</td>\n",
              "      <td>0.161733</td>\n",
              "      <td>1.599082</td>\n",
              "    </tr>\n",
              "    <tr>\n",
              "      <th>one_year</th>\n",
              "      <td>0.120573</td>\n",
              "      <td>1186</td>\n",
              "      <td>-0.149395</td>\n",
              "      <td>0.446621</td>\n",
              "    </tr>\n",
              "    <tr>\n",
              "      <th>two_year</th>\n",
              "      <td>0.028274</td>\n",
              "      <td>1344</td>\n",
              "      <td>-0.241694</td>\n",
              "      <td>0.104730</td>\n",
              "    </tr>\n",
              "  </tbody>\n",
              "</table>\n",
              "</div>"
            ],
            "text/plain": [
              "                    mean  count      diff      risk\n",
              "contract                                           \n",
              "month-to-month  0.431701   3104  0.161733  1.599082\n",
              "one_year        0.120573   1186 -0.149395  0.446621\n",
              "two_year        0.028274   1344 -0.241694  0.104730"
            ]
          },
          "metadata": {},
          "output_type": "display_data"
        },
        {
          "name": "stdout",
          "output_type": "stream",
          "text": [
            "\n",
            "\n",
            "paperlessbilling\n"
          ]
        },
        {
          "data": {
            "text/html": [
              "<div>\n",
              "<style scoped>\n",
              "    .dataframe tbody tr th:only-of-type {\n",
              "        vertical-align: middle;\n",
              "    }\n",
              "\n",
              "    .dataframe tbody tr th {\n",
              "        vertical-align: top;\n",
              "    }\n",
              "\n",
              "    .dataframe thead th {\n",
              "        text-align: right;\n",
              "    }\n",
              "</style>\n",
              "<table border=\"1\" class=\"dataframe\">\n",
              "  <thead>\n",
              "    <tr style=\"text-align: right;\">\n",
              "      <th></th>\n",
              "      <th>mean</th>\n",
              "      <th>count</th>\n",
              "      <th>diff</th>\n",
              "      <th>risk</th>\n",
              "    </tr>\n",
              "    <tr>\n",
              "      <th>paperlessbilling</th>\n",
              "      <th></th>\n",
              "      <th></th>\n",
              "      <th></th>\n",
              "      <th></th>\n",
              "    </tr>\n",
              "  </thead>\n",
              "  <tbody>\n",
              "    <tr>\n",
              "      <th>no</th>\n",
              "      <td>0.172071</td>\n",
              "      <td>2313</td>\n",
              "      <td>-0.097897</td>\n",
              "      <td>0.637375</td>\n",
              "    </tr>\n",
              "    <tr>\n",
              "      <th>yes</th>\n",
              "      <td>0.338151</td>\n",
              "      <td>3321</td>\n",
              "      <td>0.068183</td>\n",
              "      <td>1.252560</td>\n",
              "    </tr>\n",
              "  </tbody>\n",
              "</table>\n",
              "</div>"
            ],
            "text/plain": [
              "                      mean  count      diff      risk\n",
              "paperlessbilling                                     \n",
              "no                0.172071   2313 -0.097897  0.637375\n",
              "yes               0.338151   3321  0.068183  1.252560"
            ]
          },
          "metadata": {},
          "output_type": "display_data"
        },
        {
          "name": "stdout",
          "output_type": "stream",
          "text": [
            "\n",
            "\n",
            "paymentmethod\n"
          ]
        },
        {
          "data": {
            "text/html": [
              "<div>\n",
              "<style scoped>\n",
              "    .dataframe tbody tr th:only-of-type {\n",
              "        vertical-align: middle;\n",
              "    }\n",
              "\n",
              "    .dataframe tbody tr th {\n",
              "        vertical-align: top;\n",
              "    }\n",
              "\n",
              "    .dataframe thead th {\n",
              "        text-align: right;\n",
              "    }\n",
              "</style>\n",
              "<table border=\"1\" class=\"dataframe\">\n",
              "  <thead>\n",
              "    <tr style=\"text-align: right;\">\n",
              "      <th></th>\n",
              "      <th>mean</th>\n",
              "      <th>count</th>\n",
              "      <th>diff</th>\n",
              "      <th>risk</th>\n",
              "    </tr>\n",
              "    <tr>\n",
              "      <th>paymentmethod</th>\n",
              "      <th></th>\n",
              "      <th></th>\n",
              "      <th></th>\n",
              "      <th></th>\n",
              "    </tr>\n",
              "  </thead>\n",
              "  <tbody>\n",
              "    <tr>\n",
              "      <th>bank_transfer_(automatic)</th>\n",
              "      <td>0.168171</td>\n",
              "      <td>1219</td>\n",
              "      <td>-0.101797</td>\n",
              "      <td>0.622928</td>\n",
              "    </tr>\n",
              "    <tr>\n",
              "      <th>credit_card_(automatic)</th>\n",
              "      <td>0.164339</td>\n",
              "      <td>1217</td>\n",
              "      <td>-0.105630</td>\n",
              "      <td>0.608733</td>\n",
              "    </tr>\n",
              "    <tr>\n",
              "      <th>electronic_check</th>\n",
              "      <td>0.455890</td>\n",
              "      <td>1893</td>\n",
              "      <td>0.185922</td>\n",
              "      <td>1.688682</td>\n",
              "    </tr>\n",
              "    <tr>\n",
              "      <th>mailed_check</th>\n",
              "      <td>0.193870</td>\n",
              "      <td>1305</td>\n",
              "      <td>-0.076098</td>\n",
              "      <td>0.718121</td>\n",
              "    </tr>\n",
              "  </tbody>\n",
              "</table>\n",
              "</div>"
            ],
            "text/plain": [
              "                               mean  count      diff      risk\n",
              "paymentmethod                                                 \n",
              "bank_transfer_(automatic)  0.168171   1219 -0.101797  0.622928\n",
              "credit_card_(automatic)    0.164339   1217 -0.105630  0.608733\n",
              "electronic_check           0.455890   1893  0.185922  1.688682\n",
              "mailed_check               0.193870   1305 -0.076098  0.718121"
            ]
          },
          "metadata": {},
          "output_type": "display_data"
        },
        {
          "name": "stdout",
          "output_type": "stream",
          "text": [
            "\n",
            "\n"
          ]
        }
      ],
      "source": [
        "for c in categorical:\n",
        "    print(c)\n",
        "    df_group = df_full_train.groupby(c).churn.agg(['mean', 'count'])\n",
        "    df_group['diff'] = df_group['mean'] - global_churn\n",
        "    df_group['risk'] = df_group['mean'] / global_churn\n",
        "    display(df_group)\n",
        "    print()\n",
        "    print()"
      ],
      "id": "aMe41SKWJDRC"
    },
    {
      "cell_type": "markdown",
      "metadata": {
        "id": "zzamMH8GJDRC"
      },
      "source": [
        "## 3.6 Feature importance: Mutual information\n",
        "\n",
        "Lo importante:\n",
        "\n",
        "Cuánta información conocer una variable nos da sobre la otra.\n",
        "\n",
        "Si dos variables son totalmente independientes, la información mutua es 0.\n",
        "\n",
        "Si una variable determina completamente la otra, la información mutua es alta.\n",
        "\n",
        "* https://es.wikipedia.org/wiki/Informaci%C3%B3n_mutua"
      ],
      "id": "zzamMH8GJDRC"
    },
    {
      "cell_type": "code",
      "execution_count": null,
      "metadata": {
        "id": "AhZMWGnrJDRD"
      },
      "outputs": [],
      "source": [
        "from sklearn.metrics import mutual_info_score"
      ],
      "id": "AhZMWGnrJDRD"
    },
    {
      "cell_type": "code",
      "execution_count": null,
      "metadata": {
        "id": "3yHx2ZEbJDRD",
        "outputId": "eec0485b-3840-45f9-a831-723bd5084343"
      },
      "outputs": [
        {
          "data": {
            "text/plain": [
              "0.0983203874041556"
            ]
          },
          "execution_count": 40,
          "metadata": {},
          "output_type": "execute_result"
        }
      ],
      "source": [
        "mutual_info_score(df_full_train.churn, df_full_train.contract)"
      ],
      "id": "3yHx2ZEbJDRD"
    },
    {
      "cell_type": "code",
      "execution_count": null,
      "metadata": {
        "id": "ixLMqLM3JDRD",
        "outputId": "4f848e9e-a2b4-445b-936a-3a15260a1351"
      },
      "outputs": [
        {
          "data": {
            "text/plain": [
              "0.0001174846211139946"
            ]
          },
          "execution_count": 41,
          "metadata": {},
          "output_type": "execute_result"
        }
      ],
      "source": [
        "mutual_info_score(df_full_train.gender, df_full_train.churn)"
      ],
      "id": "ixLMqLM3JDRD"
    },
    {
      "cell_type": "code",
      "execution_count": null,
      "metadata": {
        "id": "j-VptIOsJDRF",
        "outputId": "a3290a3a-09d4-43e9-86c3-3b3d0ed7b119"
      },
      "outputs": [
        {
          "data": {
            "text/plain": [
              "0.0983203874041556"
            ]
          },
          "execution_count": 42,
          "metadata": {},
          "output_type": "execute_result"
        }
      ],
      "source": [
        "mutual_info_score(df_full_train.contract, df_full_train.churn)"
      ],
      "id": "j-VptIOsJDRF"
    },
    {
      "cell_type": "code",
      "execution_count": null,
      "metadata": {
        "id": "x7cB91tGJDRG",
        "outputId": "6ed60f82-6861-41c0-b87f-fcb026538215"
      },
      "outputs": [
        {
          "data": {
            "text/plain": [
              "0.009967689095399745"
            ]
          },
          "execution_count": 43,
          "metadata": {},
          "output_type": "execute_result"
        }
      ],
      "source": [
        "mutual_info_score(df_full_train.partner, df_full_train.churn)"
      ],
      "id": "x7cB91tGJDRG"
    },
    {
      "cell_type": "code",
      "execution_count": null,
      "metadata": {
        "id": "_Q8Lvx25JDRH"
      },
      "outputs": [],
      "source": [
        "def mutual_info_churn_score(series):\n",
        "    return mutual_info_score(series, df_full_train.churn)"
      ],
      "id": "_Q8Lvx25JDRH"
    },
    {
      "cell_type": "code",
      "execution_count": null,
      "metadata": {
        "id": "5byXdHiNJDRI",
        "outputId": "9e0248fa-ae6b-4ab6-87f1-aad448801ebd"
      },
      "outputs": [
        {
          "data": {
            "text/plain": [
              "contract            0.098320\n",
              "onlinesecurity      0.063085\n",
              "techsupport         0.061032\n",
              "internetservice     0.055868\n",
              "onlinebackup        0.046923\n",
              "deviceprotection    0.043453\n",
              "paymentmethod       0.043210\n",
              "streamingtv         0.031853\n",
              "streamingmovies     0.031581\n",
              "paperlessbilling    0.017589\n",
              "dependents          0.012346\n",
              "partner             0.009968\n",
              "seniorcitizen       0.009410\n",
              "multiplelines       0.000857\n",
              "phoneservice        0.000229\n",
              "gender              0.000117\n",
              "dtype: float64"
            ]
          },
          "execution_count": 45,
          "metadata": {},
          "output_type": "execute_result"
        }
      ],
      "source": [
        "mi = df_full_train[categorical].apply(mutual_info_churn_score)\n",
        "mi.sort_values(ascending=False)"
      ],
      "id": "5byXdHiNJDRI"
    },
    {
      "cell_type": "markdown",
      "metadata": {
        "id": "ZP9AcmetJDRI"
      },
      "source": [
        "## 3.7 Feature importance: Correlation\n",
        "\n",
        "How about numerical columns?\n",
        "\n",
        "* Correlation coefficient - https://en.wikipedia.org/wiki/Pearson_correlation_coefficient"
      ],
      "id": "ZP9AcmetJDRI"
    },
    {
      "cell_type": "code",
      "execution_count": null,
      "metadata": {
        "id": "rnSOhr0fJDRJ",
        "outputId": "4cd6a347-0641-4ad8-fc6a-ace6f3022cf4"
      },
      "outputs": [
        {
          "data": {
            "text/plain": [
              "72"
            ]
          },
          "execution_count": 46,
          "metadata": {},
          "output_type": "execute_result"
        }
      ],
      "source": [
        "df_full_train.tenure.max()"
      ],
      "id": "rnSOhr0fJDRJ"
    },
    {
      "cell_type": "code",
      "execution_count": null,
      "metadata": {
        "id": "mEN9Z8kiJDRJ",
        "outputId": "3d329b58-f837-412a-88b8-06434e20faac"
      },
      "outputs": [
        {
          "data": {
            "text/plain": [
              "tenure            0.351885\n",
              "monthlycharges    0.196805\n",
              "totalcharges      0.196353\n",
              "dtype: float64"
            ]
          },
          "execution_count": 47,
          "metadata": {},
          "output_type": "execute_result"
        }
      ],
      "source": [
        "df_full_train[numerical].corrwith(df_full_train.churn).abs()"
      ],
      "id": "mEN9Z8kiJDRJ"
    },
    {
      "cell_type": "code",
      "execution_count": null,
      "metadata": {
        "id": "LHLwmbH5JDRJ",
        "outputId": "bf848323-b24c-4203-c5ae-eb1366c884c8"
      },
      "outputs": [
        {
          "data": {
            "text/plain": [
              "0.5953420669577875"
            ]
          },
          "execution_count": 48,
          "metadata": {},
          "output_type": "execute_result"
        }
      ],
      "source": [
        "df_full_train[df_full_train.tenure <= 2].churn.mean()"
      ],
      "id": "LHLwmbH5JDRJ"
    },
    {
      "cell_type": "code",
      "execution_count": null,
      "metadata": {
        "id": "fPrHdeqWJDRK",
        "outputId": "d488801f-4e0f-4e11-a97d-c836d9ad24fc"
      },
      "outputs": [
        {
          "data": {
            "text/plain": [
              "0.3994413407821229"
            ]
          },
          "execution_count": 49,
          "metadata": {},
          "output_type": "execute_result"
        }
      ],
      "source": [
        "df_full_train[(df_full_train.tenure > 2) & (df_full_train.tenure <= 12)].churn.mean()"
      ],
      "id": "fPrHdeqWJDRK"
    },
    {
      "cell_type": "code",
      "execution_count": null,
      "metadata": {
        "id": "pqLa8a1KJDRK",
        "outputId": "83abfa39-3ae5-448b-ef58-3837404aa7f2"
      },
      "outputs": [
        {
          "data": {
            "text/plain": [
              "0.17634908339788277"
            ]
          },
          "execution_count": 50,
          "metadata": {},
          "output_type": "execute_result"
        }
      ],
      "source": [
        "df_full_train[df_full_train.tenure > 12].churn.mean()"
      ],
      "id": "pqLa8a1KJDRK"
    },
    {
      "cell_type": "code",
      "execution_count": null,
      "metadata": {
        "id": "WZ2lQwZfJDRL",
        "outputId": "258a1f57-1d17-4f4a-8c84-9f1c51d75687"
      },
      "outputs": [
        {
          "data": {
            "text/plain": [
              "0.08795411089866156"
            ]
          },
          "execution_count": 51,
          "metadata": {},
          "output_type": "execute_result"
        }
      ],
      "source": [
        "df_full_train[df_full_train.monthlycharges <= 20].churn.mean()"
      ],
      "id": "WZ2lQwZfJDRL"
    },
    {
      "cell_type": "code",
      "execution_count": null,
      "metadata": {
        "id": "_utWMl_7JDRL",
        "outputId": "bb6fd78c-4292-4512-d72a-2b289c87a650"
      },
      "outputs": [
        {
          "data": {
            "text/plain": [
              "0.18340943683409436"
            ]
          },
          "execution_count": 52,
          "metadata": {},
          "output_type": "execute_result"
        }
      ],
      "source": [
        "df_full_train[(df_full_train.monthlycharges > 20) & (df_full_train.monthlycharges <= 50)].churn.mean()"
      ],
      "id": "_utWMl_7JDRL"
    },
    {
      "cell_type": "code",
      "execution_count": null,
      "metadata": {
        "id": "8KmJTfM2JDRL",
        "outputId": "84825332-b736-43fb-c3c0-2855d26e2fb7"
      },
      "outputs": [
        {
          "data": {
            "text/plain": [
              "0.32499341585462205"
            ]
          },
          "execution_count": 53,
          "metadata": {},
          "output_type": "execute_result"
        }
      ],
      "source": [
        "df_full_train[df_full_train.monthlycharges > 50].churn.mean()"
      ],
      "id": "8KmJTfM2JDRL"
    },
    {
      "cell_type": "markdown",
      "metadata": {
        "id": "FMbQ8qJ1JDRM"
      },
      "source": [
        "## 3.8 One-hot encoding\n",
        "\n",
        "* Use Scikit-Learn to encode categorical features"
      ],
      "id": "FMbQ8qJ1JDRM"
    },
    {
      "cell_type": "code",
      "execution_count": null,
      "metadata": {
        "id": "G7Sx56E9JDRM"
      },
      "outputs": [],
      "source": [
        "from sklearn.feature_extraction import DictVectorizer"
      ],
      "id": "G7Sx56E9JDRM"
    },
    {
      "cell_type": "code",
      "execution_count": null,
      "metadata": {
        "id": "7RZsER2DJDRN"
      },
      "outputs": [],
      "source": [
        "dv = DictVectorizer(sparse=False)\n",
        "\n",
        "train_dict = df_train[categorical + numerical].to_dict(orient='records')\n",
        "X_train = dv.fit_transform(train_dict)\n",
        "\n",
        "val_dict = df_val[categorical + numerical].to_dict(orient='records')\n",
        "X_val = dv.transform(val_dict)"
      ],
      "id": "7RZsER2DJDRN"
    },
    {
      "cell_type": "markdown",
      "metadata": {
        "id": "mfbYLyvmJDRN"
      },
      "source": [
        "## 3.9 Logistic regression\n",
        "\n",
        "* Binary classification\n",
        "* Linear vs logistic regression"
      ],
      "id": "mfbYLyvmJDRN"
    },
    {
      "cell_type": "code",
      "execution_count": null,
      "metadata": {
        "id": "VMLQr8K6JDRN"
      },
      "outputs": [],
      "source": [
        "def sigmoid(z):\n",
        "    return 1 / (1 + np.exp(-z))"
      ],
      "id": "VMLQr8K6JDRN"
    },
    {
      "cell_type": "code",
      "execution_count": null,
      "metadata": {
        "id": "y-fyurAWJDRO"
      },
      "outputs": [],
      "source": [
        "z = np.linspace(-7, 7, 51)"
      ],
      "id": "y-fyurAWJDRO"
    },
    {
      "cell_type": "code",
      "execution_count": null,
      "metadata": {
        "id": "2gU8RW0FJDRO",
        "outputId": "53f53029-0d91-4992-deae-ca123641da52"
      },
      "outputs": [
        {
          "data": {
            "text/plain": [
              "1.0"
            ]
          },
          "execution_count": 58,
          "metadata": {},
          "output_type": "execute_result"
        }
      ],
      "source": [
        "sigmoid(10000)"
      ],
      "id": "2gU8RW0FJDRO"
    },
    {
      "cell_type": "code",
      "execution_count": null,
      "metadata": {
        "id": "Kc0dYHX5JDRO",
        "outputId": "3d7c29c8-53df-4372-f5cb-7a6316b0f0e2"
      },
      "outputs": [
        {
          "data": {
            "text/plain": [
              "[<matplotlib.lines.Line2D at 0x7f342d0bf080>]"
            ]
          },
          "execution_count": 59,
          "metadata": {},
          "output_type": "execute_result"
        },
        {
          "data": {
            "image/png": "[encoded data removed]",
            "text/plain": [
              "<Figure size 432x288 with 1 Axes>"
            ]
          },
          "metadata": {
            "needs_background": "light"
          },
          "output_type": "display_data"
        }
      ],
      "source": [
        "plt.plot(z, sigmoid(z))"
      ],
      "id": "Kc0dYHX5JDRO"
    },
    {
      "cell_type": "code",
      "execution_count": null,
      "metadata": {
        "id": "yP7XVWbcJDRP"
      },
      "outputs": [],
      "source": [
        "def linear_regression(xi):\n",
        "    result = w0\n",
        "\n",
        "    for j in range(len(w)):\n",
        "        result = result + xi[j] * w[j]\n",
        "\n",
        "    return result"
      ],
      "id": "yP7XVWbcJDRP"
    },
    {
      "cell_type": "code",
      "execution_count": null,
      "metadata": {
        "id": "39ri_UQpJDRP"
      },
      "outputs": [],
      "source": [
        "def logistic_regression(xi):\n",
        "    score = w0\n",
        "\n",
        "    for j in range(len(w)):\n",
        "        score = score + xi[j] * w[j]\n",
        "\n",
        "    result = sigmoid(score)\n",
        "    return result"
      ],
      "id": "39ri_UQpJDRP"
    },
    {
      "cell_type": "markdown",
      "metadata": {
        "id": "XSOctuM_JDRQ"
      },
      "source": [
        "## 3.10 Training logistic regression with Scikit-Learn\n",
        "\n",
        "* Train a model with Scikit-Learn\n",
        "* Apply it to the validation dataset\n",
        "* Calculate the accuracy"
      ],
      "id": "XSOctuM_JDRQ"
    },
    {
      "cell_type": "code",
      "execution_count": null,
      "metadata": {
        "id": "6uu6mlbLJDRQ"
      },
      "outputs": [],
      "source": [
        "from sklearn.linear_model import LogisticRegression"
      ],
      "id": "6uu6mlbLJDRQ"
    },
    {
      "cell_type": "code",
      "execution_count": null,
      "metadata": {
        "id": "d526qaRkJDRR",
        "outputId": "cea2ac8b-51d5-4fd7-ff2e-51e038a7c673"
      },
      "outputs": [
        {
          "data": {
            "text/plain": [
              "LogisticRegression(C=1.0, class_weight=None, dual=False, fit_intercept=True,\n",
              "                   intercept_scaling=1, l1_ratio=None, max_iter=100,\n",
              "                   multi_class='warn', n_jobs=None, penalty='l2',\n",
              "                   random_state=None, solver='lbfgs', tol=0.0001, verbose=0,\n",
              "                   warm_start=False)"
            ]
          },
          "execution_count": 63,
          "metadata": {},
          "output_type": "execute_result"
        }
      ],
      "source": [
        "model = LogisticRegression(solver='lbfgs')\n",
        "# solver='lbfgs' is the default solver in newer version of sklearn\n",
        "# for older versions, you need to specify it explicitly\n",
        "model.fit(X_train, y_train)"
      ],
      "id": "d526qaRkJDRR"
    },
    {
      "cell_type": "code",
      "execution_count": null,
      "metadata": {
        "id": "xT2HCL_BJDRR",
        "outputId": "58fd1828-632b-4e67-f15b-1831eac414ab"
      },
      "outputs": [
        {
          "data": {
            "text/plain": [
              "-0.10903395348323511"
            ]
          },
          "execution_count": 64,
          "metadata": {},
          "output_type": "execute_result"
        }
      ],
      "source": [
        "model.intercept_[0]"
      ],
      "id": "xT2HCL_BJDRR"
    },
    {
      "cell_type": "code",
      "execution_count": null,
      "metadata": {
        "id": "E11dEs6UJDRS",
        "outputId": "070c1b8f-1efb-4ec9-df22-5bfda933aef4"
      },
      "outputs": [
        {
          "data": {
            "text/plain": [
              "array([ 0.475, -0.175, -0.408, -0.03 , -0.078,  0.063, -0.089, -0.081,\n",
              "       -0.034, -0.073, -0.335,  0.316, -0.089,  0.004, -0.258,  0.141,\n",
              "        0.009,  0.063, -0.089, -0.081,  0.266, -0.089, -0.284, -0.231,\n",
              "        0.124, -0.166,  0.058, -0.087, -0.032,  0.07 , -0.059,  0.141,\n",
              "       -0.249,  0.215, -0.12 , -0.089,  0.102, -0.071, -0.089,  0.052,\n",
              "        0.213, -0.089, -0.232, -0.07 ,  0.   ])"
            ]
          },
          "execution_count": 65,
          "metadata": {},
          "output_type": "execute_result"
        }
      ],
      "source": [
        "model.coef_[0].round(3)"
      ],
      "id": "E11dEs6UJDRS"
    },
    {
      "cell_type": "code",
      "execution_count": null,
      "metadata": {
        "id": "kCqjP_GRJDRS"
      },
      "outputs": [],
      "source": [
        "y_pred = model.predict_proba(X_val)[:, 1]"
      ],
      "id": "kCqjP_GRJDRS"
    },
    {
      "cell_type": "code",
      "execution_count": null,
      "metadata": {
        "id": "3S10juf6JDRS"
      },
      "outputs": [],
      "source": [
        "churn_decision = (y_pred >= 0.5)"
      ],
      "id": "3S10juf6JDRS"
    },
    {
      "cell_type": "code",
      "execution_count": null,
      "metadata": {
        "id": "AjoLdg9KJDRT",
        "outputId": "bdae1921-d8a4-47dd-c7f5-736cec15f8f5"
      },
      "outputs": [
        {
          "data": {
            "text/plain": [
              "0.8034066713981547"
            ]
          },
          "execution_count": 68,
          "metadata": {},
          "output_type": "execute_result"
        }
      ],
      "source": [
        "(y_val == churn_decision).mean()"
      ],
      "id": "AjoLdg9KJDRT"
    },
    {
      "cell_type": "code",
      "execution_count": null,
      "metadata": {
        "id": "QuDB5Gv6JDRT"
      },
      "outputs": [],
      "source": [
        "df_pred = pd.DataFrame()\n",
        "df_pred['probability'] = y_pred\n",
        "df_pred['prediction'] = churn_decision.astype(int)\n",
        "df_pred['actual'] = y_val"
      ],
      "id": "QuDB5Gv6JDRT"
    },
    {
      "cell_type": "code",
      "execution_count": null,
      "metadata": {
        "id": "Mvroo1k9JDRU"
      },
      "outputs": [],
      "source": [
        "df_pred['correct'] = df_pred.prediction == df_pred.actual"
      ],
      "id": "Mvroo1k9JDRU"
    },
    {
      "cell_type": "code",
      "execution_count": null,
      "metadata": {
        "id": "SDnR9vymJDRU",
        "outputId": "7a40fa3a-c5bf-4608-d0c3-30699523ed1f"
      },
      "outputs": [
        {
          "data": {
            "text/plain": [
              "0.8034066713981547"
            ]
          },
          "execution_count": 71,
          "metadata": {},
          "output_type": "execute_result"
        }
      ],
      "source": [
        "df_pred.correct.mean()"
      ],
      "id": "SDnR9vymJDRU"
    },
    {
      "cell_type": "code",
      "execution_count": null,
      "metadata": {
        "id": "tQTs5hdbJDRV",
        "outputId": "5d9811ae-66b8-424a-ba7b-951b48c6457c"
      },
      "outputs": [
        {
          "data": {
            "text/plain": [
              "array([0, 0, 0, ..., 0, 1, 1])"
            ]
          },
          "execution_count": 72,
          "metadata": {},
          "output_type": "execute_result"
        }
      ],
      "source": [
        "churn_decision.astype(int)"
      ],
      "id": "tQTs5hdbJDRV"
    },
    {
      "cell_type": "markdown",
      "metadata": {
        "id": "k6JqB_5pJDRW"
      },
      "source": [
        "## 3.11 Model interpretation\n",
        "\n",
        "* Look at the coefficients\n",
        "* Train a smaller model with fewer features"
      ],
      "id": "k6JqB_5pJDRW"
    },
    {
      "cell_type": "code",
      "execution_count": null,
      "metadata": {
        "id": "Zl68mLBFJDRX"
      },
      "outputs": [],
      "source": [
        "a = [1, 2, 3, 4]\n",
        "b = 'abcd'"
      ],
      "id": "Zl68mLBFJDRX"
    },
    {
      "cell_type": "code",
      "execution_count": null,
      "metadata": {
        "id": "f7-eQ0iuJDRX",
        "outputId": "163f3b33-3986-496c-8dad-5db0b7b2b669"
      },
      "outputs": [
        {
          "data": {
            "text/plain": [
              "{1: 'a', 2: 'b', 3: 'c', 4: 'd'}"
            ]
          },
          "execution_count": 74,
          "metadata": {},
          "output_type": "execute_result"
        }
      ],
      "source": [
        "dict(zip(a, b))"
      ],
      "id": "f7-eQ0iuJDRX"
    },
    {
      "cell_type": "code",
      "execution_count": null,
      "metadata": {
        "scrolled": true,
        "id": "hWxWQgnQJDRY",
        "outputId": "15d79583-9c49-4775-974c-fe4e6789f8fb"
      },
      "outputs": [
        {
          "data": {
            "text/plain": [
              "{'contract=month-to-month': 0.475,\n",
              " 'contract=one_year': -0.175,\n",
              " 'contract=two_year': -0.408,\n",
              " 'dependents=no': -0.03,\n",
              " 'dependents=yes': -0.078,\n",
              " 'deviceprotection=no': 0.063,\n",
              " 'deviceprotection=no_internet_service': -0.089,\n",
              " 'deviceprotection=yes': -0.081,\n",
              " 'gender=female': -0.034,\n",
              " 'gender=male': -0.073,\n",
              " 'internetservice=dsl': -0.335,\n",
              " 'internetservice=fiber_optic': 0.316,\n",
              " 'internetservice=no': -0.089,\n",
              " 'monthlycharges': 0.004,\n",
              " 'multiplelines=no': -0.258,\n",
              " 'multiplelines=no_phone_service': 0.141,\n",
              " 'multiplelines=yes': 0.009,\n",
              " 'onlinebackup=no': 0.063,\n",
              " 'onlinebackup=no_internet_service': -0.089,\n",
              " 'onlinebackup=yes': -0.081,\n",
              " 'onlinesecurity=no': 0.266,\n",
              " 'onlinesecurity=no_internet_service': -0.089,\n",
              " 'onlinesecurity=yes': -0.284,\n",
              " 'paperlessbilling=no': -0.231,\n",
              " 'paperlessbilling=yes': 0.124,\n",
              " 'partner=no': -0.166,\n",
              " 'partner=yes': 0.058,\n",
              " 'paymentmethod=bank_transfer_(automatic)': -0.087,\n",
              " 'paymentmethod=credit_card_(automatic)': -0.032,\n",
              " 'paymentmethod=electronic_check': 0.07,\n",
              " 'paymentmethod=mailed_check': -0.059,\n",
              " 'phoneservice=no': 0.141,\n",
              " 'phoneservice=yes': -0.249,\n",
              " 'seniorcitizen': 0.215,\n",
              " 'streamingmovies=no': -0.12,\n",
              " 'streamingmovies=no_internet_service': -0.089,\n",
              " 'streamingmovies=yes': 0.102,\n",
              " 'streamingtv=no': -0.071,\n",
              " 'streamingtv=no_internet_service': -0.089,\n",
              " 'streamingtv=yes': 0.052,\n",
              " 'techsupport=no': 0.213,\n",
              " 'techsupport=no_internet_service': -0.089,\n",
              " 'techsupport=yes': -0.232,\n",
              " 'tenure': -0.07,\n",
              " 'totalcharges': 0.0}"
            ]
          },
          "execution_count": 75,
          "metadata": {},
          "output_type": "execute_result"
        }
      ],
      "source": [
        "dict(zip(dv.get_feature_names_out(), model.coef_[0].round(3)))"
      ],
      "id": "hWxWQgnQJDRY"
    },
    {
      "cell_type": "code",
      "execution_count": null,
      "metadata": {
        "id": "o6KSJD4BJDRZ"
      },
      "outputs": [],
      "source": [
        "small = ['contract', 'tenure', 'monthlycharges']"
      ],
      "id": "o6KSJD4BJDRZ"
    },
    {
      "cell_type": "code",
      "execution_count": null,
      "metadata": {
        "id": "5aQM1LQBJDRZ",
        "outputId": "a815dc32-9bbf-407e-e019-df2f98f278f0"
      },
      "outputs": [
        {
          "data": {
            "text/plain": [
              "[{'contract': 'two_year', 'tenure': 72, 'monthlycharges': 115.5},\n",
              " {'contract': 'month-to-month', 'tenure': 10, 'monthlycharges': 95.25},\n",
              " {'contract': 'month-to-month', 'tenure': 5, 'monthlycharges': 75.55},\n",
              " {'contract': 'month-to-month', 'tenure': 5, 'monthlycharges': 80.85},\n",
              " {'contract': 'two_year', 'tenure': 18, 'monthlycharges': 20.1},\n",
              " {'contract': 'month-to-month', 'tenure': 4, 'monthlycharges': 30.5},\n",
              " {'contract': 'month-to-month', 'tenure': 1, 'monthlycharges': 75.1},\n",
              " {'contract': 'month-to-month', 'tenure': 1, 'monthlycharges': 70.3},\n",
              " {'contract': 'two_year', 'tenure': 72, 'monthlycharges': 19.75},\n",
              " {'contract': 'month-to-month', 'tenure': 6, 'monthlycharges': 109.9}]"
            ]
          },
          "execution_count": 77,
          "metadata": {},
          "output_type": "execute_result"
        }
      ],
      "source": [
        "df_train[small].iloc[:10].to_dict(orient='records')"
      ],
      "id": "5aQM1LQBJDRZ"
    },
    {
      "cell_type": "code",
      "execution_count": null,
      "metadata": {
        "id": "-NUuYemtJDRa"
      },
      "outputs": [],
      "source": [
        "dicts_train_small = df_train[small].to_dict(orient='records')\n",
        "dicts_val_small = df_val[small].to_dict(orient='records')"
      ],
      "id": "-NUuYemtJDRa"
    },
    {
      "cell_type": "code",
      "execution_count": null,
      "metadata": {
        "id": "7-QcGKy2JDRa",
        "outputId": "0519132c-6cce-443a-ae11-284a167f6a0d"
      },
      "outputs": [
        {
          "data": {
            "text/plain": [
              "DictVectorizer(dtype=<class 'numpy.float64'>, separator='=', sort=True,\n",
              "               sparse=False)"
            ]
          },
          "execution_count": 79,
          "metadata": {},
          "output_type": "execute_result"
        }
      ],
      "source": [
        "dv_small = DictVectorizer(sparse=False)\n",
        "dv_small.fit(dicts_train_small)"
      ],
      "id": "7-QcGKy2JDRa"
    },
    {
      "cell_type": "code",
      "execution_count": null,
      "metadata": {
        "id": "5fxWEVM9JDRa",
        "outputId": "dbfd4ca5-f12d-40ed-9d67-b8cb3a26fc66"
      },
      "outputs": [
        {
          "data": {
            "text/plain": [
              "['contract=month-to-month',\n",
              " 'contract=one_year',\n",
              " 'contract=two_year',\n",
              " 'monthlycharges',\n",
              " 'tenure']"
            ]
          },
          "execution_count": 80,
          "metadata": {},
          "output_type": "execute_result"
        }
      ],
      "source": [
        "dv_small.get_feature_names_out()"
      ],
      "id": "5fxWEVM9JDRa"
    },
    {
      "cell_type": "code",
      "execution_count": null,
      "metadata": {
        "id": "Bp5ZuKd7JDRb"
      },
      "outputs": [],
      "source": [
        "X_train_small = dv_small.transform(dicts_train_small)"
      ],
      "id": "Bp5ZuKd7JDRb"
    },
    {
      "cell_type": "code",
      "execution_count": null,
      "metadata": {
        "id": "sx5BxL2FJDRb",
        "outputId": "eb266b4d-22f2-4c29-ce67-ca11711fe52f"
      },
      "outputs": [
        {
          "data": {
            "text/plain": [
              "LogisticRegression(C=1.0, class_weight=None, dual=False, fit_intercept=True,\n",
              "                   intercept_scaling=1, l1_ratio=None, max_iter=100,\n",
              "                   multi_class='warn', n_jobs=None, penalty='l2',\n",
              "                   random_state=None, solver='lbfgs', tol=0.0001, verbose=0,\n",
              "                   warm_start=False)"
            ]
          },
          "execution_count": 82,
          "metadata": {},
          "output_type": "execute_result"
        }
      ],
      "source": [
        "model_small = LogisticRegression(solver='lbfgs')\n",
        "model_small.fit(X_train_small, y_train)"
      ],
      "id": "sx5BxL2FJDRb"
    },
    {
      "cell_type": "code",
      "execution_count": null,
      "metadata": {
        "id": "l-N7-jGlJDRb",
        "outputId": "ea30ccef-6a03-4fe2-da64-a9af7f17f1f9"
      },
      "outputs": [
        {
          "data": {
            "text/plain": [
              "-2.476775657751665"
            ]
          },
          "execution_count": 83,
          "metadata": {},
          "output_type": "execute_result"
        }
      ],
      "source": [
        "w0 = model_small.intercept_[0]\n",
        "w0"
      ],
      "id": "l-N7-jGlJDRb"
    },
    {
      "cell_type": "code",
      "execution_count": null,
      "metadata": {
        "id": "kHyimCqnJDRc",
        "outputId": "af775643-f855-4d20-b892-26f914068900"
      },
      "outputs": [
        {
          "data": {
            "text/plain": [
              "array([ 0.97 , -0.025, -0.949,  0.027, -0.036])"
            ]
          },
          "execution_count": 84,
          "metadata": {},
          "output_type": "execute_result"
        }
      ],
      "source": [
        "w = model_small.coef_[0]\n",
        "w.round(3)"
      ],
      "id": "kHyimCqnJDRc"
    },
    {
      "cell_type": "code",
      "execution_count": null,
      "metadata": {
        "id": "UyRkKtEuJDRc",
        "outputId": "cf57939b-77f4-443c-b91c-545d1c0cddf1"
      },
      "outputs": [
        {
          "data": {
            "text/plain": [
              "{'contract=month-to-month': 0.97,\n",
              " 'contract=one_year': -0.025,\n",
              " 'contract=two_year': -0.949,\n",
              " 'monthlycharges': 0.027,\n",
              " 'tenure': -0.036}"
            ]
          },
          "execution_count": 85,
          "metadata": {},
          "output_type": "execute_result"
        }
      ],
      "source": [
        "dict(zip(dv_small.get_feature_names_out(), w.round(3)))"
      ],
      "id": "UyRkKtEuJDRc"
    },
    {
      "cell_type": "code",
      "execution_count": null,
      "metadata": {
        "id": "NN-rVNTdJDRc",
        "outputId": "48407cf8-a2a9-4d6f-a5fa-0edb4a87a5fb"
      },
      "outputs": [
        {
          "data": {
            "text/plain": [
              "-3.473"
            ]
          },
          "execution_count": 86,
          "metadata": {},
          "output_type": "execute_result"
        }
      ],
      "source": [
        "-2.47 + (-0.949) + 30 * 0.027 + 24 * (-0.036)"
      ],
      "id": "NN-rVNTdJDRc"
    },
    {
      "cell_type": "code",
      "execution_count": null,
      "metadata": {
        "id": "sTWeSlPXJDRd",
        "outputId": "6e068544-3d8b-4b3f-e6b6-4e87f50fdf4e"
      },
      "outputs": [
        {
          "data": {
            "text/plain": [
              "0.030090303318277657"
            ]
          },
          "execution_count": 87,
          "metadata": {},
          "output_type": "execute_result"
        }
      ],
      "source": [
        "sigmoid(_)"
      ],
      "id": "sTWeSlPXJDRd"
    },
    {
      "cell_type": "markdown",
      "metadata": {
        "id": "_Rhl8dDkJDRd"
      },
      "source": [
        "## 3.12 Using the model"
      ],
      "id": "_Rhl8dDkJDRd"
    },
    {
      "cell_type": "code",
      "execution_count": null,
      "metadata": {
        "id": "TAU0FgbHJDRe"
      },
      "outputs": [],
      "source": [
        "dicts_full_train = df_full_train[categorical + numerical].to_dict(orient='records')"
      ],
      "id": "TAU0FgbHJDRe"
    },
    {
      "cell_type": "code",
      "execution_count": null,
      "metadata": {
        "id": "v2oJ_d8VJDRe"
      },
      "outputs": [],
      "source": [
        "dv = DictVectorizer(sparse=False)\n",
        "X_full_train = dv.fit_transform(dicts_full_train)"
      ],
      "id": "v2oJ_d8VJDRe"
    },
    {
      "cell_type": "code",
      "execution_count": null,
      "metadata": {
        "id": "CXc9FvWRJDRe"
      },
      "outputs": [],
      "source": [
        "y_full_train = df_full_train.churn.values"
      ],
      "id": "CXc9FvWRJDRe"
    },
    {
      "cell_type": "code",
      "execution_count": null,
      "metadata": {
        "id": "h8JBl5SlJDRf",
        "outputId": "d678a6da-2af5-446f-ee17-410aacfe7bb3"
      },
      "outputs": [
        {
          "data": {
            "text/plain": [
              "LogisticRegression(C=1.0, class_weight=None, dual=False, fit_intercept=True,\n",
              "                   intercept_scaling=1, l1_ratio=None, max_iter=100,\n",
              "                   multi_class='warn', n_jobs=None, penalty='l2',\n",
              "                   random_state=None, solver='lbfgs', tol=0.0001, verbose=0,\n",
              "                   warm_start=False)"
            ]
          },
          "execution_count": 91,
          "metadata": {},
          "output_type": "execute_result"
        }
      ],
      "source": [
        "model = LogisticRegression(solver='lbfgs')\n",
        "model.fit(X_full_train, y_full_train)"
      ],
      "id": "h8JBl5SlJDRf"
    },
    {
      "cell_type": "code",
      "execution_count": null,
      "metadata": {
        "id": "iQEOJDzfJDRg"
      },
      "outputs": [],
      "source": [
        "dicts_test = df_test[categorical + numerical].to_dict(orient='records')"
      ],
      "id": "iQEOJDzfJDRg"
    },
    {
      "cell_type": "code",
      "execution_count": null,
      "metadata": {
        "id": "ODFu7SGOJDRg"
      },
      "outputs": [],
      "source": [
        "X_test = dv.transform(dicts_test)"
      ],
      "id": "ODFu7SGOJDRg"
    },
    {
      "cell_type": "code",
      "execution_count": null,
      "metadata": {
        "id": "lPmHf6tqJDRg"
      },
      "outputs": [],
      "source": [
        "y_pred = model.predict_proba(X_test)[:, 1]"
      ],
      "id": "lPmHf6tqJDRg"
    },
    {
      "cell_type": "code",
      "execution_count": null,
      "metadata": {
        "id": "vOZRCWJeJDRh"
      },
      "outputs": [],
      "source": [
        "churn_decision = (y_pred >= 0.5)"
      ],
      "id": "vOZRCWJeJDRh"
    },
    {
      "cell_type": "code",
      "execution_count": null,
      "metadata": {
        "id": "j3H0aUZtJDRh",
        "outputId": "0a40edd5-b361-4fe2-da96-daa0e87f3da8"
      },
      "outputs": [
        {
          "data": {
            "text/plain": [
              "0.815471965933286"
            ]
          },
          "execution_count": 96,
          "metadata": {},
          "output_type": "execute_result"
        }
      ],
      "source": [
        "(churn_decision == y_test).mean()"
      ],
      "id": "j3H0aUZtJDRh"
    },
    {
      "cell_type": "code",
      "execution_count": null,
      "metadata": {
        "id": "HdhlBNu-JDRi",
        "outputId": "6adab26a-27c3-448d-d9d1-5e252539871a"
      },
      "outputs": [
        {
          "data": {
            "text/plain": [
              "array([0, 0, 0, ..., 0, 0, 1])"
            ]
          },
          "execution_count": 97,
          "metadata": {},
          "output_type": "execute_result"
        }
      ],
      "source": [
        "y_test"
      ],
      "id": "HdhlBNu-JDRi"
    },
    {
      "cell_type": "code",
      "execution_count": null,
      "metadata": {
        "id": "Yuy42E5OJDRi",
        "outputId": "3fb849cc-18ff-4b8b-a987-2ede85a430c0"
      },
      "outputs": [
        {
          "data": {
            "text/plain": [
              "{'gender': 'female',\n",
              " 'seniorcitizen': 0,\n",
              " 'partner': 'yes',\n",
              " 'dependents': 'yes',\n",
              " 'phoneservice': 'yes',\n",
              " 'multiplelines': 'yes',\n",
              " 'internetservice': 'fiber_optic',\n",
              " 'onlinesecurity': 'yes',\n",
              " 'onlinebackup': 'no',\n",
              " 'deviceprotection': 'yes',\n",
              " 'techsupport': 'no',\n",
              " 'streamingtv': 'yes',\n",
              " 'streamingmovies': 'yes',\n",
              " 'contract': 'month-to-month',\n",
              " 'paperlessbilling': 'yes',\n",
              " 'paymentmethod': 'electronic_check',\n",
              " 'tenure': 17,\n",
              " 'monthlycharges': 104.2,\n",
              " 'totalcharges': 1743.5}"
            ]
          },
          "execution_count": 98,
          "metadata": {},
          "output_type": "execute_result"
        }
      ],
      "source": [
        "customer = dicts_test[-1]\n",
        "customer"
      ],
      "id": "Yuy42E5OJDRi"
    },
    {
      "cell_type": "code",
      "execution_count": null,
      "metadata": {
        "id": "XhIZhmg4JDRi"
      },
      "outputs": [],
      "source": [
        "X_small = dv.transform([customer])"
      ],
      "id": "XhIZhmg4JDRi"
    },
    {
      "cell_type": "code",
      "execution_count": null,
      "metadata": {
        "id": "L2DpTA4RJDRj",
        "outputId": "c32bb10d-0328-4b24-d11a-e605e23bc878"
      },
      "outputs": [
        {
          "data": {
            "text/plain": [
              "0.5968852088293909"
            ]
          },
          "execution_count": 100,
          "metadata": {},
          "output_type": "execute_result"
        }
      ],
      "source": [
        "model.predict_proba(X_small)[0, 1]"
      ],
      "id": "L2DpTA4RJDRj"
    },
    {
      "cell_type": "code",
      "execution_count": null,
      "metadata": {
        "id": "8laR4ENSJDRj",
        "outputId": "b100393f-eb71-416d-cf27-27fff8be132b"
      },
      "outputs": [
        {
          "data": {
            "text/plain": [
              "1"
            ]
          },
          "execution_count": 101,
          "metadata": {},
          "output_type": "execute_result"
        }
      ],
      "source": [
        "y_test[-1]"
      ],
      "id": "8laR4ENSJDRj"
    },
    {
      "cell_type": "markdown",
      "metadata": {
        "id": "dzIKbyfxJDRk"
      },
      "source": [
        "## 3.13 Summary\n",
        "\n",
        "* Feature importance - risk, mutual information, correlation\n",
        "* One-hot encoding can be implemented with `DictVectorizer`\n",
        "* Logistic regression - linear model like linear regression\n",
        "* Output of log reg - probability\n",
        "* Interpretation of weights is similar to linear regression"
      ],
      "id": "dzIKbyfxJDRk"
    },
    {
      "cell_type": "markdown",
      "metadata": {
        "id": "96nKxyI7JDRk"
      },
      "source": [
        "## 3.14 Explore more\n",
        "\n",
        "More things\n",
        "\n",
        "* Try to exclude least useful features\n",
        "\n",
        "\n",
        "Use scikit-learn in project of last week\n",
        "\n",
        "* Re-implement train/val/test split using scikit-learn in the project from the last week\n",
        "* Also, instead of our own linear regression, use `LinearRegression` (not regularized) and `RidgeRegression` (regularized). Find the best regularization parameter for Ridge\n",
        "\n",
        "Other projects\n",
        "\n",
        "* Lead scoring - https://www.kaggle.com/ashydv/leads-dataset\n",
        "* Default prediction - https://archive.ics.uci.edu/ml/datasets/default+of+credit+card+clients\n",
        "\n"
      ],
      "id": "96nKxyI7JDRk"
    }
  ],
  "metadata": {
    "kernelspec": {
      "display_name": "Python 3",
      "language": "python",
      "name": "python3"
    },
    "language_info": {
      "codemirror_mode": {
        "name": "ipython",
        "version": 3
      },
      "file_extension": ".py",
      "mimetype": "text/x-python",
      "name": "python",
      "nbconvert_exporter": "python",
      "pygments_lexer": "ipython3",
      "version": "3.6.9"
    },
    "colab": {
      "provenance": []
    }
  },
  "nbformat": 4,
  "nbformat_minor": 5
}