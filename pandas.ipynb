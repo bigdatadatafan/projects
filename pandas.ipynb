{
  "cells": [
    {
      "cell_type": "markdown",
      "id": "3473239e",
      "metadata": {
        "id": "3473239e"
      },
      "source": [
        "## 1.9 Introduction to Pandas\n",
        "La librería Pandas proporciona estructuras de datos y herramientas de análisis de datos fáciles de usar y optimizadas. De la misma forma que en Numpy el objeto principal era el ndarray, el objeto principal en Pandas es el **DataFrame**, que puede considerarse como una tabla alojada en memoria (como una hoja de cálculo de Excel, con nombres de columna y etiquetas de fila). Muchas funciones disponibles en Excel están disponibles mediante programación, como crear tablas dinámicas, calcular columnas basadas en otras columnas, hacer gráficos, etc. Pandas se construye por encima de Numpy, por lo que podremos aprovechar mucha de la funcionalidad y nomenclatura ya conocemos. La principal diferencia es que con Pandas vamos a poder trabajar con datos heterogéneos, mientras que en Numpy necesitamos que nuestras estructuras de datos sean siempre del mismo tipo para poder llevar a cabo operaciones. Para poder empezar a trabajar con Pandas simplemente tenemos que importarlo como cualquier otra librería\n",
        "\n",
        "Plan:\n",
        "\n",
        "* Data Frames\n",
        "* Series\n",
        "* Index\n",
        "* Accessing elements\n",
        "* Element-wise operations\n",
        "* Filtering\n",
        "* String operations\n",
        "* Summarizing operations\n",
        "* Missing values\n",
        "* Grouping\n",
        "* Getting the NumPy arrays"
      ]
    },
    {
      "cell_type": "code",
      "execution_count": null,
      "id": "b1a23fb2",
      "metadata": {
        "id": "b1a23fb2"
      },
      "outputs": [],
      "source": [
        "import numpy as np\n",
        "import pandas as pd"
      ]
    },
    {
      "cell_type": "markdown",
      "source": [
        "💡Es común importar Pandas con el nombre pd. Recuerda que si no tienes instalada la librería puedes hacerlo con pip install pandas o bien conda install pandas si instalaste Python con Anaconda."
      ],
      "metadata": {
        "id": "nXWySVUrwLeH"
      },
      "id": "nXWySVUrwLeH"
    },
    {
      "cell_type": "markdown",
      "id": "06e3062c",
      "metadata": {
        "id": "06e3062c"
      },
      "source": [
        "## DataFrames"
      ]
    },
    {
      "cell_type": "code",
      "execution_count": null,
      "id": "114c8ddb",
      "metadata": {
        "id": "114c8ddb"
      },
      "outputs": [],
      "source": [
        "data = [\n",
        "    ['Nissan', 'Stanza', 1991, 138, 4, 'MANUAL', 'sedan', 2000],\n",
        "    ['Hyundai', 'Sonata', 2017, None, 4, 'AUTOMATIC', 'Sedan', 27150],\n",
        "    ['Lotus', 'Elise', 2010, 218, 4, 'MANUAL', 'convertible', 54990],\n",
        "    ['GMC', 'Acadia',  2017, 194, 4, 'AUTOMATIC', '4dr SUV', 34450],\n",
        "    ['Nissan', 'Frontier', 2017, 261, 6, 'MANUAL', 'Pickup', 32340],\n",
        "]\n",
        "\n",
        "columns = [\n",
        "    'Make', 'Model', 'Year', 'Engine HP', 'Engine Cylinders',\n",
        "    'Transmission Type', 'Vehicle_Style', 'MSRP'\n",
        "]"
      ]
    },
    {
      "cell_type": "code",
      "execution_count": null,
      "id": "c25c6c9d",
      "metadata": {
        "id": "c25c6c9d"
      },
      "outputs": [],
      "source": [
        "df = pd.DataFrame(data, columns=columns)"
      ]
    },
    {
      "cell_type": "code",
      "execution_count": null,
      "id": "abe4d2e4",
      "metadata": {
        "id": "abe4d2e4",
        "outputId": "6b0e3166-e00a-407c-f989-37ee5ae05c1c"
      },
      "outputs": [
        {
          "data": {
            "text/html": [
              "<div>\n",
              "<style scoped>\n",
              "    .dataframe tbody tr th:only-of-type {\n",
              "        vertical-align: middle;\n",
              "    }\n",
              "\n",
              "    .dataframe tbody tr th {\n",
              "        vertical-align: top;\n",
              "    }\n",
              "\n",
              "    .dataframe thead th {\n",
              "        text-align: right;\n",
              "    }\n",
              "</style>\n",
              "<table border=\"1\" class=\"dataframe\">\n",
              "  <thead>\n",
              "    <tr style=\"text-align: right;\">\n",
              "      <th></th>\n",
              "      <th>Make</th>\n",
              "      <th>Model</th>\n",
              "      <th>Year</th>\n",
              "      <th>Engine HP</th>\n",
              "      <th>Engine Cylinders</th>\n",
              "      <th>Transmission Type</th>\n",
              "      <th>Vehicle_Style</th>\n",
              "      <th>MSRP</th>\n",
              "    </tr>\n",
              "  </thead>\n",
              "  <tbody>\n",
              "    <tr>\n",
              "      <th>0</th>\n",
              "      <td>Nissan</td>\n",
              "      <td>Stanza</td>\n",
              "      <td>1991</td>\n",
              "      <td>138.0</td>\n",
              "      <td>4</td>\n",
              "      <td>MANUAL</td>\n",
              "      <td>sedan</td>\n",
              "      <td>2000</td>\n",
              "    </tr>\n",
              "    <tr>\n",
              "      <th>1</th>\n",
              "      <td>Hyundai</td>\n",
              "      <td>Sonata</td>\n",
              "      <td>2017</td>\n",
              "      <td>NaN</td>\n",
              "      <td>4</td>\n",
              "      <td>AUTOMATIC</td>\n",
              "      <td>Sedan</td>\n",
              "      <td>27150</td>\n",
              "    </tr>\n",
              "    <tr>\n",
              "      <th>2</th>\n",
              "      <td>Lotus</td>\n",
              "      <td>Elise</td>\n",
              "      <td>2010</td>\n",
              "      <td>218.0</td>\n",
              "      <td>4</td>\n",
              "      <td>MANUAL</td>\n",
              "      <td>convertible</td>\n",
              "      <td>54990</td>\n",
              "    </tr>\n",
              "    <tr>\n",
              "      <th>3</th>\n",
              "      <td>GMC</td>\n",
              "      <td>Acadia</td>\n",
              "      <td>2017</td>\n",
              "      <td>194.0</td>\n",
              "      <td>4</td>\n",
              "      <td>AUTOMATIC</td>\n",
              "      <td>4dr SUV</td>\n",
              "      <td>34450</td>\n",
              "    </tr>\n",
              "    <tr>\n",
              "      <th>4</th>\n",
              "      <td>Nissan</td>\n",
              "      <td>Frontier</td>\n",
              "      <td>2017</td>\n",
              "      <td>261.0</td>\n",
              "      <td>6</td>\n",
              "      <td>MANUAL</td>\n",
              "      <td>Pickup</td>\n",
              "      <td>32340</td>\n",
              "    </tr>\n",
              "  </tbody>\n",
              "</table>\n",
              "</div>"
            ],
            "text/plain": [
              "      Make     Model  Year  Engine HP  Engine Cylinders Transmission Type  \\\n",
              "0   Nissan    Stanza  1991      138.0                 4            MANUAL   \n",
              "1  Hyundai    Sonata  2017        NaN                 4         AUTOMATIC   \n",
              "2    Lotus     Elise  2010      218.0                 4            MANUAL   \n",
              "3      GMC    Acadia  2017      194.0                 4         AUTOMATIC   \n",
              "4   Nissan  Frontier  2017      261.0                 6            MANUAL   \n",
              "\n",
              "  Vehicle_Style   MSRP  \n",
              "0         sedan   2000  \n",
              "1         Sedan  27150  \n",
              "2   convertible  54990  \n",
              "3       4dr SUV  34450  \n",
              "4        Pickup  32340  "
            ]
          },
          "execution_count": 9,
          "metadata": {},
          "output_type": "execute_result"
        }
      ],
      "source": [
        "df"
      ]
    },
    {
      "cell_type": "code",
      "execution_count": null,
      "id": "f104d442",
      "metadata": {
        "id": "f104d442"
      },
      "outputs": [],
      "source": [
        "data = [\n",
        "    {\n",
        "        \"Make\": \"Nissan\",\n",
        "        \"Model\": \"Stanza\",\n",
        "        \"Year\": 1991,\n",
        "        \"Engine HP\": 138.0,\n",
        "        \"Engine Cylinders\": 4,\n",
        "        \"Transmission Type\": \"MANUAL\",\n",
        "        \"Vehicle_Style\": \"sedan\",\n",
        "        \"MSRP\": 2000\n",
        "    },\n",
        "    {\n",
        "        \"Make\": \"Hyundai\",\n",
        "        \"Model\": \"Sonata\",\n",
        "        \"Year\": 2017,\n",
        "        \"Engine HP\": None,\n",
        "        \"Engine Cylinders\": 4,\n",
        "        \"Transmission Type\": \"AUTOMATIC\",\n",
        "        \"Vehicle_Style\": \"Sedan\",\n",
        "        \"MSRP\": 27150\n",
        "    },\n",
        "    {\n",
        "        \"Make\": \"Lotus\",\n",
        "        \"Model\": \"Elise\",\n",
        "        \"Year\": 2010,\n",
        "        \"Engine HP\": 218.0,\n",
        "        \"Engine Cylinders\": 4,\n",
        "        \"Transmission Type\": \"MANUAL\",\n",
        "        \"Vehicle_Style\": \"convertible\",\n",
        "        \"MSRP\": 54990\n",
        "    },\n",
        "    {\n",
        "        \"Make\": \"GMC\",\n",
        "        \"Model\": \"Acadia\",\n",
        "        \"Year\": 2017,\n",
        "        \"Engine HP\": 194.0,\n",
        "        \"Engine Cylinders\": 4,\n",
        "        \"Transmission Type\": \"AUTOMATIC\",\n",
        "        \"Vehicle_Style\": \"4dr SUV\",\n",
        "        \"MSRP\": 34450\n",
        "    },\n",
        "    {\n",
        "        \"Make\": \"Nissan\",\n",
        "        \"Model\": \"Frontier\",\n",
        "        \"Year\": 2017,\n",
        "        \"Engine HP\": 261.0,\n",
        "        \"Engine Cylinders\": 6,\n",
        "        \"Transmission Type\": \"MANUAL\",\n",
        "        \"Vehicle_Style\": \"Pickup\",\n",
        "        \"MSRP\": 32340\n",
        "    }\n",
        "]"
      ]
    },
    {
      "cell_type": "code",
      "execution_count": null,
      "id": "2d89579e",
      "metadata": {
        "id": "2d89579e",
        "outputId": "1ca44416-c50c-431a-e696-4c8a63e81a53"
      },
      "outputs": [
        {
          "data": {
            "text/html": [
              "<div>\n",
              "<style scoped>\n",
              "    .dataframe tbody tr th:only-of-type {\n",
              "        vertical-align: middle;\n",
              "    }\n",
              "\n",
              "    .dataframe tbody tr th {\n",
              "        vertical-align: top;\n",
              "    }\n",
              "\n",
              "    .dataframe thead th {\n",
              "        text-align: right;\n",
              "    }\n",
              "</style>\n",
              "<table border=\"1\" class=\"dataframe\">\n",
              "  <thead>\n",
              "    <tr style=\"text-align: right;\">\n",
              "      <th></th>\n",
              "      <th>Make</th>\n",
              "      <th>Model</th>\n",
              "      <th>Year</th>\n",
              "      <th>Engine HP</th>\n",
              "      <th>Engine Cylinders</th>\n",
              "      <th>Transmission Type</th>\n",
              "      <th>Vehicle_Style</th>\n",
              "      <th>MSRP</th>\n",
              "    </tr>\n",
              "  </thead>\n",
              "  <tbody>\n",
              "    <tr>\n",
              "      <th>0</th>\n",
              "      <td>Nissan</td>\n",
              "      <td>Stanza</td>\n",
              "      <td>1991</td>\n",
              "      <td>138.0</td>\n",
              "      <td>4</td>\n",
              "      <td>MANUAL</td>\n",
              "      <td>sedan</td>\n",
              "      <td>2000</td>\n",
              "    </tr>\n",
              "    <tr>\n",
              "      <th>1</th>\n",
              "      <td>Hyundai</td>\n",
              "      <td>Sonata</td>\n",
              "      <td>2017</td>\n",
              "      <td>NaN</td>\n",
              "      <td>4</td>\n",
              "      <td>AUTOMATIC</td>\n",
              "      <td>Sedan</td>\n",
              "      <td>27150</td>\n",
              "    </tr>\n",
              "    <tr>\n",
              "      <th>2</th>\n",
              "      <td>Lotus</td>\n",
              "      <td>Elise</td>\n",
              "      <td>2010</td>\n",
              "      <td>218.0</td>\n",
              "      <td>4</td>\n",
              "      <td>MANUAL</td>\n",
              "      <td>convertible</td>\n",
              "      <td>54990</td>\n",
              "    </tr>\n",
              "    <tr>\n",
              "      <th>3</th>\n",
              "      <td>GMC</td>\n",
              "      <td>Acadia</td>\n",
              "      <td>2017</td>\n",
              "      <td>194.0</td>\n",
              "      <td>4</td>\n",
              "      <td>AUTOMATIC</td>\n",
              "      <td>4dr SUV</td>\n",
              "      <td>34450</td>\n",
              "    </tr>\n",
              "    <tr>\n",
              "      <th>4</th>\n",
              "      <td>Nissan</td>\n",
              "      <td>Frontier</td>\n",
              "      <td>2017</td>\n",
              "      <td>261.0</td>\n",
              "      <td>6</td>\n",
              "      <td>MANUAL</td>\n",
              "      <td>Pickup</td>\n",
              "      <td>32340</td>\n",
              "    </tr>\n",
              "  </tbody>\n",
              "</table>\n",
              "</div>"
            ],
            "text/plain": [
              "      Make     Model  Year  Engine HP  Engine Cylinders Transmission Type  \\\n",
              "0   Nissan    Stanza  1991      138.0                 4            MANUAL   \n",
              "1  Hyundai    Sonata  2017        NaN                 4         AUTOMATIC   \n",
              "2    Lotus     Elise  2010      218.0                 4            MANUAL   \n",
              "3      GMC    Acadia  2017      194.0                 4         AUTOMATIC   \n",
              "4   Nissan  Frontier  2017      261.0                 6            MANUAL   \n",
              "\n",
              "  Vehicle_Style   MSRP  \n",
              "0         sedan   2000  \n",
              "1         Sedan  27150  \n",
              "2   convertible  54990  \n",
              "3       4dr SUV  34450  \n",
              "4        Pickup  32340  "
            ]
          },
          "execution_count": 12,
          "metadata": {},
          "output_type": "execute_result"
        }
      ],
      "source": [
        "df = pd.DataFrame(data)\n",
        "df"
      ]
    },
    {
      "cell_type": "code",
      "execution_count": null,
      "id": "097f69d9",
      "metadata": {
        "id": "097f69d9",
        "outputId": "5e8201d4-0c48-4894-8459-9c15b98f104e"
      },
      "outputs": [
        {
          "data": {
            "text/html": [
              "<div>\n",
              "<style scoped>\n",
              "    .dataframe tbody tr th:only-of-type {\n",
              "        vertical-align: middle;\n",
              "    }\n",
              "\n",
              "    .dataframe tbody tr th {\n",
              "        vertical-align: top;\n",
              "    }\n",
              "\n",
              "    .dataframe thead th {\n",
              "        text-align: right;\n",
              "    }\n",
              "</style>\n",
              "<table border=\"1\" class=\"dataframe\">\n",
              "  <thead>\n",
              "    <tr style=\"text-align: right;\">\n",
              "      <th></th>\n",
              "      <th>Make</th>\n",
              "      <th>Model</th>\n",
              "      <th>Year</th>\n",
              "      <th>Engine HP</th>\n",
              "      <th>Engine Cylinders</th>\n",
              "      <th>Transmission Type</th>\n",
              "      <th>Vehicle_Style</th>\n",
              "      <th>MSRP</th>\n",
              "    </tr>\n",
              "  </thead>\n",
              "  <tbody>\n",
              "    <tr>\n",
              "      <th>0</th>\n",
              "      <td>Nissan</td>\n",
              "      <td>Stanza</td>\n",
              "      <td>1991</td>\n",
              "      <td>138.0</td>\n",
              "      <td>4</td>\n",
              "      <td>MANUAL</td>\n",
              "      <td>sedan</td>\n",
              "      <td>2000</td>\n",
              "    </tr>\n",
              "    <tr>\n",
              "      <th>1</th>\n",
              "      <td>Hyundai</td>\n",
              "      <td>Sonata</td>\n",
              "      <td>2017</td>\n",
              "      <td>NaN</td>\n",
              "      <td>4</td>\n",
              "      <td>AUTOMATIC</td>\n",
              "      <td>Sedan</td>\n",
              "      <td>27150</td>\n",
              "    </tr>\n",
              "  </tbody>\n",
              "</table>\n",
              "</div>"
            ],
            "text/plain": [
              "      Make   Model  Year  Engine HP  Engine Cylinders Transmission Type  \\\n",
              "0   Nissan  Stanza  1991      138.0                 4            MANUAL   \n",
              "1  Hyundai  Sonata  2017        NaN                 4         AUTOMATIC   \n",
              "\n",
              "  Vehicle_Style   MSRP  \n",
              "0         sedan   2000  \n",
              "1         Sedan  27150  "
            ]
          },
          "execution_count": 14,
          "metadata": {},
          "output_type": "execute_result"
        }
      ],
      "source": [
        "df.head(n=2)"
      ]
    },
    {
      "cell_type": "code",
      "execution_count": null,
      "id": "0961a097",
      "metadata": {
        "id": "0961a097"
      },
      "outputs": [],
      "source": []
    },
    {
      "cell_type": "markdown",
      "id": "94b432db",
      "metadata": {
        "id": "94b432db"
      },
      "source": [
        "## Series"
      ]
    },
    {
      "cell_type": "code",
      "execution_count": null,
      "id": "7299a212",
      "metadata": {
        "id": "7299a212",
        "outputId": "f4a33014-ef87-4df5-b45d-43539d25cae5"
      },
      "outputs": [
        {
          "ename": "SyntaxError",
          "evalue": "invalid syntax (1897567212.py, line 1)",
          "output_type": "error",
          "traceback": [
            "\u001b[0;36m  File \u001b[0;32m\"/tmp/ipykernel_580/1897567212.py\"\u001b[0;36m, line \u001b[0;32m1\u001b[0m\n\u001b[0;31m    df.Engine HP\u001b[0m\n\u001b[0m              ^\u001b[0m\n\u001b[0;31mSyntaxError\u001b[0m\u001b[0;31m:\u001b[0m invalid syntax\n"
          ]
        }
      ],
      "source": [
        "df.Engine HP"
      ]
    },
    {
      "cell_type": "code",
      "execution_count": null,
      "id": "54898f9d",
      "metadata": {
        "id": "54898f9d",
        "outputId": "31699b9c-e4a0-4a51-b77c-8bae2d76806d"
      },
      "outputs": [
        {
          "data": {
            "text/plain": [
              "0    138.0\n",
              "1      NaN\n",
              "2    218.0\n",
              "3    194.0\n",
              "4    261.0\n",
              "Name: Engine HP, dtype: float64"
            ]
          },
          "execution_count": 19,
          "metadata": {},
          "output_type": "execute_result"
        }
      ],
      "source": [
        "df['Engine HP']"
      ]
    },
    {
      "cell_type": "code",
      "execution_count": null,
      "id": "acc40580",
      "metadata": {
        "id": "acc40580",
        "outputId": "beb49751-8e9f-4613-bee5-881a0ae46fda"
      },
      "outputs": [
        {
          "data": {
            "text/html": [
              "<div>\n",
              "<style scoped>\n",
              "    .dataframe tbody tr th:only-of-type {\n",
              "        vertical-align: middle;\n",
              "    }\n",
              "\n",
              "    .dataframe tbody tr th {\n",
              "        vertical-align: top;\n",
              "    }\n",
              "\n",
              "    .dataframe thead th {\n",
              "        text-align: right;\n",
              "    }\n",
              "</style>\n",
              "<table border=\"1\" class=\"dataframe\">\n",
              "  <thead>\n",
              "    <tr style=\"text-align: right;\">\n",
              "      <th></th>\n",
              "      <th>Make</th>\n",
              "      <th>Model</th>\n",
              "      <th>MSRP</th>\n",
              "    </tr>\n",
              "  </thead>\n",
              "  <tbody>\n",
              "    <tr>\n",
              "      <th>0</th>\n",
              "      <td>Nissan</td>\n",
              "      <td>Stanza</td>\n",
              "      <td>2000</td>\n",
              "    </tr>\n",
              "    <tr>\n",
              "      <th>1</th>\n",
              "      <td>Hyundai</td>\n",
              "      <td>Sonata</td>\n",
              "      <td>27150</td>\n",
              "    </tr>\n",
              "    <tr>\n",
              "      <th>2</th>\n",
              "      <td>Lotus</td>\n",
              "      <td>Elise</td>\n",
              "      <td>54990</td>\n",
              "    </tr>\n",
              "    <tr>\n",
              "      <th>3</th>\n",
              "      <td>GMC</td>\n",
              "      <td>Acadia</td>\n",
              "      <td>34450</td>\n",
              "    </tr>\n",
              "    <tr>\n",
              "      <th>4</th>\n",
              "      <td>Nissan</td>\n",
              "      <td>Frontier</td>\n",
              "      <td>32340</td>\n",
              "    </tr>\n",
              "  </tbody>\n",
              "</table>\n",
              "</div>"
            ],
            "text/plain": [
              "      Make     Model   MSRP\n",
              "0   Nissan    Stanza   2000\n",
              "1  Hyundai    Sonata  27150\n",
              "2    Lotus     Elise  54990\n",
              "3      GMC    Acadia  34450\n",
              "4   Nissan  Frontier  32340"
            ]
          },
          "execution_count": 20,
          "metadata": {},
          "output_type": "execute_result"
        }
      ],
      "source": [
        "df[['Make', 'Model', 'MSRP']]"
      ]
    },
    {
      "cell_type": "code",
      "execution_count": null,
      "id": "9c699894",
      "metadata": {
        "id": "9c699894"
      },
      "outputs": [],
      "source": [
        "df['id'] = [1, 2, 3, 4, 5]"
      ]
    },
    {
      "cell_type": "code",
      "execution_count": null,
      "id": "70ec4449",
      "metadata": {
        "id": "70ec4449"
      },
      "outputs": [],
      "source": [
        "df['id'] = [10, 20, 30, 40, 50]"
      ]
    },
    {
      "cell_type": "code",
      "execution_count": null,
      "id": "ff30947e",
      "metadata": {
        "id": "ff30947e",
        "outputId": "5baa18c5-f6d2-483f-d763-b918b5fcef82"
      },
      "outputs": [
        {
          "data": {
            "text/html": [
              "<div>\n",
              "<style scoped>\n",
              "    .dataframe tbody tr th:only-of-type {\n",
              "        vertical-align: middle;\n",
              "    }\n",
              "\n",
              "    .dataframe tbody tr th {\n",
              "        vertical-align: top;\n",
              "    }\n",
              "\n",
              "    .dataframe thead th {\n",
              "        text-align: right;\n",
              "    }\n",
              "</style>\n",
              "<table border=\"1\" class=\"dataframe\">\n",
              "  <thead>\n",
              "    <tr style=\"text-align: right;\">\n",
              "      <th></th>\n",
              "      <th>Make</th>\n",
              "      <th>Model</th>\n",
              "      <th>Year</th>\n",
              "      <th>Engine HP</th>\n",
              "      <th>Engine Cylinders</th>\n",
              "      <th>Transmission Type</th>\n",
              "      <th>Vehicle_Style</th>\n",
              "      <th>MSRP</th>\n",
              "      <th>id</th>\n",
              "    </tr>\n",
              "  </thead>\n",
              "  <tbody>\n",
              "    <tr>\n",
              "      <th>0</th>\n",
              "      <td>Nissan</td>\n",
              "      <td>Stanza</td>\n",
              "      <td>1991</td>\n",
              "      <td>138.0</td>\n",
              "      <td>4</td>\n",
              "      <td>MANUAL</td>\n",
              "      <td>sedan</td>\n",
              "      <td>2000</td>\n",
              "      <td>10</td>\n",
              "    </tr>\n",
              "    <tr>\n",
              "      <th>1</th>\n",
              "      <td>Hyundai</td>\n",
              "      <td>Sonata</td>\n",
              "      <td>2017</td>\n",
              "      <td>NaN</td>\n",
              "      <td>4</td>\n",
              "      <td>AUTOMATIC</td>\n",
              "      <td>Sedan</td>\n",
              "      <td>27150</td>\n",
              "      <td>20</td>\n",
              "    </tr>\n",
              "    <tr>\n",
              "      <th>2</th>\n",
              "      <td>Lotus</td>\n",
              "      <td>Elise</td>\n",
              "      <td>2010</td>\n",
              "      <td>218.0</td>\n",
              "      <td>4</td>\n",
              "      <td>MANUAL</td>\n",
              "      <td>convertible</td>\n",
              "      <td>54990</td>\n",
              "      <td>30</td>\n",
              "    </tr>\n",
              "    <tr>\n",
              "      <th>3</th>\n",
              "      <td>GMC</td>\n",
              "      <td>Acadia</td>\n",
              "      <td>2017</td>\n",
              "      <td>194.0</td>\n",
              "      <td>4</td>\n",
              "      <td>AUTOMATIC</td>\n",
              "      <td>4dr SUV</td>\n",
              "      <td>34450</td>\n",
              "      <td>40</td>\n",
              "    </tr>\n",
              "    <tr>\n",
              "      <th>4</th>\n",
              "      <td>Nissan</td>\n",
              "      <td>Frontier</td>\n",
              "      <td>2017</td>\n",
              "      <td>261.0</td>\n",
              "      <td>6</td>\n",
              "      <td>MANUAL</td>\n",
              "      <td>Pickup</td>\n",
              "      <td>32340</td>\n",
              "      <td>50</td>\n",
              "    </tr>\n",
              "  </tbody>\n",
              "</table>\n",
              "</div>"
            ],
            "text/plain": [
              "      Make     Model  Year  Engine HP  Engine Cylinders Transmission Type  \\\n",
              "0   Nissan    Stanza  1991      138.0                 4            MANUAL   \n",
              "1  Hyundai    Sonata  2017        NaN                 4         AUTOMATIC   \n",
              "2    Lotus     Elise  2010      218.0                 4            MANUAL   \n",
              "3      GMC    Acadia  2017      194.0                 4         AUTOMATIC   \n",
              "4   Nissan  Frontier  2017      261.0                 6            MANUAL   \n",
              "\n",
              "  Vehicle_Style   MSRP  id  \n",
              "0         sedan   2000  10  \n",
              "1         Sedan  27150  20  \n",
              "2   convertible  54990  30  \n",
              "3       4dr SUV  34450  40  \n",
              "4        Pickup  32340  50  "
            ]
          },
          "execution_count": 27,
          "metadata": {},
          "output_type": "execute_result"
        }
      ],
      "source": [
        "df"
      ]
    },
    {
      "cell_type": "code",
      "execution_count": null,
      "id": "064e3e7c",
      "metadata": {
        "id": "064e3e7c"
      },
      "outputs": [],
      "source": [
        "del df['id']"
      ]
    },
    {
      "cell_type": "code",
      "execution_count": null,
      "id": "5206c3ba",
      "metadata": {
        "id": "5206c3ba",
        "outputId": "f3174435-3480-48c4-ed31-12c564b852b4"
      },
      "outputs": [
        {
          "data": {
            "text/html": [
              "<div>\n",
              "<style scoped>\n",
              "    .dataframe tbody tr th:only-of-type {\n",
              "        vertical-align: middle;\n",
              "    }\n",
              "\n",
              "    .dataframe tbody tr th {\n",
              "        vertical-align: top;\n",
              "    }\n",
              "\n",
              "    .dataframe thead th {\n",
              "        text-align: right;\n",
              "    }\n",
              "</style>\n",
              "<table border=\"1\" class=\"dataframe\">\n",
              "  <thead>\n",
              "    <tr style=\"text-align: right;\">\n",
              "      <th></th>\n",
              "      <th>Make</th>\n",
              "      <th>Model</th>\n",
              "      <th>Year</th>\n",
              "      <th>Engine HP</th>\n",
              "      <th>Engine Cylinders</th>\n",
              "      <th>Transmission Type</th>\n",
              "      <th>Vehicle_Style</th>\n",
              "      <th>MSRP</th>\n",
              "    </tr>\n",
              "  </thead>\n",
              "  <tbody>\n",
              "    <tr>\n",
              "      <th>0</th>\n",
              "      <td>Nissan</td>\n",
              "      <td>Stanza</td>\n",
              "      <td>1991</td>\n",
              "      <td>138.0</td>\n",
              "      <td>4</td>\n",
              "      <td>MANUAL</td>\n",
              "      <td>sedan</td>\n",
              "      <td>2000</td>\n",
              "    </tr>\n",
              "    <tr>\n",
              "      <th>1</th>\n",
              "      <td>Hyundai</td>\n",
              "      <td>Sonata</td>\n",
              "      <td>2017</td>\n",
              "      <td>NaN</td>\n",
              "      <td>4</td>\n",
              "      <td>AUTOMATIC</td>\n",
              "      <td>Sedan</td>\n",
              "      <td>27150</td>\n",
              "    </tr>\n",
              "    <tr>\n",
              "      <th>2</th>\n",
              "      <td>Lotus</td>\n",
              "      <td>Elise</td>\n",
              "      <td>2010</td>\n",
              "      <td>218.0</td>\n",
              "      <td>4</td>\n",
              "      <td>MANUAL</td>\n",
              "      <td>convertible</td>\n",
              "      <td>54990</td>\n",
              "    </tr>\n",
              "    <tr>\n",
              "      <th>3</th>\n",
              "      <td>GMC</td>\n",
              "      <td>Acadia</td>\n",
              "      <td>2017</td>\n",
              "      <td>194.0</td>\n",
              "      <td>4</td>\n",
              "      <td>AUTOMATIC</td>\n",
              "      <td>4dr SUV</td>\n",
              "      <td>34450</td>\n",
              "    </tr>\n",
              "    <tr>\n",
              "      <th>4</th>\n",
              "      <td>Nissan</td>\n",
              "      <td>Frontier</td>\n",
              "      <td>2017</td>\n",
              "      <td>261.0</td>\n",
              "      <td>6</td>\n",
              "      <td>MANUAL</td>\n",
              "      <td>Pickup</td>\n",
              "      <td>32340</td>\n",
              "    </tr>\n",
              "  </tbody>\n",
              "</table>\n",
              "</div>"
            ],
            "text/plain": [
              "      Make     Model  Year  Engine HP  Engine Cylinders Transmission Type  \\\n",
              "0   Nissan    Stanza  1991      138.0                 4            MANUAL   \n",
              "1  Hyundai    Sonata  2017        NaN                 4         AUTOMATIC   \n",
              "2    Lotus     Elise  2010      218.0                 4            MANUAL   \n",
              "3      GMC    Acadia  2017      194.0                 4         AUTOMATIC   \n",
              "4   Nissan  Frontier  2017      261.0                 6            MANUAL   \n",
              "\n",
              "  Vehicle_Style   MSRP  \n",
              "0         sedan   2000  \n",
              "1         Sedan  27150  \n",
              "2   convertible  54990  \n",
              "3       4dr SUV  34450  \n",
              "4        Pickup  32340  "
            ]
          },
          "execution_count": 29,
          "metadata": {},
          "output_type": "execute_result"
        }
      ],
      "source": [
        "df"
      ]
    },
    {
      "cell_type": "markdown",
      "id": "530a4af3",
      "metadata": {
        "id": "530a4af3"
      },
      "source": [
        "## Index\n"
      ]
    },
    {
      "cell_type": "code",
      "execution_count": null,
      "id": "69e9bfbd",
      "metadata": {
        "id": "69e9bfbd",
        "outputId": "3141a0bc-905a-4030-ba77-4b38f93cdfb1"
      },
      "outputs": [
        {
          "data": {
            "text/plain": [
              "RangeIndex(start=0, stop=5, step=1)"
            ]
          },
          "execution_count": 30,
          "metadata": {},
          "output_type": "execute_result"
        }
      ],
      "source": [
        "df.index"
      ]
    },
    {
      "cell_type": "code",
      "execution_count": null,
      "id": "d7e06c93",
      "metadata": {
        "id": "d7e06c93",
        "outputId": "64206dd2-ac4b-431a-efee-18a882e25ca0"
      },
      "outputs": [
        {
          "data": {
            "text/plain": [
              "RangeIndex(start=0, stop=5, step=1)"
            ]
          },
          "execution_count": 32,
          "metadata": {},
          "output_type": "execute_result"
        }
      ],
      "source": [
        "df.Make.index"
      ]
    },
    {
      "cell_type": "code",
      "execution_count": null,
      "id": "14213eb4",
      "metadata": {
        "id": "14213eb4"
      },
      "outputs": [],
      "source": [
        "df.index = ['a', 'b', 'c', 'd', 'e']"
      ]
    },
    {
      "cell_type": "code",
      "execution_count": null,
      "id": "d9074134",
      "metadata": {
        "id": "d9074134",
        "outputId": "e2016386-1d08-410c-9411-96a5fd14901b"
      },
      "outputs": [
        {
          "data": {
            "text/html": [
              "<div>\n",
              "<style scoped>\n",
              "    .dataframe tbody tr th:only-of-type {\n",
              "        vertical-align: middle;\n",
              "    }\n",
              "\n",
              "    .dataframe tbody tr th {\n",
              "        vertical-align: top;\n",
              "    }\n",
              "\n",
              "    .dataframe thead th {\n",
              "        text-align: right;\n",
              "    }\n",
              "</style>\n",
              "<table border=\"1\" class=\"dataframe\">\n",
              "  <thead>\n",
              "    <tr style=\"text-align: right;\">\n",
              "      <th></th>\n",
              "      <th>Make</th>\n",
              "      <th>Model</th>\n",
              "      <th>Year</th>\n",
              "      <th>Engine HP</th>\n",
              "      <th>Engine Cylinders</th>\n",
              "      <th>Transmission Type</th>\n",
              "      <th>Vehicle_Style</th>\n",
              "      <th>MSRP</th>\n",
              "    </tr>\n",
              "  </thead>\n",
              "  <tbody>\n",
              "    <tr>\n",
              "      <th>a</th>\n",
              "      <td>Nissan</td>\n",
              "      <td>Stanza</td>\n",
              "      <td>1991</td>\n",
              "      <td>138.0</td>\n",
              "      <td>4</td>\n",
              "      <td>MANUAL</td>\n",
              "      <td>sedan</td>\n",
              "      <td>2000</td>\n",
              "    </tr>\n",
              "    <tr>\n",
              "      <th>b</th>\n",
              "      <td>Hyundai</td>\n",
              "      <td>Sonata</td>\n",
              "      <td>2017</td>\n",
              "      <td>NaN</td>\n",
              "      <td>4</td>\n",
              "      <td>AUTOMATIC</td>\n",
              "      <td>Sedan</td>\n",
              "      <td>27150</td>\n",
              "    </tr>\n",
              "    <tr>\n",
              "      <th>c</th>\n",
              "      <td>Lotus</td>\n",
              "      <td>Elise</td>\n",
              "      <td>2010</td>\n",
              "      <td>218.0</td>\n",
              "      <td>4</td>\n",
              "      <td>MANUAL</td>\n",
              "      <td>convertible</td>\n",
              "      <td>54990</td>\n",
              "    </tr>\n",
              "    <tr>\n",
              "      <th>d</th>\n",
              "      <td>GMC</td>\n",
              "      <td>Acadia</td>\n",
              "      <td>2017</td>\n",
              "      <td>194.0</td>\n",
              "      <td>4</td>\n",
              "      <td>AUTOMATIC</td>\n",
              "      <td>4dr SUV</td>\n",
              "      <td>34450</td>\n",
              "    </tr>\n",
              "    <tr>\n",
              "      <th>e</th>\n",
              "      <td>Nissan</td>\n",
              "      <td>Frontier</td>\n",
              "      <td>2017</td>\n",
              "      <td>261.0</td>\n",
              "      <td>6</td>\n",
              "      <td>MANUAL</td>\n",
              "      <td>Pickup</td>\n",
              "      <td>32340</td>\n",
              "    </tr>\n",
              "  </tbody>\n",
              "</table>\n",
              "</div>"
            ],
            "text/plain": [
              "      Make     Model  Year  Engine HP  Engine Cylinders Transmission Type  \\\n",
              "a   Nissan    Stanza  1991      138.0                 4            MANUAL   \n",
              "b  Hyundai    Sonata  2017        NaN                 4         AUTOMATIC   \n",
              "c    Lotus     Elise  2010      218.0                 4            MANUAL   \n",
              "d      GMC    Acadia  2017      194.0                 4         AUTOMATIC   \n",
              "e   Nissan  Frontier  2017      261.0                 6            MANUAL   \n",
              "\n",
              "  Vehicle_Style   MSRP  \n",
              "a         sedan   2000  \n",
              "b         Sedan  27150  \n",
              "c   convertible  54990  \n",
              "d       4dr SUV  34450  \n",
              "e        Pickup  32340  "
            ]
          },
          "execution_count": 38,
          "metadata": {},
          "output_type": "execute_result"
        }
      ],
      "source": [
        "df"
      ]
    },
    {
      "cell_type": "code",
      "execution_count": null,
      "id": "a1c57024",
      "metadata": {
        "id": "a1c57024",
        "outputId": "a70e1f4d-6277-4c22-a7d5-204e8873d512"
      },
      "outputs": [
        {
          "data": {
            "text/html": [
              "<div>\n",
              "<style scoped>\n",
              "    .dataframe tbody tr th:only-of-type {\n",
              "        vertical-align: middle;\n",
              "    }\n",
              "\n",
              "    .dataframe tbody tr th {\n",
              "        vertical-align: top;\n",
              "    }\n",
              "\n",
              "    .dataframe thead th {\n",
              "        text-align: right;\n",
              "    }\n",
              "</style>\n",
              "<table border=\"1\" class=\"dataframe\">\n",
              "  <thead>\n",
              "    <tr style=\"text-align: right;\">\n",
              "      <th></th>\n",
              "      <th>Make</th>\n",
              "      <th>Model</th>\n",
              "      <th>Year</th>\n",
              "      <th>Engine HP</th>\n",
              "      <th>Engine Cylinders</th>\n",
              "      <th>Transmission Type</th>\n",
              "      <th>Vehicle_Style</th>\n",
              "      <th>MSRP</th>\n",
              "    </tr>\n",
              "  </thead>\n",
              "  <tbody>\n",
              "    <tr>\n",
              "      <th>b</th>\n",
              "      <td>Hyundai</td>\n",
              "      <td>Sonata</td>\n",
              "      <td>2017</td>\n",
              "      <td>NaN</td>\n",
              "      <td>4</td>\n",
              "      <td>AUTOMATIC</td>\n",
              "      <td>Sedan</td>\n",
              "      <td>27150</td>\n",
              "    </tr>\n",
              "    <tr>\n",
              "      <th>c</th>\n",
              "      <td>Lotus</td>\n",
              "      <td>Elise</td>\n",
              "      <td>2010</td>\n",
              "      <td>218.0</td>\n",
              "      <td>4</td>\n",
              "      <td>MANUAL</td>\n",
              "      <td>convertible</td>\n",
              "      <td>54990</td>\n",
              "    </tr>\n",
              "    <tr>\n",
              "      <th>e</th>\n",
              "      <td>Nissan</td>\n",
              "      <td>Frontier</td>\n",
              "      <td>2017</td>\n",
              "      <td>261.0</td>\n",
              "      <td>6</td>\n",
              "      <td>MANUAL</td>\n",
              "      <td>Pickup</td>\n",
              "      <td>32340</td>\n",
              "    </tr>\n",
              "  </tbody>\n",
              "</table>\n",
              "</div>"
            ],
            "text/plain": [
              "      Make     Model  Year  Engine HP  Engine Cylinders Transmission Type  \\\n",
              "b  Hyundai    Sonata  2017        NaN                 4         AUTOMATIC   \n",
              "c    Lotus     Elise  2010      218.0                 4            MANUAL   \n",
              "e   Nissan  Frontier  2017      261.0                 6            MANUAL   \n",
              "\n",
              "  Vehicle_Style   MSRP  \n",
              "b         Sedan  27150  \n",
              "c   convertible  54990  \n",
              "e        Pickup  32340  "
            ]
          },
          "execution_count": 42,
          "metadata": {},
          "output_type": "execute_result"
        }
      ],
      "source": [
        "df.iloc[[1, 2, 4]]"
      ]
    },
    {
      "cell_type": "code",
      "execution_count": null,
      "id": "764c2aad",
      "metadata": {
        "id": "764c2aad"
      },
      "outputs": [],
      "source": [
        "df = df.reset_index(drop=True)"
      ]
    },
    {
      "cell_type": "code",
      "execution_count": null,
      "id": "f338e70b",
      "metadata": {
        "id": "f338e70b",
        "outputId": "15616850-b7cb-4777-d629-3a38f06a2df4"
      },
      "outputs": [
        {
          "data": {
            "text/html": [
              "<div>\n",
              "<style scoped>\n",
              "    .dataframe tbody tr th:only-of-type {\n",
              "        vertical-align: middle;\n",
              "    }\n",
              "\n",
              "    .dataframe tbody tr th {\n",
              "        vertical-align: top;\n",
              "    }\n",
              "\n",
              "    .dataframe thead th {\n",
              "        text-align: right;\n",
              "    }\n",
              "</style>\n",
              "<table border=\"1\" class=\"dataframe\">\n",
              "  <thead>\n",
              "    <tr style=\"text-align: right;\">\n",
              "      <th></th>\n",
              "      <th>Make</th>\n",
              "      <th>Model</th>\n",
              "      <th>Year</th>\n",
              "      <th>Engine HP</th>\n",
              "      <th>Engine Cylinders</th>\n",
              "      <th>Transmission Type</th>\n",
              "      <th>Vehicle_Style</th>\n",
              "      <th>MSRP</th>\n",
              "    </tr>\n",
              "  </thead>\n",
              "  <tbody>\n",
              "    <tr>\n",
              "      <th>0</th>\n",
              "      <td>Nissan</td>\n",
              "      <td>Stanza</td>\n",
              "      <td>1991</td>\n",
              "      <td>138.0</td>\n",
              "      <td>4</td>\n",
              "      <td>MANUAL</td>\n",
              "      <td>sedan</td>\n",
              "      <td>2000</td>\n",
              "    </tr>\n",
              "    <tr>\n",
              "      <th>1</th>\n",
              "      <td>Hyundai</td>\n",
              "      <td>Sonata</td>\n",
              "      <td>2017</td>\n",
              "      <td>NaN</td>\n",
              "      <td>4</td>\n",
              "      <td>AUTOMATIC</td>\n",
              "      <td>Sedan</td>\n",
              "      <td>27150</td>\n",
              "    </tr>\n",
              "    <tr>\n",
              "      <th>2</th>\n",
              "      <td>Lotus</td>\n",
              "      <td>Elise</td>\n",
              "      <td>2010</td>\n",
              "      <td>218.0</td>\n",
              "      <td>4</td>\n",
              "      <td>MANUAL</td>\n",
              "      <td>convertible</td>\n",
              "      <td>54990</td>\n",
              "    </tr>\n",
              "    <tr>\n",
              "      <th>3</th>\n",
              "      <td>GMC</td>\n",
              "      <td>Acadia</td>\n",
              "      <td>2017</td>\n",
              "      <td>194.0</td>\n",
              "      <td>4</td>\n",
              "      <td>AUTOMATIC</td>\n",
              "      <td>4dr SUV</td>\n",
              "      <td>34450</td>\n",
              "    </tr>\n",
              "    <tr>\n",
              "      <th>4</th>\n",
              "      <td>Nissan</td>\n",
              "      <td>Frontier</td>\n",
              "      <td>2017</td>\n",
              "      <td>261.0</td>\n",
              "      <td>6</td>\n",
              "      <td>MANUAL</td>\n",
              "      <td>Pickup</td>\n",
              "      <td>32340</td>\n",
              "    </tr>\n",
              "  </tbody>\n",
              "</table>\n",
              "</div>"
            ],
            "text/plain": [
              "      Make     Model  Year  Engine HP  Engine Cylinders Transmission Type  \\\n",
              "0   Nissan    Stanza  1991      138.0                 4            MANUAL   \n",
              "1  Hyundai    Sonata  2017        NaN                 4         AUTOMATIC   \n",
              "2    Lotus     Elise  2010      218.0                 4            MANUAL   \n",
              "3      GMC    Acadia  2017      194.0                 4         AUTOMATIC   \n",
              "4   Nissan  Frontier  2017      261.0                 6            MANUAL   \n",
              "\n",
              "  Vehicle_Style   MSRP  \n",
              "0         sedan   2000  \n",
              "1         Sedan  27150  \n",
              "2   convertible  54990  \n",
              "3       4dr SUV  34450  \n",
              "4        Pickup  32340  "
            ]
          },
          "execution_count": 48,
          "metadata": {},
          "output_type": "execute_result"
        }
      ],
      "source": [
        "df"
      ]
    },
    {
      "cell_type": "markdown",
      "id": "53457e10",
      "metadata": {
        "id": "53457e10"
      },
      "source": [
        "## Accessing elements"
      ]
    },
    {
      "cell_type": "code",
      "execution_count": null,
      "id": "758f6b8e",
      "metadata": {
        "id": "758f6b8e"
      },
      "outputs": [],
      "source": []
    },
    {
      "cell_type": "markdown",
      "id": "ecfc3f22",
      "metadata": {
        "id": "ecfc3f22"
      },
      "source": [
        "## Element-wise operations"
      ]
    },
    {
      "cell_type": "code",
      "execution_count": null,
      "id": "318183a8",
      "metadata": {
        "id": "318183a8",
        "outputId": "b6874307-4092-4f5b-8035-b66756c2dba5"
      },
      "outputs": [
        {
          "data": {
            "text/plain": [
              "0    276.0\n",
              "1      NaN\n",
              "2    436.0\n",
              "3    388.0\n",
              "4    522.0\n",
              "Name: Engine HP, dtype: float64"
            ]
          },
          "execution_count": 51,
          "metadata": {},
          "output_type": "execute_result"
        }
      ],
      "source": [
        "df['Engine HP'] * 2"
      ]
    },
    {
      "cell_type": "code",
      "execution_count": null,
      "id": "ae5d726d",
      "metadata": {
        "id": "ae5d726d",
        "outputId": "cbc0ac18-0a02-4362-d552-3e614d7c6418"
      },
      "outputs": [
        {
          "data": {
            "text/plain": [
              "0    False\n",
              "1     True\n",
              "2    False\n",
              "3     True\n",
              "4     True\n",
              "Name: Year, dtype: bool"
            ]
          },
          "execution_count": 53,
          "metadata": {},
          "output_type": "execute_result"
        }
      ],
      "source": [
        "df['Year'] >= 2015"
      ]
    },
    {
      "cell_type": "markdown",
      "id": "5813ae3a",
      "metadata": {
        "id": "5813ae3a"
      },
      "source": [
        "## Filtering"
      ]
    },
    {
      "cell_type": "code",
      "execution_count": null,
      "id": "73699361",
      "metadata": {
        "id": "73699361",
        "outputId": "2142dc95-a6f8-42fc-ad98-5e6a4aaee6ad"
      },
      "outputs": [
        {
          "data": {
            "text/html": [
              "<div>\n",
              "<style scoped>\n",
              "    .dataframe tbody tr th:only-of-type {\n",
              "        vertical-align: middle;\n",
              "    }\n",
              "\n",
              "    .dataframe tbody tr th {\n",
              "        vertical-align: top;\n",
              "    }\n",
              "\n",
              "    .dataframe thead th {\n",
              "        text-align: right;\n",
              "    }\n",
              "</style>\n",
              "<table border=\"1\" class=\"dataframe\">\n",
              "  <thead>\n",
              "    <tr style=\"text-align: right;\">\n",
              "      <th></th>\n",
              "      <th>Make</th>\n",
              "      <th>Model</th>\n",
              "      <th>Year</th>\n",
              "      <th>Engine HP</th>\n",
              "      <th>Engine Cylinders</th>\n",
              "      <th>Transmission Type</th>\n",
              "      <th>Vehicle_Style</th>\n",
              "      <th>MSRP</th>\n",
              "    </tr>\n",
              "  </thead>\n",
              "  <tbody>\n",
              "    <tr>\n",
              "      <th>0</th>\n",
              "      <td>Nissan</td>\n",
              "      <td>Stanza</td>\n",
              "      <td>1991</td>\n",
              "      <td>138.0</td>\n",
              "      <td>4</td>\n",
              "      <td>MANUAL</td>\n",
              "      <td>sedan</td>\n",
              "      <td>2000</td>\n",
              "    </tr>\n",
              "    <tr>\n",
              "      <th>4</th>\n",
              "      <td>Nissan</td>\n",
              "      <td>Frontier</td>\n",
              "      <td>2017</td>\n",
              "      <td>261.0</td>\n",
              "      <td>6</td>\n",
              "      <td>MANUAL</td>\n",
              "      <td>Pickup</td>\n",
              "      <td>32340</td>\n",
              "    </tr>\n",
              "  </tbody>\n",
              "</table>\n",
              "</div>"
            ],
            "text/plain": [
              "     Make     Model  Year  Engine HP  Engine Cylinders Transmission Type  \\\n",
              "0  Nissan    Stanza  1991      138.0                 4            MANUAL   \n",
              "4  Nissan  Frontier  2017      261.0                 6            MANUAL   \n",
              "\n",
              "  Vehicle_Style   MSRP  \n",
              "0         sedan   2000  \n",
              "4        Pickup  32340  "
            ]
          },
          "execution_count": 55,
          "metadata": {},
          "output_type": "execute_result"
        }
      ],
      "source": [
        "df[\n",
        "    df['Make'] == 'Nissan'\n",
        "]"
      ]
    },
    {
      "cell_type": "code",
      "execution_count": null,
      "id": "0f29ed0f",
      "metadata": {
        "id": "0f29ed0f",
        "outputId": "168d3837-7da4-47b8-8f6b-9f64a0cd5582"
      },
      "outputs": [
        {
          "data": {
            "text/html": [
              "<div>\n",
              "<style scoped>\n",
              "    .dataframe tbody tr th:only-of-type {\n",
              "        vertical-align: middle;\n",
              "    }\n",
              "\n",
              "    .dataframe tbody tr th {\n",
              "        vertical-align: top;\n",
              "    }\n",
              "\n",
              "    .dataframe thead th {\n",
              "        text-align: right;\n",
              "    }\n",
              "</style>\n",
              "<table border=\"1\" class=\"dataframe\">\n",
              "  <thead>\n",
              "    <tr style=\"text-align: right;\">\n",
              "      <th></th>\n",
              "      <th>Make</th>\n",
              "      <th>Model</th>\n",
              "      <th>Year</th>\n",
              "      <th>Engine HP</th>\n",
              "      <th>Engine Cylinders</th>\n",
              "      <th>Transmission Type</th>\n",
              "      <th>Vehicle_Style</th>\n",
              "      <th>MSRP</th>\n",
              "    </tr>\n",
              "  </thead>\n",
              "  <tbody>\n",
              "    <tr>\n",
              "      <th>4</th>\n",
              "      <td>Nissan</td>\n",
              "      <td>Frontier</td>\n",
              "      <td>2017</td>\n",
              "      <td>261.0</td>\n",
              "      <td>6</td>\n",
              "      <td>MANUAL</td>\n",
              "      <td>Pickup</td>\n",
              "      <td>32340</td>\n",
              "    </tr>\n",
              "  </tbody>\n",
              "</table>\n",
              "</div>"
            ],
            "text/plain": [
              "     Make     Model  Year  Engine HP  Engine Cylinders Transmission Type  \\\n",
              "4  Nissan  Frontier  2017      261.0                 6            MANUAL   \n",
              "\n",
              "  Vehicle_Style   MSRP  \n",
              "4        Pickup  32340  "
            ]
          },
          "execution_count": 56,
          "metadata": {},
          "output_type": "execute_result"
        }
      ],
      "source": [
        "df[\n",
        "    (df['Make'] == 'Nissan') & (df['Year'] >= 2015)\n",
        "]"
      ]
    },
    {
      "cell_type": "markdown",
      "id": "0a8a3d49",
      "metadata": {
        "id": "0a8a3d49"
      },
      "source": [
        "## String operations"
      ]
    },
    {
      "cell_type": "code",
      "execution_count": null,
      "id": "7deaf57a",
      "metadata": {
        "id": "7deaf57a",
        "outputId": "84a613cf-51ba-4d39-9e59-6db77e029ce4"
      },
      "outputs": [
        {
          "data": {
            "text/plain": [
              "'machine_learning_zoomcamp'"
            ]
          },
          "execution_count": 68,
          "metadata": {},
          "output_type": "execute_result"
        }
      ],
      "source": [
        "'machine learning zoomcamp'.replace(' ', '_')"
      ]
    },
    {
      "cell_type": "code",
      "execution_count": null,
      "id": "9ffa16ea",
      "metadata": {
        "id": "9ffa16ea",
        "outputId": "ebf81381-3bd8-4b49-d227-14b5496173d5"
      },
      "outputs": [
        {
          "data": {
            "text/plain": [
              "0          sedan\n",
              "1          sedan\n",
              "2    convertible\n",
              "3        4dr suv\n",
              "4         pickup\n",
              "Name: Vehicle_Style, dtype: object"
            ]
          },
          "execution_count": 67,
          "metadata": {},
          "output_type": "execute_result"
        }
      ],
      "source": [
        "df['Vehicle_Style'].str.lower()"
      ]
    },
    {
      "cell_type": "code",
      "execution_count": null,
      "id": "835c3a40",
      "metadata": {
        "id": "835c3a40"
      },
      "outputs": [],
      "source": [
        "df['Vehicle_Style'] = df['Vehicle_Style'].str.replace(' ', '_').str.lower()"
      ]
    },
    {
      "cell_type": "code",
      "execution_count": null,
      "id": "5ee197dc",
      "metadata": {
        "id": "5ee197dc",
        "outputId": "a77c936d-c0e5-4893-ce5e-117f3e0939e3"
      },
      "outputs": [
        {
          "data": {
            "text/html": [
              "<div>\n",
              "<style scoped>\n",
              "    .dataframe tbody tr th:only-of-type {\n",
              "        vertical-align: middle;\n",
              "    }\n",
              "\n",
              "    .dataframe tbody tr th {\n",
              "        vertical-align: top;\n",
              "    }\n",
              "\n",
              "    .dataframe thead th {\n",
              "        text-align: right;\n",
              "    }\n",
              "</style>\n",
              "<table border=\"1\" class=\"dataframe\">\n",
              "  <thead>\n",
              "    <tr style=\"text-align: right;\">\n",
              "      <th></th>\n",
              "      <th>Make</th>\n",
              "      <th>Model</th>\n",
              "      <th>Year</th>\n",
              "      <th>Engine HP</th>\n",
              "      <th>Engine Cylinders</th>\n",
              "      <th>Transmission Type</th>\n",
              "      <th>Vehicle_Style</th>\n",
              "      <th>MSRP</th>\n",
              "    </tr>\n",
              "  </thead>\n",
              "  <tbody>\n",
              "    <tr>\n",
              "      <th>0</th>\n",
              "      <td>Nissan</td>\n",
              "      <td>Stanza</td>\n",
              "      <td>1991</td>\n",
              "      <td>138.0</td>\n",
              "      <td>4</td>\n",
              "      <td>MANUAL</td>\n",
              "      <td>sedan</td>\n",
              "      <td>2000</td>\n",
              "    </tr>\n",
              "    <tr>\n",
              "      <th>1</th>\n",
              "      <td>Hyundai</td>\n",
              "      <td>Sonata</td>\n",
              "      <td>2017</td>\n",
              "      <td>NaN</td>\n",
              "      <td>4</td>\n",
              "      <td>AUTOMATIC</td>\n",
              "      <td>sedan</td>\n",
              "      <td>27150</td>\n",
              "    </tr>\n",
              "    <tr>\n",
              "      <th>2</th>\n",
              "      <td>Lotus</td>\n",
              "      <td>Elise</td>\n",
              "      <td>2010</td>\n",
              "      <td>218.0</td>\n",
              "      <td>4</td>\n",
              "      <td>MANUAL</td>\n",
              "      <td>convertible</td>\n",
              "      <td>54990</td>\n",
              "    </tr>\n",
              "    <tr>\n",
              "      <th>3</th>\n",
              "      <td>GMC</td>\n",
              "      <td>Acadia</td>\n",
              "      <td>2017</td>\n",
              "      <td>194.0</td>\n",
              "      <td>4</td>\n",
              "      <td>AUTOMATIC</td>\n",
              "      <td>4dr_suv</td>\n",
              "      <td>34450</td>\n",
              "    </tr>\n",
              "    <tr>\n",
              "      <th>4</th>\n",
              "      <td>Nissan</td>\n",
              "      <td>Frontier</td>\n",
              "      <td>2017</td>\n",
              "      <td>261.0</td>\n",
              "      <td>6</td>\n",
              "      <td>MANUAL</td>\n",
              "      <td>pickup</td>\n",
              "      <td>32340</td>\n",
              "    </tr>\n",
              "  </tbody>\n",
              "</table>\n",
              "</div>"
            ],
            "text/plain": [
              "      Make     Model  Year  Engine HP  Engine Cylinders Transmission Type  \\\n",
              "0   Nissan    Stanza  1991      138.0                 4            MANUAL   \n",
              "1  Hyundai    Sonata  2017        NaN                 4         AUTOMATIC   \n",
              "2    Lotus     Elise  2010      218.0                 4            MANUAL   \n",
              "3      GMC    Acadia  2017      194.0                 4         AUTOMATIC   \n",
              "4   Nissan  Frontier  2017      261.0                 6            MANUAL   \n",
              "\n",
              "  Vehicle_Style   MSRP  \n",
              "0         sedan   2000  \n",
              "1         sedan  27150  \n",
              "2   convertible  54990  \n",
              "3       4dr_suv  34450  \n",
              "4        pickup  32340  "
            ]
          },
          "execution_count": 74,
          "metadata": {},
          "output_type": "execute_result"
        }
      ],
      "source": [
        "df"
      ]
    },
    {
      "cell_type": "markdown",
      "id": "0f0d1bc6",
      "metadata": {
        "id": "0f0d1bc6"
      },
      "source": [
        "## Summarizing operations"
      ]
    },
    {
      "cell_type": "code",
      "execution_count": null,
      "id": "0e6bb68a",
      "metadata": {
        "id": "0e6bb68a",
        "outputId": "398e2629-055d-4497-fd3a-70bcd1da28f2"
      },
      "outputs": [
        {
          "data": {
            "text/html": [
              "<div>\n",
              "<style scoped>\n",
              "    .dataframe tbody tr th:only-of-type {\n",
              "        vertical-align: middle;\n",
              "    }\n",
              "\n",
              "    .dataframe tbody tr th {\n",
              "        vertical-align: top;\n",
              "    }\n",
              "\n",
              "    .dataframe thead th {\n",
              "        text-align: right;\n",
              "    }\n",
              "</style>\n",
              "<table border=\"1\" class=\"dataframe\">\n",
              "  <thead>\n",
              "    <tr style=\"text-align: right;\">\n",
              "      <th></th>\n",
              "      <th>Year</th>\n",
              "      <th>Engine HP</th>\n",
              "      <th>Engine Cylinders</th>\n",
              "      <th>MSRP</th>\n",
              "    </tr>\n",
              "  </thead>\n",
              "  <tbody>\n",
              "    <tr>\n",
              "      <th>count</th>\n",
              "      <td>5.00</td>\n",
              "      <td>4.00</td>\n",
              "      <td>5.00</td>\n",
              "      <td>5.00</td>\n",
              "    </tr>\n",
              "    <tr>\n",
              "      <th>mean</th>\n",
              "      <td>2010.40</td>\n",
              "      <td>202.75</td>\n",
              "      <td>4.40</td>\n",
              "      <td>30186.00</td>\n",
              "    </tr>\n",
              "    <tr>\n",
              "      <th>std</th>\n",
              "      <td>11.26</td>\n",
              "      <td>51.30</td>\n",
              "      <td>0.89</td>\n",
              "      <td>18985.04</td>\n",
              "    </tr>\n",
              "    <tr>\n",
              "      <th>min</th>\n",
              "      <td>1991.00</td>\n",
              "      <td>138.00</td>\n",
              "      <td>4.00</td>\n",
              "      <td>2000.00</td>\n",
              "    </tr>\n",
              "    <tr>\n",
              "      <th>25%</th>\n",
              "      <td>2010.00</td>\n",
              "      <td>180.00</td>\n",
              "      <td>4.00</td>\n",
              "      <td>27150.00</td>\n",
              "    </tr>\n",
              "    <tr>\n",
              "      <th>50%</th>\n",
              "      <td>2017.00</td>\n",
              "      <td>206.00</td>\n",
              "      <td>4.00</td>\n",
              "      <td>32340.00</td>\n",
              "    </tr>\n",
              "    <tr>\n",
              "      <th>75%</th>\n",
              "      <td>2017.00</td>\n",
              "      <td>228.75</td>\n",
              "      <td>4.00</td>\n",
              "      <td>34450.00</td>\n",
              "    </tr>\n",
              "    <tr>\n",
              "      <th>max</th>\n",
              "      <td>2017.00</td>\n",
              "      <td>261.00</td>\n",
              "      <td>6.00</td>\n",
              "      <td>54990.00</td>\n",
              "    </tr>\n",
              "  </tbody>\n",
              "</table>\n",
              "</div>"
            ],
            "text/plain": [
              "          Year  Engine HP  Engine Cylinders      MSRP\n",
              "count     5.00       4.00              5.00      5.00\n",
              "mean   2010.40     202.75              4.40  30186.00\n",
              "std      11.26      51.30              0.89  18985.04\n",
              "min    1991.00     138.00              4.00   2000.00\n",
              "25%    2010.00     180.00              4.00  27150.00\n",
              "50%    2017.00     206.00              4.00  32340.00\n",
              "75%    2017.00     228.75              4.00  34450.00\n",
              "max    2017.00     261.00              6.00  54990.00"
            ]
          },
          "execution_count": 81,
          "metadata": {},
          "output_type": "execute_result"
        }
      ],
      "source": [
        "df.describe().round(2)"
      ]
    },
    {
      "cell_type": "code",
      "execution_count": null,
      "id": "ca689f7b",
      "metadata": {
        "id": "ca689f7b",
        "outputId": "3bec5904-aed8-4eca-d890-341972c425bc"
      },
      "outputs": [
        {
          "data": {
            "text/plain": [
              "Make                 4\n",
              "Model                5\n",
              "Year                 3\n",
              "Engine HP            4\n",
              "Engine Cylinders     2\n",
              "Transmission Type    2\n",
              "Vehicle_Style        4\n",
              "MSRP                 5\n",
              "dtype: int64"
            ]
          },
          "execution_count": 85,
          "metadata": {},
          "output_type": "execute_result"
        }
      ],
      "source": [
        "df.nunique()"
      ]
    },
    {
      "cell_type": "markdown",
      "id": "0318652d",
      "metadata": {
        "id": "0318652d"
      },
      "source": [
        "## Missing values\n"
      ]
    },
    {
      "cell_type": "code",
      "execution_count": null,
      "id": "05000331",
      "metadata": {
        "id": "05000331",
        "outputId": "39b9b8bb-fd91-4e2b-cfb0-c016ce831ab4"
      },
      "outputs": [
        {
          "data": {
            "text/plain": [
              "Make                 0\n",
              "Model                0\n",
              "Year                 0\n",
              "Engine HP            1\n",
              "Engine Cylinders     0\n",
              "Transmission Type    0\n",
              "Vehicle_Style        0\n",
              "MSRP                 0\n",
              "dtype: int64"
            ]
          },
          "execution_count": 87,
          "metadata": {},
          "output_type": "execute_result"
        }
      ],
      "source": [
        "df.isnull().sum()"
      ]
    },
    {
      "cell_type": "markdown",
      "id": "963eded9",
      "metadata": {
        "id": "963eded9"
      },
      "source": [
        "## Grouping\n"
      ]
    },
    {
      "cell_type": "markdown",
      "id": "7bf5fad5",
      "metadata": {
        "id": "7bf5fad5"
      },
      "source": [
        "```\n",
        "SELECT\n",
        "    transmission_type,\n",
        "    AVG(MSRP)\n",
        "FROM\n",
        "    cars\n",
        "GROUP BY\n",
        "    transmission_type\n",
        "```"
      ]
    },
    {
      "cell_type": "code",
      "execution_count": null,
      "id": "6310552b",
      "metadata": {
        "id": "6310552b",
        "outputId": "5bd3b587-5b88-4df3-ddb5-e2894d67e922"
      },
      "outputs": [
        {
          "data": {
            "text/plain": [
              "Transmission Type\n",
              "AUTOMATIC    34450\n",
              "MANUAL       54990\n",
              "Name: MSRP, dtype: int64"
            ]
          },
          "execution_count": 90,
          "metadata": {},
          "output_type": "execute_result"
        }
      ],
      "source": [
        "df.groupby('Transmission Type').MSRP.max()"
      ]
    },
    {
      "cell_type": "markdown",
      "id": "3de63a4b",
      "metadata": {
        "id": "3de63a4b"
      },
      "source": [
        "## Getting the NumPy arrays"
      ]
    },
    {
      "cell_type": "code",
      "execution_count": null,
      "id": "749f764c",
      "metadata": {
        "id": "749f764c",
        "outputId": "64fdf016-8ce8-4b23-e771-cb90d3a25c20"
      },
      "outputs": [
        {
          "data": {
            "text/plain": [
              "array([ 2000, 27150, 54990, 34450, 32340])"
            ]
          },
          "execution_count": 93,
          "metadata": {},
          "output_type": "execute_result"
        }
      ],
      "source": [
        "df.MSRP.values"
      ]
    },
    {
      "cell_type": "code",
      "execution_count": null,
      "id": "1ff56c15",
      "metadata": {
        "id": "1ff56c15",
        "outputId": "3e5f28be-8f92-4ae7-93e8-320e3d90eaf6"
      },
      "outputs": [
        {
          "data": {
            "text/plain": [
              "[{'Make': 'Nissan',\n",
              "  'Model': 'Stanza',\n",
              "  'Year': 1991,\n",
              "  'Engine HP': 138.0,\n",
              "  'Engine Cylinders': 4,\n",
              "  'Transmission Type': 'MANUAL',\n",
              "  'Vehicle_Style': 'sedan',\n",
              "  'MSRP': 2000},\n",
              " {'Make': 'Hyundai',\n",
              "  'Model': 'Sonata',\n",
              "  'Year': 2017,\n",
              "  'Engine HP': nan,\n",
              "  'Engine Cylinders': 4,\n",
              "  'Transmission Type': 'AUTOMATIC',\n",
              "  'Vehicle_Style': 'sedan',\n",
              "  'MSRP': 27150},\n",
              " {'Make': 'Lotus',\n",
              "  'Model': 'Elise',\n",
              "  'Year': 2010,\n",
              "  'Engine HP': 218.0,\n",
              "  'Engine Cylinders': 4,\n",
              "  'Transmission Type': 'MANUAL',\n",
              "  'Vehicle_Style': 'convertible',\n",
              "  'MSRP': 54990},\n",
              " {'Make': 'GMC',\n",
              "  'Model': 'Acadia',\n",
              "  'Year': 2017,\n",
              "  'Engine HP': 194.0,\n",
              "  'Engine Cylinders': 4,\n",
              "  'Transmission Type': 'AUTOMATIC',\n",
              "  'Vehicle_Style': '4dr_suv',\n",
              "  'MSRP': 34450},\n",
              " {'Make': 'Nissan',\n",
              "  'Model': 'Frontier',\n",
              "  'Year': 2017,\n",
              "  'Engine HP': 261.0,\n",
              "  'Engine Cylinders': 6,\n",
              "  'Transmission Type': 'MANUAL',\n",
              "  'Vehicle_Style': 'pickup',\n",
              "  'MSRP': 32340}]"
            ]
          },
          "execution_count": 95,
          "metadata": {},
          "output_type": "execute_result"
        }
      ],
      "source": [
        "df.to_dict(orient='records')"
      ]
    },
    {
      "cell_type": "code",
      "execution_count": null,
      "id": "f1e6fae3",
      "metadata": {
        "id": "f1e6fae3"
      },
      "outputs": [],
      "source": []
    }
  ],
  "metadata": {
    "kernelspec": {
      "display_name": "Python 3 (ipykernel)",
      "language": "python",
      "name": "python3"
    },
    "language_info": {
      "codemirror_mode": {
        "name": "ipython",
        "version": 3
      },
      "file_extension": ".py",
      "mimetype": "text/x-python",
      "name": "python",
      "nbconvert_exporter": "python",
      "pygments_lexer": "ipython3",
      "version": "3.8.11"
    },
    "colab": {
      "provenance": []
    }
  },
  "nbformat": 4,
  "nbformat_minor": 5
}